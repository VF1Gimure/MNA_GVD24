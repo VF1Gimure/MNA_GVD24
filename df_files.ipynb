{
 "cells": [
  {
   "cell_type": "markdown",
   "source": [
    "```python\n",
    "from google.colab import drive\n",
    "drive.mount('/content/drive')\n",
    "import os\n",
    "DIR = \"/content/drive/MyDrive/Colab Notebooks/MNA/TC4029 - Ciencia y analítica de datos/Semana 6/Actividad6_FE\"\n",
    "os.chdir(DIR)\n",
    "```"
   ],
   "metadata": {
    "collapsed": false
   }
  },
  {
   "cell_type": "code",
   "execution_count": 35,
   "metadata": {
    "id": "7Qc1oYLeZTmu",
    "ExecuteTime": {
     "end_time": "2024-06-15T22:59:03.267492Z",
     "start_time": "2024-06-15T22:59:03.230332Z"
    }
   },
   "outputs": [],
   "source": [
    "import pandas as pd\n",
    "import numpy as np\n",
    "import matplotlib.pyplot as plt\n",
    "import seaborn as sns\n",
    "import scipy.stats as stats\n",
    "import json\n",
    "from sklearn.metrics import mean_squared_error\n",
    "from math import sqrt\n",
    "from scipy.sparse import csr_matrix\n",
    "from scipy.sparse.linalg import svds\n",
    "import time\n",
    "from sklearn.metrics.pairwise import cosine_similarity\n",
    "from collections import Counter\n",
    "from sklearn.preprocessing import MinMaxScaler"
   ]
  },
  {
   "cell_type": "markdown",
   "source": [
    "# Steam user items"
   ],
   "metadata": {
    "collapsed": false
   }
  },
  {
   "cell_type": "code",
   "execution_count": 44,
   "outputs": [],
   "source": [
    "steam_users = pd.read_json('steam_users_p3.json', lines=True)"
   ],
   "metadata": {
    "collapsed": false,
    "ExecuteTime": {
     "end_time": "2024-06-15T23:01:11.018098Z",
     "start_time": "2024-06-15T23:01:00.394751Z"
    }
   }
  },
  {
   "cell_type": "code",
   "execution_count": 4,
   "outputs": [],
   "source": [
    "working_df = steam_users.explode('items')\n",
    "user_items_df = pd.json_normalize(working_df['items'])\n",
    "user_items_df = user_items_df.join(working_df[['user_id', 'user_url']].reset_index(drop=True))\n"
   ],
   "metadata": {
    "collapsed": false,
    "ExecuteTime": {
     "end_time": "2024-06-15T19:52:24.218740Z",
     "start_time": "2024-06-15T19:52:16.072336Z"
    }
   }
  },
  {
   "cell_type": "markdown",
   "source": [
    "# Steam australian reviews."
   ],
   "metadata": {
    "collapsed": false,
    "ExecuteTime": {
     "end_time": "2024-06-15T23:03:39.664488Z",
     "start_time": "2024-06-15T23:03:39.650145Z"
    }
   }
  },
  {
   "cell_type": "code",
   "execution_count": 51,
   "outputs": [],
   "source": [
    "steam_aus_rev_df = pd.read_json('MNA_GVD24/steam_aus_rev_p3.json', lines=True)"
   ],
   "metadata": {
    "collapsed": false,
    "ExecuteTime": {
     "end_time": "2024-06-15T23:03:40.628404Z",
     "start_time": "2024-06-15T23:03:40.614030Z"
    }
   }
  },
  {
   "cell_type": "code",
   "execution_count": 48,
   "outputs": [
    {
     "name": "stderr",
     "output_type": "stream",
     "text": [
      "/var/folders/5n/lp3_lp252c17c644s2777gmr0000gn/T/ipykernel_44616/648291562.py:4: SettingWithCopyWarning: \n",
      "A value is trying to be set on a copy of a slice from a DataFrame.\n",
      "Try using .loc[row_indexer,col_indexer] = value instead\n",
      "\n",
      "See the caveats in the documentation: https://pandas.pydata.org/pandas-docs/stable/user_guide/indexing.html#returning-a-view-versus-a-copy\n",
      "  steam_games_df['item_id'] =  pd.to_numeric(steam_games_df['item_id'], downcast='integer')\n"
     ]
    }
   ],
   "source": [
    "working_df = steam_aus_rev_df.explode('reviews')\n",
    "reviews_df = pd.json_normalize(working_df['reviews'])\n",
    "reviews_df = reviews_df.join(working_df[['user_id', 'user_url']].reset_index(drop=True))"
   ],
   "metadata": {
    "collapsed": false,
    "ExecuteTime": {
     "end_time": "2024-06-15T23:02:49.208751Z",
     "start_time": "2024-06-15T23:02:49.197069Z"
    }
   }
  },
  {
   "cell_type": "markdown",
   "source": [
    "# Steam games df "
   ],
   "metadata": {
    "collapsed": false,
    "ExecuteTime": {
     "end_time": "2024-06-15T23:03:41.785469Z",
     "start_time": "2024-06-15T23:03:41.776805Z"
    }
   }
  },
  {
   "cell_type": "code",
   "execution_count": 53,
   "outputs": [],
   "source": [
    "steam_games_df = pd.read_json('steam_games_p3.json', lines=True)\n",
    "steam_games_df = steam_games_df.rename(columns={'id': 'item_id'})"
   ],
   "metadata": {
    "collapsed": false,
    "ExecuteTime": {
     "end_time": "2024-06-15T23:03:43.678088Z",
     "start_time": "2024-06-15T23:03:43.662391Z"
    }
   }
  },
  {
   "cell_type": "code",
   "execution_count": 54,
   "outputs": [
    {
     "data": {
      "text/plain": "                                  funny                     posted  \\\n0                                         Posted November 5, 2011.   \n1                                            Posted July 15, 2011.   \n2                                           Posted April 21, 2011.   \n3                                            Posted June 24, 2014.   \n4                                        Posted September 8, 2013.   \n...                                 ...                        ...   \n59300                                              Posted July 10.   \n59301                                               Posted July 8.   \n59302  1 person found this review funny             Posted July 3.   \n59303                                              Posted July 20.   \n59304                                               Posted July 2.   \n\n      last_edited   item_id                                          helpful  \\\n0                    1250.0                                   No ratings yet   \n1                   22200.0                                   No ratings yet   \n2                   43110.0                                   No ratings yet   \n3                  251610.0  15 of 20 people (75%) found this review helpful   \n4                  227300.0     0 of 1 people (0%) found this review helpful   \n...           ...       ...                                              ...   \n59300                  70.0                                   No ratings yet   \n59301              362890.0                                   No ratings yet   \n59302              273110.0    1 of 2 people (50%) found this review helpful   \n59303                 730.0                                   No ratings yet   \n59304                 440.0                                   No ratings yet   \n\n       recommend                                             review  \\\n0              1  Simple yet with great replayability. In my opi...   \n1              1               It's unique and worth a playthrough.   \n2              1  Great atmosphere. The gunplay can be a bit chu...   \n3              1  I know what you think when you see this title ...   \n4              1  For a simple (it's actually not all that simpl...   \n...          ...                                                ...   \n59300          1  a must have classic from steam definitely wort...   \n59301          1  this game is a perfect remake of the original ...   \n59302          1  had so much fun plaing this and collecting res...   \n59303          1                                                 :D   \n59304          1                                     so much fun :D   \n\n                 user_id                                           user_url  \n0      76561197970982479  http://steamcommunity.com/profiles/76561197970...  \n1      76561197970982479  http://steamcommunity.com/profiles/76561197970...  \n2      76561197970982479  http://steamcommunity.com/profiles/76561197970...  \n3                js41637               http://steamcommunity.com/id/js41637  \n4                js41637               http://steamcommunity.com/id/js41637  \n...                  ...                                                ...  \n59300  76561198312638244  http://steamcommunity.com/profiles/76561198312...  \n59301  76561198312638244  http://steamcommunity.com/profiles/76561198312...  \n59302        LydiaMorley           http://steamcommunity.com/id/LydiaMorley  \n59303        LydiaMorley           http://steamcommunity.com/id/LydiaMorley  \n59304        LydiaMorley           http://steamcommunity.com/id/LydiaMorley  \n\n[59305 rows x 9 columns]",
      "text/html": "<div>\n<style scoped>\n    .dataframe tbody tr th:only-of-type {\n        vertical-align: middle;\n    }\n\n    .dataframe tbody tr th {\n        vertical-align: top;\n    }\n\n    .dataframe thead th {\n        text-align: right;\n    }\n</style>\n<table border=\"1\" class=\"dataframe\">\n  <thead>\n    <tr style=\"text-align: right;\">\n      <th></th>\n      <th>funny</th>\n      <th>posted</th>\n      <th>last_edited</th>\n      <th>item_id</th>\n      <th>helpful</th>\n      <th>recommend</th>\n      <th>review</th>\n      <th>user_id</th>\n      <th>user_url</th>\n    </tr>\n  </thead>\n  <tbody>\n    <tr>\n      <th>0</th>\n      <td></td>\n      <td>Posted November 5, 2011.</td>\n      <td></td>\n      <td>1250.0</td>\n      <td>No ratings yet</td>\n      <td>1</td>\n      <td>Simple yet with great replayability. In my opi...</td>\n      <td>76561197970982479</td>\n      <td>http://steamcommunity.com/profiles/76561197970...</td>\n    </tr>\n    <tr>\n      <th>1</th>\n      <td></td>\n      <td>Posted July 15, 2011.</td>\n      <td></td>\n      <td>22200.0</td>\n      <td>No ratings yet</td>\n      <td>1</td>\n      <td>It's unique and worth a playthrough.</td>\n      <td>76561197970982479</td>\n      <td>http://steamcommunity.com/profiles/76561197970...</td>\n    </tr>\n    <tr>\n      <th>2</th>\n      <td></td>\n      <td>Posted April 21, 2011.</td>\n      <td></td>\n      <td>43110.0</td>\n      <td>No ratings yet</td>\n      <td>1</td>\n      <td>Great atmosphere. The gunplay can be a bit chu...</td>\n      <td>76561197970982479</td>\n      <td>http://steamcommunity.com/profiles/76561197970...</td>\n    </tr>\n    <tr>\n      <th>3</th>\n      <td></td>\n      <td>Posted June 24, 2014.</td>\n      <td></td>\n      <td>251610.0</td>\n      <td>15 of 20 people (75%) found this review helpful</td>\n      <td>1</td>\n      <td>I know what you think when you see this title ...</td>\n      <td>js41637</td>\n      <td>http://steamcommunity.com/id/js41637</td>\n    </tr>\n    <tr>\n      <th>4</th>\n      <td></td>\n      <td>Posted September 8, 2013.</td>\n      <td></td>\n      <td>227300.0</td>\n      <td>0 of 1 people (0%) found this review helpful</td>\n      <td>1</td>\n      <td>For a simple (it's actually not all that simpl...</td>\n      <td>js41637</td>\n      <td>http://steamcommunity.com/id/js41637</td>\n    </tr>\n    <tr>\n      <th>...</th>\n      <td>...</td>\n      <td>...</td>\n      <td>...</td>\n      <td>...</td>\n      <td>...</td>\n      <td>...</td>\n      <td>...</td>\n      <td>...</td>\n      <td>...</td>\n    </tr>\n    <tr>\n      <th>59300</th>\n      <td></td>\n      <td>Posted July 10.</td>\n      <td></td>\n      <td>70.0</td>\n      <td>No ratings yet</td>\n      <td>1</td>\n      <td>a must have classic from steam definitely wort...</td>\n      <td>76561198312638244</td>\n      <td>http://steamcommunity.com/profiles/76561198312...</td>\n    </tr>\n    <tr>\n      <th>59301</th>\n      <td></td>\n      <td>Posted July 8.</td>\n      <td></td>\n      <td>362890.0</td>\n      <td>No ratings yet</td>\n      <td>1</td>\n      <td>this game is a perfect remake of the original ...</td>\n      <td>76561198312638244</td>\n      <td>http://steamcommunity.com/profiles/76561198312...</td>\n    </tr>\n    <tr>\n      <th>59302</th>\n      <td>1 person found this review funny</td>\n      <td>Posted July 3.</td>\n      <td></td>\n      <td>273110.0</td>\n      <td>1 of 2 people (50%) found this review helpful</td>\n      <td>1</td>\n      <td>had so much fun plaing this and collecting res...</td>\n      <td>LydiaMorley</td>\n      <td>http://steamcommunity.com/id/LydiaMorley</td>\n    </tr>\n    <tr>\n      <th>59303</th>\n      <td></td>\n      <td>Posted July 20.</td>\n      <td></td>\n      <td>730.0</td>\n      <td>No ratings yet</td>\n      <td>1</td>\n      <td>:D</td>\n      <td>LydiaMorley</td>\n      <td>http://steamcommunity.com/id/LydiaMorley</td>\n    </tr>\n    <tr>\n      <th>59304</th>\n      <td></td>\n      <td>Posted July 2.</td>\n      <td></td>\n      <td>440.0</td>\n      <td>No ratings yet</td>\n      <td>1</td>\n      <td>so much fun :D</td>\n      <td>LydiaMorley</td>\n      <td>http://steamcommunity.com/id/LydiaMorley</td>\n    </tr>\n  </tbody>\n</table>\n<p>59305 rows × 9 columns</p>\n</div>"
     },
     "execution_count": 54,
     "metadata": {},
     "output_type": "execute_result"
    }
   ],
   "source": [
    "steam_games_df = steam_games_df.drop(columns=['metascore'], axis=1)\n",
    "steam_games_df['publisher'].fillna('', inplace=True)\n",
    "steam_games_df['genres'].fillna('[]', inplace=True)  \n",
    "steam_games_df['tags'].fillna('[]', inplace=True) "
   ],
   "metadata": {
    "collapsed": false,
    "ExecuteTime": {
     "end_time": "2024-06-15T23:04:09.408060Z",
     "start_time": "2024-06-15T23:04:09.397543Z"
    }
   }
  },
  {
   "cell_type": "code",
   "execution_count": null,
   "outputs": [],
   "source": [
    "steam_games_df.to_json('steam_games_df.json', orient='records', lines=True)\n",
    "reviews_df.to_json('reviews_df.json', orient='records', lines=True)\n",
    "user_items_df.to_json('user_items_df.json', orient='records', lines=True)\n"
   ],
   "metadata": {
    "collapsed": false
   }
  }
 ],
 "metadata": {
  "kernelspec": {
   "display_name": "Python 3",
   "language": "python",
   "name": "python3"
  },
  "language_info": {
   "codemirror_mode": {
    "name": "ipython",
    "version": 3
   },
   "file_extension": ".py",
   "mimetype": "text/x-python",
   "name": "python",
   "nbconvert_exporter": "python",
   "pygments_lexer": "ipython3",
   "version": "3.8.5"
  },
  "colab": {
   "provenance": []
  }
 },
 "nbformat": 4,
 "nbformat_minor": 0
}
