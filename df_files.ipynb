{
 "cells": [
  {
   "cell_type": "markdown",
   "source": [
    "```python\n",
    "from google.colab import drive\n",
    "drive.mount('/content/drive')\n",
    "import os\n",
    "DIR = \"/content/drive/MyDrive/Colab Notebooks/MNA/TC4029 - Ciencia y analítica de datos/Semana 6/Actividad6_FE\"\n",
    "os.chdir(DIR)\n",
    "```"
   ],
   "metadata": {
    "collapsed": false
   }
  },
  {
   "cell_type": "code",
   "execution_count": 35,
   "metadata": {
    "id": "7Qc1oYLeZTmu",
    "ExecuteTime": {
     "end_time": "2024-06-15T22:59:03.267492Z",
     "start_time": "2024-06-15T22:59:03.230332Z"
    }
   },
   "outputs": [],
   "source": [
    "import pandas as pd\n",
    "import numpy as np\n",
    "import matplotlib.pyplot as plt\n",
    "import seaborn as sns\n",
    "import scipy.stats as stats\n",
    "import json\n",
    "from sklearn.metrics import mean_squared_error\n",
    "from math import sqrt\n",
    "from scipy.sparse import csr_matrix\n",
    "from scipy.sparse.linalg import svds\n",
    "import time\n",
    "from sklearn.metrics.pairwise import cosine_similarity\n",
    "from collections import Counter\n",
    "from sklearn.preprocessing import MinMaxScaler"
   ]
  },
  {
   "cell_type": "markdown",
   "source": [
    "# Steam user items"
   ],
   "metadata": {
    "collapsed": false
   }
  },
  {
   "cell_type": "code",
   "execution_count": 44,
   "outputs": [],
   "source": [
    "steam_users = pd.read_json('steam_users_p3.json', lines=True)"
   ],
   "metadata": {
    "collapsed": false,
    "ExecuteTime": {
     "end_time": "2024-06-15T23:01:11.018098Z",
     "start_time": "2024-06-15T23:01:00.394751Z"
    }
   }
  },
  {
   "cell_type": "code",
   "execution_count": 4,
   "outputs": [],
   "source": [
    "working_df = steam_users.explode('items')\n",
    "user_items_df = pd.json_normalize(working_df['items'])\n",
    "user_items_df = user_items_df.join(working_df[['user_id', 'user_url']].reset_index(drop=True))\n"
   ],
   "metadata": {
    "collapsed": false,
    "ExecuteTime": {
     "end_time": "2024-06-15T19:52:24.218740Z",
     "start_time": "2024-06-15T19:52:16.072336Z"
    }
   }
  },
  {
   "cell_type": "markdown",
   "source": [
    "# Steam australian reviews."
   ],
   "metadata": {
    "collapsed": false,
    "ExecuteTime": {
     "end_time": "2024-06-15T23:03:39.664488Z",
     "start_time": "2024-06-15T23:03:39.650145Z"
    }
   }
  },
  {
   "cell_type": "code",
   "execution_count": 51,
   "outputs": [],
   "source": [
    "steam_aus_rev_df = pd.read_json('MNA_GVD24/steam_aus_rev_p3.json', lines=True)"
   ],
   "metadata": {
    "collapsed": false,
    "ExecuteTime": {
     "end_time": "2024-06-15T23:03:40.628404Z",
     "start_time": "2024-06-15T23:03:40.614030Z"
    }
   }
  },
  {
   "cell_type": "code",
   "execution_count": 48,
   "outputs": [
    {
     "name": "stderr",
     "output_type": "stream",
     "text": [
      "/var/folders/5n/lp3_lp252c17c644s2777gmr0000gn/T/ipykernel_44616/648291562.py:4: SettingWithCopyWarning: \n",
      "A value is trying to be set on a copy of a slice from a DataFrame.\n",
      "Try using .loc[row_indexer,col_indexer] = value instead\n",
      "\n",
      "See the caveats in the documentation: https://pandas.pydata.org/pandas-docs/stable/user_guide/indexing.html#returning-a-view-versus-a-copy\n",
      "  steam_games_df['item_id'] =  pd.to_numeric(steam_games_df['item_id'], downcast='integer')\n"
     ]
    }
   ],
   "source": [
    "working_df = steam_aus_rev_df.explode('reviews')\n",
    "reviews_df = pd.json_normalize(working_df['reviews'])\n",
    "reviews_df = reviews_df.join(working_df[['user_id', 'user_url']].reset_index(drop=True))"
   ],
   "metadata": {
    "collapsed": false,
    "ExecuteTime": {
     "end_time": "2024-06-15T23:02:49.208751Z",
     "start_time": "2024-06-15T23:02:49.197069Z"
    }
   }
  },
  {
   "cell_type": "markdown",
   "source": [
    "# Steam games df "
   ],
   "metadata": {
    "collapsed": false,
    "ExecuteTime": {
     "end_time": "2024-06-15T23:03:41.785469Z",
     "start_time": "2024-06-15T23:03:41.776805Z"
    }
   }
  },
  {
   "cell_type": "code",
   "execution_count": 53,
   "outputs": [],
   "source": [
    "steam_games_df = pd.read_json('steam_games_p3.json', lines=True)\n",
    "steam_games_df = steam_games_df.rename(columns={'id': 'item_id'})"
   ],
   "metadata": {
    "collapsed": false,
    "ExecuteTime": {
     "end_time": "2024-06-15T23:03:43.678088Z",
     "start_time": "2024-06-15T23:03:43.662391Z"
    }
   }
  },
  {
   "cell_type": "code",
   "execution_count": 54,
   "outputs": [
    {
     "data": {
      "text/plain": "                                  funny                     posted  \\\n0                                         Posted November 5, 2011.   \n1                                            Posted July 15, 2011.   \n2                                           Posted April 21, 2011.   \n3                                            Posted June 24, 2014.   \n4                                        Posted September 8, 2013.   \n...                                 ...                        ...   \n59300                                              Posted July 10.   \n59301                                               Posted July 8.   \n59302  1 person found this review funny             Posted July 3.   \n59303                                              Posted July 20.   \n59304                                               Posted July 2.   \n\n      last_edited   item_id                                          helpful  \\\n0                    1250.0                                   No ratings yet   \n1                   22200.0                                   No ratings yet   \n2                   43110.0                                   No ratings yet   \n3                  251610.0  15 of 20 people (75%) found this review helpful   \n4                  227300.0     0 of 1 people (0%) found this review helpful   \n...           ...       ...                                              ...   \n59300                  70.0                                   No ratings yet   \n59301              362890.0                                   No ratings yet   \n59302              273110.0    1 of 2 people (50%) found this review helpful   \n59303                 730.0                                   No ratings yet   \n59304                 440.0                                   No ratings yet   \n\n       recommend                                             review  \\\n0              1  Simple yet with great replayability. In my opi...   \n1              1               It's unique and worth a playthrough.   \n2              1  Great atmosphere. The gunplay can be a bit chu...   \n3              1  I know what you think when you see this title ...   \n4              1  For a simple (it's actually not all that simpl...   \n...          ...                                                ...   \n59300          1  a must have classic from steam definitely wort...   \n59301          1  this game is a perfect remake of the original ...   \n59302          1  had so much fun plaing this and collecting res...   \n59303          1                                                 :D   \n59304          1                                     so much fun :D   \n\n                 user_id                                           user_url  \n0      76561197970982479  http://steamcommunity.com/profiles/76561197970...  \n1      76561197970982479  http://steamcommunity.com/profiles/76561197970...  \n2      76561197970982479  http://steamcommunity.com/profiles/76561197970...  \n3                js41637               http://steamcommunity.com/id/js41637  \n4                js41637               http://steamcommunity.com/id/js41637  \n...                  ...                                                ...  \n59300  76561198312638244  http://steamcommunity.com/profiles/76561198312...  \n59301  76561198312638244  http://steamcommunity.com/profiles/76561198312...  \n59302        LydiaMorley           http://steamcommunity.com/id/LydiaMorley  \n59303        LydiaMorley           http://steamcommunity.com/id/LydiaMorley  \n59304        LydiaMorley           http://steamcommunity.com/id/LydiaMorley  \n\n[59305 rows x 9 columns]",
      "text/html": "<div>\n<style scoped>\n    .dataframe tbody tr th:only-of-type {\n        vertical-align: middle;\n    }\n\n    .dataframe tbody tr th {\n        vertical-align: top;\n    }\n\n    .dataframe thead th {\n        text-align: right;\n    }\n</style>\n<table border=\"1\" class=\"dataframe\">\n  <thead>\n    <tr style=\"text-align: right;\">\n      <th></th>\n      <th>funny</th>\n      <th>posted</th>\n      <th>last_edited</th>\n      <th>item_id</th>\n      <th>helpful</th>\n      <th>recommend</th>\n      <th>review</th>\n      <th>user_id</th>\n      <th>user_url</th>\n    </tr>\n  </thead>\n  <tbody>\n    <tr>\n      <th>0</th>\n      <td></td>\n      <td>Posted November 5, 2011.</td>\n      <td></td>\n      <td>1250.0</td>\n      <td>No ratings yet</td>\n      <td>1</td>\n      <td>Simple yet with great replayability. In my opi...</td>\n      <td>76561197970982479</td>\n      <td>http://steamcommunity.com/profiles/76561197970...</td>\n    </tr>\n    <tr>\n      <th>1</th>\n      <td></td>\n      <td>Posted July 15, 2011.</td>\n      <td></td>\n      <td>22200.0</td>\n      <td>No ratings yet</td>\n      <td>1</td>\n      <td>It's unique and worth a playthrough.</td>\n      <td>76561197970982479</td>\n      <td>http://steamcommunity.com/profiles/76561197970...</td>\n    </tr>\n    <tr>\n      <th>2</th>\n      <td></td>\n      <td>Posted April 21, 2011.</td>\n      <td></td>\n      <td>43110.0</td>\n      <td>No ratings yet</td>\n      <td>1</td>\n      <td>Great atmosphere. The gunplay can be a bit chu...</td>\n      <td>76561197970982479</td>\n      <td>http://steamcommunity.com/profiles/76561197970...</td>\n    </tr>\n    <tr>\n      <th>3</th>\n      <td></td>\n      <td>Posted June 24, 2014.</td>\n      <td></td>\n      <td>251610.0</td>\n      <td>15 of 20 people (75%) found this review helpful</td>\n      <td>1</td>\n      <td>I know what you think when you see this title ...</td>\n      <td>js41637</td>\n      <td>http://steamcommunity.com/id/js41637</td>\n    </tr>\n    <tr>\n      <th>4</th>\n      <td></td>\n      <td>Posted September 8, 2013.</td>\n      <td></td>\n      <td>227300.0</td>\n      <td>0 of 1 people (0%) found this review helpful</td>\n      <td>1</td>\n      <td>For a simple (it's actually not all that simpl...</td>\n      <td>js41637</td>\n      <td>http://steamcommunity.com/id/js41637</td>\n    </tr>\n    <tr>\n      <th>...</th>\n      <td>...</td>\n      <td>...</td>\n      <td>...</td>\n      <td>...</td>\n      <td>...</td>\n      <td>...</td>\n      <td>...</td>\n      <td>...</td>\n      <td>...</td>\n    </tr>\n    <tr>\n      <th>59300</th>\n      <td></td>\n      <td>Posted July 10.</td>\n      <td></td>\n      <td>70.0</td>\n      <td>No ratings yet</td>\n      <td>1</td>\n      <td>a must have classic from steam definitely wort...</td>\n      <td>76561198312638244</td>\n      <td>http://steamcommunity.com/profiles/76561198312...</td>\n    </tr>\n    <tr>\n      <th>59301</th>\n      <td></td>\n      <td>Posted July 8.</td>\n      <td></td>\n      <td>362890.0</td>\n      <td>No ratings yet</td>\n      <td>1</td>\n      <td>this game is a perfect remake of the original ...</td>\n      <td>76561198312638244</td>\n      <td>http://steamcommunity.com/profiles/76561198312...</td>\n    </tr>\n    <tr>\n      <th>59302</th>\n      <td>1 person found this review funny</td>\n      <td>Posted July 3.</td>\n      <td></td>\n      <td>273110.0</td>\n      <td>1 of 2 people (50%) found this review helpful</td>\n      <td>1</td>\n      <td>had so much fun plaing this and collecting res...</td>\n      <td>LydiaMorley</td>\n      <td>http://steamcommunity.com/id/LydiaMorley</td>\n    </tr>\n    <tr>\n      <th>59303</th>\n      <td></td>\n      <td>Posted July 20.</td>\n      <td></td>\n      <td>730.0</td>\n      <td>No ratings yet</td>\n      <td>1</td>\n      <td>:D</td>\n      <td>LydiaMorley</td>\n      <td>http://steamcommunity.com/id/LydiaMorley</td>\n    </tr>\n    <tr>\n      <th>59304</th>\n      <td></td>\n      <td>Posted July 2.</td>\n      <td></td>\n      <td>440.0</td>\n      <td>No ratings yet</td>\n      <td>1</td>\n      <td>so much fun :D</td>\n      <td>LydiaMorley</td>\n      <td>http://steamcommunity.com/id/LydiaMorley</td>\n    </tr>\n  </tbody>\n</table>\n<p>59305 rows × 9 columns</p>\n</div>"
     },
     "execution_count": 54,
     "metadata": {},
     "output_type": "execute_result"
    }
   ],
   "source": [
    "steam_games_df = steam_games_df.drop(columns=['metascore'], axis=1)\n",
    "steam_games_df['publisher'].fillna('', inplace=True)\n",
    "steam_games_df['genres'].fillna('[]', inplace=True)  \n",
    "steam_games_df['tags'].fillna('[]', inplace=True) "
   ],
   "metadata": {
    "collapsed": false,
    "ExecuteTime": {
     "end_time": "2024-06-15T23:04:09.408060Z",
     "start_time": "2024-06-15T23:04:09.397543Z"
    }
   }
  },
  {
   "cell_type": "code",
   "execution_count": 55,
   "outputs": [
    {
     "data": {
      "text/plain": "              publisher                                             genres  \\\n0             Kotoshiro      [Action, Casual, Indie, Simulation, Strategy]   \n1      Making Fun, Inc.               [Free to Play, Indie, RPG, Strategy]   \n2          Poolians.com  [Casual, Free to Play, Indie, Simulation, Sports]   \n3                  彼岸领域                        [Action, Adventure, Casual]   \n4                                                                       []   \n...                 ...                                                ...   \n32128   Ghost_RUS Games              [Casual, Indie, Simulation, Strategy]   \n32129            Sacada                          [Casual, Indie, Strategy]   \n32130      Laush Studio                        [Indie, Racing, Simulation]   \n32131          SIXNAILS                                    [Casual, Indie]   \n32132                                                                   []   \n\n                       app_name                     title  \\\n0           Lost Summoner Kitty       Lost Summoner Kitty   \n1                     Ironbound                 Ironbound   \n2       Real Pool 3D - Poolians   Real Pool 3D - Poolians   \n3                       弹炸人2222                   弹炸人2222   \n4                 Log Challenge                      None   \n...                         ...                       ...   \n32128            Colony On Mars            Colony On Mars   \n32129  LOGistICAL: South Africa  LOGistICAL: South Africa   \n32130             Russian Roads             Russian Roads   \n32131       EXIT 2 - Directions       EXIT 2 - Directions   \n32132               Maze Run VR                      None   \n\n                                                     url release_date  \\\n0      http://store.steampowered.com/app/761140/Lost_...   2018-01-04   \n1      http://store.steampowered.com/app/643980/Ironb...   2018-01-04   \n2      http://store.steampowered.com/app/670290/Real_...   2017-07-24   \n3         http://store.steampowered.com/app/767400/2222/   2017-12-07   \n4      http://store.steampowered.com/app/773570/Log_C...         None   \n...                                                  ...          ...   \n32128  http://store.steampowered.com/app/773640/Colon...   2018-01-04   \n32129  http://store.steampowered.com/app/733530/LOGis...   2018-01-04   \n32130  http://store.steampowered.com/app/610660/Russi...   2018-01-04   \n32131  http://store.steampowered.com/app/658870/EXIT_...   2017-09-02   \n32132  http://store.steampowered.com/app/681550/Maze_...         None   \n\n                                                    tags  discount_price  \\\n0          [Strategy, Action, Indie, Casual, Simulation]            4.49   \n1      [Free to Play, Strategy, Indie, RPG, Card Game...             NaN   \n2      [Free to Play, Simulation, Sports, Casual, Ind...             NaN   \n3                            [Action, Adventure, Casual]            0.83   \n4                        [Action, Indie, Casual, Sports]            1.79   \n...                                                  ...             ...   \n32128              [Strategy, Indie, Casual, Simulation]            1.49   \n32129                          [Strategy, Indie, Casual]            4.24   \n32130                        [Indie, Simulation, Racing]            1.39   \n32131  [Indie, Casual, Puzzle, Singleplayer, Atmosphe...             NaN   \n32132  [Early Access, Adventure, Indie, Action, Simul...             NaN   \n\n                                             reviews_url  \\\n0      http://steamcommunity.com/app/761140/reviews/?...   \n1      http://steamcommunity.com/app/643980/reviews/?...   \n2      http://steamcommunity.com/app/670290/reviews/?...   \n3      http://steamcommunity.com/app/767400/reviews/?...   \n4      http://steamcommunity.com/app/773570/reviews/?...   \n...                                                  ...   \n32128  http://steamcommunity.com/app/773640/reviews/?...   \n32129  http://steamcommunity.com/app/733530/reviews/?...   \n32130  http://steamcommunity.com/app/610660/reviews/?...   \n32131  http://steamcommunity.com/app/658870/reviews/?...   \n32132  http://steamcommunity.com/app/681550/reviews/?...   \n\n                                                   specs         price  \\\n0                                        [Single-player]          4.99   \n1      [Single-player, Multi-player, Online Multi-Pla...  Free To Play   \n2      [Single-player, Multi-player, Online Multi-Pla...  Free to Play   \n3                                        [Single-player]          0.99   \n4      [Single-player, Full controller support, HTC V...          2.99   \n...                                                  ...           ...   \n32128                [Single-player, Steam Achievements]          1.99   \n32129  [Single-player, Steam Achievements, Steam Clou...          4.99   \n32130  [Single-player, Steam Achievements, Steam Trad...          1.99   \n32131   [Single-player, Steam Achievements, Steam Cloud]          4.99   \n32132  [Single-player, Stats, Steam Leaderboards, HTC...          4.99   \n\n       early_access  item_id                 developer        sentiment  \n0             False   761140                 Kotoshiro             None  \n1             False   643980          Secret Level SRL  Mostly Positive  \n2             False   670290              Poolians.com  Mostly Positive  \n3             False   767400                      彼岸领域             None  \n4             False   773570                      None             None  \n...             ...      ...                       ...              ...  \n32128         False   773640        Nikita \"Ghost_RUS\"             None  \n32129         False   733530                    Sacada             None  \n32130         False   610660  Laush Dmitriy Sergeevich             None  \n32131         False   658870             xropi,stev3ns   1 user reviews  \n32132          True   681550                      None         Positive  \n\n[32133 rows x 15 columns]",
      "text/html": "<div>\n<style scoped>\n    .dataframe tbody tr th:only-of-type {\n        vertical-align: middle;\n    }\n\n    .dataframe tbody tr th {\n        vertical-align: top;\n    }\n\n    .dataframe thead th {\n        text-align: right;\n    }\n</style>\n<table border=\"1\" class=\"dataframe\">\n  <thead>\n    <tr style=\"text-align: right;\">\n      <th></th>\n      <th>publisher</th>\n      <th>genres</th>\n      <th>app_name</th>\n      <th>title</th>\n      <th>url</th>\n      <th>release_date</th>\n      <th>tags</th>\n      <th>discount_price</th>\n      <th>reviews_url</th>\n      <th>specs</th>\n      <th>price</th>\n      <th>early_access</th>\n      <th>item_id</th>\n      <th>developer</th>\n      <th>sentiment</th>\n    </tr>\n  </thead>\n  <tbody>\n    <tr>\n      <th>0</th>\n      <td>Kotoshiro</td>\n      <td>[Action, Casual, Indie, Simulation, Strategy]</td>\n      <td>Lost Summoner Kitty</td>\n      <td>Lost Summoner Kitty</td>\n      <td>http://store.steampowered.com/app/761140/Lost_...</td>\n      <td>2018-01-04</td>\n      <td>[Strategy, Action, Indie, Casual, Simulation]</td>\n      <td>4.49</td>\n      <td>http://steamcommunity.com/app/761140/reviews/?...</td>\n      <td>[Single-player]</td>\n      <td>4.99</td>\n      <td>False</td>\n      <td>761140</td>\n      <td>Kotoshiro</td>\n      <td>None</td>\n    </tr>\n    <tr>\n      <th>1</th>\n      <td>Making Fun, Inc.</td>\n      <td>[Free to Play, Indie, RPG, Strategy]</td>\n      <td>Ironbound</td>\n      <td>Ironbound</td>\n      <td>http://store.steampowered.com/app/643980/Ironb...</td>\n      <td>2018-01-04</td>\n      <td>[Free to Play, Strategy, Indie, RPG, Card Game...</td>\n      <td>NaN</td>\n      <td>http://steamcommunity.com/app/643980/reviews/?...</td>\n      <td>[Single-player, Multi-player, Online Multi-Pla...</td>\n      <td>Free To Play</td>\n      <td>False</td>\n      <td>643980</td>\n      <td>Secret Level SRL</td>\n      <td>Mostly Positive</td>\n    </tr>\n    <tr>\n      <th>2</th>\n      <td>Poolians.com</td>\n      <td>[Casual, Free to Play, Indie, Simulation, Sports]</td>\n      <td>Real Pool 3D - Poolians</td>\n      <td>Real Pool 3D - Poolians</td>\n      <td>http://store.steampowered.com/app/670290/Real_...</td>\n      <td>2017-07-24</td>\n      <td>[Free to Play, Simulation, Sports, Casual, Ind...</td>\n      <td>NaN</td>\n      <td>http://steamcommunity.com/app/670290/reviews/?...</td>\n      <td>[Single-player, Multi-player, Online Multi-Pla...</td>\n      <td>Free to Play</td>\n      <td>False</td>\n      <td>670290</td>\n      <td>Poolians.com</td>\n      <td>Mostly Positive</td>\n    </tr>\n    <tr>\n      <th>3</th>\n      <td>彼岸领域</td>\n      <td>[Action, Adventure, Casual]</td>\n      <td>弹炸人2222</td>\n      <td>弹炸人2222</td>\n      <td>http://store.steampowered.com/app/767400/2222/</td>\n      <td>2017-12-07</td>\n      <td>[Action, Adventure, Casual]</td>\n      <td>0.83</td>\n      <td>http://steamcommunity.com/app/767400/reviews/?...</td>\n      <td>[Single-player]</td>\n      <td>0.99</td>\n      <td>False</td>\n      <td>767400</td>\n      <td>彼岸领域</td>\n      <td>None</td>\n    </tr>\n    <tr>\n      <th>4</th>\n      <td></td>\n      <td>[]</td>\n      <td>Log Challenge</td>\n      <td>None</td>\n      <td>http://store.steampowered.com/app/773570/Log_C...</td>\n      <td>None</td>\n      <td>[Action, Indie, Casual, Sports]</td>\n      <td>1.79</td>\n      <td>http://steamcommunity.com/app/773570/reviews/?...</td>\n      <td>[Single-player, Full controller support, HTC V...</td>\n      <td>2.99</td>\n      <td>False</td>\n      <td>773570</td>\n      <td>None</td>\n      <td>None</td>\n    </tr>\n    <tr>\n      <th>...</th>\n      <td>...</td>\n      <td>...</td>\n      <td>...</td>\n      <td>...</td>\n      <td>...</td>\n      <td>...</td>\n      <td>...</td>\n      <td>...</td>\n      <td>...</td>\n      <td>...</td>\n      <td>...</td>\n      <td>...</td>\n      <td>...</td>\n      <td>...</td>\n      <td>...</td>\n    </tr>\n    <tr>\n      <th>32128</th>\n      <td>Ghost_RUS Games</td>\n      <td>[Casual, Indie, Simulation, Strategy]</td>\n      <td>Colony On Mars</td>\n      <td>Colony On Mars</td>\n      <td>http://store.steampowered.com/app/773640/Colon...</td>\n      <td>2018-01-04</td>\n      <td>[Strategy, Indie, Casual, Simulation]</td>\n      <td>1.49</td>\n      <td>http://steamcommunity.com/app/773640/reviews/?...</td>\n      <td>[Single-player, Steam Achievements]</td>\n      <td>1.99</td>\n      <td>False</td>\n      <td>773640</td>\n      <td>Nikita \"Ghost_RUS\"</td>\n      <td>None</td>\n    </tr>\n    <tr>\n      <th>32129</th>\n      <td>Sacada</td>\n      <td>[Casual, Indie, Strategy]</td>\n      <td>LOGistICAL: South Africa</td>\n      <td>LOGistICAL: South Africa</td>\n      <td>http://store.steampowered.com/app/733530/LOGis...</td>\n      <td>2018-01-04</td>\n      <td>[Strategy, Indie, Casual]</td>\n      <td>4.24</td>\n      <td>http://steamcommunity.com/app/733530/reviews/?...</td>\n      <td>[Single-player, Steam Achievements, Steam Clou...</td>\n      <td>4.99</td>\n      <td>False</td>\n      <td>733530</td>\n      <td>Sacada</td>\n      <td>None</td>\n    </tr>\n    <tr>\n      <th>32130</th>\n      <td>Laush Studio</td>\n      <td>[Indie, Racing, Simulation]</td>\n      <td>Russian Roads</td>\n      <td>Russian Roads</td>\n      <td>http://store.steampowered.com/app/610660/Russi...</td>\n      <td>2018-01-04</td>\n      <td>[Indie, Simulation, Racing]</td>\n      <td>1.39</td>\n      <td>http://steamcommunity.com/app/610660/reviews/?...</td>\n      <td>[Single-player, Steam Achievements, Steam Trad...</td>\n      <td>1.99</td>\n      <td>False</td>\n      <td>610660</td>\n      <td>Laush Dmitriy Sergeevich</td>\n      <td>None</td>\n    </tr>\n    <tr>\n      <th>32131</th>\n      <td>SIXNAILS</td>\n      <td>[Casual, Indie]</td>\n      <td>EXIT 2 - Directions</td>\n      <td>EXIT 2 - Directions</td>\n      <td>http://store.steampowered.com/app/658870/EXIT_...</td>\n      <td>2017-09-02</td>\n      <td>[Indie, Casual, Puzzle, Singleplayer, Atmosphe...</td>\n      <td>NaN</td>\n      <td>http://steamcommunity.com/app/658870/reviews/?...</td>\n      <td>[Single-player, Steam Achievements, Steam Cloud]</td>\n      <td>4.99</td>\n      <td>False</td>\n      <td>658870</td>\n      <td>xropi,stev3ns</td>\n      <td>1 user reviews</td>\n    </tr>\n    <tr>\n      <th>32132</th>\n      <td></td>\n      <td>[]</td>\n      <td>Maze Run VR</td>\n      <td>None</td>\n      <td>http://store.steampowered.com/app/681550/Maze_...</td>\n      <td>None</td>\n      <td>[Early Access, Adventure, Indie, Action, Simul...</td>\n      <td>NaN</td>\n      <td>http://steamcommunity.com/app/681550/reviews/?...</td>\n      <td>[Single-player, Stats, Steam Leaderboards, HTC...</td>\n      <td>4.99</td>\n      <td>True</td>\n      <td>681550</td>\n      <td>None</td>\n      <td>Positive</td>\n    </tr>\n  </tbody>\n</table>\n<p>32133 rows × 15 columns</p>\n</div>"
     },
     "execution_count": 55,
     "metadata": {},
     "output_type": "execute_result"
    }
   ],
   "source": [
    "steam_games_df.to_json('steam_games_df.json', orient='records', lines=True)\n",
    "reviews_df.to_json('reviews_df.json', orient='records', lines=True)\n",
    "user_items_df.to_json('user_items_df.json', orient='records', lines=True)\n"
   ],
   "metadata": {
    "collapsed": false,
    "ExecuteTime": {
     "end_time": "2024-06-15T23:04:20.091997Z",
     "start_time": "2024-06-15T23:04:20.086421Z"
    }
   }
  },
  {
   "cell_type": "markdown",
   "source": [
    "## Preprocesamiento"
   ],
   "metadata": {
    "collapsed": false,
    "ExecuteTime": {
     "end_time": "2024-06-15T22:58:29.958116Z",
     "start_time": "2024-06-15T22:58:29.663936Z"
    }
   }
  },
  {
   "cell_type": "code",
   "execution_count": 33,
   "outputs": [
    {
     "data": {
      "text/plain": "0        761140.0\n1        643980.0\n2        670290.0\n3        767400.0\n4        773570.0\n           ...   \n32130    773640.0\n32131    733530.0\n32132    610660.0\n32133    658870.0\n32134    681550.0\nName: item_id, Length: 32135, dtype: float64"
     },
     "execution_count": 33,
     "metadata": {},
     "output_type": "execute_result"
    }
   ],
   "source": [
    "# reviews\n",
    "reviews_df = reviews_df.dropna(subset=['recommend'])\n",
    "assert reviews_df['recommend'].isna().sum() == 0\n",
    "reviews_df['recommend'] = reviews_df['recommend'].astype(int)\n",
    "\n",
    "# steam games\n",
    "steam_games_df = steam_games_df[steam_games_df['item_id'].notna()]\n",
    "steam_games_df.reset_index(drop=True, inplace=True)\n",
    "\n",
    "steam_games_df['item_id'] = steam_games_df['item_id'].astype(int)\n",
    "\n",
    "reviews_df = reviews_df[reviews_df['item_id'].notna()]\n",
    "reviews_df.reset_index(drop=True, inplace=True)\n",
    "reviews_df['item_id'] = reviews_df['item_id'].astype(int)\n",
    "reviews_df = reviews_df[reviews_df['item_id'].isin(steam_games_df['item_id'])]\n",
    "reviews_df = reviews_df.drop(columns=['funny', 'posted', 'last_edited', 'helpful', 'user_url'], axis=1)"
   ],
   "metadata": {
    "collapsed": false,
    "ExecuteTime": {
     "end_time": "2024-06-15T22:58:29.960865Z",
     "start_time": "2024-06-15T22:58:29.958209Z"
    }
   }
  },
  {
   "cell_type": "code",
   "execution_count": 34,
   "outputs": [
    {
     "name": "stderr",
     "output_type": "stream",
     "text": [
      "/var/folders/5n/lp3_lp252c17c644s2777gmr0000gn/T/ipykernel_44616/2463571085.py:2: SettingWithCopyWarning: \n",
      "A value is trying to be set on a copy of a slice from a DataFrame.\n",
      "Try using .loc[row_indexer,col_indexer] = value instead\n",
      "\n",
      "See the caveats in the documentation: https://pandas.pydata.org/pandas-docs/stable/user_guide/indexing.html#returning-a-view-versus-a-copy\n",
      "  user_items_df['log_ptime_scaled'] = scaler_playtime.fit_transform(user_items_df[['log_ptime']].values.reshape(-1, 1))\n"
     ]
    },
    {
     "ename": "KeyError",
     "evalue": "\"None of [Index(['exp_ptime_last2week'], dtype='object')] are in the [columns]\"",
     "output_type": "error",
     "traceback": [
      "\u001B[0;31m---------------------------------------------------------------------------\u001B[0m",
      "\u001B[0;31mKeyError\u001B[0m                                  Traceback (most recent call last)",
      "\u001B[0;32m/var/folders/5n/lp3_lp252c17c644s2777gmr0000gn/T/ipykernel_44616/2463571085.py\u001B[0m in \u001B[0;36m<cell line: 0>\u001B[0;34m()\u001B[0m\n\u001B[1;32m      3\u001B[0m \u001B[0;34m\u001B[0m\u001B[0m\n\u001B[1;32m      4\u001B[0m \u001B[0mscaler_lastweek\u001B[0m \u001B[0;34m=\u001B[0m \u001B[0mMinMaxScaler\u001B[0m\u001B[0;34m(\u001B[0m\u001B[0mfeature_range\u001B[0m\u001B[0;34m=\u001B[0m\u001B[0;34m(\u001B[0m\u001B[0;36m1\u001B[0m\u001B[0;34m,\u001B[0m \u001B[0;36m5\u001B[0m\u001B[0;34m)\u001B[0m\u001B[0;34m)\u001B[0m\u001B[0;34m\u001B[0m\u001B[0;34m\u001B[0m\u001B[0m\n\u001B[0;32m----> 5\u001B[0;31m \u001B[0muser_items_df\u001B[0m\u001B[0;34m[\u001B[0m\u001B[0;34m'exp_ptime_2week_scaled'\u001B[0m\u001B[0;34m]\u001B[0m \u001B[0;34m=\u001B[0m \u001B[0mscaler_lastweek\u001B[0m\u001B[0;34m.\u001B[0m\u001B[0mfit_transform\u001B[0m\u001B[0;34m(\u001B[0m\u001B[0muser_items_df\u001B[0m\u001B[0;34m[\u001B[0m\u001B[0;34m[\u001B[0m\u001B[0;34m'exp_ptime_last2week'\u001B[0m\u001B[0;34m]\u001B[0m\u001B[0;34m]\u001B[0m\u001B[0;34m.\u001B[0m\u001B[0mvalues\u001B[0m\u001B[0;34m.\u001B[0m\u001B[0mreshape\u001B[0m\u001B[0;34m(\u001B[0m\u001B[0;34m-\u001B[0m\u001B[0;36m1\u001B[0m\u001B[0;34m,\u001B[0m \u001B[0;36m1\u001B[0m\u001B[0;34m)\u001B[0m\u001B[0;34m)\u001B[0m\u001B[0;34m\u001B[0m\u001B[0;34m\u001B[0m\u001B[0m\n\u001B[0m",
      "\u001B[0;32m/Library/Frameworks/Python.framework/Versions/3.11/lib/python3.11/site-packages/pandas/core/frame.py\u001B[0m in \u001B[0;36m__getitem__\u001B[0;34m(self, key)\u001B[0m\n\u001B[1;32m   3811\u001B[0m             \u001B[0;32mif\u001B[0m \u001B[0mis_iterator\u001B[0m\u001B[0;34m(\u001B[0m\u001B[0mkey\u001B[0m\u001B[0;34m)\u001B[0m\u001B[0;34m:\u001B[0m\u001B[0;34m\u001B[0m\u001B[0;34m\u001B[0m\u001B[0m\n\u001B[1;32m   3812\u001B[0m                 \u001B[0mkey\u001B[0m \u001B[0;34m=\u001B[0m \u001B[0mlist\u001B[0m\u001B[0;34m(\u001B[0m\u001B[0mkey\u001B[0m\u001B[0;34m)\u001B[0m\u001B[0;34m\u001B[0m\u001B[0;34m\u001B[0m\u001B[0m\n\u001B[0;32m-> 3813\u001B[0;31m             \u001B[0mindexer\u001B[0m \u001B[0;34m=\u001B[0m \u001B[0mself\u001B[0m\u001B[0;34m.\u001B[0m\u001B[0mcolumns\u001B[0m\u001B[0;34m.\u001B[0m\u001B[0m_get_indexer_strict\u001B[0m\u001B[0;34m(\u001B[0m\u001B[0mkey\u001B[0m\u001B[0;34m,\u001B[0m \u001B[0;34m\"columns\"\u001B[0m\u001B[0;34m)\u001B[0m\u001B[0;34m[\u001B[0m\u001B[0;36m1\u001B[0m\u001B[0;34m]\u001B[0m\u001B[0;34m\u001B[0m\u001B[0;34m\u001B[0m\u001B[0m\n\u001B[0m\u001B[1;32m   3814\u001B[0m \u001B[0;34m\u001B[0m\u001B[0m\n\u001B[1;32m   3815\u001B[0m         \u001B[0;31m# take() does not accept boolean indexers\u001B[0m\u001B[0;34m\u001B[0m\u001B[0;34m\u001B[0m\u001B[0m\n",
      "\u001B[0;32m/Library/Frameworks/Python.framework/Versions/3.11/lib/python3.11/site-packages/pandas/core/indexes/base.py\u001B[0m in \u001B[0;36m_get_indexer_strict\u001B[0;34m(self, key, axis_name)\u001B[0m\n\u001B[1;32m   6068\u001B[0m             \u001B[0mkeyarr\u001B[0m\u001B[0;34m,\u001B[0m \u001B[0mindexer\u001B[0m\u001B[0;34m,\u001B[0m \u001B[0mnew_indexer\u001B[0m \u001B[0;34m=\u001B[0m \u001B[0mself\u001B[0m\u001B[0;34m.\u001B[0m\u001B[0m_reindex_non_unique\u001B[0m\u001B[0;34m(\u001B[0m\u001B[0mkeyarr\u001B[0m\u001B[0;34m)\u001B[0m\u001B[0;34m\u001B[0m\u001B[0;34m\u001B[0m\u001B[0m\n\u001B[1;32m   6069\u001B[0m \u001B[0;34m\u001B[0m\u001B[0m\n\u001B[0;32m-> 6070\u001B[0;31m         \u001B[0mself\u001B[0m\u001B[0;34m.\u001B[0m\u001B[0m_raise_if_missing\u001B[0m\u001B[0;34m(\u001B[0m\u001B[0mkeyarr\u001B[0m\u001B[0;34m,\u001B[0m \u001B[0mindexer\u001B[0m\u001B[0;34m,\u001B[0m \u001B[0maxis_name\u001B[0m\u001B[0;34m)\u001B[0m\u001B[0;34m\u001B[0m\u001B[0;34m\u001B[0m\u001B[0m\n\u001B[0m\u001B[1;32m   6071\u001B[0m \u001B[0;34m\u001B[0m\u001B[0m\n\u001B[1;32m   6072\u001B[0m         \u001B[0mkeyarr\u001B[0m \u001B[0;34m=\u001B[0m \u001B[0mself\u001B[0m\u001B[0;34m.\u001B[0m\u001B[0mtake\u001B[0m\u001B[0;34m(\u001B[0m\u001B[0mindexer\u001B[0m\u001B[0;34m)\u001B[0m\u001B[0;34m\u001B[0m\u001B[0;34m\u001B[0m\u001B[0m\n",
      "\u001B[0;32m/Library/Frameworks/Python.framework/Versions/3.11/lib/python3.11/site-packages/pandas/core/indexes/base.py\u001B[0m in \u001B[0;36m_raise_if_missing\u001B[0;34m(self, key, indexer, axis_name)\u001B[0m\n\u001B[1;32m   6128\u001B[0m                 \u001B[0;32mif\u001B[0m \u001B[0muse_interval_msg\u001B[0m\u001B[0;34m:\u001B[0m\u001B[0;34m\u001B[0m\u001B[0;34m\u001B[0m\u001B[0m\n\u001B[1;32m   6129\u001B[0m                     \u001B[0mkey\u001B[0m \u001B[0;34m=\u001B[0m \u001B[0mlist\u001B[0m\u001B[0;34m(\u001B[0m\u001B[0mkey\u001B[0m\u001B[0;34m)\u001B[0m\u001B[0;34m\u001B[0m\u001B[0;34m\u001B[0m\u001B[0m\n\u001B[0;32m-> 6130\u001B[0;31m                 \u001B[0;32mraise\u001B[0m \u001B[0mKeyError\u001B[0m\u001B[0;34m(\u001B[0m\u001B[0;34mf\"None of [{key}] are in the [{axis_name}]\"\u001B[0m\u001B[0;34m)\u001B[0m\u001B[0;34m\u001B[0m\u001B[0;34m\u001B[0m\u001B[0m\n\u001B[0m\u001B[1;32m   6131\u001B[0m \u001B[0;34m\u001B[0m\u001B[0m\n\u001B[1;32m   6132\u001B[0m             \u001B[0mnot_found\u001B[0m \u001B[0;34m=\u001B[0m \u001B[0mlist\u001B[0m\u001B[0;34m(\u001B[0m\u001B[0mensure_index\u001B[0m\u001B[0;34m(\u001B[0m\u001B[0mkey\u001B[0m\u001B[0;34m)\u001B[0m\u001B[0;34m[\u001B[0m\u001B[0mmissing_mask\u001B[0m\u001B[0;34m.\u001B[0m\u001B[0mnonzero\u001B[0m\u001B[0;34m(\u001B[0m\u001B[0;34m)\u001B[0m\u001B[0;34m[\u001B[0m\u001B[0;36m0\u001B[0m\u001B[0;34m]\u001B[0m\u001B[0;34m]\u001B[0m\u001B[0;34m.\u001B[0m\u001B[0munique\u001B[0m\u001B[0;34m(\u001B[0m\u001B[0;34m)\u001B[0m\u001B[0;34m)\u001B[0m\u001B[0;34m\u001B[0m\u001B[0;34m\u001B[0m\u001B[0m\n",
      "\u001B[0;31mKeyError\u001B[0m: \"None of [Index(['exp_ptime_last2week'], dtype='object')] are in the [columns]\""
     ]
    }
   ],
   "source": [],
   "metadata": {
    "collapsed": false,
    "ExecuteTime": {
     "end_time": "2024-06-15T22:58:30.071893Z",
     "start_time": "2024-06-15T22:58:29.962012Z"
    }
   }
  },
  {
   "cell_type": "code",
   "execution_count": null,
   "outputs": [],
   "source": [
    "\n",
    "# user items\n",
    "\n",
    "# Hay ids en perfiles que no estan en nuestros datos mundiales de steam_games... La base de datos tiene este error.\n",
    "user_items_df = user_items_df[user_items_df['item_id'].isin(steam_games_df['item_id'])]\n",
    "user_items_df.reset_index(drop=True, inplace=True)\n",
    "\n",
    "user_items_df['log_ptime'] = np.log1p(user_items_df['playtime_forever'])\n",
    "\n",
    "user_items_df['exp_ptime_2week'] = np.exp(user_items_df['playtime_2weeks']) - 1"
   ],
   "metadata": {
    "collapsed": false
   }
  },
  {
   "cell_type": "code",
   "execution_count": null,
   "outputs": [],
   "source": [
    "steam_games_df['item_id']"
   ],
   "metadata": {
    "collapsed": false,
    "ExecuteTime": {
     "end_time": "2024-06-15T22:58:30.073444Z",
     "start_time": "2024-06-15T22:58:30.071999Z"
    }
   }
  },
  {
   "cell_type": "code",
   "execution_count": null,
   "outputs": [],
   "source": [
    "\n",
    "scaler_playtime = MinMaxScaler(feature_range=(1, 5))\n",
    "user_items_df['log_ptime_scaled'] = scaler_playtime.fit_transform(user_items_df[['log_ptime']].values.reshape(-1, 1))\n",
    "\n",
    "scaler_lastweek = MinMaxScaler(feature_range=(1, 5))\n",
    "user_items_df['exp_ptime_2week_scaled'] = scaler_lastweek.fit_transform(user_items_df[['exp_ptime_last2week']].values.reshape(-1, 1))"
   ],
   "metadata": {
    "collapsed": false,
    "ExecuteTime": {
     "start_time": "2024-06-15T22:58:30.072921Z"
    }
   }
  },
  {
   "cell_type": "markdown",
   "source": [
    "# Rating de usuario\n",
    "\n",
    "La idea aquí es muy simple. Estamos dando 'importancia' a dos aspectos diferentes del comportamiento del usuario:\n",
    "\n",
    "1. **El tiempo total de juego (`log_ptime_scaled`)**, que indica el interés general y la dedicación a lo largo del tiempo.\n",
    "2. **El tiempo de juego en las últimas dos semanas (`exp_ptime_last2week_scaled`)**, que nos da una medida de la actividad reciente y la relevancia actual del juego para el usuario.\n",
    "\n",
    "Al combinar estos dos factores en un único 'rating', podemos crear una métrica que equilibra tanto la lealtad a largo plazo como la participación actual. Esto es particularmente útil para sistemas de recomendación, donde queremos ajustar nuestras recomendaciones no solo en base a lo que un usuario ha disfrutado históricamente, sino también basándonos en lo que es más relevante para ellos recientemente.\n",
    "\n",
    "Aquí, 'n' y 'm' son pesos asignados a la puntuación de juego reciente y la puntuación de juego total respectivamente. Estos pesos pueden ajustarse para enfatizar más uno u otro aspecto según la dinámica del usuario y los objetivos del sistema de recomendación."
   ],
   "metadata": {
    "collapsed": false
   }
  },
  {
   "cell_type": "code",
   "execution_count": null,
   "outputs": [],
   "source": [
    "n=0.7 # Peso para el tiempo de juego en las últimas dos semanas\n",
    "m=0.3 # Peso para el tiempo de juego total\n",
    "user_items_df['combined_rating'] = n * user_items_df['exp_ptime_last2week_scaled'] + m * user_items_df['log_ptime_scaled']\n"
   ],
   "metadata": {
    "collapsed": false,
    "ExecuteTime": {
     "end_time": "2024-06-15T22:58:30.074059Z",
     "start_time": "2024-06-15T22:58:30.073737Z"
    }
   }
  },
  {
   "cell_type": "code",
   "execution_count": null,
   "outputs": [],
   "source": [
    "user_game_matrix = user_items_df.pivot_table(index='user_id', columns='item_id', values='combined_rating', fill_value=0)\n"
   ],
   "metadata": {
    "collapsed": false
   }
  },
  {
   "cell_type": "markdown",
   "source": [
    "## Contador"
   ],
   "metadata": {
    "collapsed": false,
    "ExecuteTime": {
     "start_time": "2024-06-15T22:58:30.074780Z"
    }
   }
  },
  {
   "cell_type": "code",
   "execution_count": null,
   "outputs": [],
   "source": [
    "contador_generos = Counter(g for genres in steam_games_df['genres'] for g in genres)\n",
    "contador_tags = Counter(t for tags in steam_games_df['tags'] for t in tags)"
   ],
   "metadata": {
    "collapsed": false
   }
  },
  {
   "cell_type": "markdown",
   "source": [
    "## Transformado de datos\n"
   ],
   "metadata": {
    "collapsed": false,
    "ExecuteTime": {
     "start_time": "2024-06-15T22:58:30.075804Z"
    }
   }
  },
  {
   "cell_type": "code",
   "execution_count": null,
   "outputs": [],
   "source": [
    "genres = list(contador_generos.keys())\n",
    "\n",
    "for g in genres:\n",
    "    steam_games_df[g] = steam_games_df['genres'].transform(lambda x: int(g in x))\n",
    "steam_games_df[genres].head()\n",
    "\n",
    "tags = list(contador_tags.keys())\n",
    "\n",
    "tags_matrix = {tag: steam_games_df['tags'].apply(lambda x: int(tag in x)) for tag in contador_tags.keys()}\n",
    "tags_df = pd.DataFrame(tags_matrix)\n",
    "steam_features = pd.concat([steam_games_df[genres], tags_df], axis=1)\n",
    "\n",
    "steam_features.head()"
   ],
   "metadata": {
    "collapsed": false
   }
  },
  {
   "cell_type": "markdown",
   "source": [
    "## Merge features"
   ],
   "metadata": {
    "collapsed": false,
    "ExecuteTime": {
     "end_time": "2024-06-15T22:58:30.077124Z",
     "start_time": "2024-06-15T22:58:30.076502Z"
    }
   }
  },
  {
   "cell_type": "code",
   "execution_count": null,
   "outputs": [],
   "source": [
    "# Merge steam_features with steam_games_df using the standardized 'item_id'\n",
    "steam_features = steam_features.merge(steam_games_df[['item_id']], left_index=True, right_on='item_id')\n",
    "steam_features.set_index('item_id', inplace=True)  # Set 'item_id' as the index after the merge\n",
    "\n",
    "# Join the user-game matrix with the steam features using the standardized 'item_id'\n",
    "full_features = user_game_matrix.join(steam_features, on='item_id')  # Use 'item_id' for joining\n",
    "\n",
    "# Fill NaN values where user hasn't rated\n",
    "full_features.fillna(0, inplace=True) "
   ],
   "metadata": {
    "collapsed": false
   }
  },
  {
   "cell_type": "markdown",
   "source": [
    "## Algoritmo de recomendación Similaridad de Coseno\n"
   ],
   "metadata": {
    "collapsed": false,
    "ExecuteTime": {
     "start_time": "2024-06-15T22:58:30.077079Z"
    }
   }
  },
  {
   "cell_type": "code",
   "execution_count": null,
   "outputs": [],
   "source": [
    "start_time_cosine_sim = time.time()\n",
    "cosine_sim = cosine_similarity(full_features, full_features)\n",
    "end_time_cosine_sim = time.time()\n",
    "\n",
    "item_idx = dict(zip(steam_games_df['item_id'], list(steam_games_df.index)))"
   ],
   "metadata": {
    "collapsed": false
   }
  },
  {
   "cell_type": "markdown",
   "source": [
    "### Funciones Recomendación"
   ],
   "metadata": {
    "collapsed": false,
    "ExecuteTime": {
     "end_time": "2024-06-15T22:58:30.078132Z",
     "start_time": "2024-06-15T22:58:30.077645Z"
    }
   }
  },
  {
   "cell_type": "code",
   "execution_count": null,
   "outputs": [],
   "source": [
    "def encuentra_juego(item_id):\n",
    "    title = steam_games_df[steam_games_df['item_id'] == item_id]['title'].iloc[0]\n",
    "    return title\n",
    "\n",
    "def obtener_recomendaciones_basadas_contenido(item_id, numero_recomendaciones=10):\n",
    "    title = encuentra_juego(item_id)\n",
    "    idx = item_idx[item_id]\n",
    "    sim_scores = list(enumerate(cosine_sim[idx]))\n",
    "    sim_scores = sorted(sim_scores, key=lambda x: x[1], reverse=True)\n",
    "    sim_scores = sim_scores[1:(numero_recomendaciones + 1)]\n",
    "    similar_games = [i[0] for i in sim_scores]\n",
    "    print(f\"Porque te gustó {title} te pueden gustar:\")\n",
    "    print(steam_games_df['title'].iloc[similar_games])\n",
    "\n",
    "def get_recom_content_eval(item_id, recom=5):\n",
    "    #title = encuentra_juego(item_id)\n",
    "    idx = item_idx[item_id]\n",
    "    sim_scores = cosine_sim[idx]\n",
    "    recom_eval = pd.DataFrame({'index': steam_games_df.index, 'similarity': sim_scores})\n",
    "    #similarity_df = pd.DataFrame(list(enumerate(cosine_sim[idx])), columns=['index', 'similarity'])\n",
    "\n",
    "    recom_eval = recom_eval.nlargest(recom, 'similarity')\n",
    "    recom_eval['item_id'] = recom_eval['index'].map(steam_games_df['item_id'])\n",
    "\n",
    "    return recom_eval\n",
    "\n",
    "def get_recom_content_user(item_id, numero_recom=5):\n",
    "    full_recom_df = get_recom_content_eval(item_id, numero_recom + 1)\n",
    "    if item_id in full_recom_df['item_id'].values:\n",
    "        full_recom_df = full_recom_df[full_recom_df['item_id'] != item_id]\n",
    "\n",
    "    return full_recom_df.head(numero_recom)\n"
   ],
   "metadata": {
    "collapsed": false,
    "ExecuteTime": {
     "start_time": "2024-06-15T22:58:30.078213Z"
    }
   }
  },
  {
   "cell_type": "markdown",
   "source": [
    "## Métricas"
   ],
   "metadata": {
    "collapsed": false
   }
  },
  {
   "cell_type": "code",
   "execution_count": null,
   "outputs": [],
   "source": [
    "\n",
    "def gen_recom_ground_truth(numero_recom):\n",
    "    recommendations = {}\n",
    "    ground_truth = {}\n",
    "\n",
    "    for user_id in reviews_df['user_id'].unique():\n",
    "        user_reviews = reviews_df[reviews_df['user_id'] == user_id]\n",
    "        ground_truth[user_id] = user_reviews[user_reviews['recommend'] == 1]['item_id'].tolist()\n",
    "\n",
    "        user_recommendations = set()\n",
    "        for item_id in user_reviews['item_id']:\n",
    "            recommendations_for_game = get_recom_content_eval(item_id, numero_recom)\n",
    "            if not recommendations_for_game.empty:\n",
    "                user_recommendations.update(recommendations_for_game['item_id'].tolist())\n",
    "\n",
    "        recommendations[user_id] = list(user_recommendations)[:numero_recom]\n",
    "\n",
    "    return recommendations, ground_truth\n",
    "\n",
    "def calcular_rmse(recommendations, ground_truth):\n",
    "    mse_sum = 0\n",
    "    total_users = 0\n",
    "\n",
    "    for user_id in recommendations:\n",
    "        recommended_games = set(recommendations[user_id])\n",
    "        actual_games = set(ground_truth[user_id])\n",
    "\n",
    "        # Calculamos los errores\n",
    "        errors = [1 if game not in actual_games else 0 for game in recommended_games]\n",
    "\n",
    "        # Si no hay recomendaciones reales para el usuario, continuamos\n",
    "        if len(errors) == 0:\n",
    "            continue\n",
    "\n",
    "        mse_sum += np.mean(errors)\n",
    "        total_users += 1\n",
    "\n",
    "    # Calculamos el RMSE\n",
    "    rmse = np.sqrt(mse_sum / total_users)\n",
    "\n",
    "    return rmse\n",
    "\n",
    "def precision_at_k(actual, predicted, k=10):\n",
    "    if not actual:\n",
    "        return 0.0\n",
    "\n",
    "    predicted = predicted[:k]\n",
    "    relevant = len(set(predicted) & set(actual))\n",
    "    return relevant / k\n",
    "\n",
    "\n",
    "def recall_at_k(actual, predicted, k=10):\n",
    "    if not actual:\n",
    "        return 0.0\n",
    "\n",
    "    predicted = predicted[:k]\n",
    "    relevant = len(set(predicted) & set(actual))\n",
    "    return relevant / len(actual)\n",
    "\n",
    "\n",
    "def apk(actual, predicted, k=10):\n",
    "    if len(predicted) > k:\n",
    "        predicted = predicted[:k]\n",
    "\n",
    "    score = 0.0\n",
    "    num_hits = 0.0\n",
    "\n",
    "    for i, p in enumerate(predicted):\n",
    "        if p in actual and p not in predicted[:i]:\n",
    "            num_hits += 1.0\n",
    "            score += num_hits / (i + 1.0)\n",
    "\n",
    "    if not actual:\n",
    "        return 0.0\n",
    "\n",
    "    return score / min(len(actual), k)\n",
    "\n",
    "\n",
    "def mapk(actual, predicted, k=10):\n",
    "    return np.mean([apk(a, p, k) for a, p in zip(actual, predicted)])\n",
    "\n",
    "\n",
    "def ndcg_at_k(actual, predicted, k=10):\n",
    "    if not actual:\n",
    "        return 0.0\n",
    "\n",
    "    predicted = predicted[:k]\n",
    "    idcg = sum([1.0 / np.log2(i + 2) for i in range(len(actual))])\n",
    "    dcg = sum([1.0 / np.log2(i + 2) for i, p in enumerate(predicted) if p in actual])\n",
    "    return dcg / idcg\n",
    "\n",
    "\n",
    "def mrr_at_k(actual, predicted, k=10):\n",
    "    if not actual:\n",
    "        return 0.0\n",
    "\n",
    "    predicted = predicted[:k]\n",
    "    for i, p in enumerate(predicted):\n",
    "        if p in actual:\n",
    "            return 1.0 / (i + 1.0)\n",
    "    return 0.0\n",
    "\n",
    "\n",
    "def calculate_rmse(sparse_matrix, k):\n",
    "    U, sigma, VT = svds(sparse_matrix, k=k)\n",
    "    sigma = np.diag(sigma)\n",
    "    predicted_ratings = np.dot(np.dot(U, sigma), VT)\n",
    "\n",
    "    actual_ratings = sparse_matrix.toarray().flatten()\n",
    "    predicted_ratings = predicted_ratings.flatten()\n",
    "\n",
    "    mask = actual_ratings > 0\n",
    "    actual_ratings = actual_ratings[mask]\n",
    "    predicted_ratings = predicted_ratings[mask]\n",
    "\n",
    "    rmse = sqrt(mean_squared_error(actual_ratings, predicted_ratings))\n",
    "    return rmse\n",
    "\n",
    "\n",
    "def evaluate_recommendations(ground_truth, recommendations, k=5):\n",
    "    metrics = {\n",
    "        'Precision@K': np.mean([precision_at_k(a, p, k) for a, p in zip(ground_truth, recommendations)]),\n",
    "        'Recall@K': np.mean([recall_at_k(a, p, k) for a, p in zip(ground_truth, recommendations)]),\n",
    "        'MAP@K': mapk(ground_truth, recommendations, k),\n",
    "        'NDCG@K': np.mean([ndcg_at_k(a, p, k) for a, p in zip(ground_truth, recommendations)]),\n",
    "        'MRR@K': np.mean([mrr_at_k(a, p, k) for a, p in zip(ground_truth, recommendations)])\n",
    "    }\n",
    "    return metrics\n"
   ],
   "metadata": {
    "collapsed": false
   }
  },
  {
   "cell_type": "code",
   "execution_count": null,
   "outputs": [],
   "source": [
    "start_time_rec_cosine = time.time()\n",
    "recommendations_dict, ground_truth_dict = gen_recom_ground_truth(numero_recom=5)\n",
    "end_time_rec_cosine = time.time()\n",
    "\n",
    "# Cosine Similarity\n",
    "recommendations = [recommendations_dict[user] for user in recommendations_dict]\n",
    "ground_truth = [ground_truth_dict[user] for user in ground_truth_dict]\n",
    "\n",
    "rmse_cosine = calcular_rmse(recommendations_dict, ground_truth_dict)\n",
    "print(f\"RMSE: {rmse_cosine}\")\n",
    "\n",
    "metrics_cosine = evaluate_recommendations(ground_truth, recommendations, k=5)\n",
    "duration_training_cosine = end_time_cosine_sim - start_time_cosine_sim\n",
    "duration_recommendation_cosine = end_time_rec_cosine - start_time_rec_cosine\n",
    "\n",
    "metrics_df_simple = pd.DataFrame({\n",
    "    'Metric': ['Precision@K', 'Recall@K', 'MAP@K', 'NDCG@K', 'MRR@K', 'RMSE',\n",
    "               'Tiempo Entrenamiento', 'Tiempo Recomendación'],\n",
    "    'Cosine Method': [\n",
    "        metrics_cosine['Precision@K'],\n",
    "        metrics_cosine['Recall@K'],\n",
    "        metrics_cosine['MAP@K'],\n",
    "        metrics_cosine['NDCG@K'],\n",
    "        metrics_cosine['MRR@K'],\n",
    "        rmse_cosine,\n",
    "        duration_training_cosine,\n",
    "        duration_recommendation_cosine\n",
    "     ]\n",
    "    # ,'SVD Method': [\n",
    "    #     metrics_svd['Precision@K'],\n",
    "    #     metrics_svd['Recall@K'],\n",
    "    #     metrics_svd['MAP@K'],\n",
    "    #     metrics_svd['NDCG@K'],\n",
    "    #     metrics_svd['MRR@K'],\n",
    "    #     rmse_svd,\n",
    "    #     duration_training_svd,\n",
    "    #     duration_recommendation_svd\n",
    "    # ]\n",
    "})\n",
    "metrics_df_simple"
   ],
   "metadata": {
    "collapsed": false
   }
  }
 ],
 "metadata": {
  "kernelspec": {
   "display_name": "Python 3",
   "language": "python",
   "name": "python3"
  },
  "language_info": {
   "codemirror_mode": {
    "name": "ipython",
    "version": 3
   },
   "file_extension": ".py",
   "mimetype": "text/x-python",
   "name": "python",
   "nbconvert_exporter": "python",
   "pygments_lexer": "ipython3",
   "version": "3.8.5"
  },
  "colab": {
   "provenance": []
  }
 },
 "nbformat": 4,
 "nbformat_minor": 0
}
