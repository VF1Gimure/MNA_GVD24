{
 "cells": [
  {
   "cell_type": "code",
   "execution_count": 112,
   "outputs": [],
   "source": [
    "import pandas as pd\n",
    "import numpy as np\n",
    "import matplotlib.pyplot as plt\n",
    "import seaborn as sns\n",
    "import scipy.stats as stats\n",
    "import json\n",
    "from sklearn.metrics import mean_squared_error\n",
    "from math import sqrt\n",
    "from scipy.sparse import csr_matrix\n",
    "from scipy.sparse.linalg import svds\n",
    "import time\n",
    "from sklearn.metrics.pairwise import cosine_similarity\n",
    "from collections import Counter\n",
    "from sklearn.preprocessing import MinMaxScaler"
   ],
   "metadata": {
    "collapsed": false,
    "ExecuteTime": {
     "end_time": "2024-06-16T02:40:09.943643Z",
     "start_time": "2024-06-16T02:40:09.890923Z"
    }
   }
  },
  {
   "cell_type": "code",
   "execution_count": 113,
   "outputs": [],
   "source": [
    "pd.options.mode.copy_on_write = True "
   ],
   "metadata": {
    "collapsed": false,
    "ExecuteTime": {
     "end_time": "2024-06-16T02:40:09.946662Z",
     "start_time": "2024-06-16T02:40:09.894228Z"
    }
   }
  },
  {
   "cell_type": "code",
   "execution_count": 114,
   "outputs": [],
   "source": [
    "steam_games_df_base = pd.read_json('steam_games_df.json', lines=True)\n",
    "\n",
    "reviews_df_base = pd.read_json('reviews_df.json', lines=True)\n",
    "\n",
    "user_items_df_base = pd.read_json('user_items_df.json', lines=True)"
   ],
   "metadata": {
    "collapsed": false,
    "ExecuteTime": {
     "end_time": "2024-06-16T02:40:21.375703Z",
     "start_time": "2024-06-16T02:40:09.897168Z"
    }
   }
  },
  {
   "cell_type": "code",
   "execution_count": 115,
   "outputs": [],
   "source": [
    "steam_games_df = steam_games_df_base\n",
    "\n",
    "reviews_df = reviews_df_base\n",
    "\n",
    "user_items_df = user_items_df_base"
   ],
   "metadata": {
    "collapsed": false,
    "ExecuteTime": {
     "end_time": "2024-06-16T02:40:21.439271Z",
     "start_time": "2024-06-16T02:40:21.437570Z"
    }
   }
  },
  {
   "cell_type": "markdown",
   "source": [
    "# Preprocesamiento"
   ],
   "metadata": {
    "collapsed": false
   }
  },
  {
   "cell_type": "code",
   "execution_count": 116,
   "outputs": [],
   "source": [
    "#steam games\n",
    "steam_games_df = steam_games_df[steam_games_df['item_id'].notna()]\n",
    "steam_games_df.reset_index(drop=True, inplace=True)\n",
    "steam_games_df['item_id'] = steam_games_df['item_id'].astype(int)"
   ],
   "metadata": {
    "collapsed": false,
    "ExecuteTime": {
     "end_time": "2024-06-16T02:40:21.449102Z",
     "start_time": "2024-06-16T02:40:21.440643Z"
    }
   }
  },
  {
   "cell_type": "code",
   "execution_count": 117,
   "outputs": [
    {
     "data": {
      "text/plain": "              publisher                                             genres  \\\n0             Kotoshiro      [Action, Casual, Indie, Simulation, Strategy]   \n1      Making Fun, Inc.               [Free to Play, Indie, RPG, Strategy]   \n2          Poolians.com  [Casual, Free to Play, Indie, Simulation, Sports]   \n3                  彼岸领域                        [Action, Adventure, Casual]   \n4                                                                       []   \n...                 ...                                                ...   \n32128   Ghost_RUS Games              [Casual, Indie, Simulation, Strategy]   \n32129            Sacada                          [Casual, Indie, Strategy]   \n32130      Laush Studio                        [Indie, Racing, Simulation]   \n32131          SIXNAILS                                    [Casual, Indie]   \n32132                                                                   []   \n\n                       app_name                     title  \\\n0           Lost Summoner Kitty       Lost Summoner Kitty   \n1                     Ironbound                 Ironbound   \n2       Real Pool 3D - Poolians   Real Pool 3D - Poolians   \n3                       弹炸人2222                   弹炸人2222   \n4                 Log Challenge                      None   \n...                         ...                       ...   \n32128            Colony On Mars            Colony On Mars   \n32129  LOGistICAL: South Africa  LOGistICAL: South Africa   \n32130             Russian Roads             Russian Roads   \n32131       EXIT 2 - Directions       EXIT 2 - Directions   \n32132               Maze Run VR                      None   \n\n                                                     url release_date  \\\n0      http://store.steampowered.com/app/761140/Lost_...   2018-01-04   \n1      http://store.steampowered.com/app/643980/Ironb...   2018-01-04   \n2      http://store.steampowered.com/app/670290/Real_...   2017-07-24   \n3         http://store.steampowered.com/app/767400/2222/   2017-12-07   \n4      http://store.steampowered.com/app/773570/Log_C...         None   \n...                                                  ...          ...   \n32128  http://store.steampowered.com/app/773640/Colon...   2018-01-04   \n32129  http://store.steampowered.com/app/733530/LOGis...   2018-01-04   \n32130  http://store.steampowered.com/app/610660/Russi...   2018-01-04   \n32131  http://store.steampowered.com/app/658870/EXIT_...   2017-09-02   \n32132  http://store.steampowered.com/app/681550/Maze_...         None   \n\n                                                    tags  discount_price  \\\n0          [Strategy, Action, Indie, Casual, Simulation]            4.49   \n1      [Free to Play, Strategy, Indie, RPG, Card Game...             NaN   \n2      [Free to Play, Simulation, Sports, Casual, Ind...             NaN   \n3                            [Action, Adventure, Casual]            0.83   \n4                        [Action, Indie, Casual, Sports]            1.79   \n...                                                  ...             ...   \n32128              [Strategy, Indie, Casual, Simulation]            1.49   \n32129                          [Strategy, Indie, Casual]            4.24   \n32130                        [Indie, Simulation, Racing]            1.39   \n32131  [Indie, Casual, Puzzle, Singleplayer, Atmosphe...             NaN   \n32132  [Early Access, Adventure, Indie, Action, Simul...             NaN   \n\n                                             reviews_url  \\\n0      http://steamcommunity.com/app/761140/reviews/?...   \n1      http://steamcommunity.com/app/643980/reviews/?...   \n2      http://steamcommunity.com/app/670290/reviews/?...   \n3      http://steamcommunity.com/app/767400/reviews/?...   \n4      http://steamcommunity.com/app/773570/reviews/?...   \n...                                                  ...   \n32128  http://steamcommunity.com/app/773640/reviews/?...   \n32129  http://steamcommunity.com/app/733530/reviews/?...   \n32130  http://steamcommunity.com/app/610660/reviews/?...   \n32131  http://steamcommunity.com/app/658870/reviews/?...   \n32132  http://steamcommunity.com/app/681550/reviews/?...   \n\n                                                   specs         price  \\\n0                                        [Single-player]          4.99   \n1      [Single-player, Multi-player, Online Multi-Pla...  Free To Play   \n2      [Single-player, Multi-player, Online Multi-Pla...  Free to Play   \n3                                        [Single-player]          0.99   \n4      [Single-player, Full controller support, HTC V...          2.99   \n...                                                  ...           ...   \n32128                [Single-player, Steam Achievements]          1.99   \n32129  [Single-player, Steam Achievements, Steam Clou...          4.99   \n32130  [Single-player, Steam Achievements, Steam Trad...          1.99   \n32131   [Single-player, Steam Achievements, Steam Cloud]          4.99   \n32132  [Single-player, Stats, Steam Leaderboards, HTC...          4.99   \n\n       early_access  item_id                 developer        sentiment  \n0             False   761140                 Kotoshiro             None  \n1             False   643980          Secret Level SRL  Mostly Positive  \n2             False   670290              Poolians.com  Mostly Positive  \n3             False   767400                      彼岸领域             None  \n4             False   773570                      None             None  \n...             ...      ...                       ...              ...  \n32128         False   773640        Nikita \"Ghost_RUS\"             None  \n32129         False   733530                    Sacada             None  \n32130         False   610660  Laush Dmitriy Sergeevich             None  \n32131         False   658870             xropi,stev3ns   1 user reviews  \n32132          True   681550                      None         Positive  \n\n[32133 rows x 15 columns]",
      "text/html": "<div>\n<style scoped>\n    .dataframe tbody tr th:only-of-type {\n        vertical-align: middle;\n    }\n\n    .dataframe tbody tr th {\n        vertical-align: top;\n    }\n\n    .dataframe thead th {\n        text-align: right;\n    }\n</style>\n<table border=\"1\" class=\"dataframe\">\n  <thead>\n    <tr style=\"text-align: right;\">\n      <th></th>\n      <th>publisher</th>\n      <th>genres</th>\n      <th>app_name</th>\n      <th>title</th>\n      <th>url</th>\n      <th>release_date</th>\n      <th>tags</th>\n      <th>discount_price</th>\n      <th>reviews_url</th>\n      <th>specs</th>\n      <th>price</th>\n      <th>early_access</th>\n      <th>item_id</th>\n      <th>developer</th>\n      <th>sentiment</th>\n    </tr>\n  </thead>\n  <tbody>\n    <tr>\n      <th>0</th>\n      <td>Kotoshiro</td>\n      <td>[Action, Casual, Indie, Simulation, Strategy]</td>\n      <td>Lost Summoner Kitty</td>\n      <td>Lost Summoner Kitty</td>\n      <td>http://store.steampowered.com/app/761140/Lost_...</td>\n      <td>2018-01-04</td>\n      <td>[Strategy, Action, Indie, Casual, Simulation]</td>\n      <td>4.49</td>\n      <td>http://steamcommunity.com/app/761140/reviews/?...</td>\n      <td>[Single-player]</td>\n      <td>4.99</td>\n      <td>False</td>\n      <td>761140</td>\n      <td>Kotoshiro</td>\n      <td>None</td>\n    </tr>\n    <tr>\n      <th>1</th>\n      <td>Making Fun, Inc.</td>\n      <td>[Free to Play, Indie, RPG, Strategy]</td>\n      <td>Ironbound</td>\n      <td>Ironbound</td>\n      <td>http://store.steampowered.com/app/643980/Ironb...</td>\n      <td>2018-01-04</td>\n      <td>[Free to Play, Strategy, Indie, RPG, Card Game...</td>\n      <td>NaN</td>\n      <td>http://steamcommunity.com/app/643980/reviews/?...</td>\n      <td>[Single-player, Multi-player, Online Multi-Pla...</td>\n      <td>Free To Play</td>\n      <td>False</td>\n      <td>643980</td>\n      <td>Secret Level SRL</td>\n      <td>Mostly Positive</td>\n    </tr>\n    <tr>\n      <th>2</th>\n      <td>Poolians.com</td>\n      <td>[Casual, Free to Play, Indie, Simulation, Sports]</td>\n      <td>Real Pool 3D - Poolians</td>\n      <td>Real Pool 3D - Poolians</td>\n      <td>http://store.steampowered.com/app/670290/Real_...</td>\n      <td>2017-07-24</td>\n      <td>[Free to Play, Simulation, Sports, Casual, Ind...</td>\n      <td>NaN</td>\n      <td>http://steamcommunity.com/app/670290/reviews/?...</td>\n      <td>[Single-player, Multi-player, Online Multi-Pla...</td>\n      <td>Free to Play</td>\n      <td>False</td>\n      <td>670290</td>\n      <td>Poolians.com</td>\n      <td>Mostly Positive</td>\n    </tr>\n    <tr>\n      <th>3</th>\n      <td>彼岸领域</td>\n      <td>[Action, Adventure, Casual]</td>\n      <td>弹炸人2222</td>\n      <td>弹炸人2222</td>\n      <td>http://store.steampowered.com/app/767400/2222/</td>\n      <td>2017-12-07</td>\n      <td>[Action, Adventure, Casual]</td>\n      <td>0.83</td>\n      <td>http://steamcommunity.com/app/767400/reviews/?...</td>\n      <td>[Single-player]</td>\n      <td>0.99</td>\n      <td>False</td>\n      <td>767400</td>\n      <td>彼岸领域</td>\n      <td>None</td>\n    </tr>\n    <tr>\n      <th>4</th>\n      <td></td>\n      <td>[]</td>\n      <td>Log Challenge</td>\n      <td>None</td>\n      <td>http://store.steampowered.com/app/773570/Log_C...</td>\n      <td>None</td>\n      <td>[Action, Indie, Casual, Sports]</td>\n      <td>1.79</td>\n      <td>http://steamcommunity.com/app/773570/reviews/?...</td>\n      <td>[Single-player, Full controller support, HTC V...</td>\n      <td>2.99</td>\n      <td>False</td>\n      <td>773570</td>\n      <td>None</td>\n      <td>None</td>\n    </tr>\n    <tr>\n      <th>...</th>\n      <td>...</td>\n      <td>...</td>\n      <td>...</td>\n      <td>...</td>\n      <td>...</td>\n      <td>...</td>\n      <td>...</td>\n      <td>...</td>\n      <td>...</td>\n      <td>...</td>\n      <td>...</td>\n      <td>...</td>\n      <td>...</td>\n      <td>...</td>\n      <td>...</td>\n    </tr>\n    <tr>\n      <th>32128</th>\n      <td>Ghost_RUS Games</td>\n      <td>[Casual, Indie, Simulation, Strategy]</td>\n      <td>Colony On Mars</td>\n      <td>Colony On Mars</td>\n      <td>http://store.steampowered.com/app/773640/Colon...</td>\n      <td>2018-01-04</td>\n      <td>[Strategy, Indie, Casual, Simulation]</td>\n      <td>1.49</td>\n      <td>http://steamcommunity.com/app/773640/reviews/?...</td>\n      <td>[Single-player, Steam Achievements]</td>\n      <td>1.99</td>\n      <td>False</td>\n      <td>773640</td>\n      <td>Nikita \"Ghost_RUS\"</td>\n      <td>None</td>\n    </tr>\n    <tr>\n      <th>32129</th>\n      <td>Sacada</td>\n      <td>[Casual, Indie, Strategy]</td>\n      <td>LOGistICAL: South Africa</td>\n      <td>LOGistICAL: South Africa</td>\n      <td>http://store.steampowered.com/app/733530/LOGis...</td>\n      <td>2018-01-04</td>\n      <td>[Strategy, Indie, Casual]</td>\n      <td>4.24</td>\n      <td>http://steamcommunity.com/app/733530/reviews/?...</td>\n      <td>[Single-player, Steam Achievements, Steam Clou...</td>\n      <td>4.99</td>\n      <td>False</td>\n      <td>733530</td>\n      <td>Sacada</td>\n      <td>None</td>\n    </tr>\n    <tr>\n      <th>32130</th>\n      <td>Laush Studio</td>\n      <td>[Indie, Racing, Simulation]</td>\n      <td>Russian Roads</td>\n      <td>Russian Roads</td>\n      <td>http://store.steampowered.com/app/610660/Russi...</td>\n      <td>2018-01-04</td>\n      <td>[Indie, Simulation, Racing]</td>\n      <td>1.39</td>\n      <td>http://steamcommunity.com/app/610660/reviews/?...</td>\n      <td>[Single-player, Steam Achievements, Steam Trad...</td>\n      <td>1.99</td>\n      <td>False</td>\n      <td>610660</td>\n      <td>Laush Dmitriy Sergeevich</td>\n      <td>None</td>\n    </tr>\n    <tr>\n      <th>32131</th>\n      <td>SIXNAILS</td>\n      <td>[Casual, Indie]</td>\n      <td>EXIT 2 - Directions</td>\n      <td>EXIT 2 - Directions</td>\n      <td>http://store.steampowered.com/app/658870/EXIT_...</td>\n      <td>2017-09-02</td>\n      <td>[Indie, Casual, Puzzle, Singleplayer, Atmosphe...</td>\n      <td>NaN</td>\n      <td>http://steamcommunity.com/app/658870/reviews/?...</td>\n      <td>[Single-player, Steam Achievements, Steam Cloud]</td>\n      <td>4.99</td>\n      <td>False</td>\n      <td>658870</td>\n      <td>xropi,stev3ns</td>\n      <td>1 user reviews</td>\n    </tr>\n    <tr>\n      <th>32132</th>\n      <td></td>\n      <td>[]</td>\n      <td>Maze Run VR</td>\n      <td>None</td>\n      <td>http://store.steampowered.com/app/681550/Maze_...</td>\n      <td>None</td>\n      <td>[Early Access, Adventure, Indie, Action, Simul...</td>\n      <td>NaN</td>\n      <td>http://steamcommunity.com/app/681550/reviews/?...</td>\n      <td>[Single-player, Stats, Steam Leaderboards, HTC...</td>\n      <td>4.99</td>\n      <td>True</td>\n      <td>681550</td>\n      <td>None</td>\n      <td>Positive</td>\n    </tr>\n  </tbody>\n</table>\n<p>32133 rows × 15 columns</p>\n</div>"
     },
     "execution_count": 117,
     "metadata": {},
     "output_type": "execute_result"
    }
   ],
   "source": [
    "steam_games_df"
   ],
   "metadata": {
    "collapsed": false,
    "ExecuteTime": {
     "end_time": "2024-06-16T02:40:21.457823Z",
     "start_time": "2024-06-16T02:40:21.455162Z"
    }
   }
  },
  {
   "cell_type": "code",
   "execution_count": 118,
   "outputs": [],
   "source": [
    "#reviews \n",
    "reviews_df = reviews_df[reviews_df['item_id'].notna()]\n",
    "reviews_df.reset_index(drop=True, inplace=True)\n",
    "reviews_df['item_id'] = reviews_df['item_id'].astype(int)\n",
    "#Si no esta en nuestra base de steam games. \n",
    "reviews_df = reviews_df[reviews_df['item_id'].isin(steam_games_df['item_id'])]\n",
    "reviews_df = reviews_df.drop(columns=['funny', 'posted', 'last_edited', 'helpful', 'user_url'], axis=1)"
   ],
   "metadata": {
    "collapsed": false,
    "ExecuteTime": {
     "end_time": "2024-06-16T02:40:21.492865Z",
     "start_time": "2024-06-16T02:40:21.458120Z"
    }
   }
  },
  {
   "cell_type": "code",
   "execution_count": 119,
   "outputs": [
    {
     "data": {
      "text/plain": "       item_id  recommend                                             review  \\\n0         1250        1.0  Simple yet with great replayability. In my opi...   \n1        22200        1.0               It's unique and worth a playthrough.   \n4       227300        1.0  For a simple (it's actually not all that simpl...   \n5       239030        1.0  Very fun little game to play when your bored o...   \n6       248820        1.0  A suitably punishing roguelike platformer.  Wi...   \n...        ...        ...                                                ...   \n59300       70        1.0  a must have classic from steam definitely wort...   \n59301   362890        1.0  this game is a perfect remake of the original ...   \n59302   273110        1.0  had so much fun plaing this and collecting res...   \n59303      730        1.0                                                 :D   \n59304      440        1.0                                     so much fun :D   \n\n                 user_id  \n0      76561197970982479  \n1      76561197970982479  \n4                js41637  \n5                js41637  \n6              evcentric  \n...                  ...  \n59300  76561198312638244  \n59301  76561198312638244  \n59302        LydiaMorley  \n59303        LydiaMorley  \n59304        LydiaMorley  \n\n[53988 rows x 4 columns]",
      "text/html": "<div>\n<style scoped>\n    .dataframe tbody tr th:only-of-type {\n        vertical-align: middle;\n    }\n\n    .dataframe tbody tr th {\n        vertical-align: top;\n    }\n\n    .dataframe thead th {\n        text-align: right;\n    }\n</style>\n<table border=\"1\" class=\"dataframe\">\n  <thead>\n    <tr style=\"text-align: right;\">\n      <th></th>\n      <th>item_id</th>\n      <th>recommend</th>\n      <th>review</th>\n      <th>user_id</th>\n    </tr>\n  </thead>\n  <tbody>\n    <tr>\n      <th>0</th>\n      <td>1250</td>\n      <td>1.0</td>\n      <td>Simple yet with great replayability. In my opi...</td>\n      <td>76561197970982479</td>\n    </tr>\n    <tr>\n      <th>1</th>\n      <td>22200</td>\n      <td>1.0</td>\n      <td>It's unique and worth a playthrough.</td>\n      <td>76561197970982479</td>\n    </tr>\n    <tr>\n      <th>4</th>\n      <td>227300</td>\n      <td>1.0</td>\n      <td>For a simple (it's actually not all that simpl...</td>\n      <td>js41637</td>\n    </tr>\n    <tr>\n      <th>5</th>\n      <td>239030</td>\n      <td>1.0</td>\n      <td>Very fun little game to play when your bored o...</td>\n      <td>js41637</td>\n    </tr>\n    <tr>\n      <th>6</th>\n      <td>248820</td>\n      <td>1.0</td>\n      <td>A suitably punishing roguelike platformer.  Wi...</td>\n      <td>evcentric</td>\n    </tr>\n    <tr>\n      <th>...</th>\n      <td>...</td>\n      <td>...</td>\n      <td>...</td>\n      <td>...</td>\n    </tr>\n    <tr>\n      <th>59300</th>\n      <td>70</td>\n      <td>1.0</td>\n      <td>a must have classic from steam definitely wort...</td>\n      <td>76561198312638244</td>\n    </tr>\n    <tr>\n      <th>59301</th>\n      <td>362890</td>\n      <td>1.0</td>\n      <td>this game is a perfect remake of the original ...</td>\n      <td>76561198312638244</td>\n    </tr>\n    <tr>\n      <th>59302</th>\n      <td>273110</td>\n      <td>1.0</td>\n      <td>had so much fun plaing this and collecting res...</td>\n      <td>LydiaMorley</td>\n    </tr>\n    <tr>\n      <th>59303</th>\n      <td>730</td>\n      <td>1.0</td>\n      <td>:D</td>\n      <td>LydiaMorley</td>\n    </tr>\n    <tr>\n      <th>59304</th>\n      <td>440</td>\n      <td>1.0</td>\n      <td>so much fun :D</td>\n      <td>LydiaMorley</td>\n    </tr>\n  </tbody>\n</table>\n<p>53988 rows × 4 columns</p>\n</div>"
     },
     "execution_count": 119,
     "metadata": {},
     "output_type": "execute_result"
    }
   ],
   "source": [
    "reviews_df"
   ],
   "metadata": {
    "collapsed": false,
    "ExecuteTime": {
     "end_time": "2024-06-16T02:40:21.508997Z",
     "start_time": "2024-06-16T02:40:21.477273Z"
    }
   }
  },
  {
   "cell_type": "code",
   "execution_count": 120,
   "outputs": [],
   "source": [
    "# Este cambio se hizo antes -> steam_games_df.rename(columns={'id': 'item_id'}, inplace=True)\n",
    "#User Items\n",
    "user_items_df = user_items_df[user_items_df['item_id'].isin(steam_games_df['item_id'])]\n",
    "user_items_df['item_id'] = user_items_df['item_id'].astype(int)\n",
    "user_items_df = user_items_df.drop(columns=['user_url'], axis=1)"
   ],
   "metadata": {
    "collapsed": false,
    "ExecuteTime": {
     "end_time": "2024-06-16T02:40:21.765679Z",
     "start_time": "2024-06-16T02:40:21.479843Z"
    }
   }
  },
  {
   "cell_type": "code",
   "execution_count": 121,
   "outputs": [
    {
     "data": {
      "text/plain": "         item_id                      item_name  playtime_forever  \\\n0             10                 Counter-Strike               6.0   \n1             20          Team Fortress Classic               0.0   \n2             30                  Day of Defeat               7.0   \n3             40             Deathmatch Classic               0.0   \n4             50      Half-Life: Opposing Force               0.0   \n...          ...                            ...               ...   \n5170008   227940              Heroes & Generals              43.0   \n5170009   346330                   BrainBread 2               0.0   \n5170010   373330                    All Is Dust               0.0   \n5170011   388490  One Way To Die: Steam Edition               3.0   \n5170012   521570          You Have 10 Seconds 2               4.0   \n\n         playtime_2weeks            user_id  \n0                    0.0  76561197970982479  \n1                    0.0  76561197970982479  \n2                    0.0  76561197970982479  \n3                    0.0  76561197970982479  \n4                    0.0  76561197970982479  \n...                  ...                ...  \n5170008             43.0  76561198329548331  \n5170009              0.0  76561198329548331  \n5170010              0.0  76561198329548331  \n5170011              3.0  76561198329548331  \n5170012              4.0  76561198329548331  \n\n[4294257 rows x 5 columns]",
      "text/html": "<div>\n<style scoped>\n    .dataframe tbody tr th:only-of-type {\n        vertical-align: middle;\n    }\n\n    .dataframe tbody tr th {\n        vertical-align: top;\n    }\n\n    .dataframe thead th {\n        text-align: right;\n    }\n</style>\n<table border=\"1\" class=\"dataframe\">\n  <thead>\n    <tr style=\"text-align: right;\">\n      <th></th>\n      <th>item_id</th>\n      <th>item_name</th>\n      <th>playtime_forever</th>\n      <th>playtime_2weeks</th>\n      <th>user_id</th>\n    </tr>\n  </thead>\n  <tbody>\n    <tr>\n      <th>0</th>\n      <td>10</td>\n      <td>Counter-Strike</td>\n      <td>6.0</td>\n      <td>0.0</td>\n      <td>76561197970982479</td>\n    </tr>\n    <tr>\n      <th>1</th>\n      <td>20</td>\n      <td>Team Fortress Classic</td>\n      <td>0.0</td>\n      <td>0.0</td>\n      <td>76561197970982479</td>\n    </tr>\n    <tr>\n      <th>2</th>\n      <td>30</td>\n      <td>Day of Defeat</td>\n      <td>7.0</td>\n      <td>0.0</td>\n      <td>76561197970982479</td>\n    </tr>\n    <tr>\n      <th>3</th>\n      <td>40</td>\n      <td>Deathmatch Classic</td>\n      <td>0.0</td>\n      <td>0.0</td>\n      <td>76561197970982479</td>\n    </tr>\n    <tr>\n      <th>4</th>\n      <td>50</td>\n      <td>Half-Life: Opposing Force</td>\n      <td>0.0</td>\n      <td>0.0</td>\n      <td>76561197970982479</td>\n    </tr>\n    <tr>\n      <th>...</th>\n      <td>...</td>\n      <td>...</td>\n      <td>...</td>\n      <td>...</td>\n      <td>...</td>\n    </tr>\n    <tr>\n      <th>5170008</th>\n      <td>227940</td>\n      <td>Heroes &amp; Generals</td>\n      <td>43.0</td>\n      <td>43.0</td>\n      <td>76561198329548331</td>\n    </tr>\n    <tr>\n      <th>5170009</th>\n      <td>346330</td>\n      <td>BrainBread 2</td>\n      <td>0.0</td>\n      <td>0.0</td>\n      <td>76561198329548331</td>\n    </tr>\n    <tr>\n      <th>5170010</th>\n      <td>373330</td>\n      <td>All Is Dust</td>\n      <td>0.0</td>\n      <td>0.0</td>\n      <td>76561198329548331</td>\n    </tr>\n    <tr>\n      <th>5170011</th>\n      <td>388490</td>\n      <td>One Way To Die: Steam Edition</td>\n      <td>3.0</td>\n      <td>3.0</td>\n      <td>76561198329548331</td>\n    </tr>\n    <tr>\n      <th>5170012</th>\n      <td>521570</td>\n      <td>You Have 10 Seconds 2</td>\n      <td>4.0</td>\n      <td>4.0</td>\n      <td>76561198329548331</td>\n    </tr>\n  </tbody>\n</table>\n<p>4294257 rows × 5 columns</p>\n</div>"
     },
     "execution_count": 121,
     "metadata": {},
     "output_type": "execute_result"
    }
   ],
   "source": [
    "user_items_df"
   ],
   "metadata": {
    "collapsed": false,
    "ExecuteTime": {
     "end_time": "2024-06-16T02:40:21.775253Z",
     "start_time": "2024-06-16T02:40:21.768407Z"
    }
   }
  },
  {
   "cell_type": "code",
   "execution_count": 122,
   "outputs": [],
   "source": [
    "def sigmoid(x, scale=1):\n",
    "    return 1 / (1 + np.exp(-x * scale))\n",
    "user_items_df['log_ptime'] = np.log1p(user_items_df['playtime_forever'])\n",
    "user_items_df['exp_ptime_2week'] = sigmoid(user_items_df['playtime_2weeks'], scale=0.3) \n",
    "max_value = 10 \n",
    "user_items_df['exp_ptime_2week'] *= max_value"
   ],
   "metadata": {
    "collapsed": false,
    "ExecuteTime": {
     "end_time": "2024-06-16T02:40:21.825055Z",
     "start_time": "2024-06-16T02:40:21.771108Z"
    }
   }
  },
  {
   "cell_type": "code",
   "execution_count": 123,
   "outputs": [],
   "source": [
    "scaler_playtime = MinMaxScaler(feature_range=(0, 5))\n",
    "user_items_df['log_ptime_scaled'] = scaler_playtime.fit_transform(user_items_df[['log_ptime']].values.reshape(-1, 1))\n",
    "\n",
    "scaler_lastweek = MinMaxScaler(feature_range=(0, 5))\n",
    "user_items_df['exp_ptime_2week_scaled'] = scaler_lastweek.fit_transform(user_items_df[['exp_ptime_2week']].values.reshape(-1, 1))"
   ],
   "metadata": {
    "collapsed": false,
    "ExecuteTime": {
     "end_time": "2024-06-16T02:40:21.904840Z",
     "start_time": "2024-06-16T02:40:21.823815Z"
    }
   }
  },
  {
   "cell_type": "code",
   "execution_count": 124,
   "outputs": [],
   "source": [
    "n=0.6 # Peso para el tiempo de juego en las últimas dos semanas\n",
    "m=0.4 # Peso para el tiempo de juego total\n",
    "user_items_df['combined_rating'] = n * user_items_df['exp_ptime_2week_scaled'] + m * user_items_df['log_ptime_scaled']"
   ],
   "metadata": {
    "collapsed": false,
    "ExecuteTime": {
     "end_time": "2024-06-16T02:40:21.917391Z",
     "start_time": "2024-06-16T02:40:21.905169Z"
    }
   }
  },
  {
   "cell_type": "code",
   "execution_count": 125,
   "outputs": [],
   "source": [
    "user_items_df = pd.merge(user_items_df, reviews_df[['user_id', 'item_id', 'recommend']], on=['user_id', 'item_id'], how='left')\n",
    "#result = pd.merge(user_items_df, reviews_df, on=['user_id', 'item_id'],how='left')\n"
   ],
   "metadata": {
    "collapsed": false,
    "ExecuteTime": {
     "end_time": "2024-06-16T02:40:23.061677Z",
     "start_time": "2024-06-16T02:40:21.918450Z"
    }
   }
  },
  {
   "cell_type": "code",
   "execution_count": 182,
   "outputs": [
    {
     "data": {
      "text/plain": "         item_id                      item_name  playtime_forever  \\\n0             10                 Counter-Strike               6.0   \n1             20          Team Fortress Classic               0.0   \n2             30                  Day of Defeat               7.0   \n3             40             Deathmatch Classic               0.0   \n4             50      Half-Life: Opposing Force               0.0   \n...          ...                            ...               ...   \n4295534   227940              Heroes & Generals              43.0   \n4295535   346330                   BrainBread 2               0.0   \n4295536   373330                    All Is Dust               0.0   \n4295537   388490  One Way To Die: Steam Edition               3.0   \n4295538   521570          You Have 10 Seconds 2               4.0   \n\n         playtime_2weeks            user_id  log_ptime  exp_ptime_2week  \\\n0                    0.0  76561197970982479   1.945910         5.000000   \n1                    0.0  76561197970982479   0.000000         5.000000   \n2                    0.0  76561197970982479   2.079442         5.000000   \n3                    0.0  76561197970982479   0.000000         5.000000   \n4                    0.0  76561197970982479   0.000000         5.000000   \n...                  ...                ...        ...              ...   \n4295534             43.0  76561198329548331   3.784190         9.999975   \n4295535              0.0  76561198329548331   0.000000         5.000000   \n4295536              0.0  76561198329548331   0.000000         5.000000   \n4295537              3.0  76561198329548331   1.386294         7.109495   \n4295538              4.0  76561198329548331   1.609438         7.685248   \n\n         log_ptime_scaled  exp_ptime_2week_scaled  combined_rating  recommend  \\\n0                0.727522                0.000000         0.291009        NaN   \n1                0.000000                0.000000         0.000000        NaN   \n2                0.777446                0.000000         0.310978        NaN   \n3                0.000000                0.000000         0.000000        NaN   \n4                0.000000                0.000000         0.000000        NaN   \n...                   ...                     ...              ...        ...   \n4295534          1.414804                4.999975         3.565907        NaN   \n4295535          0.000000                0.000000         0.000000        NaN   \n4295536          0.000000                0.000000         0.000000        NaN   \n4295537          0.518297                2.109495         1.473016        NaN   \n4295538          0.601724                2.685248         1.851838        NaN   \n\n         weighted_rating  \n0               0.291009  \n1               0.000000  \n2               0.310978  \n3               0.000000  \n4               0.000000  \n...                  ...  \n4295534         3.565907  \n4295535         0.000000  \n4295536         0.000000  \n4295537         1.473016  \n4295538         1.851838  \n\n[4295539 rows x 12 columns]",
      "text/html": "<div>\n<style scoped>\n    .dataframe tbody tr th:only-of-type {\n        vertical-align: middle;\n    }\n\n    .dataframe tbody tr th {\n        vertical-align: top;\n    }\n\n    .dataframe thead th {\n        text-align: right;\n    }\n</style>\n<table border=\"1\" class=\"dataframe\">\n  <thead>\n    <tr style=\"text-align: right;\">\n      <th></th>\n      <th>item_id</th>\n      <th>item_name</th>\n      <th>playtime_forever</th>\n      <th>playtime_2weeks</th>\n      <th>user_id</th>\n      <th>log_ptime</th>\n      <th>exp_ptime_2week</th>\n      <th>log_ptime_scaled</th>\n      <th>exp_ptime_2week_scaled</th>\n      <th>combined_rating</th>\n      <th>recommend</th>\n      <th>weighted_rating</th>\n    </tr>\n  </thead>\n  <tbody>\n    <tr>\n      <th>0</th>\n      <td>10</td>\n      <td>Counter-Strike</td>\n      <td>6.0</td>\n      <td>0.0</td>\n      <td>76561197970982479</td>\n      <td>1.945910</td>\n      <td>5.000000</td>\n      <td>0.727522</td>\n      <td>0.000000</td>\n      <td>0.291009</td>\n      <td>NaN</td>\n      <td>0.291009</td>\n    </tr>\n    <tr>\n      <th>1</th>\n      <td>20</td>\n      <td>Team Fortress Classic</td>\n      <td>0.0</td>\n      <td>0.0</td>\n      <td>76561197970982479</td>\n      <td>0.000000</td>\n      <td>5.000000</td>\n      <td>0.000000</td>\n      <td>0.000000</td>\n      <td>0.000000</td>\n      <td>NaN</td>\n      <td>0.000000</td>\n    </tr>\n    <tr>\n      <th>2</th>\n      <td>30</td>\n      <td>Day of Defeat</td>\n      <td>7.0</td>\n      <td>0.0</td>\n      <td>76561197970982479</td>\n      <td>2.079442</td>\n      <td>5.000000</td>\n      <td>0.777446</td>\n      <td>0.000000</td>\n      <td>0.310978</td>\n      <td>NaN</td>\n      <td>0.310978</td>\n    </tr>\n    <tr>\n      <th>3</th>\n      <td>40</td>\n      <td>Deathmatch Classic</td>\n      <td>0.0</td>\n      <td>0.0</td>\n      <td>76561197970982479</td>\n      <td>0.000000</td>\n      <td>5.000000</td>\n      <td>0.000000</td>\n      <td>0.000000</td>\n      <td>0.000000</td>\n      <td>NaN</td>\n      <td>0.000000</td>\n    </tr>\n    <tr>\n      <th>4</th>\n      <td>50</td>\n      <td>Half-Life: Opposing Force</td>\n      <td>0.0</td>\n      <td>0.0</td>\n      <td>76561197970982479</td>\n      <td>0.000000</td>\n      <td>5.000000</td>\n      <td>0.000000</td>\n      <td>0.000000</td>\n      <td>0.000000</td>\n      <td>NaN</td>\n      <td>0.000000</td>\n    </tr>\n    <tr>\n      <th>...</th>\n      <td>...</td>\n      <td>...</td>\n      <td>...</td>\n      <td>...</td>\n      <td>...</td>\n      <td>...</td>\n      <td>...</td>\n      <td>...</td>\n      <td>...</td>\n      <td>...</td>\n      <td>...</td>\n      <td>...</td>\n    </tr>\n    <tr>\n      <th>4295534</th>\n      <td>227940</td>\n      <td>Heroes &amp; Generals</td>\n      <td>43.0</td>\n      <td>43.0</td>\n      <td>76561198329548331</td>\n      <td>3.784190</td>\n      <td>9.999975</td>\n      <td>1.414804</td>\n      <td>4.999975</td>\n      <td>3.565907</td>\n      <td>NaN</td>\n      <td>3.565907</td>\n    </tr>\n    <tr>\n      <th>4295535</th>\n      <td>346330</td>\n      <td>BrainBread 2</td>\n      <td>0.0</td>\n      <td>0.0</td>\n      <td>76561198329548331</td>\n      <td>0.000000</td>\n      <td>5.000000</td>\n      <td>0.000000</td>\n      <td>0.000000</td>\n      <td>0.000000</td>\n      <td>NaN</td>\n      <td>0.000000</td>\n    </tr>\n    <tr>\n      <th>4295536</th>\n      <td>373330</td>\n      <td>All Is Dust</td>\n      <td>0.0</td>\n      <td>0.0</td>\n      <td>76561198329548331</td>\n      <td>0.000000</td>\n      <td>5.000000</td>\n      <td>0.000000</td>\n      <td>0.000000</td>\n      <td>0.000000</td>\n      <td>NaN</td>\n      <td>0.000000</td>\n    </tr>\n    <tr>\n      <th>4295537</th>\n      <td>388490</td>\n      <td>One Way To Die: Steam Edition</td>\n      <td>3.0</td>\n      <td>3.0</td>\n      <td>76561198329548331</td>\n      <td>1.386294</td>\n      <td>7.109495</td>\n      <td>0.518297</td>\n      <td>2.109495</td>\n      <td>1.473016</td>\n      <td>NaN</td>\n      <td>1.473016</td>\n    </tr>\n    <tr>\n      <th>4295538</th>\n      <td>521570</td>\n      <td>You Have 10 Seconds 2</td>\n      <td>4.0</td>\n      <td>4.0</td>\n      <td>76561198329548331</td>\n      <td>1.609438</td>\n      <td>7.685248</td>\n      <td>0.601724</td>\n      <td>2.685248</td>\n      <td>1.851838</td>\n      <td>NaN</td>\n      <td>1.851838</td>\n    </tr>\n  </tbody>\n</table>\n<p>4295539 rows × 12 columns</p>\n</div>"
     },
     "execution_count": 182,
     "metadata": {},
     "output_type": "execute_result"
    }
   ],
   "source": [
    "user_items_df"
   ],
   "metadata": {
    "collapsed": false,
    "ExecuteTime": {
     "end_time": "2024-06-16T03:37:19.907221Z",
     "start_time": "2024-06-16T03:37:19.891675Z"
    }
   }
  },
  {
   "cell_type": "code",
   "execution_count": 126,
   "outputs": [],
   "source": [
    "#result"
   ],
   "metadata": {
    "collapsed": false,
    "ExecuteTime": {
     "end_time": "2024-06-16T02:40:23.064192Z",
     "start_time": "2024-06-16T02:40:23.061983Z"
    }
   }
  },
  {
   "cell_type": "code",
   "execution_count": 127,
   "outputs": [],
   "source": [
    "user_items_df['weighted_rating'] = user_items_df['combined_rating'] * (1 + user_items_df['recommend'].fillna(0))"
   ],
   "metadata": {
    "collapsed": false,
    "ExecuteTime": {
     "end_time": "2024-06-16T02:40:23.091385Z",
     "start_time": "2024-06-16T02:40:23.063775Z"
    }
   }
  },
  {
   "cell_type": "code",
   "execution_count": 128,
   "outputs": [],
   "source": [
    "user_item_matrix = user_items_df.pivot_table(values='weighted_rating', index='item_id', columns='user_id', fill_value=0)"
   ],
   "metadata": {
    "collapsed": false,
    "ExecuteTime": {
     "end_time": "2024-06-16T02:40:50.772108Z",
     "start_time": "2024-06-16T02:40:23.087318Z"
    }
   }
  },
  {
   "cell_type": "code",
   "execution_count": 129,
   "outputs": [
    {
     "data": {
      "text/plain": "user_id  --000--  --ace--  --ionex--  -2SV-vuLB-Kg  -404PageNotFound-  \\\nitem_id                                                                 \n10           0.0      0.0        0.0           0.0                0.0   \n20           0.0      0.0        0.0           0.0                0.0   \n30           0.0      0.0        0.0           0.0                0.0   \n40           0.0      0.0        0.0           0.0                0.0   \n50           0.0      0.0        0.0           0.0                0.0   \n...          ...      ...        ...           ...                ...   \n527900       0.0      0.0        0.0           0.0                0.0   \n528580       0.0      0.0        0.0           0.0                0.0   \n528660       0.0      0.0        0.0           0.0                0.0   \n529820       0.0      0.0        0.0           0.0                0.0   \n530720       0.0      0.0        0.0           0.0                0.0   \n\nuser_id  -AnimeIsMyThing-  -Azsael-  -Beave-  -Encore-  -GM-Dragon  ...  \\\nitem_id                                                             ...   \n10                    0.0       0.0      0.0       0.0    0.404986  ...   \n20                    0.0       0.0      0.0       0.0    0.000000  ...   \n30                    0.0       0.0      0.0       0.0    0.617209  ...   \n40                    0.0       0.0      0.0       0.0    0.000000  ...   \n50                    0.0       0.0      0.0       0.0    0.000000  ...   \n...                   ...       ...      ...       ...         ...  ...   \n527900                0.0       0.0      0.0       0.0    0.000000  ...   \n528580                0.0       0.0      0.0       0.0    0.000000  ...   \n528660                0.0       0.0      0.0       0.0    0.000000  ...   \n529820                0.0       0.0      0.0       0.0    0.000000  ...   \n530720                0.0       0.0      0.0       0.0    0.000000  ...   \n\nuser_id  zyxwvutsrqponm  zyzzchris  zzbrunozz  zzeee  zzjang2  zzonci  \\\nitem_id                                                                 \n10                  0.0        0.0        0.0    0.0      0.0     0.0   \n20                  0.0        0.0        0.0    0.0      0.0     0.0   \n30                  0.0        0.0        0.0    0.0      0.0     0.0   \n40                  0.0        0.0        0.0    0.0      0.0     0.0   \n50                  0.0        0.0        0.0    0.0      0.0     0.0   \n...                 ...        ...        ...    ...      ...     ...   \n527900              0.0        0.0        0.0    0.0      0.0     0.0   \n528580              0.0        0.0        0.0    0.0      0.0     0.0   \n528660              0.0        0.0        0.0    0.0      0.0     0.0   \n529820              0.0        0.0        0.0    0.0      0.0     0.0   \n530720              0.0        0.0        0.0    0.0      0.0     0.0   \n\nuser_id  zzoptimuszz  zzydrax     zzyfo  zzzmidmiss  \nitem_id                                              \n10               0.0      0.0  0.267956         0.0  \n20               0.0      0.0  0.000000         0.0  \n30               0.0      0.0  0.000000         0.0  \n40               0.0      0.0  0.000000         0.0  \n50               0.0      0.0  0.000000         0.0  \n...              ...      ...       ...         ...  \n527900           0.0      0.0  0.000000         0.0  \n528580           0.0      0.0  0.000000         0.0  \n528660           0.0      0.0  0.000000         0.0  \n529820           0.0      0.0  0.000000         0.0  \n530720           0.0      0.0  0.000000         0.0  \n\n[9192 rows x 68712 columns]",
      "text/html": "<div>\n<style scoped>\n    .dataframe tbody tr th:only-of-type {\n        vertical-align: middle;\n    }\n\n    .dataframe tbody tr th {\n        vertical-align: top;\n    }\n\n    .dataframe thead th {\n        text-align: right;\n    }\n</style>\n<table border=\"1\" class=\"dataframe\">\n  <thead>\n    <tr style=\"text-align: right;\">\n      <th>user_id</th>\n      <th>--000--</th>\n      <th>--ace--</th>\n      <th>--ionex--</th>\n      <th>-2SV-vuLB-Kg</th>\n      <th>-404PageNotFound-</th>\n      <th>-AnimeIsMyThing-</th>\n      <th>-Azsael-</th>\n      <th>-Beave-</th>\n      <th>-Encore-</th>\n      <th>-GM-Dragon</th>\n      <th>...</th>\n      <th>zyxwvutsrqponm</th>\n      <th>zyzzchris</th>\n      <th>zzbrunozz</th>\n      <th>zzeee</th>\n      <th>zzjang2</th>\n      <th>zzonci</th>\n      <th>zzoptimuszz</th>\n      <th>zzydrax</th>\n      <th>zzyfo</th>\n      <th>zzzmidmiss</th>\n    </tr>\n    <tr>\n      <th>item_id</th>\n      <th></th>\n      <th></th>\n      <th></th>\n      <th></th>\n      <th></th>\n      <th></th>\n      <th></th>\n      <th></th>\n      <th></th>\n      <th></th>\n      <th></th>\n      <th></th>\n      <th></th>\n      <th></th>\n      <th></th>\n      <th></th>\n      <th></th>\n      <th></th>\n      <th></th>\n      <th></th>\n      <th></th>\n    </tr>\n  </thead>\n  <tbody>\n    <tr>\n      <th>10</th>\n      <td>0.0</td>\n      <td>0.0</td>\n      <td>0.0</td>\n      <td>0.0</td>\n      <td>0.0</td>\n      <td>0.0</td>\n      <td>0.0</td>\n      <td>0.0</td>\n      <td>0.0</td>\n      <td>0.404986</td>\n      <td>...</td>\n      <td>0.0</td>\n      <td>0.0</td>\n      <td>0.0</td>\n      <td>0.0</td>\n      <td>0.0</td>\n      <td>0.0</td>\n      <td>0.0</td>\n      <td>0.0</td>\n      <td>0.267956</td>\n      <td>0.0</td>\n    </tr>\n    <tr>\n      <th>20</th>\n      <td>0.0</td>\n      <td>0.0</td>\n      <td>0.0</td>\n      <td>0.0</td>\n      <td>0.0</td>\n      <td>0.0</td>\n      <td>0.0</td>\n      <td>0.0</td>\n      <td>0.0</td>\n      <td>0.000000</td>\n      <td>...</td>\n      <td>0.0</td>\n      <td>0.0</td>\n      <td>0.0</td>\n      <td>0.0</td>\n      <td>0.0</td>\n      <td>0.0</td>\n      <td>0.0</td>\n      <td>0.0</td>\n      <td>0.000000</td>\n      <td>0.0</td>\n    </tr>\n    <tr>\n      <th>30</th>\n      <td>0.0</td>\n      <td>0.0</td>\n      <td>0.0</td>\n      <td>0.0</td>\n      <td>0.0</td>\n      <td>0.0</td>\n      <td>0.0</td>\n      <td>0.0</td>\n      <td>0.0</td>\n      <td>0.617209</td>\n      <td>...</td>\n      <td>0.0</td>\n      <td>0.0</td>\n      <td>0.0</td>\n      <td>0.0</td>\n      <td>0.0</td>\n      <td>0.0</td>\n      <td>0.0</td>\n      <td>0.0</td>\n      <td>0.000000</td>\n      <td>0.0</td>\n    </tr>\n    <tr>\n      <th>40</th>\n      <td>0.0</td>\n      <td>0.0</td>\n      <td>0.0</td>\n      <td>0.0</td>\n      <td>0.0</td>\n      <td>0.0</td>\n      <td>0.0</td>\n      <td>0.0</td>\n      <td>0.0</td>\n      <td>0.000000</td>\n      <td>...</td>\n      <td>0.0</td>\n      <td>0.0</td>\n      <td>0.0</td>\n      <td>0.0</td>\n      <td>0.0</td>\n      <td>0.0</td>\n      <td>0.0</td>\n      <td>0.0</td>\n      <td>0.000000</td>\n      <td>0.0</td>\n    </tr>\n    <tr>\n      <th>50</th>\n      <td>0.0</td>\n      <td>0.0</td>\n      <td>0.0</td>\n      <td>0.0</td>\n      <td>0.0</td>\n      <td>0.0</td>\n      <td>0.0</td>\n      <td>0.0</td>\n      <td>0.0</td>\n      <td>0.000000</td>\n      <td>...</td>\n      <td>0.0</td>\n      <td>0.0</td>\n      <td>0.0</td>\n      <td>0.0</td>\n      <td>0.0</td>\n      <td>0.0</td>\n      <td>0.0</td>\n      <td>0.0</td>\n      <td>0.000000</td>\n      <td>0.0</td>\n    </tr>\n    <tr>\n      <th>...</th>\n      <td>...</td>\n      <td>...</td>\n      <td>...</td>\n      <td>...</td>\n      <td>...</td>\n      <td>...</td>\n      <td>...</td>\n      <td>...</td>\n      <td>...</td>\n      <td>...</td>\n      <td>...</td>\n      <td>...</td>\n      <td>...</td>\n      <td>...</td>\n      <td>...</td>\n      <td>...</td>\n      <td>...</td>\n      <td>...</td>\n      <td>...</td>\n      <td>...</td>\n      <td>...</td>\n    </tr>\n    <tr>\n      <th>527900</th>\n      <td>0.0</td>\n      <td>0.0</td>\n      <td>0.0</td>\n      <td>0.0</td>\n      <td>0.0</td>\n      <td>0.0</td>\n      <td>0.0</td>\n      <td>0.0</td>\n      <td>0.0</td>\n      <td>0.000000</td>\n      <td>...</td>\n      <td>0.0</td>\n      <td>0.0</td>\n      <td>0.0</td>\n      <td>0.0</td>\n      <td>0.0</td>\n      <td>0.0</td>\n      <td>0.0</td>\n      <td>0.0</td>\n      <td>0.000000</td>\n      <td>0.0</td>\n    </tr>\n    <tr>\n      <th>528580</th>\n      <td>0.0</td>\n      <td>0.0</td>\n      <td>0.0</td>\n      <td>0.0</td>\n      <td>0.0</td>\n      <td>0.0</td>\n      <td>0.0</td>\n      <td>0.0</td>\n      <td>0.0</td>\n      <td>0.000000</td>\n      <td>...</td>\n      <td>0.0</td>\n      <td>0.0</td>\n      <td>0.0</td>\n      <td>0.0</td>\n      <td>0.0</td>\n      <td>0.0</td>\n      <td>0.0</td>\n      <td>0.0</td>\n      <td>0.000000</td>\n      <td>0.0</td>\n    </tr>\n    <tr>\n      <th>528660</th>\n      <td>0.0</td>\n      <td>0.0</td>\n      <td>0.0</td>\n      <td>0.0</td>\n      <td>0.0</td>\n      <td>0.0</td>\n      <td>0.0</td>\n      <td>0.0</td>\n      <td>0.0</td>\n      <td>0.000000</td>\n      <td>...</td>\n      <td>0.0</td>\n      <td>0.0</td>\n      <td>0.0</td>\n      <td>0.0</td>\n      <td>0.0</td>\n      <td>0.0</td>\n      <td>0.0</td>\n      <td>0.0</td>\n      <td>0.000000</td>\n      <td>0.0</td>\n    </tr>\n    <tr>\n      <th>529820</th>\n      <td>0.0</td>\n      <td>0.0</td>\n      <td>0.0</td>\n      <td>0.0</td>\n      <td>0.0</td>\n      <td>0.0</td>\n      <td>0.0</td>\n      <td>0.0</td>\n      <td>0.0</td>\n      <td>0.000000</td>\n      <td>...</td>\n      <td>0.0</td>\n      <td>0.0</td>\n      <td>0.0</td>\n      <td>0.0</td>\n      <td>0.0</td>\n      <td>0.0</td>\n      <td>0.0</td>\n      <td>0.0</td>\n      <td>0.000000</td>\n      <td>0.0</td>\n    </tr>\n    <tr>\n      <th>530720</th>\n      <td>0.0</td>\n      <td>0.0</td>\n      <td>0.0</td>\n      <td>0.0</td>\n      <td>0.0</td>\n      <td>0.0</td>\n      <td>0.0</td>\n      <td>0.0</td>\n      <td>0.0</td>\n      <td>0.000000</td>\n      <td>...</td>\n      <td>0.0</td>\n      <td>0.0</td>\n      <td>0.0</td>\n      <td>0.0</td>\n      <td>0.0</td>\n      <td>0.0</td>\n      <td>0.0</td>\n      <td>0.0</td>\n      <td>0.000000</td>\n      <td>0.0</td>\n    </tr>\n  </tbody>\n</table>\n<p>9192 rows × 68712 columns</p>\n</div>"
     },
     "execution_count": 129,
     "metadata": {},
     "output_type": "execute_result"
    }
   ],
   "source": [
    "user_item_matrix"
   ],
   "metadata": {
    "collapsed": false,
    "ExecuteTime": {
     "end_time": "2024-06-16T02:40:50.787802Z",
     "start_time": "2024-06-16T02:40:50.775836Z"
    }
   }
  },
  {
   "cell_type": "code",
   "execution_count": 155,
   "outputs": [
    {
     "data": {
      "text/plain": "(9192, 68712)"
     },
     "execution_count": 155,
     "metadata": {},
     "output_type": "execute_result"
    }
   ],
   "source": [
    "user_item_matrix.shape"
   ],
   "metadata": {
    "collapsed": false,
    "ExecuteTime": {
     "end_time": "2024-06-16T02:46:57.843293Z",
     "start_time": "2024-06-16T02:46:57.818827Z"
    }
   }
  },
  {
   "cell_type": "code",
   "execution_count": 142,
   "outputs": [],
   "source": [
    "from scipy.sparse import csc_matrix\n",
    "\n",
    "sparse_user_item_matrix = csc_matrix(user_item_matrix.values)\n"
   ],
   "metadata": {
    "collapsed": false,
    "ExecuteTime": {
     "end_time": "2024-06-16T02:43:07.890494Z",
     "start_time": "2024-06-16T02:43:01.298303Z"
    }
   }
  },
  {
   "cell_type": "code",
   "execution_count": 157,
   "outputs": [],
   "source": [
    "U, sigma, VT = svds(sparse_user_item_matrix, k=100)  \n",
    "sigma = np.diag(sigma)\n",
    "\n",
    "# Compute the dot product to get the approximated original matrix\n",
    "predicted_ratings = np.dot(np.dot(U, sigma), VT)\n",
    "\n",
    "# Converting the reconstructed matrix back to a DataFrame\n",
    "predicted_ratings_df = pd.DataFrame(predicted_ratings, index=user_item_matrix.index, columns=user_item_matrix.columns)"
   ],
   "metadata": {
    "collapsed": false,
    "ExecuteTime": {
     "end_time": "2024-06-16T02:49:14.278257Z",
     "start_time": "2024-06-16T02:49:08.917582Z"
    }
   }
  },
  {
   "cell_type": "code",
   "execution_count": 158,
   "outputs": [
    {
     "name": "stdout",
     "output_type": "stream",
     "text": [
      "RMSE: 0.6734004342478984\n"
     ]
    }
   ],
   "source": [
    "\n",
    "# Flatten the matrices to get vectors of all ratings\n",
    "actual_ratings = user_item_matrix.values.flatten()\n",
    "predicted_ratings = predicted_ratings_df.values.flatten()\n",
    "\n",
    "# Only consider non-zero elements\n",
    "mask = actual_ratings > 0\n",
    "actual_ratings = actual_ratings[mask]\n",
    "predicted_ratings = predicted_ratings[mask]\n",
    "\n",
    "# Calculate RMSE\n",
    "rmse_svd = sqrt(mean_squared_error(actual_ratings, predicted_ratings))\n",
    "print(\"RMSE:\", rmse_svd)"
   ],
   "metadata": {
    "collapsed": false,
    "ExecuteTime": {
     "end_time": "2024-06-16T02:49:18.225915Z",
     "start_time": "2024-06-16T02:49:14.340893Z"
    }
   }
  },
  {
   "cell_type": "code",
   "execution_count": 169,
   "outputs": [],
   "source": [
    "def recommend_items_svd(user_id, original_matrix, predictions_df, num_recommendations=5):\n",
    "    # Find the column for the user in the predictions matrix\n",
    "    user_col_number = original_matrix.columns.get_loc(user_id)\n",
    "    \n",
    "    # Get actual user data and apply mask to filter out items already rated (non-zero ratings)\n",
    "    user_actual_ratings = original_matrix[user_id]\n",
    "    non_zero_mask = user_actual_ratings > 0  # True for items the user has rated\n",
    "    \n",
    "    # Generate predictions for the user, filtering out already rated items\n",
    "    user_predictions = predictions_df.iloc[:, user_col_number].sort_values(ascending=False)\n",
    "    recommended_items = user_predictions[~non_zero_mask].head(num_recommendations)\n",
    "    \n",
    "    return recommended_items"
   ],
   "metadata": {
    "collapsed": false,
    "ExecuteTime": {
     "end_time": "2024-06-16T02:52:28.898326Z",
     "start_time": "2024-06-16T02:52:28.875211Z"
    }
   }
  },
  {
   "cell_type": "code",
   "execution_count": 171,
   "outputs": [
    {
     "data": {
      "text/plain": "   item_id  predicted_rating            publisher  \\\n0   294100          0.656694       Ludeon Studios   \n1   359320          0.552884                        \n2   225540          0.503546          Square Enix   \n3   281990          0.477794  Paradox Interactive   \n4   214950          0.456935                 SEGA   \n\n                                        genres  \\\n0  [Indie, Simulation, Strategy, Early Access]   \n1                                           []   \n2                          [Action, Adventure]   \n3                       [Simulation, Strategy]   \n4                                   [Strategy]   \n\n                                app_name  \\\n0                               RimWorld   \n1                        Elite Dangerous   \n2                          Just Cause™ 3   \n3                              Stellaris   \n4  Total War™: ROME II - Emperor Edition   \n\n                                   title  \\\n0                               RimWorld   \n1                                   None   \n2                          Just Cause™ 3   \n3                              Stellaris   \n4  Total War™: ROME II - Emperor Edition   \n\n                                                 url release_date  \\\n0  http://store.steampowered.com/app/294100/RimWo...   2016-07-15   \n1  http://store.steampowered.com/app/359320/Elite...         None   \n2  http://store.steampowered.com/app/225540/Just_...   2015-11-30   \n3  http://store.steampowered.com/app/281990/Stell...   2016-05-09   \n4  http://store.steampowered.com/app/214950/Total...   2013-09-02   \n\n                                                tags  discount_price  \\\n0  [Early Access, Base Building, Survival, Strate...             NaN   \n1  [Space Sim, Space, Open World, Exploration, Sc...             NaN   \n2  [Open World, Action, Destruction, Third-Person...             NaN   \n3  [Space, Strategy, Grand Strategy, Sci-fi, 4X, ...             NaN   \n4  [Strategy, Historical, Turn-Based Strategy, Gr...             NaN   \n\n                                         reviews_url  \\\n0  http://steamcommunity.com/app/294100/reviews/?...   \n1  http://steamcommunity.com/app/359320/reviews/?...   \n2  http://steamcommunity.com/app/225540/reviews/?...   \n3  http://steamcommunity.com/app/281990/reviews/?...   \n4  http://steamcommunity.com/app/214950/reviews/?...   \n\n                                               specs  price  early_access  \\\n0       [Single-player, Steam Workshop, Steam Cloud]  29.99          True   \n1  [Single-player, Multi-player, MMO, Co-op, Part...  29.99         False   \n2  [Single-player, Steam Achievements, Full contr...  49.99         False   \n3  [Single-player, Multi-player, Cross-Platform M...  39.99         False   \n4  [Single-player, Multi-player, Steam Trading Ca...  59.95         False   \n\n                    developer                sentiment  \n0              Ludeon Studios  Overwhelmingly Positive  \n1                        None                    Mixed  \n2           Avalanche Studios          Mostly Positive  \n3  Paradox Development Studio            Very Positive  \n4           Creative Assembly          Mostly Positive  ",
      "text/html": "<div>\n<style scoped>\n    .dataframe tbody tr th:only-of-type {\n        vertical-align: middle;\n    }\n\n    .dataframe tbody tr th {\n        vertical-align: top;\n    }\n\n    .dataframe thead th {\n        text-align: right;\n    }\n</style>\n<table border=\"1\" class=\"dataframe\">\n  <thead>\n    <tr style=\"text-align: right;\">\n      <th></th>\n      <th>item_id</th>\n      <th>predicted_rating</th>\n      <th>publisher</th>\n      <th>genres</th>\n      <th>app_name</th>\n      <th>title</th>\n      <th>url</th>\n      <th>release_date</th>\n      <th>tags</th>\n      <th>discount_price</th>\n      <th>reviews_url</th>\n      <th>specs</th>\n      <th>price</th>\n      <th>early_access</th>\n      <th>developer</th>\n      <th>sentiment</th>\n    </tr>\n  </thead>\n  <tbody>\n    <tr>\n      <th>0</th>\n      <td>294100</td>\n      <td>0.656694</td>\n      <td>Ludeon Studios</td>\n      <td>[Indie, Simulation, Strategy, Early Access]</td>\n      <td>RimWorld</td>\n      <td>RimWorld</td>\n      <td>http://store.steampowered.com/app/294100/RimWo...</td>\n      <td>2016-07-15</td>\n      <td>[Early Access, Base Building, Survival, Strate...</td>\n      <td>NaN</td>\n      <td>http://steamcommunity.com/app/294100/reviews/?...</td>\n      <td>[Single-player, Steam Workshop, Steam Cloud]</td>\n      <td>29.99</td>\n      <td>True</td>\n      <td>Ludeon Studios</td>\n      <td>Overwhelmingly Positive</td>\n    </tr>\n    <tr>\n      <th>1</th>\n      <td>359320</td>\n      <td>0.552884</td>\n      <td></td>\n      <td>[]</td>\n      <td>Elite Dangerous</td>\n      <td>None</td>\n      <td>http://store.steampowered.com/app/359320/Elite...</td>\n      <td>None</td>\n      <td>[Space Sim, Space, Open World, Exploration, Sc...</td>\n      <td>NaN</td>\n      <td>http://steamcommunity.com/app/359320/reviews/?...</td>\n      <td>[Single-player, Multi-player, MMO, Co-op, Part...</td>\n      <td>29.99</td>\n      <td>False</td>\n      <td>None</td>\n      <td>Mixed</td>\n    </tr>\n    <tr>\n      <th>2</th>\n      <td>225540</td>\n      <td>0.503546</td>\n      <td>Square Enix</td>\n      <td>[Action, Adventure]</td>\n      <td>Just Cause™ 3</td>\n      <td>Just Cause™ 3</td>\n      <td>http://store.steampowered.com/app/225540/Just_...</td>\n      <td>2015-11-30</td>\n      <td>[Open World, Action, Destruction, Third-Person...</td>\n      <td>NaN</td>\n      <td>http://steamcommunity.com/app/225540/reviews/?...</td>\n      <td>[Single-player, Steam Achievements, Full contr...</td>\n      <td>49.99</td>\n      <td>False</td>\n      <td>Avalanche Studios</td>\n      <td>Mostly Positive</td>\n    </tr>\n    <tr>\n      <th>3</th>\n      <td>281990</td>\n      <td>0.477794</td>\n      <td>Paradox Interactive</td>\n      <td>[Simulation, Strategy]</td>\n      <td>Stellaris</td>\n      <td>Stellaris</td>\n      <td>http://store.steampowered.com/app/281990/Stell...</td>\n      <td>2016-05-09</td>\n      <td>[Space, Strategy, Grand Strategy, Sci-fi, 4X, ...</td>\n      <td>NaN</td>\n      <td>http://steamcommunity.com/app/281990/reviews/?...</td>\n      <td>[Single-player, Multi-player, Cross-Platform M...</td>\n      <td>39.99</td>\n      <td>False</td>\n      <td>Paradox Development Studio</td>\n      <td>Very Positive</td>\n    </tr>\n    <tr>\n      <th>4</th>\n      <td>214950</td>\n      <td>0.456935</td>\n      <td>SEGA</td>\n      <td>[Strategy]</td>\n      <td>Total War™: ROME II - Emperor Edition</td>\n      <td>Total War™: ROME II - Emperor Edition</td>\n      <td>http://store.steampowered.com/app/214950/Total...</td>\n      <td>2013-09-02</td>\n      <td>[Strategy, Historical, Turn-Based Strategy, Gr...</td>\n      <td>NaN</td>\n      <td>http://steamcommunity.com/app/214950/reviews/?...</td>\n      <td>[Single-player, Multi-player, Steam Trading Ca...</td>\n      <td>59.95</td>\n      <td>False</td>\n      <td>Creative Assembly</td>\n      <td>Mostly Positive</td>\n    </tr>\n  </tbody>\n</table>\n</div>"
     },
     "execution_count": 171,
     "metadata": {},
     "output_type": "execute_result"
    }
   ],
   "source": [
    "user_id = 'evcentric'  # Example user ID\n",
    "recommendations = recommend_items_svd(user_id, user_item_matrix, predicted_ratings_df, num_recommendations=5)\n",
    "\n",
    "recommendations_df = pd.DataFrame(recommendations).reset_index()\n",
    "recommendations_df.columns = ['item_id', 'predicted_rating']\n",
    "merged_df = recommendations_df.merge(steam_games_df, left_on='item_id', right_on='item_id', how='left')\n",
    "merged_df"
   ],
   "metadata": {
    "collapsed": false,
    "ExecuteTime": {
     "end_time": "2024-06-16T02:52:46.766261Z",
     "start_time": "2024-06-16T02:52:46.732908Z"
    }
   }
  },
  {
   "cell_type": "code",
   "execution_count": 172,
   "outputs": [],
   "source": [
    "# def gen_recom_ground_truth_svd(num_recommendations=5):\n",
    "#     recommendations = {}\n",
    "#     ground_truth = {}\n",
    "# \n",
    "#     for user_id in user_item_matrix.columns:\n",
    "#         # Explicitly apply a mask to get non-zero rated items\n",
    "#         user_ratings = user_item_matrix[user_id]\n",
    "#         mask_non_zero = user_ratings > 0\n",
    "#         ground_truth[user_id] = user_ratings[mask_non_zero].index.tolist()\n",
    "# \n",
    "#         # Generate recommendations by first masking out known items\n",
    "#         user_predictions = predicted_ratings_df.loc[:, user_id].sort_values(ascending=False)\n",
    "#         # Filter out known items to focus only on items the user hasn't interacted with\n",
    "#         recommendations[user_id] = user_predictions[~mask_non_zero].head(num_recommendations).index.tolist()\n",
    "# \n",
    "#     return recommendations, ground_truth"
   ],
   "metadata": {
    "collapsed": false,
    "ExecuteTime": {
     "end_time": "2024-06-16T02:55:26.028343Z",
     "start_time": "2024-06-16T02:55:26.004575Z"
    }
   }
  },
  {
   "cell_type": "code",
   "execution_count": 172,
   "outputs": [],
   "source": [],
   "metadata": {
    "collapsed": false,
    "ExecuteTime": {
     "end_time": "2024-06-16T02:55:27.333832Z",
     "start_time": "2024-06-16T02:55:27.313657Z"
    }
   }
  }
 ],
 "metadata": {
  "kernelspec": {
   "display_name": "Python 3",
   "language": "python",
   "name": "python3"
  },
  "language_info": {
   "codemirror_mode": {
    "name": "ipython",
    "version": 3
   },
   "file_extension": ".py",
   "mimetype": "text/x-python",
   "name": "python",
   "nbconvert_exporter": "python",
   "pygments_lexer": "ipython3",
   "version": "3.8.5"
  },
  "colab": {
   "provenance": []
  }
 },
 "nbformat": 4,
 "nbformat_minor": 0
}
