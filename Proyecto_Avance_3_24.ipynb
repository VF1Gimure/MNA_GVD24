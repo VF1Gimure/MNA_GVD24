{
 "cells": [
  {
   "cell_type": "markdown",
   "metadata": {
    "id": "0v5lZjzQZTms"
   },
   "source": [
    "**MAESTRÍA EN INTELIGENCIA ARTIFICIAL APLICADA**\n",
    "\n",
    "**Curso: TC4034 - Análisis de grandes volúmenes de datos (Gpo 10)**\n",
    "\n",
    "Tecnológico de Monterrey\n",
    "\n",
    "Dr. Nestor Velasco Bermeo\n",
    "\n",
    "**Semana 8 **\n",
    "8.2 Avance de proyecto 3: Sistema de Recomendación\n",
    "---"
   ]
  },
  {
   "cell_type": "markdown",
   "metadata": {
    "id": "HfLoXtuKuCug"
   },
   "source": [
    "\n",
    "*   NOMBRE: Luis Salomon Flores Ugalde\n",
    "*   MATRÍCULA: A00817435\n",
    "*   NOMBRE: Alejandro Guzmán Chávez\n",
    "*   MATRÍCULA: A01795398\n",
    "*   NOMBRE: Oscar Israel Lerma Franco\n",
    "*   MATRÍCULA: A01380817"
   ]
  },
  {
   "cell_type": "markdown",
   "metadata": {
    "collapsed": false,
    "id": "HyKGLRg99Zk_"
   },
   "source": [
    "En esta entrega es necesario realizar un reporte donde se enlisten los siguientes aspectos:\n",
    "\n",
    "* Revisión del alcance y objetivos del proyecto. Discute y analiza con tus compañeros de equipo cualquier modificación requerida para ajustes al alcance u objetivos del proyecto. Documenta los cambios si los hay, en caso contrario, escribe sin cambios en este rubro.\n",
    "* Realiza la comparación de diferentes algoritmos de recomendación de las actividades 4.2 y 6.2, en términos de rendimiento y escalabilidad. Crea una tabla que demuestre la evidencia de la comparación. "
   ]
  },
  {
   "cell_type": "code",
   "execution_count": 32,
   "metadata": {
    "id": "7Qc1oYLeZTmu",
    "ExecuteTime": {
     "end_time": "2024-06-08T20:40:19.426611Z",
     "start_time": "2024-06-08T20:40:19.323779Z"
    }
   },
   "outputs": [],
   "source": [
    "import pandas as pd\n",
    "import numpy as np\n",
    "import matplotlib.pyplot as plt\n",
    "import seaborn as sns\n",
    "import scipy.stats as stats\n",
    "import json\n",
    "from sklearn.metrics import mean_squared_error\n",
    "from math import sqrt\n",
    "from scipy.sparse import csr_matrix\n",
    "from scipy.sparse.linalg import svds\n",
    "import time"
   ]
  },
  {
   "cell_type": "code",
   "execution_count": 33,
   "metadata": {
    "colab": {
     "base_uri": "https://localhost:8080/"
    },
    "id": "o4uy-BSf9ZlB",
    "outputId": "491dfa32-a4b5-4e36-d9e3-6ab6cae72bb9",
    "ExecuteTime": {
     "end_time": "2024-06-08T20:40:19.426831Z",
     "start_time": "2024-06-08T20:40:19.326698Z"
    }
   },
   "outputs": [
    {
     "name": "stdout",
     "output_type": "stream",
     "text": [
      "Current working directory: /Users/lsfu/Desktop/MNA/BD/MNA_GVD24\n"
     ]
    }
   ],
   "source": [
    "import os\n",
    "\n",
    "print(\"Current working directory:\", os.getcwd())\n"
   ]
  },
  {
   "cell_type": "markdown",
   "metadata": {
    "collapsed": false,
    "id": "bgsGswLP9ZlB"
   },
   "source": [
    "## Utility functions"
   ]
  },
  {
   "cell_type": "markdown",
   "source": [
    "```python \n",
    "import re\n",
    "import json\n",
    "\n",
    "def read_lines(file_path):\n",
    "    data = []\n",
    "    with open(file_path, 'r', encoding='utf-8') as file:\n",
    "        while True:\n",
    "            line = file.readline()\n",
    "            if not line:\n",
    "                break\n",
    "            data.append(line)\n",
    "    return data\n",
    "\n",
    "def parse(g):\n",
    "   for l in g:\n",
    "        yield eval(l)\n",
    "\n",
    "def parse_dataload_to_json_list(data):\n",
    "    parsed = []\n",
    "    line_count = 0\n",
    "    for l in parse(data):\n",
    "        line_count += 1\n",
    "        r = json.dumps(l)\n",
    "        loaded_r = json.loads(r)\n",
    "        parsed.append(loaded_r)\n",
    "    return parsed\n",
    "```"
   ],
   "metadata": {
    "collapsed": false
   }
  },
  {
   "cell_type": "markdown",
   "metadata": {
    "id": "s0S5ylLgIkWC"
   },
   "source": [
    "## Lectura y transformación de los archivos en DataFrames"
   ]
  },
  {
   "cell_type": "markdown",
   "source": [
    "```python \n",
    "data_games = read_lines('steam_games.json')\n",
    "json_games = parse_dataload_to_json_list(data_games)\n",
    "with open('steam_games_p3.json', 'w', encoding='utf-8') as f:\n",
    "    for item in json_games:\n",
    "        json.dump(item, f, ensure_ascii=False)\n",
    "        f.write('\\n')\n",
    "``` "
   ],
   "metadata": {
    "collapsed": false
   }
  },
  {
   "cell_type": "code",
   "execution_count": 34,
   "metadata": {
    "colab": {
     "base_uri": "https://localhost:8080/",
     "height": 625
    },
    "id": "kE9xkuoJ9ZlC",
    "outputId": "cb7e1a89-8889-4d70-9984-5818b5661f27",
    "ExecuteTime": {
     "end_time": "2024-06-08T20:40:19.749811Z",
     "start_time": "2024-06-08T20:40:19.334720Z"
    }
   },
   "outputs": [
    {
     "data": {
      "text/plain": "          publisher                                             genres  \\\n0         Kotoshiro      [Action, Casual, Indie, Simulation, Strategy]   \n1  Making Fun, Inc.               [Free to Play, Indie, RPG, Strategy]   \n2      Poolians.com  [Casual, Free to Play, Indie, Simulation, Sports]   \n3              彼岸领域                        [Action, Adventure, Casual]   \n4               NaN                                                NaN   \n\n                  app_name                    title  \\\n0      Lost Summoner Kitty      Lost Summoner Kitty   \n1                Ironbound                Ironbound   \n2  Real Pool 3D - Poolians  Real Pool 3D - Poolians   \n3                  弹炸人2222                  弹炸人2222   \n4            Log Challenge                      NaN   \n\n                                                 url release_date  \\\n0  http://store.steampowered.com/app/761140/Lost_...   2018-01-04   \n1  http://store.steampowered.com/app/643980/Ironb...   2018-01-04   \n2  http://store.steampowered.com/app/670290/Real_...   2017-07-24   \n3     http://store.steampowered.com/app/767400/2222/   2017-12-07   \n4  http://store.steampowered.com/app/773570/Log_C...          NaN   \n\n                                                tags  discount_price  \\\n0      [Strategy, Action, Indie, Casual, Simulation]            4.49   \n1  [Free to Play, Strategy, Indie, RPG, Card Game...             NaN   \n2  [Free to Play, Simulation, Sports, Casual, Ind...             NaN   \n3                        [Action, Adventure, Casual]            0.83   \n4                    [Action, Indie, Casual, Sports]            1.79   \n\n                                         reviews_url  \\\n0  http://steamcommunity.com/app/761140/reviews/?...   \n1  http://steamcommunity.com/app/643980/reviews/?...   \n2  http://steamcommunity.com/app/670290/reviews/?...   \n3  http://steamcommunity.com/app/767400/reviews/?...   \n4  http://steamcommunity.com/app/773570/reviews/?...   \n\n                                               specs         price  \\\n0                                    [Single-player]          4.99   \n1  [Single-player, Multi-player, Online Multi-Pla...  Free To Play   \n2  [Single-player, Multi-player, Online Multi-Pla...  Free to Play   \n3                                    [Single-player]          0.99   \n4  [Single-player, Full controller support, HTC V...          2.99   \n\n   early_access        id         developer        sentiment metascore  \n0         False  761140.0         Kotoshiro              NaN       NaN  \n1         False  643980.0  Secret Level SRL  Mostly Positive       NaN  \n2         False  670290.0      Poolians.com  Mostly Positive       NaN  \n3         False  767400.0              彼岸领域              NaN       NaN  \n4         False  773570.0               NaN              NaN       NaN  ",
      "text/html": "<div>\n<style scoped>\n    .dataframe tbody tr th:only-of-type {\n        vertical-align: middle;\n    }\n\n    .dataframe tbody tr th {\n        vertical-align: top;\n    }\n\n    .dataframe thead th {\n        text-align: right;\n    }\n</style>\n<table border=\"1\" class=\"dataframe\">\n  <thead>\n    <tr style=\"text-align: right;\">\n      <th></th>\n      <th>publisher</th>\n      <th>genres</th>\n      <th>app_name</th>\n      <th>title</th>\n      <th>url</th>\n      <th>release_date</th>\n      <th>tags</th>\n      <th>discount_price</th>\n      <th>reviews_url</th>\n      <th>specs</th>\n      <th>price</th>\n      <th>early_access</th>\n      <th>id</th>\n      <th>developer</th>\n      <th>sentiment</th>\n      <th>metascore</th>\n    </tr>\n  </thead>\n  <tbody>\n    <tr>\n      <th>0</th>\n      <td>Kotoshiro</td>\n      <td>[Action, Casual, Indie, Simulation, Strategy]</td>\n      <td>Lost Summoner Kitty</td>\n      <td>Lost Summoner Kitty</td>\n      <td>http://store.steampowered.com/app/761140/Lost_...</td>\n      <td>2018-01-04</td>\n      <td>[Strategy, Action, Indie, Casual, Simulation]</td>\n      <td>4.49</td>\n      <td>http://steamcommunity.com/app/761140/reviews/?...</td>\n      <td>[Single-player]</td>\n      <td>4.99</td>\n      <td>False</td>\n      <td>761140.0</td>\n      <td>Kotoshiro</td>\n      <td>NaN</td>\n      <td>NaN</td>\n    </tr>\n    <tr>\n      <th>1</th>\n      <td>Making Fun, Inc.</td>\n      <td>[Free to Play, Indie, RPG, Strategy]</td>\n      <td>Ironbound</td>\n      <td>Ironbound</td>\n      <td>http://store.steampowered.com/app/643980/Ironb...</td>\n      <td>2018-01-04</td>\n      <td>[Free to Play, Strategy, Indie, RPG, Card Game...</td>\n      <td>NaN</td>\n      <td>http://steamcommunity.com/app/643980/reviews/?...</td>\n      <td>[Single-player, Multi-player, Online Multi-Pla...</td>\n      <td>Free To Play</td>\n      <td>False</td>\n      <td>643980.0</td>\n      <td>Secret Level SRL</td>\n      <td>Mostly Positive</td>\n      <td>NaN</td>\n    </tr>\n    <tr>\n      <th>2</th>\n      <td>Poolians.com</td>\n      <td>[Casual, Free to Play, Indie, Simulation, Sports]</td>\n      <td>Real Pool 3D - Poolians</td>\n      <td>Real Pool 3D - Poolians</td>\n      <td>http://store.steampowered.com/app/670290/Real_...</td>\n      <td>2017-07-24</td>\n      <td>[Free to Play, Simulation, Sports, Casual, Ind...</td>\n      <td>NaN</td>\n      <td>http://steamcommunity.com/app/670290/reviews/?...</td>\n      <td>[Single-player, Multi-player, Online Multi-Pla...</td>\n      <td>Free to Play</td>\n      <td>False</td>\n      <td>670290.0</td>\n      <td>Poolians.com</td>\n      <td>Mostly Positive</td>\n      <td>NaN</td>\n    </tr>\n    <tr>\n      <th>3</th>\n      <td>彼岸领域</td>\n      <td>[Action, Adventure, Casual]</td>\n      <td>弹炸人2222</td>\n      <td>弹炸人2222</td>\n      <td>http://store.steampowered.com/app/767400/2222/</td>\n      <td>2017-12-07</td>\n      <td>[Action, Adventure, Casual]</td>\n      <td>0.83</td>\n      <td>http://steamcommunity.com/app/767400/reviews/?...</td>\n      <td>[Single-player]</td>\n      <td>0.99</td>\n      <td>False</td>\n      <td>767400.0</td>\n      <td>彼岸领域</td>\n      <td>NaN</td>\n      <td>NaN</td>\n    </tr>\n    <tr>\n      <th>4</th>\n      <td>NaN</td>\n      <td>NaN</td>\n      <td>Log Challenge</td>\n      <td>NaN</td>\n      <td>http://store.steampowered.com/app/773570/Log_C...</td>\n      <td>NaN</td>\n      <td>[Action, Indie, Casual, Sports]</td>\n      <td>1.79</td>\n      <td>http://steamcommunity.com/app/773570/reviews/?...</td>\n      <td>[Single-player, Full controller support, HTC V...</td>\n      <td>2.99</td>\n      <td>False</td>\n      <td>773570.0</td>\n      <td>NaN</td>\n      <td>NaN</td>\n      <td>NaN</td>\n    </tr>\n  </tbody>\n</table>\n</div>"
     },
     "execution_count": 34,
     "metadata": {},
     "output_type": "execute_result"
    }
   ],
   "source": [
    "steam_games_df = pd.read_json('steam_games_p3.json', lines=True)\n",
    "\n",
    "steam_games_df.head()"
   ]
  },
  {
   "cell_type": "markdown",
   "metadata": {
    "id": "QvLOIc74I3PL"
   },
   "source": [
    "Repetimos para las reviews de usuarios australianos."
   ]
  },
  {
   "cell_type": "markdown",
   "source": [
    "```python \n",
    "data_aus_rev = read_lines('australian_user_reviews.json')\n",
    "json_aus_rev = parse_dataload_to_json_list(data_aus_rev)\n",
    "with open('steam_aus_rev_p3.json', 'w', encoding='utf-8') as f:\n",
    "    for item in json_aus_rev:\n",
    "        json.dump(item, f, ensure_ascii=False)\n",
    "        f.write('\\n')\n",
    "```"
   ],
   "metadata": {
    "collapsed": false
   }
  },
  {
   "cell_type": "code",
   "execution_count": 35,
   "metadata": {
    "colab": {
     "base_uri": "https://localhost:8080/",
     "height": 206
    },
    "id": "CyP-lCgt9ZlD",
    "outputId": "1c56cc3b-4dfd-4c48-a391-04e372df3a07",
    "ExecuteTime": {
     "end_time": "2024-06-08T20:40:20.164288Z",
     "start_time": "2024-06-08T20:40:19.749726Z"
    }
   },
   "outputs": [
    {
     "data": {
      "text/plain": "             user_id                                           user_url  \\\n0  76561197970982479  http://steamcommunity.com/profiles/76561197970...   \n1            js41637               http://steamcommunity.com/id/js41637   \n2          evcentric             http://steamcommunity.com/id/evcentric   \n3              doctr                 http://steamcommunity.com/id/doctr   \n4          maplemage             http://steamcommunity.com/id/maplemage   \n\n                                             reviews  \n0  [{'funny': '', 'posted': 'Posted November 5, 2...  \n1  [{'funny': '', 'posted': 'Posted June 24, 2014...  \n2  [{'funny': '', 'posted': 'Posted February 3.',...  \n3  [{'funny': '', 'posted': 'Posted October 14, 2...  \n4  [{'funny': '3 people found this review funny',...  ",
      "text/html": "<div>\n<style scoped>\n    .dataframe tbody tr th:only-of-type {\n        vertical-align: middle;\n    }\n\n    .dataframe tbody tr th {\n        vertical-align: top;\n    }\n\n    .dataframe thead th {\n        text-align: right;\n    }\n</style>\n<table border=\"1\" class=\"dataframe\">\n  <thead>\n    <tr style=\"text-align: right;\">\n      <th></th>\n      <th>user_id</th>\n      <th>user_url</th>\n      <th>reviews</th>\n    </tr>\n  </thead>\n  <tbody>\n    <tr>\n      <th>0</th>\n      <td>76561197970982479</td>\n      <td>http://steamcommunity.com/profiles/76561197970...</td>\n      <td>[{'funny': '', 'posted': 'Posted November 5, 2...</td>\n    </tr>\n    <tr>\n      <th>1</th>\n      <td>js41637</td>\n      <td>http://steamcommunity.com/id/js41637</td>\n      <td>[{'funny': '', 'posted': 'Posted June 24, 2014...</td>\n    </tr>\n    <tr>\n      <th>2</th>\n      <td>evcentric</td>\n      <td>http://steamcommunity.com/id/evcentric</td>\n      <td>[{'funny': '', 'posted': 'Posted February 3.',...</td>\n    </tr>\n    <tr>\n      <th>3</th>\n      <td>doctr</td>\n      <td>http://steamcommunity.com/id/doctr</td>\n      <td>[{'funny': '', 'posted': 'Posted October 14, 2...</td>\n    </tr>\n    <tr>\n      <th>4</th>\n      <td>maplemage</td>\n      <td>http://steamcommunity.com/id/maplemage</td>\n      <td>[{'funny': '3 people found this review funny',...</td>\n    </tr>\n  </tbody>\n</table>\n</div>"
     },
     "execution_count": 35,
     "metadata": {},
     "output_type": "execute_result"
    }
   ],
   "source": [
    "steam_aus_rev_df = pd.read_json('steam_aus_rev_p3.json', lines=True)\n",
    "\n",
    "steam_aus_rev_df.head()"
   ]
  },
  {
   "cell_type": "code",
   "execution_count": 36,
   "metadata": {
    "id": "8BrdyQ4OK8if",
    "ExecuteTime": {
     "end_time": "2024-06-08T20:40:20.302962Z",
     "start_time": "2024-06-08T20:40:20.165801Z"
    }
   },
   "outputs": [],
   "source": [
    "working_df = steam_aus_rev_df.explode('reviews')\n",
    "reviews_df = pd.json_normalize(working_df['reviews'])\n",
    "reviews_df = reviews_df.join(working_df[['user_id', 'user_url']].reset_index(drop=True))"
   ]
  },
  {
   "cell_type": "code",
   "execution_count": 65,
   "outputs": [
    {
     "data": {
      "text/plain": "       item_id  recommend                                             review  \\\n0         1250          1  Simple yet with great replayability. In my opi...   \n1        22200          1               It's unique and worth a playthrough.   \n4       227300          1  For a simple (it's actually not all that simpl...   \n5       239030          1  Very fun little game to play when your bored o...   \n6       248820          1  A suitably punishing roguelike platformer.  Wi...   \n...        ...        ...                                                ...   \n59300       70          1  a must have classic from steam definitely wort...   \n59301   362890          1  this game is a perfect remake of the original ...   \n59302   273110          1  had so much fun plaing this and collecting res...   \n59303      730          1                                                 :D   \n59304      440          1                                     so much fun :D   \n\n                 user_id  \n0      76561197970982479  \n1      76561197970982479  \n4                js41637  \n5                js41637  \n6              evcentric  \n...                  ...  \n59300  76561198312638244  \n59301  76561198312638244  \n59302        LydiaMorley  \n59303        LydiaMorley  \n59304        LydiaMorley  \n\n[53988 rows x 4 columns]",
      "text/html": "<div>\n<style scoped>\n    .dataframe tbody tr th:only-of-type {\n        vertical-align: middle;\n    }\n\n    .dataframe tbody tr th {\n        vertical-align: top;\n    }\n\n    .dataframe thead th {\n        text-align: right;\n    }\n</style>\n<table border=\"1\" class=\"dataframe\">\n  <thead>\n    <tr style=\"text-align: right;\">\n      <th></th>\n      <th>item_id</th>\n      <th>recommend</th>\n      <th>review</th>\n      <th>user_id</th>\n    </tr>\n  </thead>\n  <tbody>\n    <tr>\n      <th>0</th>\n      <td>1250</td>\n      <td>1</td>\n      <td>Simple yet with great replayability. In my opi...</td>\n      <td>76561197970982479</td>\n    </tr>\n    <tr>\n      <th>1</th>\n      <td>22200</td>\n      <td>1</td>\n      <td>It's unique and worth a playthrough.</td>\n      <td>76561197970982479</td>\n    </tr>\n    <tr>\n      <th>4</th>\n      <td>227300</td>\n      <td>1</td>\n      <td>For a simple (it's actually not all that simpl...</td>\n      <td>js41637</td>\n    </tr>\n    <tr>\n      <th>5</th>\n      <td>239030</td>\n      <td>1</td>\n      <td>Very fun little game to play when your bored o...</td>\n      <td>js41637</td>\n    </tr>\n    <tr>\n      <th>6</th>\n      <td>248820</td>\n      <td>1</td>\n      <td>A suitably punishing roguelike platformer.  Wi...</td>\n      <td>evcentric</td>\n    </tr>\n    <tr>\n      <th>...</th>\n      <td>...</td>\n      <td>...</td>\n      <td>...</td>\n      <td>...</td>\n    </tr>\n    <tr>\n      <th>59300</th>\n      <td>70</td>\n      <td>1</td>\n      <td>a must have classic from steam definitely wort...</td>\n      <td>76561198312638244</td>\n    </tr>\n    <tr>\n      <th>59301</th>\n      <td>362890</td>\n      <td>1</td>\n      <td>this game is a perfect remake of the original ...</td>\n      <td>76561198312638244</td>\n    </tr>\n    <tr>\n      <th>59302</th>\n      <td>273110</td>\n      <td>1</td>\n      <td>had so much fun plaing this and collecting res...</td>\n      <td>LydiaMorley</td>\n    </tr>\n    <tr>\n      <th>59303</th>\n      <td>730</td>\n      <td>1</td>\n      <td>:D</td>\n      <td>LydiaMorley</td>\n    </tr>\n    <tr>\n      <th>59304</th>\n      <td>440</td>\n      <td>1</td>\n      <td>so much fun :D</td>\n      <td>LydiaMorley</td>\n    </tr>\n  </tbody>\n</table>\n<p>53988 rows × 4 columns</p>\n</div>"
     },
     "execution_count": 65,
     "metadata": {},
     "output_type": "execute_result"
    }
   ],
   "source": [
    "reviews_df"
   ],
   "metadata": {
    "collapsed": false,
    "ExecuteTime": {
     "end_time": "2024-06-08T20:45:49.163645Z",
     "start_time": "2024-06-08T20:45:49.140181Z"
    }
   }
  },
  {
   "cell_type": "markdown",
   "source": [
    "### Repitiendo pasos de avance 1 y 2"
   ],
   "metadata": {
    "collapsed": false
   }
  },
  {
   "cell_type": "markdown",
   "metadata": {
    "id": "VxAELHlDJs11"
   },
   "source": []
  },
  {
   "cell_type": "code",
   "execution_count": 37,
   "metadata": {
    "colab": {
     "base_uri": "https://localhost:8080/",
     "height": 1000
    },
    "id": "mmHBHAoCKZwB",
    "outputId": "f6939df8-fcba-4a42-f78e-9110556a9eb6",
    "ExecuteTime": {
     "end_time": "2024-06-08T20:40:20.310085Z",
     "start_time": "2024-06-08T20:40:20.304209Z"
    }
   },
   "outputs": [],
   "source": [
    "steam_games_df = steam_games_df.drop(columns=['metascore'],axis=1)"
   ]
  },
  {
   "cell_type": "markdown",
   "metadata": {
    "id": "UgxtDd8YMKUV"
   },
   "source": []
  },
  {
   "cell_type": "code",
   "execution_count": 38,
   "metadata": {
    "id": "1B7U97m4L80f",
    "ExecuteTime": {
     "end_time": "2024-06-08T20:40:20.319574Z",
     "start_time": "2024-06-08T20:40:20.317968Z"
    }
   },
   "outputs": [],
   "source": [
    "steam_games_df['publisher'].fillna('', inplace=True)\n",
    "steam_games_df['genres'].fillna('[]', inplace=True) #Usamos una lista vacías ya que es el formato de la columna y permitirá separarla después\n",
    "steam_games_df['tags'].fillna('[]', inplace=True) #Usamos una lista vacías ya que es el formato de la columna y permitirá separarla después"
   ]
  },
  {
   "cell_type": "markdown",
   "metadata": {
    "collapsed": false,
    "id": "wqTKRAMs9ZlB"
   },
   "source": [
    "## Preprocesamiento"
   ]
  },
  {
   "cell_type": "code",
   "execution_count": 39,
   "metadata": {
    "collapsed": false,
    "ExecuteTime": {
     "end_time": "2024-06-08T20:40:20.349499Z",
     "start_time": "2024-06-08T20:40:20.320573Z"
    }
   },
   "outputs": [],
   "source": [
    "reviews_df = reviews_df.dropna(subset=['recommend'])\n",
    "assert reviews_df['recommend'].isna().sum() == 0\n",
    "reviews_df['recommend'] = reviews_df['recommend'].astype(int)"
   ]
  },
  {
   "cell_type": "code",
   "execution_count": 40,
   "metadata": {
    "collapsed": false,
    "ExecuteTime": {
     "end_time": "2024-06-08T20:40:20.358384Z",
     "start_time": "2024-06-08T20:40:20.350239Z"
    }
   },
   "outputs": [],
   "source": [
    "#steam_games_df = steam_games_df.dropna(subset=['id'])\n",
    "steam_games_df = steam_games_df[steam_games_df['id'].notna()]\n",
    "steam_games_df.reset_index(drop=True, inplace=True)\n"
   ]
  },
  {
   "cell_type": "code",
   "execution_count": 41,
   "metadata": {
    "colab": {
     "base_uri": "https://localhost:8080/",
     "height": 1000
    },
    "id": "mxaF2mKh9ZlC",
    "outputId": "3c1654e0-5bec-42d2-cac9-c60b9c49a898",
    "ExecuteTime": {
     "end_time": "2024-06-08T20:40:20.360732Z",
     "start_time": "2024-06-08T20:40:20.359336Z"
    }
   },
   "outputs": [],
   "source": [
    "steam_games_df['id'] = steam_games_df['id'].astype(int)\n",
    "#steam_games_df['id'] = steam_games_df['id'].astype(str).str.replace('.0', '', regex=False)"
   ]
  },
  {
   "cell_type": "code",
   "execution_count": 42,
   "metadata": {
    "collapsed": false,
    "ExecuteTime": {
     "end_time": "2024-06-08T20:40:20.394803Z",
     "start_time": "2024-06-08T20:40:20.365993Z"
    }
   },
   "outputs": [],
   "source": [
    "#reviews_df = reviews_df.dropna(subset=['item_id'])\n",
    "reviews_df = reviews_df[reviews_df['item_id'].notna()]\n",
    "reviews_df.reset_index(drop=True, inplace=True)\n",
    "reviews_df['item_id'] = reviews_df['item_id'].astype(int)\n",
    "reviews_df = reviews_df[reviews_df['item_id'].isin(steam_games_df['id'])]\n",
    "reviews_df = reviews_df.drop(columns=['funny', 'posted', 'last_edited', 'helpful', 'user_url'], axis=1)"
   ]
  },
  {
   "cell_type": "markdown",
   "metadata": {
    "id": "x2Y8sDobOmZF"
   },
   "source": [
    "Contamos los generos y los tags, ya que son las características que ayudarán a encontrar similitudes"
   ]
  },
  {
   "cell_type": "code",
   "execution_count": 43,
   "metadata": {
    "colab": {
     "base_uri": "https://localhost:8080/"
    },
    "id": "s3AsSgGb9ZlF",
    "outputId": "d1caffb7-1c3e-4645-981a-17383126a226",
    "ExecuteTime": {
     "end_time": "2024-06-08T20:40:20.423483Z",
     "start_time": "2024-06-08T20:40:20.421501Z"
    }
   },
   "outputs": [],
   "source": [
    "from collections import Counter\n",
    "\n",
    "contador_generos = Counter(g for genres in steam_games_df['genres'] for g in genres)\n",
    "contador_tags = Counter(t for tags in steam_games_df['tags'] for t in tags)"
   ]
  },
  {
   "cell_type": "markdown",
   "metadata": {
    "id": "TaZrqtPNQpMq"
   },
   "source": []
  },
  {
   "cell_type": "markdown",
   "metadata": {
    "id": "WqPlwbhqSQEM"
   },
   "source": [
    "## Transformado de datos"
   ]
  },
  {
   "cell_type": "markdown",
   "metadata": {
    "id": "DgL9-G9hSduZ"
   },
   "source": [
    "Para construir un sistema de recomendacion con filtrado basado en contenido necesitamos preparar nuestro dataset de forma tal que las filas representen los juegos de steam y las columnas las caracteristicas (generos y tags)\n"
   ]
  },
  {
   "cell_type": "code",
   "execution_count": 44,
   "metadata": {
    "id": "UILKw6KBSNHg",
    "ExecuteTime": {
     "end_time": "2024-06-08T20:40:20.586655Z",
     "start_time": "2024-06-08T20:40:20.445700Z"
    }
   },
   "outputs": [],
   "source": [
    "genres = list(contador_generos.keys())\n",
    "\n",
    "for g in genres:\n",
    "    steam_games_df[g] = steam_games_df['genres'].transform(lambda x: int(g in x))"
   ]
  },
  {
   "cell_type": "code",
   "execution_count": 45,
   "metadata": {
    "colab": {
     "base_uri": "https://localhost:8080/",
     "height": 290
    },
    "id": "gXHF6I1KStIn",
    "outputId": "863778d5-3e91-4249-9981-f666d8a2e578",
    "ExecuteTime": {
     "end_time": "2024-06-08T20:40:20.595138Z",
     "start_time": "2024-06-08T20:40:20.587563Z"
    }
   },
   "outputs": [
    {
     "data": {
      "text/plain": "   Action  Casual  Indie  Simulation  Strategy  Free to Play  RPG  Sports  \\\n0       1       1      1           1         1             0    0       0   \n1       0       0      1           0         1             1    1       0   \n2       0       1      1           1         0             1    0       1   \n3       1       1      0           0         0             0    0       0   \n4       0       0      0           0         0             0    0       0   \n\n   Adventure  [  ...  Animation &amp; Modeling  Video Production  Utilities  \\\n0          0  0  ...                         0                 0          0   \n1          0  0  ...                         0                 0          0   \n2          0  0  ...                         0                 0          0   \n3          1  0  ...                         0                 0          0   \n4          0  1  ...                         0                 0          0   \n\n   Web Publishing  Education  Software Training  Design &amp; Illustration  \\\n0               0          0                  0                          0   \n1               0          0                  0                          0   \n2               0          0                  0                          0   \n3               0          0                  0                          0   \n4               0          0                  0                          0   \n\n   Audio Production  Photo Editing  Accounting  \n0                 0              0           0  \n1                 0              0           0  \n2                 0              0           0  \n3                 0              0           0  \n4                 0              0           0  \n\n[5 rows x 24 columns]",
      "text/html": "<div>\n<style scoped>\n    .dataframe tbody tr th:only-of-type {\n        vertical-align: middle;\n    }\n\n    .dataframe tbody tr th {\n        vertical-align: top;\n    }\n\n    .dataframe thead th {\n        text-align: right;\n    }\n</style>\n<table border=\"1\" class=\"dataframe\">\n  <thead>\n    <tr style=\"text-align: right;\">\n      <th></th>\n      <th>Action</th>\n      <th>Casual</th>\n      <th>Indie</th>\n      <th>Simulation</th>\n      <th>Strategy</th>\n      <th>Free to Play</th>\n      <th>RPG</th>\n      <th>Sports</th>\n      <th>Adventure</th>\n      <th>[</th>\n      <th>...</th>\n      <th>Animation &amp;amp; Modeling</th>\n      <th>Video Production</th>\n      <th>Utilities</th>\n      <th>Web Publishing</th>\n      <th>Education</th>\n      <th>Software Training</th>\n      <th>Design &amp;amp; Illustration</th>\n      <th>Audio Production</th>\n      <th>Photo Editing</th>\n      <th>Accounting</th>\n    </tr>\n  </thead>\n  <tbody>\n    <tr>\n      <th>0</th>\n      <td>1</td>\n      <td>1</td>\n      <td>1</td>\n      <td>1</td>\n      <td>1</td>\n      <td>0</td>\n      <td>0</td>\n      <td>0</td>\n      <td>0</td>\n      <td>0</td>\n      <td>...</td>\n      <td>0</td>\n      <td>0</td>\n      <td>0</td>\n      <td>0</td>\n      <td>0</td>\n      <td>0</td>\n      <td>0</td>\n      <td>0</td>\n      <td>0</td>\n      <td>0</td>\n    </tr>\n    <tr>\n      <th>1</th>\n      <td>0</td>\n      <td>0</td>\n      <td>1</td>\n      <td>0</td>\n      <td>1</td>\n      <td>1</td>\n      <td>1</td>\n      <td>0</td>\n      <td>0</td>\n      <td>0</td>\n      <td>...</td>\n      <td>0</td>\n      <td>0</td>\n      <td>0</td>\n      <td>0</td>\n      <td>0</td>\n      <td>0</td>\n      <td>0</td>\n      <td>0</td>\n      <td>0</td>\n      <td>0</td>\n    </tr>\n    <tr>\n      <th>2</th>\n      <td>0</td>\n      <td>1</td>\n      <td>1</td>\n      <td>1</td>\n      <td>0</td>\n      <td>1</td>\n      <td>0</td>\n      <td>1</td>\n      <td>0</td>\n      <td>0</td>\n      <td>...</td>\n      <td>0</td>\n      <td>0</td>\n      <td>0</td>\n      <td>0</td>\n      <td>0</td>\n      <td>0</td>\n      <td>0</td>\n      <td>0</td>\n      <td>0</td>\n      <td>0</td>\n    </tr>\n    <tr>\n      <th>3</th>\n      <td>1</td>\n      <td>1</td>\n      <td>0</td>\n      <td>0</td>\n      <td>0</td>\n      <td>0</td>\n      <td>0</td>\n      <td>0</td>\n      <td>1</td>\n      <td>0</td>\n      <td>...</td>\n      <td>0</td>\n      <td>0</td>\n      <td>0</td>\n      <td>0</td>\n      <td>0</td>\n      <td>0</td>\n      <td>0</td>\n      <td>0</td>\n      <td>0</td>\n      <td>0</td>\n    </tr>\n    <tr>\n      <th>4</th>\n      <td>0</td>\n      <td>0</td>\n      <td>0</td>\n      <td>0</td>\n      <td>0</td>\n      <td>0</td>\n      <td>0</td>\n      <td>0</td>\n      <td>0</td>\n      <td>1</td>\n      <td>...</td>\n      <td>0</td>\n      <td>0</td>\n      <td>0</td>\n      <td>0</td>\n      <td>0</td>\n      <td>0</td>\n      <td>0</td>\n      <td>0</td>\n      <td>0</td>\n      <td>0</td>\n    </tr>\n  </tbody>\n</table>\n<p>5 rows × 24 columns</p>\n</div>"
     },
     "execution_count": 45,
     "metadata": {},
     "output_type": "execute_result"
    }
   ],
   "source": [
    "steam_games_df[genres].head()"
   ]
  },
  {
   "cell_type": "markdown",
   "metadata": {
    "id": "KbLKdnyQT2y-"
   },
   "source": [
    "Para codificar los tags usaremos otro algoritmo para mejorar el rendimiento ya que son muchos tags"
   ]
  },
  {
   "cell_type": "code",
   "execution_count": 46,
   "metadata": {
    "colab": {
     "base_uri": "https://localhost:8080/",
     "height": 270
    },
    "id": "ow02MogqSySj",
    "outputId": "0b2e49f4-1383-41da-8f7d-f283b024800c",
    "ExecuteTime": {
     "end_time": "2024-06-08T20:40:23.279781Z",
     "start_time": "2024-06-08T20:40:20.595382Z"
    }
   },
   "outputs": [
    {
     "data": {
      "text/plain": "   Action  Casual  Indie  Simulation  Strategy  Free to Play  RPG  Sports  \\\n0       1       1      1           1         1             0    0       0   \n1       0       0      1           0         1             1    1       0   \n2       0       1      1           1         0             1    0       1   \n3       1       1      0           0         0             0    0       0   \n4       0       0      0           0         0             0    0       0   \n\n   Adventure  [  ...  Foreign  Feature Film  Hardware  Steam Machine  \\\n0          0  0  ...        0             0         0              0   \n1          0  0  ...        0             0         0              0   \n2          0  0  ...        0             0         0              0   \n3          1  0  ...        0             0         0              0   \n4          0  1  ...        0             0         0              0   \n\n   Philisophical  Mystery Dungeon  Wrestling  360 Video  Faith  Bikes  \n0              0                0          0          0      0      0  \n1              0                0          0          0      0      0  \n2              0                0          0          0      0      0  \n3              0                0          0          0      0      0  \n4              0                0          0          0      0      0  \n\n[5 rows x 365 columns]",
      "text/html": "<div>\n<style scoped>\n    .dataframe tbody tr th:only-of-type {\n        vertical-align: middle;\n    }\n\n    .dataframe tbody tr th {\n        vertical-align: top;\n    }\n\n    .dataframe thead th {\n        text-align: right;\n    }\n</style>\n<table border=\"1\" class=\"dataframe\">\n  <thead>\n    <tr style=\"text-align: right;\">\n      <th></th>\n      <th>Action</th>\n      <th>Casual</th>\n      <th>Indie</th>\n      <th>Simulation</th>\n      <th>Strategy</th>\n      <th>Free to Play</th>\n      <th>RPG</th>\n      <th>Sports</th>\n      <th>Adventure</th>\n      <th>[</th>\n      <th>...</th>\n      <th>Foreign</th>\n      <th>Feature Film</th>\n      <th>Hardware</th>\n      <th>Steam Machine</th>\n      <th>Philisophical</th>\n      <th>Mystery Dungeon</th>\n      <th>Wrestling</th>\n      <th>360 Video</th>\n      <th>Faith</th>\n      <th>Bikes</th>\n    </tr>\n  </thead>\n  <tbody>\n    <tr>\n      <th>0</th>\n      <td>1</td>\n      <td>1</td>\n      <td>1</td>\n      <td>1</td>\n      <td>1</td>\n      <td>0</td>\n      <td>0</td>\n      <td>0</td>\n      <td>0</td>\n      <td>0</td>\n      <td>...</td>\n      <td>0</td>\n      <td>0</td>\n      <td>0</td>\n      <td>0</td>\n      <td>0</td>\n      <td>0</td>\n      <td>0</td>\n      <td>0</td>\n      <td>0</td>\n      <td>0</td>\n    </tr>\n    <tr>\n      <th>1</th>\n      <td>0</td>\n      <td>0</td>\n      <td>1</td>\n      <td>0</td>\n      <td>1</td>\n      <td>1</td>\n      <td>1</td>\n      <td>0</td>\n      <td>0</td>\n      <td>0</td>\n      <td>...</td>\n      <td>0</td>\n      <td>0</td>\n      <td>0</td>\n      <td>0</td>\n      <td>0</td>\n      <td>0</td>\n      <td>0</td>\n      <td>0</td>\n      <td>0</td>\n      <td>0</td>\n    </tr>\n    <tr>\n      <th>2</th>\n      <td>0</td>\n      <td>1</td>\n      <td>1</td>\n      <td>1</td>\n      <td>0</td>\n      <td>1</td>\n      <td>0</td>\n      <td>1</td>\n      <td>0</td>\n      <td>0</td>\n      <td>...</td>\n      <td>0</td>\n      <td>0</td>\n      <td>0</td>\n      <td>0</td>\n      <td>0</td>\n      <td>0</td>\n      <td>0</td>\n      <td>0</td>\n      <td>0</td>\n      <td>0</td>\n    </tr>\n    <tr>\n      <th>3</th>\n      <td>1</td>\n      <td>1</td>\n      <td>0</td>\n      <td>0</td>\n      <td>0</td>\n      <td>0</td>\n      <td>0</td>\n      <td>0</td>\n      <td>1</td>\n      <td>0</td>\n      <td>...</td>\n      <td>0</td>\n      <td>0</td>\n      <td>0</td>\n      <td>0</td>\n      <td>0</td>\n      <td>0</td>\n      <td>0</td>\n      <td>0</td>\n      <td>0</td>\n      <td>0</td>\n    </tr>\n    <tr>\n      <th>4</th>\n      <td>0</td>\n      <td>0</td>\n      <td>0</td>\n      <td>0</td>\n      <td>0</td>\n      <td>0</td>\n      <td>0</td>\n      <td>0</td>\n      <td>0</td>\n      <td>1</td>\n      <td>...</td>\n      <td>0</td>\n      <td>0</td>\n      <td>0</td>\n      <td>0</td>\n      <td>0</td>\n      <td>0</td>\n      <td>0</td>\n      <td>0</td>\n      <td>0</td>\n      <td>0</td>\n    </tr>\n  </tbody>\n</table>\n<p>5 rows × 365 columns</p>\n</div>"
     },
     "execution_count": 46,
     "metadata": {},
     "output_type": "execute_result"
    }
   ],
   "source": [
    "tags = list(contador_tags.keys())\n",
    "\n",
    "tags_matrix = {tag: steam_games_df['tags'].apply(lambda x: int(tag in x)) for tag in contador_tags.keys()}\n",
    "tags_df = pd.DataFrame(tags_matrix)\n",
    "steam_features = pd.concat([steam_games_df[genres], tags_df], axis=1)\n",
    "\n",
    "steam_features.head()"
   ]
  },
  {
   "cell_type": "markdown",
   "metadata": {
    "id": "wxqUX0GzUwIA"
   },
   "source": [
    "## Algoritmo de recomendación Similaridad de Coseno"
   ]
  },
  {
   "cell_type": "markdown",
   "metadata": {
    "id": "7i__AxlnU3AG"
   },
   "source": [
    "Para construir este sistema de recomendacion item-item utilizaremos una metrica llamada similitud coseno `cosine similarity`.\n",
    "\n",
    "La similitud Coseno se basa en el coseno del angulo entre dos vectores (c.e., $A$ y $B$). Entre mas pequeño es el angulo, mayor es la similitud entre los vectores, y se calcula de la siguiente forma:\n",
    "\n",
    "$$\\cos(\\theta) = \\frac{A\\cdot B}{||A|| ||B||}$$\n",
    "\n",
    "En este ejercicio, utilizaremos la funcion de scikit-learn de `cosine_similarity` para generar la matriz de similitud de tipo $(n_{\\text{juego}}, n_{\\text{juego}})$. Esta matriz nos permitira extraer juegos que sean parecidos al videojuego de interes."
   ]
  },
  {
   "cell_type": "code",
   "execution_count": 47,
   "metadata": {
    "colab": {
     "base_uri": "https://localhost:8080/"
    },
    "id": "L5FsBBnnUvpS",
    "outputId": "fa7ad2a7-ae2e-489a-d8d3-72ce7246f113",
    "ExecuteTime": {
     "end_time": "2024-06-08T20:40:26.279191Z",
     "start_time": "2024-06-08T20:40:23.279453Z"
    }
   },
   "outputs": [
    {
     "name": "stdout",
     "output_type": "stream",
     "text": [
      "Las dimensiones de similaridad coseno de las caracteristicas de nuestra matriz de similitud son: (32133, 32133)\n"
     ]
    }
   ],
   "source": [
    "from sklearn.metrics.pairwise import cosine_similarity\n",
    "start_time_cosine_sim = time.time()\n",
    "cosine_sim = cosine_similarity(steam_features, steam_features)\n",
    "end_time_cosine_sim = time.time()\n",
    "print(f\"Las dimensiones de similaridad coseno de las caracteristicas de nuestra matriz de similitud son: {cosine_sim.shape}\")"
   ]
  },
  {
   "cell_type": "markdown",
   "metadata": {
    "id": "FY3FGuYqY9SJ"
   },
   "source": [
    "Ahora generamos un método que devuelva las recomendaciones para un usuario específico"
   ]
  },
  {
   "cell_type": "code",
   "execution_count": 48,
   "metadata": {
    "id": "zWXzdNznZOiz",
    "ExecuteTime": {
     "end_time": "2024-06-08T20:40:26.292796Z",
     "start_time": "2024-06-08T20:40:26.276214Z"
    }
   },
   "outputs": [],
   "source": [
    "game_idx = dict(zip(steam_games_df['id'], list(steam_games_df.index)))\n"
   ]
  },
  {
   "cell_type": "code",
   "execution_count": 49,
   "metadata": {
    "id": "gTfeD8mQZsSt",
    "ExecuteTime": {
     "end_time": "2024-06-08T20:40:26.294269Z",
     "start_time": "2024-06-08T20:40:26.289367Z"
    }
   },
   "outputs": [],
   "source": [
    "def encuentra_juego(game_id):\n",
    "    title = steam_games_df[steam_games_df['id'] == game_id]['title'].iloc[0]\n",
    "    return title"
   ]
  },
  {
   "cell_type": "code",
   "execution_count": 50,
   "metadata": {
    "id": "uDhWU9HlZBI3",
    "ExecuteTime": {
     "end_time": "2024-06-08T20:40:26.330995Z",
     "start_time": "2024-06-08T20:40:26.297502Z"
    }
   },
   "outputs": [],
   "source": [
    "def obtener_recomendaciones_basadas_contenido(game_id, numero_recomendaciones=10):\n",
    "    title = encuentra_juego(game_id)\n",
    "    idx = game_idx[game_id]\n",
    "    sim_scores = list(enumerate(cosine_sim[idx]))\n",
    "    sim_scores = sorted(sim_scores, key=lambda x: x[1], reverse=True)\n",
    "    sim_scores = sim_scores[1:(numero_recomendaciones+1)]\n",
    "    similar_games = [i[0] for i in sim_scores]\n",
    "    print(f\"Porque te gustó {title} te pueden gustar:\")\n",
    "    print(steam_games_df['title'].iloc[similar_games])"
   ]
  },
  {
   "cell_type": "markdown",
   "metadata": {
    "id": "SePN8Q5HbGPS"
   },
   "source": []
  },
  {
   "cell_type": "markdown",
   "source": [
    "## 5 Algoritmo de recomendación SVD basico"
   ],
   "metadata": {
    "collapsed": false
   }
  },
  {
   "cell_type": "markdown",
   "source": [
    "Repitiendo pasos de avance 1"
   ],
   "metadata": {
    "collapsed": false
   }
  },
  {
   "cell_type": "code",
   "execution_count": 51,
   "outputs": [],
   "source": [
    "reviews_svd_df = reviews_df[['user_id', 'review', 'recommend','item_id']]"
   ],
   "metadata": {
    "collapsed": false,
    "ExecuteTime": {
     "end_time": "2024-06-08T20:40:26.346426Z",
     "start_time": "2024-06-08T20:40:26.305093Z"
    }
   }
  },
  {
   "cell_type": "code",
   "execution_count": 52,
   "outputs": [
    {
     "name": "stdout",
     "output_type": "stream",
     "text": [
      "(juego, usuarios) = (3195, 24380)\n"
     ]
    },
    {
     "data": {
      "text/plain": "user_id  --000--  --ace--  --ionex--  -2SV-vuLB-Kg  -Azsael-  -Beave-  \\\nitem_id                                                                 \n10           0.0      0.0        0.0           0.0       0.0      0.0   \n20           0.0      0.0        0.0           0.0       0.0      0.0   \n30           0.0      0.0        0.0           0.0       0.0      0.0   \n40           0.0      0.0        0.0           0.0       0.0      0.0   \n50           0.0      0.0        0.0           0.0       0.0      0.0   \n\nuser_id  -I_AM_EPIC-  -Kenny  -Mad-  -PRoSlayeR-  ...  zuilde  zukuta  zunbae  \\\nitem_id                                           ...                           \n10               0.0     0.0    0.0          0.0  ...     0.0     0.0     0.0   \n20               0.0     0.0    0.0          0.0  ...     0.0     0.0     0.0   \n30               0.0     0.0    0.0          0.0  ...     0.0     0.0     0.0   \n40               0.0     0.0    0.0          0.0  ...     0.0     0.0     0.0   \n50               0.0     0.0    0.0          0.0  ...     0.0     0.0     0.0   \n\nuser_id  zuzuga2003  zv_odd  zvanik  zwanzigdrei  zy0705  zynxgameth  zyr0n1c  \nitem_id                                                                        \n10              0.0     0.0     0.0          0.0     0.0         0.0      0.0  \n20              0.0     0.0     0.0          0.0     0.0         0.0      0.0  \n30              0.0     0.0     0.0          0.0     0.0         0.0      0.0  \n40              0.0     0.0     0.0          0.0     0.0         0.0      0.0  \n50              0.0     0.0     0.0          0.0     0.0         0.0      0.0  \n\n[5 rows x 24380 columns]",
      "text/html": "<div>\n<style scoped>\n    .dataframe tbody tr th:only-of-type {\n        vertical-align: middle;\n    }\n\n    .dataframe tbody tr th {\n        vertical-align: top;\n    }\n\n    .dataframe thead th {\n        text-align: right;\n    }\n</style>\n<table border=\"1\" class=\"dataframe\">\n  <thead>\n    <tr style=\"text-align: right;\">\n      <th>user_id</th>\n      <th>--000--</th>\n      <th>--ace--</th>\n      <th>--ionex--</th>\n      <th>-2SV-vuLB-Kg</th>\n      <th>-Azsael-</th>\n      <th>-Beave-</th>\n      <th>-I_AM_EPIC-</th>\n      <th>-Kenny</th>\n      <th>-Mad-</th>\n      <th>-PRoSlayeR-</th>\n      <th>...</th>\n      <th>zuilde</th>\n      <th>zukuta</th>\n      <th>zunbae</th>\n      <th>zuzuga2003</th>\n      <th>zv_odd</th>\n      <th>zvanik</th>\n      <th>zwanzigdrei</th>\n      <th>zy0705</th>\n      <th>zynxgameth</th>\n      <th>zyr0n1c</th>\n    </tr>\n    <tr>\n      <th>item_id</th>\n      <th></th>\n      <th></th>\n      <th></th>\n      <th></th>\n      <th></th>\n      <th></th>\n      <th></th>\n      <th></th>\n      <th></th>\n      <th></th>\n      <th></th>\n      <th></th>\n      <th></th>\n      <th></th>\n      <th></th>\n      <th></th>\n      <th></th>\n      <th></th>\n      <th></th>\n      <th></th>\n      <th></th>\n    </tr>\n  </thead>\n  <tbody>\n    <tr>\n      <th>10</th>\n      <td>0.0</td>\n      <td>0.0</td>\n      <td>0.0</td>\n      <td>0.0</td>\n      <td>0.0</td>\n      <td>0.0</td>\n      <td>0.0</td>\n      <td>0.0</td>\n      <td>0.0</td>\n      <td>0.0</td>\n      <td>...</td>\n      <td>0.0</td>\n      <td>0.0</td>\n      <td>0.0</td>\n      <td>0.0</td>\n      <td>0.0</td>\n      <td>0.0</td>\n      <td>0.0</td>\n      <td>0.0</td>\n      <td>0.0</td>\n      <td>0.0</td>\n    </tr>\n    <tr>\n      <th>20</th>\n      <td>0.0</td>\n      <td>0.0</td>\n      <td>0.0</td>\n      <td>0.0</td>\n      <td>0.0</td>\n      <td>0.0</td>\n      <td>0.0</td>\n      <td>0.0</td>\n      <td>0.0</td>\n      <td>0.0</td>\n      <td>...</td>\n      <td>0.0</td>\n      <td>0.0</td>\n      <td>0.0</td>\n      <td>0.0</td>\n      <td>0.0</td>\n      <td>0.0</td>\n      <td>0.0</td>\n      <td>0.0</td>\n      <td>0.0</td>\n      <td>0.0</td>\n    </tr>\n    <tr>\n      <th>30</th>\n      <td>0.0</td>\n      <td>0.0</td>\n      <td>0.0</td>\n      <td>0.0</td>\n      <td>0.0</td>\n      <td>0.0</td>\n      <td>0.0</td>\n      <td>0.0</td>\n      <td>0.0</td>\n      <td>0.0</td>\n      <td>...</td>\n      <td>0.0</td>\n      <td>0.0</td>\n      <td>0.0</td>\n      <td>0.0</td>\n      <td>0.0</td>\n      <td>0.0</td>\n      <td>0.0</td>\n      <td>0.0</td>\n      <td>0.0</td>\n      <td>0.0</td>\n    </tr>\n    <tr>\n      <th>40</th>\n      <td>0.0</td>\n      <td>0.0</td>\n      <td>0.0</td>\n      <td>0.0</td>\n      <td>0.0</td>\n      <td>0.0</td>\n      <td>0.0</td>\n      <td>0.0</td>\n      <td>0.0</td>\n      <td>0.0</td>\n      <td>...</td>\n      <td>0.0</td>\n      <td>0.0</td>\n      <td>0.0</td>\n      <td>0.0</td>\n      <td>0.0</td>\n      <td>0.0</td>\n      <td>0.0</td>\n      <td>0.0</td>\n      <td>0.0</td>\n      <td>0.0</td>\n    </tr>\n    <tr>\n      <th>50</th>\n      <td>0.0</td>\n      <td>0.0</td>\n      <td>0.0</td>\n      <td>0.0</td>\n      <td>0.0</td>\n      <td>0.0</td>\n      <td>0.0</td>\n      <td>0.0</td>\n      <td>0.0</td>\n      <td>0.0</td>\n      <td>...</td>\n      <td>0.0</td>\n      <td>0.0</td>\n      <td>0.0</td>\n      <td>0.0</td>\n      <td>0.0</td>\n      <td>0.0</td>\n      <td>0.0</td>\n      <td>0.0</td>\n      <td>0.0</td>\n      <td>0.0</td>\n    </tr>\n  </tbody>\n</table>\n<p>5 rows × 24380 columns</p>\n</div>"
     },
     "execution_count": 52,
     "metadata": {},
     "output_type": "execute_result"
    }
   ],
   "source": [
    "start_time_svd_basic = time.time()\n",
    "UtAus_review = reviews_svd_df.pivot_table(values='recommend', index='item_id', columns='user_id', fill_value=0).astype(float)\n",
    "print('(juego, usuarios) =', (UtAus_review.shape))\n",
    "UtAus_review.head()"
   ],
   "metadata": {
    "collapsed": false,
    "ExecuteTime": {
     "end_time": "2024-06-08T20:40:29.060237Z",
     "start_time": "2024-06-08T20:40:26.311754Z"
    }
   }
  },
  {
   "cell_type": "code",
   "execution_count": 53,
   "outputs": [],
   "source": [
    "sparse_matrix_svd = csr_matrix(UtAus_review.values)\n",
    "\n",
    "U, sigma, VT = svds(sparse_matrix_svd, k=450)  \n",
    "\n",
    "sigma = np.diag(sigma)\n",
    "\n",
    "# Compute the dot product to get the approximated original matrix\n",
    "predicted_ratings = np.dot(np.dot(U, sigma), VT)\n",
    "\n",
    "# Converting the reconstructed matrix back to a DataFrame\n",
    "predicted_ratings_df = pd.DataFrame(predicted_ratings, index=UtAus_review.index, columns=UtAus_review.columns)"
   ],
   "metadata": {
    "collapsed": false,
    "ExecuteTime": {
     "end_time": "2024-06-08T20:40:34.310460Z",
     "start_time": "2024-06-08T20:40:29.059329Z"
    }
   }
  },
  {
   "cell_type": "code",
   "execution_count": 54,
   "outputs": [
    {
     "name": "stdout",
     "output_type": "stream",
     "text": [
      "RMSE: 0.3505428989509815\n"
     ]
    }
   ],
   "source": [
    "actual_ratings = UtAus_review.values.flatten()\n",
    "predicted_ratings = predicted_ratings_df.values.flatten()\n",
    "\n",
    "# Only consider non-zero elements\n",
    "mask = actual_ratings > 0\n",
    "actual_ratings = actual_ratings[mask]\n",
    "predicted_ratings = predicted_ratings[mask]\n",
    "end_time_svd_basic = time.time()\n",
    "\n",
    "# Calculate RMSE\n",
    "rmse = sqrt(mean_squared_error(actual_ratings, predicted_ratings))\n",
    "print(\"RMSE:\", rmse)"
   ],
   "metadata": {
    "collapsed": false,
    "ExecuteTime": {
     "end_time": "2024-06-08T20:40:34.723324Z",
     "start_time": "2024-06-08T20:40:34.313551Z"
    }
   }
  },
  {
   "cell_type": "code",
   "execution_count": 55,
   "outputs": [],
   "source": [
    "def recommend_items_svd(user_id, original_matrix, predictions_df, num_recommendations=5):\n",
    "    user_col_number = original_matrix.columns.get_loc(user_id)    \n",
    "    sorted_user_predictions = predictions_df.iloc[:, user_col_number].sort_values(ascending=False)\n",
    "    #print(sorted_user_predictions)\n",
    "    user_data = original_matrix[user_id]\n",
    "    #print(user_data[user_data != 0].index)\n",
    "    return sorted_user_predictions.drop(user_data[user_data != 0].index).head(num_recommendations)\n",
    "    # return recommendations.head(num_recommendations)"
   ],
   "metadata": {
    "collapsed": false,
    "ExecuteTime": {
     "end_time": "2024-06-08T20:40:34.725080Z",
     "start_time": "2024-06-08T20:40:34.723685Z"
    }
   }
  },
  {
   "cell_type": "markdown",
   "source": [
    "## 6 Recomendaciones SVD"
   ],
   "metadata": {
    "collapsed": false
   }
  },
  {
   "cell_type": "code",
   "execution_count": 56,
   "outputs": [
    {
     "data": {
      "text/plain": "   item_id  predicted_rating                 publisher  \\\n0   200170          0.044101        Team17 Digital Ltd   \n1    17510          0.043667                             \n2   413410          0.041808  Spike Chunsoft Co., Ltd.   \n3   349480          0.038164          Steam Greenlight   \n4   102700          0.036182    En Masse Entertainment   \n\n                        genres                          app_name  \\\n0                   [Strategy]                  Worms Revolution   \n1                      [Indie]                   Age of Chivalry   \n2                  [Adventure]  Danganronpa: Trigger Happy Havoc   \n3  [Action, Free to Play, RPG]                    Modular Combat   \n4       [Action, Free to Play]  A.V.A. Alliance of Valiant Arms™   \n\n                              title  \\\n0                  Worms Revolution   \n1                   Age of Chivalry   \n2  Danganronpa: Trigger Happy Havoc   \n3                    Modular Combat   \n4  A.V.A. Alliance of Valiant Arms™   \n\n                                                 url release_date  \\\n0  http://store.steampowered.com/app/200170/Worms...   2012-10-10   \n1  http://store.steampowered.com/app/17510/Age_of...   2007-12-01   \n2  http://store.steampowered.com/app/413410/Danga...   2016-02-18   \n3  http://store.steampowered.com/app/349480/Modul...   2008-01-18   \n4  http://store.steampowered.com/app/102700/AVA_A...   2011-06-14   \n\n                                                tags  discount_price  ...  \\\n0  [Strategy, Multiplayer, Funny, Turn-Based Stra...             NaN  ...   \n1  [Indie, Free to Play, Medieval, Mod, Action, M...             NaN  ...   \n2  [Anime, Mystery, Visual Novel, Detective, Stor...             NaN  ...   \n3  [Free to Play, Multiplayer, Action, Mod, FPS, ...             NaN  ...   \n4  [Free to Play, FPS, Action, Multiplayer, Shoot...             NaN  ...   \n\n  Animation &amp; Modeling Video Production Utilities  Web Publishing  \\\n0                        0                0         0               0   \n1                        0                0         0               0   \n2                        0                0         0               0   \n3                        0                0         0               0   \n4                        0                0         0               0   \n\n   Education Software Training Design &amp; Illustration  Audio Production  \\\n0          0                 0                         0                 0   \n1          0                 0                         0                 0   \n2          0                 0                         0                 0   \n3          0                 0                         0                 0   \n4          0                 0                         0                 0   \n\n   Photo Editing  Accounting  \n0              0           0  \n1              0           0  \n2              0           0  \n3              0           0  \n4              0           0  \n\n[5 rows x 41 columns]",
      "text/html": "<div>\n<style scoped>\n    .dataframe tbody tr th:only-of-type {\n        vertical-align: middle;\n    }\n\n    .dataframe tbody tr th {\n        vertical-align: top;\n    }\n\n    .dataframe thead th {\n        text-align: right;\n    }\n</style>\n<table border=\"1\" class=\"dataframe\">\n  <thead>\n    <tr style=\"text-align: right;\">\n      <th></th>\n      <th>item_id</th>\n      <th>predicted_rating</th>\n      <th>publisher</th>\n      <th>genres</th>\n      <th>app_name</th>\n      <th>title</th>\n      <th>url</th>\n      <th>release_date</th>\n      <th>tags</th>\n      <th>discount_price</th>\n      <th>...</th>\n      <th>Animation &amp;amp; Modeling</th>\n      <th>Video Production</th>\n      <th>Utilities</th>\n      <th>Web Publishing</th>\n      <th>Education</th>\n      <th>Software Training</th>\n      <th>Design &amp;amp; Illustration</th>\n      <th>Audio Production</th>\n      <th>Photo Editing</th>\n      <th>Accounting</th>\n    </tr>\n  </thead>\n  <tbody>\n    <tr>\n      <th>0</th>\n      <td>200170</td>\n      <td>0.044101</td>\n      <td>Team17 Digital Ltd</td>\n      <td>[Strategy]</td>\n      <td>Worms Revolution</td>\n      <td>Worms Revolution</td>\n      <td>http://store.steampowered.com/app/200170/Worms...</td>\n      <td>2012-10-10</td>\n      <td>[Strategy, Multiplayer, Funny, Turn-Based Stra...</td>\n      <td>NaN</td>\n      <td>...</td>\n      <td>0</td>\n      <td>0</td>\n      <td>0</td>\n      <td>0</td>\n      <td>0</td>\n      <td>0</td>\n      <td>0</td>\n      <td>0</td>\n      <td>0</td>\n      <td>0</td>\n    </tr>\n    <tr>\n      <th>1</th>\n      <td>17510</td>\n      <td>0.043667</td>\n      <td></td>\n      <td>[Indie]</td>\n      <td>Age of Chivalry</td>\n      <td>Age of Chivalry</td>\n      <td>http://store.steampowered.com/app/17510/Age_of...</td>\n      <td>2007-12-01</td>\n      <td>[Indie, Free to Play, Medieval, Mod, Action, M...</td>\n      <td>NaN</td>\n      <td>...</td>\n      <td>0</td>\n      <td>0</td>\n      <td>0</td>\n      <td>0</td>\n      <td>0</td>\n      <td>0</td>\n      <td>0</td>\n      <td>0</td>\n      <td>0</td>\n      <td>0</td>\n    </tr>\n    <tr>\n      <th>2</th>\n      <td>413410</td>\n      <td>0.041808</td>\n      <td>Spike Chunsoft Co., Ltd.</td>\n      <td>[Adventure]</td>\n      <td>Danganronpa: Trigger Happy Havoc</td>\n      <td>Danganronpa: Trigger Happy Havoc</td>\n      <td>http://store.steampowered.com/app/413410/Danga...</td>\n      <td>2016-02-18</td>\n      <td>[Anime, Mystery, Visual Novel, Detective, Stor...</td>\n      <td>NaN</td>\n      <td>...</td>\n      <td>0</td>\n      <td>0</td>\n      <td>0</td>\n      <td>0</td>\n      <td>0</td>\n      <td>0</td>\n      <td>0</td>\n      <td>0</td>\n      <td>0</td>\n      <td>0</td>\n    </tr>\n    <tr>\n      <th>3</th>\n      <td>349480</td>\n      <td>0.038164</td>\n      <td>Steam Greenlight</td>\n      <td>[Action, Free to Play, RPG]</td>\n      <td>Modular Combat</td>\n      <td>Modular Combat</td>\n      <td>http://store.steampowered.com/app/349480/Modul...</td>\n      <td>2008-01-18</td>\n      <td>[Free to Play, Multiplayer, Action, Mod, FPS, ...</td>\n      <td>NaN</td>\n      <td>...</td>\n      <td>0</td>\n      <td>0</td>\n      <td>0</td>\n      <td>0</td>\n      <td>0</td>\n      <td>0</td>\n      <td>0</td>\n      <td>0</td>\n      <td>0</td>\n      <td>0</td>\n    </tr>\n    <tr>\n      <th>4</th>\n      <td>102700</td>\n      <td>0.036182</td>\n      <td>En Masse Entertainment</td>\n      <td>[Action, Free to Play]</td>\n      <td>A.V.A. Alliance of Valiant Arms™</td>\n      <td>A.V.A. Alliance of Valiant Arms™</td>\n      <td>http://store.steampowered.com/app/102700/AVA_A...</td>\n      <td>2011-06-14</td>\n      <td>[Free to Play, FPS, Action, Multiplayer, Shoot...</td>\n      <td>NaN</td>\n      <td>...</td>\n      <td>0</td>\n      <td>0</td>\n      <td>0</td>\n      <td>0</td>\n      <td>0</td>\n      <td>0</td>\n      <td>0</td>\n      <td>0</td>\n      <td>0</td>\n      <td>0</td>\n    </tr>\n  </tbody>\n</table>\n<p>5 rows × 41 columns</p>\n</div>"
     },
     "execution_count": 56,
     "metadata": {},
     "output_type": "execute_result"
    }
   ],
   "source": [
    "user_id = 'LydiaMorley' \n",
    "recommendations = recommend_items_svd(user_id, UtAus_review, predicted_ratings_df)\n",
    "\n",
    "recommendations_df = pd.DataFrame(recommendations).reset_index()\n",
    "recommendations_df.columns = ['item_id', 'predicted_rating']\n",
    "merged_df = recommendations_df.merge(steam_games_df, left_on='item_id', right_on='id', how='left')\n",
    "merged_df"
   ],
   "metadata": {
    "collapsed": false,
    "ExecuteTime": {
     "end_time": "2024-06-08T20:40:34.736510Z",
     "start_time": "2024-06-08T20:40:34.725950Z"
    }
   }
  },
  {
   "cell_type": "markdown",
   "metadata": {
    "collapsed": false
   },
   "source": [
    "## 5 Recomendaciones Cosine"
   ]
  },
  {
   "cell_type": "code",
   "execution_count": 57,
   "metadata": {
    "colab": {
     "base_uri": "https://localhost:8080/"
    },
    "id": "E86ODsyzbQAx",
    "outputId": "755357af-4f28-4e2a-87b8-ad36719e8a76",
    "ExecuteTime": {
     "end_time": "2024-06-08T20:40:34.802969Z",
     "start_time": "2024-06-08T20:40:34.736096Z"
    }
   },
   "outputs": [
    {
     "name": "stdout",
     "output_type": "stream",
     "text": [
      "\n",
      "Recomendaciones para el usuario: 76561197970982479\n",
      "Porque te gustó Killing Floor te pueden gustar:\n",
      "7987                                       Killing Floor 2\n",
      "31527                                        Left 4 Dead 2\n",
      "31753                           Call of Duty: World at War\n",
      "31752                                          Left 4 Dead\n",
      "1380     Resident Evil Revelations / Biohazard Revelations\n",
      "Name: title, dtype: object\n",
      "\n",
      "Recomendaciones para el usuario: 76561197970982479\n",
      "Porque te gustó Zeno Clash te pueden gustar:\n",
      "30194    Zeno Clash 2\n",
      "25058      Orc Slayer\n",
      "26728         Despair\n",
      "6581          WARZONE\n",
      "1850       CONSORTIUM\n",
      "Name: title, dtype: object\n",
      "\n",
      "Recomendaciones para el usuario: js41637\n",
      "Porque te gustó Euro Truck Simulator 2 te pueden gustar:\n",
      "30303                    Euro Truck Simulator\n",
      "24194                American Truck Simulator\n",
      "26714    Euro Truck Simulator 2 - Scandinavia\n",
      "14744                               Real Farm\n",
      "5844                                   Jalopy\n",
      "Name: title, dtype: object\n",
      "\n",
      "Recomendaciones para el usuario: js41637\n",
      "Porque te gustó Papers, Please te pueden gustar:\n",
      "15188                                 HEADLINER\n",
      "7891                                   Beholder\n",
      "5660                                 Samorost 3\n",
      "31020    Superbrothers: Sword &amp; Sworcery EP\n",
      "20129                                   OneShot\n",
      "Name: title, dtype: object\n",
      "\n",
      "Recomendaciones para el usuario: evcentric\n",
      "Porque te gustó Risk of Rain te pueden gustar:\n",
      "2279                 Magicite\n",
      "22720              Roguelands\n",
      "16291                    20XX\n",
      "6752     Death Road to Canada\n",
      "30060                Spelunky\n",
      "Name: title, dtype: object\n"
     ]
    }
   ],
   "source": [
    "for index,row in reviews_df.head().iterrows():\n",
    "  print(f'\\nRecomendaciones para el usuario: {row[\"user_id\"]}')\n",
    "  obtener_recomendaciones_basadas_contenido(row['item_id'],5)"
   ]
  },
  {
   "cell_type": "markdown",
   "source": [],
   "metadata": {
    "collapsed": false
   }
  },
  {
   "cell_type": "markdown",
   "metadata": {
    "collapsed": false
   },
   "source": [
    "## Metricas"
   ]
  },
  {
   "cell_type": "code",
   "execution_count": 58,
   "metadata": {
    "collapsed": false,
    "ExecuteTime": {
     "end_time": "2024-06-08T20:40:34.803114Z",
     "start_time": "2024-06-08T20:40:34.782518Z"
    }
   },
   "outputs": [],
   "source": [
    "def get_recom_content_eval(game_id, recom=5):\n",
    "    #title = encuentra_juego(game_id)\n",
    "    idx = game_idx[game_id]\n",
    "    sim_scores = cosine_sim[idx]\n",
    "    recom_eval = pd.DataFrame({'index': steam_games_df.index,'similarity': sim_scores})\n",
    "    #similarity_df = pd.DataFrame(list(enumerate(cosine_sim[idx])), columns=['index', 'similarity'])\n",
    "    \n",
    "    recom_eval = recom_eval.nlargest(recom,'similarity')\n",
    "    recom_eval['game_id'] = recom_eval['index'].map(steam_games_df['id'])\n",
    "\n",
    "    return recom_eval\n",
    "\n",
    "\n",
    "def get_recom_content_user(game_id, numero_recom=5):\n",
    "    full_recom_df = get_recom_content_eval(game_id, numero_recom + 1)\n",
    "    if game_id in full_recom_df['game_id'].values:\n",
    "        full_recom_df = full_recom_df[full_recom_df['game_id'] != game_id]\n",
    "    \n",
    "    return full_recom_df.head(numero_recom)\n"
   ]
  },
  {
   "cell_type": "code",
   "execution_count": 59,
   "metadata": {
    "collapsed": false,
    "ExecuteTime": {
     "end_time": "2024-06-08T20:40:34.803197Z",
     "start_time": "2024-06-08T20:40:34.786Z"
    }
   },
   "outputs": [],
   "source": [
    "def gen_recom_ground_truth(numero_recom):\n",
    "    recommendations = {}\n",
    "    ground_truth = {}\n",
    "\n",
    "    for user_id in reviews_df['user_id'].unique():\n",
    "        user_reviews = reviews_df[reviews_df['user_id'] == user_id]\n",
    "        ground_truth[user_id] = user_reviews[user_reviews['recommend'] == True]['item_id'].tolist()\n",
    "\n",
    "        user_recommendations = set()\n",
    "        for game_id in user_reviews['item_id']:\n",
    "            recommendations_for_game = get_recom_content_eval(game_id, numero_recom)\n",
    "            if not recommendations_for_game.empty:\n",
    "                user_recommendations.update(recommendations_for_game['game_id'].tolist())\n",
    "\n",
    "        recommendations[user_id] = list(user_recommendations)[:numero_recom]\n",
    "\n",
    "    return recommendations, ground_truth\n",
    "\n",
    "def gen_recom_ground_truth_svd(numero_recom):\n",
    "    recommendations = {}\n",
    "    ground_truth = {}\n",
    "\n",
    "    for user_id in reviews_df['user_id'].unique():\n",
    "        user_reviews = reviews_df[reviews_df['user_id'] == user_id]\n",
    "        ground_truth[user_id] = user_reviews[user_reviews['recommend'] == True]['item_id'].tolist()\n",
    "\n",
    "        # Obtener recomendaciones para el usuario usando SVD\n",
    "        recommended_items = recommend_items_svd(user_id, UtAus_review, predicted_ratings_df, num_recommendations=numero_recom)\n",
    "\n",
    "        # Convertir las puntuaciones predichas a solo IDs de juegos\n",
    "        user_recommendations = list(recommended_items.index)\n",
    "\n",
    "        recommendations[user_id] = user_recommendations[:numero_recom]\n",
    "\n",
    "    return recommendations, ground_truth\n"
   ]
  },
  {
   "cell_type": "code",
   "execution_count": 60,
   "metadata": {
    "collapsed": false,
    "ExecuteTime": {
     "end_time": "2024-06-08T20:42:42.106256Z",
     "start_time": "2024-06-08T20:40:34.790321Z"
    }
   },
   "outputs": [],
   "source": [
    "start_time_rec_cosine = time.time()\n",
    "recommendations_dict, ground_truth_dict = gen_recom_ground_truth( numero_recom=5)\n",
    "end_time_rec_cosine = time.time()\n",
    "\n",
    "start_time_rec_svd = time.time()\n",
    "recommendations_dict_svd, ground_truth_dict_svd = gen_recom_ground_truth_svd(numero_recom=5)\n",
    "end_time_rec_svd = time.time()\n",
    "\n",
    "#Cosine Similarity\n",
    "recommendations = [recommendations_dict[user] for user in recommendations_dict]\n",
    "ground_truth = [ground_truth_dict[user] for user in ground_truth_dict]\n",
    "\n",
    "#SVD simple\n",
    "recommendations_svd = [recommendations_dict_svd[user] for user in recommendations_dict_svd]\n",
    "ground_truth_svd = [ground_truth_dict_svd[user] for user in ground_truth_dict_svd]\n"
   ]
  },
  {
   "cell_type": "code",
   "execution_count": 61,
   "metadata": {
    "collapsed": false,
    "ExecuteTime": {
     "end_time": "2024-06-08T20:42:42.295302Z",
     "start_time": "2024-06-08T20:42:42.116166Z"
    }
   },
   "outputs": [],
   "source": [
    "import recmetrics\n",
    "\n",
    "def precision_at_k(actual, predicted, k=10):\n",
    "    if not actual:\n",
    "        return 0.0\n",
    "    \n",
    "    predicted = predicted[:k]\n",
    "    relevant = len(set(predicted) & set(actual))\n",
    "    return relevant / k\n",
    "\n",
    "def recall_at_k(actual, predicted, k=10):\n",
    "    if not actual:\n",
    "        return 0.0\n",
    "    \n",
    "    predicted = predicted[:k]\n",
    "    relevant = len(set(predicted) & set(actual))\n",
    "    return relevant / len(actual)\n",
    "\n",
    "def apk(actual, predicted, k=10):\n",
    "    if len(predicted) > k:\n",
    "        predicted = predicted[:k]\n",
    "\n",
    "    score = 0.0\n",
    "    num_hits = 0.0\n",
    "\n",
    "    for i, p in enumerate(predicted):\n",
    "        if p in actual and p not in predicted[:i]:\n",
    "            num_hits += 1.0\n",
    "            score += num_hits / (i + 1.0)\n",
    "\n",
    "    if not actual:\n",
    "        return 0.0\n",
    "\n",
    "    return score / min(len(actual), k)\n",
    "\n",
    "def mapk(actual, predicted, k=10):\n",
    "    return np.mean([apk(a, p, k) for a, p in zip(actual, predicted)])\n",
    "\n",
    "def ndcg_at_k(actual, predicted, k=10):\n",
    "    if not actual:\n",
    "        return 0.0\n",
    "    \n",
    "    predicted = predicted[:k]\n",
    "    idcg = sum([1.0 / np.log2(i + 2) for i in range(len(actual))])\n",
    "    dcg = sum([1.0 / np.log2(i + 2) for i, p in enumerate(predicted) if p in actual])\n",
    "    return dcg / idcg\n",
    "\n",
    "def mrr_at_k(actual, predicted, k=10):\n",
    "    if not actual:\n",
    "        return 0.0\n",
    "    \n",
    "    predicted = predicted[:k]\n",
    "    for i, p in enumerate(predicted):\n",
    "        if p in actual:\n",
    "            return 1.0 / (i + 1.0)\n",
    "    return 0.0\n",
    "\n",
    "def calculate_rmse(sparse_matrix, k):\n",
    "    U, sigma, VT = svds(sparse_matrix, k=k)\n",
    "    sigma = np.diag(sigma)\n",
    "    predicted_ratings = np.dot(np.dot(U, sigma), VT)\n",
    "    \n",
    "    actual_ratings = sparse_matrix.toarray().flatten()\n",
    "    predicted_ratings = predicted_ratings.flatten()\n",
    "    \n",
    "    mask = actual_ratings > 0\n",
    "    actual_ratings = actual_ratings[mask]\n",
    "    predicted_ratings = predicted_ratings[mask]\n",
    "    \n",
    "    rmse = sqrt(mean_squared_error(actual_ratings, predicted_ratings))\n",
    "    return rmse\n",
    "\n",
    "def evaluate_recommendations(ground_truth, recommendations, k=5):\n",
    "    metrics = {\n",
    "        'Precision@K': np.mean([precision_at_k(a, p, k) for a, p in zip(ground_truth, recommendations)]),\n",
    "        'Recall@K': np.mean([recall_at_k(a, p, k) for a, p in zip(ground_truth, recommendations)]),\n",
    "        'MAP@K': mapk(ground_truth, recommendations, k),\n",
    "        'NDCG@K': np.mean([ndcg_at_k(a, p, k) for a, p in zip(ground_truth, recommendations)]),\n",
    "        'MRR@K': np.mean([mrr_at_k(a, p, k) for a, p in zip(ground_truth, recommendations)])\n",
    "    }\n",
    "    return metrics\n",
    "\n",
    "metrics_cosine = evaluate_recommendations(ground_truth, recommendations, k=5)\n",
    "metrics_svd = evaluate_recommendations(ground_truth_svd, recommendations_svd, k=5)"
   ]
  },
  {
   "cell_type": "code",
   "execution_count": 62,
   "outputs": [
    {
     "data": {
      "text/plain": "                 Metric  Cosine Method  SVD Method\n0           Precision@K       0.176965    0.000000\n1              Recall@K       0.647169    0.000000\n2                 MAP@K       0.307603    0.000000\n3                NDCG@K       0.411096    0.000000\n4                 MRR@K       0.388815    0.000000\n5  Tiempo Entrenamiento       2.993277    8.410636\n6  Tiempo Recomendación      79.673120   47.635721",
      "text/html": "<div>\n<style scoped>\n    .dataframe tbody tr th:only-of-type {\n        vertical-align: middle;\n    }\n\n    .dataframe tbody tr th {\n        vertical-align: top;\n    }\n\n    .dataframe thead th {\n        text-align: right;\n    }\n</style>\n<table border=\"1\" class=\"dataframe\">\n  <thead>\n    <tr style=\"text-align: right;\">\n      <th></th>\n      <th>Metric</th>\n      <th>Cosine Method</th>\n      <th>SVD Method</th>\n    </tr>\n  </thead>\n  <tbody>\n    <tr>\n      <th>0</th>\n      <td>Precision@K</td>\n      <td>0.176965</td>\n      <td>0.000000</td>\n    </tr>\n    <tr>\n      <th>1</th>\n      <td>Recall@K</td>\n      <td>0.647169</td>\n      <td>0.000000</td>\n    </tr>\n    <tr>\n      <th>2</th>\n      <td>MAP@K</td>\n      <td>0.307603</td>\n      <td>0.000000</td>\n    </tr>\n    <tr>\n      <th>3</th>\n      <td>NDCG@K</td>\n      <td>0.411096</td>\n      <td>0.000000</td>\n    </tr>\n    <tr>\n      <th>4</th>\n      <td>MRR@K</td>\n      <td>0.388815</td>\n      <td>0.000000</td>\n    </tr>\n    <tr>\n      <th>5</th>\n      <td>Tiempo Entrenamiento</td>\n      <td>2.993277</td>\n      <td>8.410636</td>\n    </tr>\n    <tr>\n      <th>6</th>\n      <td>Tiempo Recomendación</td>\n      <td>79.673120</td>\n      <td>47.635721</td>\n    </tr>\n  </tbody>\n</table>\n</div>"
     },
     "execution_count": 62,
     "metadata": {},
     "output_type": "execute_result"
    }
   ],
   "source": [
    "duration_training_svd = end_time_svd_basic - start_time_svd_basic\n",
    "duration_training_cosine = end_time_cosine_sim - start_time_cosine_sim\n",
    "duration_recommendation_svd = end_time_rec_svd - start_time_rec_svd\n",
    "duration_recommendation_cosine = end_time_rec_cosine - start_time_rec_cosine\n",
    "\n",
    "metrics_df_simple = pd.DataFrame({\n",
    "    'Metric': ['Precision@K', 'Recall@K', 'MAP@K', 'NDCG@K', 'MRR@K', \n",
    "               'Tiempo Entrenamiento', 'Tiempo Recomendación'],\n",
    "    'Cosine Method': [\n",
    "        metrics_cosine['Precision@K'], \n",
    "        metrics_cosine['Recall@K'], \n",
    "        metrics_cosine['MAP@K'], \n",
    "        metrics_cosine['NDCG@K'], \n",
    "        metrics_cosine['MRR@K'],\n",
    "        duration_training_cosine, \n",
    "        duration_recommendation_cosine\n",
    "    ],\n",
    "    'SVD Method': [\n",
    "        metrics_svd['Precision@K'], \n",
    "        metrics_svd['Recall@K'], \n",
    "        metrics_svd['MAP@K'], \n",
    "        metrics_svd['NDCG@K'], \n",
    "        metrics_svd['MRR@K'],\n",
    "        duration_training_svd, \n",
    "        duration_recommendation_svd\n",
    "    ]\n",
    "})\n",
    "\n",
    "metrics_df_simple"
   ],
   "metadata": {
    "collapsed": false,
    "ExecuteTime": {
     "end_time": "2024-06-08T20:42:42.301898Z",
     "start_time": "2024-06-08T20:42:42.297996Z"
    }
   }
  },
  {
   "cell_type": "code",
   "execution_count": null,
   "outputs": [],
   "source": [
    "merged_df = reviews_df.merge(steam_games_df, left_on='item_id', right_on='id', how='left')\n",
    "\n",
    "# Filter to get liked games by each user\n",
    "liked_games_df = merged_df[merged_df['recommend'] == True]\n",
    "\n",
    "# Prepare the output\n",
    "recommendations_output = {}\n",
    "for user_id, rec_ids in recommendations_dict_svd.items():\n",
    "    # Get the names of games the user likes\n",
    "    user_liked_games = liked_games_df[liked_games_df['user_id'] == user_id]['title'].tolist()\n",
    "    \n",
    "    # Get the names of the recommended games\n",
    "    recommended_games_names = steam_games_df[steam_games_df['id'].isin(rec_ids)]['title'].tolist()\n",
    "    \n",
    "    # Store in dict\n",
    "    recommendations_output[user_id] = {\n",
    "        'Liked Games': user_liked_games,\n",
    "        'Recommended Games': recommended_games_names\n",
    "    }\n"
   ],
   "metadata": {
    "collapsed": false
   }
  },
  {
   "cell_type": "code",
   "execution_count": 70,
   "outputs": [
    {
     "name": "stdout",
     "output_type": "stream",
     "text": [
      "js41637 Le gustaron estos juegos: Euro Truck Simulator 2, Papers, Please\n",
      "Puede que le interesaran estos: MINERVA, Enforcer: Police Crime Action, PAYDAY 2: Hotline Miami, Ford Racing 3, S.T.A.L.K.E.R.: Call of Pripyat\n",
      "\n",
      "evcentric Le gustaron estos juegos: Risk of Rain, TIS-100, Transistor, 3089 -- Futuristic Action RPG, Space Pirates and Zombies, Gnomoria\n",
      "Puede que le interesaran estos: Command &amp; Conquer: Red Alert 3, Serena, Endless Legend™, Dr. Langeskov, The Tiger, and The Terribly Cursed Emerald: A Whirlwind Heist, Party Hard\n"
     ]
    }
   ],
   "source": [
    "\n",
    "for user_id, games_info in recommendations_output.items():\n",
    "    if user_id in ['js41637', 'evcentric']:  # Limit output to specific users for example\n",
    "        print(f\"{user_id} Le gustaron estos juegos: {', '.join(games_info['Liked Games'])}\")\n",
    "        print(f\"Puede que le interesaran estos: {', '.join(games_info['Recommended Games'])}\\n\")"
   ],
   "metadata": {
    "collapsed": false,
    "ExecuteTime": {
     "end_time": "2024-06-08T21:21:58.100675Z",
     "start_time": "2024-06-08T21:21:58.086671Z"
    }
   }
  },
  {
   "cell_type": "markdown",
   "metadata": {},
   "source": [
    "## Bibliografía\n",
    "\n",
    "1. Marabelli, M; Saunders, C; y Wiener, M. (2020). Big-data business models: A critical literature review and multiperspective research framework. 35(1), 66-91.  https://journals.sagepub.com/doi/reader/10.1177/0268396219896811.\n",
    "2. Kang W., McAuley J. (ICDM, 2018) Self-attentive sequential recommendation. UC San Diego pdf"
   ]
  }
 ],
 "metadata": {
  "colab": {
   "provenance": [],
   "toc_visible": true
  },
  "kernelspec": {
   "display_name": "Python 3 (ipykernel)",
   "language": "python",
   "name": "python3"
  },
  "language_info": {
   "codemirror_mode": {
    "name": "ipython",
    "version": 3
   },
   "file_extension": ".py",
   "mimetype": "text/x-python",
   "name": "python",
   "nbconvert_exporter": "python",
   "pygments_lexer": "ipython3",
   "version": "3.11.5"
  }
 },
 "nbformat": 4,
 "nbformat_minor": 4
}
