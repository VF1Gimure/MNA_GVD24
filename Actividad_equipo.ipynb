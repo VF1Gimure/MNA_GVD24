{
 "cells": [
  {
   "cell_type": "markdown",
   "metadata": {
    "id": "0v5lZjzQZTms"
   },
   "source": [
    "**MAESTRÍA EN INTELIGENCIA ARTIFICIAL APLICADA**\n",
    "\n",
    "**Curso: TC4034 - Análisis de grandes volúmenes de datos (Gpo 10)**\n",
    "\n",
    "Tecnológico de Monterrey\n",
    "\n",
    "Dr. Nestor Velasco Bermeo\n",
    "\n",
    "**Semana 4_5 **\n",
    "4.3 Avance de proyecto 1: Sistema de Recomendación\n",
    "---"
   ]
  },
  {
   "cell_type": "markdown",
   "source": [
    "\n",
    "* NOMBRE: Luis Salomon Flores Ugalde\n",
    "*   MATRÍCULA: A00817435\n",
    "--\n",
    "*   NOMBRE: \n",
    "*   MATRÍCULA: \n",
    "--\n",
    "*   NOMBRE: \n",
    "*   MATRÍCULA: "
   ],
   "metadata": {
    "id": "HfLoXtuKuCug"
   }
  },
  {
   "cell_type": "markdown",
   "source": [
    "<font size=6>En esta entrega es necesario realizar un reporte donde se enlisten los siguientes aspectos:</font>\n",
    "<p> <br> </p>\n",
    "\n",
    "<font size=5>\n",
    "\n",
    "*  Genera un plan de proyecto de acuerdo con la industria elegida por tu equipo en la actividad 2.2 y detalla el plan del proyecto con su cronograma.\n",
    "<p> <br> </p>\n",
    "\n",
    "*  Justifica la selección del conjunto de datos utilizado y describe los pasos de preprocesamiento.\n",
    "Realiza al menos un ejercicio de exploración inicial y análisis del conjunto de datos de la industria elegida (la evidencia se debe pone en el repositorio GitHub del equipo).\n",
    "<p> <br> </p>\n",
    "\n",
    "*  Programa al menos un 1 algoritmo de recomendación básico con el conjunto de datos elegido (la evidencia se debe pone en el repositorio GitHub del equipo).</font>"
   ],
   "metadata": {
    "collapsed": false
   }
  },
  {
   "cell_type": "code",
   "source": [
    "#from google.colab import drive\n",
    "#drive.mount('/content/drive')"
   ],
   "metadata": {
    "id": "nboaPqUVuHQc",
    "colab": {
     "base_uri": "https://localhost:8080/"
    },
    "executionInfo": {
     "status": "ok",
     "timestamp": 1672388553063,
     "user_tz": 360,
     "elapsed": 25072,
     "user": {
      "displayName": "Grettel Barceló Alonso",
      "userId": "01577411478517144249"
     }
    },
    "outputId": "75c09d19-a1fd-4cdf-a768-84b37ae32ba5",
    "ExecuteTime": {
     "end_time": "2024-05-17T22:03:14.527367Z",
     "start_time": "2024-05-17T22:03:14.460185Z"
    }
   },
   "execution_count": 171,
   "outputs": []
  },
  {
   "cell_type": "code",
   "source": [
    "#import os\n",
    "#DIR = \"/content/drive/MyDrive/Colab Notebooks/MNA/TC4029 - Ciencia y analítica de datos/Semana 6/Actividad6_FE\"\n",
    "#os.chdir(DIR)"
   ],
   "metadata": {
    "id": "nKdwi4dUuJQG",
    "ExecuteTime": {
     "end_time": "2024-05-17T22:03:14.527549Z",
     "start_time": "2024-05-17T22:03:14.463652Z"
    }
   },
   "execution_count": 172,
   "outputs": []
  },
  {
   "cell_type": "code",
   "execution_count": 173,
   "metadata": {
    "id": "7Qc1oYLeZTmu",
    "ExecuteTime": {
     "end_time": "2024-05-17T22:03:14.527604Z",
     "start_time": "2024-05-17T22:03:14.466507Z"
    }
   },
   "outputs": [],
   "source": [
    "import pandas as pd\n",
    "import numpy as np\n",
    "import matplotlib.pyplot as plt\n",
    "import seaborn as sns\n",
    "import scipy.stats as stats\n",
    "import json"
   ]
  },
  {
   "cell_type": "code",
   "execution_count": 174,
   "outputs": [
    {
     "name": "stdout",
     "output_type": "stream",
     "text": [
      "Current working directory: /Users/lsfu/Desktop/MNA/BD\n"
     ]
    }
   ],
   "source": [
    "import os\n",
    "\n",
    "print(\"Current working directory:\", os.getcwd())\n"
   ],
   "metadata": {
    "collapsed": false,
    "ExecuteTime": {
     "end_time": "2024-05-17T22:03:14.554718Z",
     "start_time": "2024-05-17T22:03:14.470183Z"
    }
   }
  },
  {
   "cell_type": "markdown",
   "source": [
    "### Utility functions"
   ],
   "metadata": {
    "collapsed": false
   }
  },
  {
   "cell_type": "code",
   "execution_count": 175,
   "outputs": [],
   "source": [
    "import re\n",
    "import json\n",
    "\n",
    "def read_lines(file_path):\n",
    "    data = []\n",
    "    with open(file_path, 'r', encoding='utf-8') as file:\n",
    "        while True:\n",
    "            line = file.readline() \n",
    "            if not line:\n",
    "                break\n",
    "            data.append(line) \n",
    "    return data\n",
    "\n",
    "def parse(g):\n",
    "   for l in g:\n",
    "        yield eval(l)\n",
    "\n",
    "def parse_dataload_to_json_list(data):\n",
    "    parsed = []\n",
    "    line_count = 0 \n",
    "    for l in parse(data):\n",
    "        line_count += 1\n",
    "        r = json.dumps(l)\n",
    "        loaded_r = json.loads(r)\n",
    "        parsed.append(loaded_r)\n",
    "    return parsed"
   ],
   "metadata": {
    "collapsed": false,
    "ExecuteTime": {
     "end_time": "2024-05-17T22:03:14.561027Z",
     "start_time": "2024-05-17T22:03:14.474069Z"
    }
   }
  },
  {
   "cell_type": "markdown",
   "source": [
    "# **Parte 1**. - Preprocessing"
   ],
   "metadata": {
    "collapsed": false
   }
  },
  {
   "cell_type": "markdown",
   "source": [
    "<font size=5>Para evitar usar la función `eval` de nuevo. Haremos nuevos JSON que puedan ser leídos por pandas `pd.read_json` </font>"
   ],
   "metadata": {
    "collapsed": false
   }
  },
  {
   "cell_type": "code",
   "execution_count": 176,
   "outputs": [],
   "source": [
    "data_games = read_lines('steam_games.json')\n",
    "json_games = parse_dataload_to_json_list(data_games)   \n",
    "with open('steam_games_p3.json', 'w', encoding='utf-8') as f:\n",
    "    for item in json_games:\n",
    "        json.dump(item, f, ensure_ascii=False)\n",
    "        f.write('\\n')"
   ],
   "metadata": {
    "collapsed": false,
    "ExecuteTime": {
     "end_time": "2024-05-17T22:03:16.662680Z",
     "start_time": "2024-05-17T22:03:14.476813Z"
    }
   }
  },
  {
   "cell_type": "code",
   "execution_count": 177,
   "outputs": [
    {
     "data": {
      "text/plain": "                publisher                                             genres  \\\n0               Kotoshiro      [Action, Casual, Indie, Simulation, Strategy]   \n1        Making Fun, Inc.               [Free to Play, Indie, RPG, Strategy]   \n2            Poolians.com  [Casual, Free to Play, Indie, Simulation, Sports]   \n3                    彼岸领域                        [Action, Adventure, Casual]   \n4                     NaN                                                NaN   \n5     Trickjump Games Ltd                    [Action, Adventure, Simulation]   \n6                     NaN          [Free to Play, Indie, Simulation, Sports]   \n7  Poppermost Productions          [Free to Play, Indie, Simulation, Sports]   \n8  Poppermost Productions          [Free to Play, Indie, Simulation, Sports]   \n9               RewindApp                [Casual, Indie, Racing, Simulation]   \n\n                        app_name                          title  \\\n0            Lost Summoner Kitty            Lost Summoner Kitty   \n1                      Ironbound                      Ironbound   \n2        Real Pool 3D - Poolians        Real Pool 3D - Poolians   \n3                        弹炸人2222                        弹炸人2222   \n4                  Log Challenge                            NaN   \n5          Battle Royale Trainer          Battle Royale Trainer   \n6   SNOW - All Access Basic Pass   SNOW - All Access Basic Pass   \n7     SNOW - All Access Pro Pass     SNOW - All Access Pro Pass   \n8  SNOW - All Access Legend Pass  SNOW - All Access Legend Pass   \n9                           Race                           Race   \n\n                                                 url release_date  \\\n0  http://store.steampowered.com/app/761140/Lost_...   2018-01-04   \n1  http://store.steampowered.com/app/643980/Ironb...   2018-01-04   \n2  http://store.steampowered.com/app/670290/Real_...   2017-07-24   \n3     http://store.steampowered.com/app/767400/2222/   2017-12-07   \n4  http://store.steampowered.com/app/773570/Log_C...          NaN   \n5  http://store.steampowered.com/app/772540/Battl...   2018-01-04   \n6  http://store.steampowered.com/app/774276/SNOW_...   2018-01-04   \n7  http://store.steampowered.com/app/774277/SNOW_...   2018-01-04   \n8  http://store.steampowered.com/app/774278/SNOW_...   2018-01-04   \n9     http://store.steampowered.com/app/768800/Race/   2018-01-04   \n\n                                                tags  discount_price  \\\n0      [Strategy, Action, Indie, Casual, Simulation]            4.49   \n1  [Free to Play, Strategy, Indie, RPG, Card Game...             NaN   \n2  [Free to Play, Simulation, Sports, Casual, Ind...             NaN   \n3                        [Action, Adventure, Casual]            0.83   \n4                    [Action, Indie, Casual, Sports]            1.79   \n5  [Action, Adventure, Simulation, FPS, Shooter, ...             NaN   \n6          [Free to Play, Indie, Simulation, Sports]             NaN   \n7          [Free to Play, Indie, Simulation, Sports]             NaN   \n8          [Free to Play, Indie, Simulation, Sports]             NaN   \n9                [Indie, Casual, Simulation, Racing]             NaN   \n\n                                         reviews_url  \\\n0  http://steamcommunity.com/app/761140/reviews/?...   \n1  http://steamcommunity.com/app/643980/reviews/?...   \n2  http://steamcommunity.com/app/670290/reviews/?...   \n3  http://steamcommunity.com/app/767400/reviews/?...   \n4  http://steamcommunity.com/app/773570/reviews/?...   \n5  http://steamcommunity.com/app/772540/reviews/?...   \n6  http://steamcommunity.com/app/774276/reviews/?...   \n7  http://steamcommunity.com/app/774277/reviews/?...   \n8  http://steamcommunity.com/app/774278/reviews/?...   \n9  http://steamcommunity.com/app/768800/reviews/?...   \n\n                                               specs         price  \\\n0                                    [Single-player]          4.99   \n1  [Single-player, Multi-player, Online Multi-Pla...  Free To Play   \n2  [Single-player, Multi-player, Online Multi-Pla...  Free to Play   \n3                                    [Single-player]          0.99   \n4  [Single-player, Full controller support, HTC V...          2.99   \n5                [Single-player, Steam Achievements]          3.99   \n6  [Single-player, Multi-player, Online Multi-Pla...          9.99   \n7  [Single-player, Multi-player, Online Multi-Pla...         18.99   \n8  [Single-player, Multi-player, Online Multi-Pla...         29.99   \n9  [Single-player, Multi-player, Partial Controll...           NaN   \n\n   early_access        id               developer        sentiment metascore  \n0         False  761140.0               Kotoshiro              NaN       NaN  \n1         False  643980.0        Secret Level SRL  Mostly Positive       NaN  \n2         False  670290.0            Poolians.com  Mostly Positive       NaN  \n3         False  767400.0                    彼岸领域              NaN       NaN  \n4         False  773570.0                     NaN              NaN       NaN  \n5         False  772540.0     Trickjump Games Ltd            Mixed       NaN  \n6         False  774276.0  Poppermost Productions              NaN       NaN  \n7         False  774277.0  Poppermost Productions              NaN       NaN  \n8         False  774278.0  Poppermost Productions              NaN       NaN  \n9         False  768800.0               RewindApp              NaN       NaN  ",
      "text/html": "<div>\n<style scoped>\n    .dataframe tbody tr th:only-of-type {\n        vertical-align: middle;\n    }\n\n    .dataframe tbody tr th {\n        vertical-align: top;\n    }\n\n    .dataframe thead th {\n        text-align: right;\n    }\n</style>\n<table border=\"1\" class=\"dataframe\">\n  <thead>\n    <tr style=\"text-align: right;\">\n      <th></th>\n      <th>publisher</th>\n      <th>genres</th>\n      <th>app_name</th>\n      <th>title</th>\n      <th>url</th>\n      <th>release_date</th>\n      <th>tags</th>\n      <th>discount_price</th>\n      <th>reviews_url</th>\n      <th>specs</th>\n      <th>price</th>\n      <th>early_access</th>\n      <th>id</th>\n      <th>developer</th>\n      <th>sentiment</th>\n      <th>metascore</th>\n    </tr>\n  </thead>\n  <tbody>\n    <tr>\n      <th>0</th>\n      <td>Kotoshiro</td>\n      <td>[Action, Casual, Indie, Simulation, Strategy]</td>\n      <td>Lost Summoner Kitty</td>\n      <td>Lost Summoner Kitty</td>\n      <td>http://store.steampowered.com/app/761140/Lost_...</td>\n      <td>2018-01-04</td>\n      <td>[Strategy, Action, Indie, Casual, Simulation]</td>\n      <td>4.49</td>\n      <td>http://steamcommunity.com/app/761140/reviews/?...</td>\n      <td>[Single-player]</td>\n      <td>4.99</td>\n      <td>False</td>\n      <td>761140.0</td>\n      <td>Kotoshiro</td>\n      <td>NaN</td>\n      <td>NaN</td>\n    </tr>\n    <tr>\n      <th>1</th>\n      <td>Making Fun, Inc.</td>\n      <td>[Free to Play, Indie, RPG, Strategy]</td>\n      <td>Ironbound</td>\n      <td>Ironbound</td>\n      <td>http://store.steampowered.com/app/643980/Ironb...</td>\n      <td>2018-01-04</td>\n      <td>[Free to Play, Strategy, Indie, RPG, Card Game...</td>\n      <td>NaN</td>\n      <td>http://steamcommunity.com/app/643980/reviews/?...</td>\n      <td>[Single-player, Multi-player, Online Multi-Pla...</td>\n      <td>Free To Play</td>\n      <td>False</td>\n      <td>643980.0</td>\n      <td>Secret Level SRL</td>\n      <td>Mostly Positive</td>\n      <td>NaN</td>\n    </tr>\n    <tr>\n      <th>2</th>\n      <td>Poolians.com</td>\n      <td>[Casual, Free to Play, Indie, Simulation, Sports]</td>\n      <td>Real Pool 3D - Poolians</td>\n      <td>Real Pool 3D - Poolians</td>\n      <td>http://store.steampowered.com/app/670290/Real_...</td>\n      <td>2017-07-24</td>\n      <td>[Free to Play, Simulation, Sports, Casual, Ind...</td>\n      <td>NaN</td>\n      <td>http://steamcommunity.com/app/670290/reviews/?...</td>\n      <td>[Single-player, Multi-player, Online Multi-Pla...</td>\n      <td>Free to Play</td>\n      <td>False</td>\n      <td>670290.0</td>\n      <td>Poolians.com</td>\n      <td>Mostly Positive</td>\n      <td>NaN</td>\n    </tr>\n    <tr>\n      <th>3</th>\n      <td>彼岸领域</td>\n      <td>[Action, Adventure, Casual]</td>\n      <td>弹炸人2222</td>\n      <td>弹炸人2222</td>\n      <td>http://store.steampowered.com/app/767400/2222/</td>\n      <td>2017-12-07</td>\n      <td>[Action, Adventure, Casual]</td>\n      <td>0.83</td>\n      <td>http://steamcommunity.com/app/767400/reviews/?...</td>\n      <td>[Single-player]</td>\n      <td>0.99</td>\n      <td>False</td>\n      <td>767400.0</td>\n      <td>彼岸领域</td>\n      <td>NaN</td>\n      <td>NaN</td>\n    </tr>\n    <tr>\n      <th>4</th>\n      <td>NaN</td>\n      <td>NaN</td>\n      <td>Log Challenge</td>\n      <td>NaN</td>\n      <td>http://store.steampowered.com/app/773570/Log_C...</td>\n      <td>NaN</td>\n      <td>[Action, Indie, Casual, Sports]</td>\n      <td>1.79</td>\n      <td>http://steamcommunity.com/app/773570/reviews/?...</td>\n      <td>[Single-player, Full controller support, HTC V...</td>\n      <td>2.99</td>\n      <td>False</td>\n      <td>773570.0</td>\n      <td>NaN</td>\n      <td>NaN</td>\n      <td>NaN</td>\n    </tr>\n    <tr>\n      <th>5</th>\n      <td>Trickjump Games Ltd</td>\n      <td>[Action, Adventure, Simulation]</td>\n      <td>Battle Royale Trainer</td>\n      <td>Battle Royale Trainer</td>\n      <td>http://store.steampowered.com/app/772540/Battl...</td>\n      <td>2018-01-04</td>\n      <td>[Action, Adventure, Simulation, FPS, Shooter, ...</td>\n      <td>NaN</td>\n      <td>http://steamcommunity.com/app/772540/reviews/?...</td>\n      <td>[Single-player, Steam Achievements]</td>\n      <td>3.99</td>\n      <td>False</td>\n      <td>772540.0</td>\n      <td>Trickjump Games Ltd</td>\n      <td>Mixed</td>\n      <td>NaN</td>\n    </tr>\n    <tr>\n      <th>6</th>\n      <td>NaN</td>\n      <td>[Free to Play, Indie, Simulation, Sports]</td>\n      <td>SNOW - All Access Basic Pass</td>\n      <td>SNOW - All Access Basic Pass</td>\n      <td>http://store.steampowered.com/app/774276/SNOW_...</td>\n      <td>2018-01-04</td>\n      <td>[Free to Play, Indie, Simulation, Sports]</td>\n      <td>NaN</td>\n      <td>http://steamcommunity.com/app/774276/reviews/?...</td>\n      <td>[Single-player, Multi-player, Online Multi-Pla...</td>\n      <td>9.99</td>\n      <td>False</td>\n      <td>774276.0</td>\n      <td>Poppermost Productions</td>\n      <td>NaN</td>\n      <td>NaN</td>\n    </tr>\n    <tr>\n      <th>7</th>\n      <td>Poppermost Productions</td>\n      <td>[Free to Play, Indie, Simulation, Sports]</td>\n      <td>SNOW - All Access Pro Pass</td>\n      <td>SNOW - All Access Pro Pass</td>\n      <td>http://store.steampowered.com/app/774277/SNOW_...</td>\n      <td>2018-01-04</td>\n      <td>[Free to Play, Indie, Simulation, Sports]</td>\n      <td>NaN</td>\n      <td>http://steamcommunity.com/app/774277/reviews/?...</td>\n      <td>[Single-player, Multi-player, Online Multi-Pla...</td>\n      <td>18.99</td>\n      <td>False</td>\n      <td>774277.0</td>\n      <td>Poppermost Productions</td>\n      <td>NaN</td>\n      <td>NaN</td>\n    </tr>\n    <tr>\n      <th>8</th>\n      <td>Poppermost Productions</td>\n      <td>[Free to Play, Indie, Simulation, Sports]</td>\n      <td>SNOW - All Access Legend Pass</td>\n      <td>SNOW - All Access Legend Pass</td>\n      <td>http://store.steampowered.com/app/774278/SNOW_...</td>\n      <td>2018-01-04</td>\n      <td>[Free to Play, Indie, Simulation, Sports]</td>\n      <td>NaN</td>\n      <td>http://steamcommunity.com/app/774278/reviews/?...</td>\n      <td>[Single-player, Multi-player, Online Multi-Pla...</td>\n      <td>29.99</td>\n      <td>False</td>\n      <td>774278.0</td>\n      <td>Poppermost Productions</td>\n      <td>NaN</td>\n      <td>NaN</td>\n    </tr>\n    <tr>\n      <th>9</th>\n      <td>RewindApp</td>\n      <td>[Casual, Indie, Racing, Simulation]</td>\n      <td>Race</td>\n      <td>Race</td>\n      <td>http://store.steampowered.com/app/768800/Race/</td>\n      <td>2018-01-04</td>\n      <td>[Indie, Casual, Simulation, Racing]</td>\n      <td>NaN</td>\n      <td>http://steamcommunity.com/app/768800/reviews/?...</td>\n      <td>[Single-player, Multi-player, Partial Controll...</td>\n      <td>NaN</td>\n      <td>False</td>\n      <td>768800.0</td>\n      <td>RewindApp</td>\n      <td>NaN</td>\n      <td>NaN</td>\n    </tr>\n  </tbody>\n</table>\n</div>"
     },
     "execution_count": 177,
     "metadata": {},
     "output_type": "execute_result"
    }
   ],
   "source": [
    "steam_games_df = pd.read_json('steam_games_p3.json', lines=True)\n",
    "\n",
    "steam_games_df.head(10)"
   ],
   "metadata": {
    "collapsed": false,
    "ExecuteTime": {
     "end_time": "2024-05-17T22:03:16.881279Z",
     "start_time": "2024-05-17T22:03:16.661719Z"
    }
   }
  },
  {
   "cell_type": "code",
   "execution_count": 178,
   "outputs": [
    {
     "data": {
      "text/plain": "publisher          object\ngenres             object\napp_name           object\ntitle              object\nurl                object\nrelease_date       object\ntags               object\ndiscount_price    float64\nreviews_url        object\nspecs              object\nprice              object\nearly_access         bool\nid                float64\ndeveloper          object\nsentiment          object\nmetascore          object\ndtype: object"
     },
     "execution_count": 178,
     "metadata": {},
     "output_type": "execute_result"
    }
   ],
   "source": [
    "steam_games_df.dtypes"
   ],
   "metadata": {
    "collapsed": false,
    "ExecuteTime": {
     "end_time": "2024-05-17T22:03:16.884756Z",
     "start_time": "2024-05-17T22:03:16.881187Z"
    }
   }
  },
  {
   "cell_type": "code",
   "execution_count": 179,
   "outputs": [
    {
     "name": "stdout",
     "output_type": "stream",
     "text": [
      "Valores en 'metascore':  2677\n",
      "Valores NaN en 'metascore':  29458\n"
     ]
    }
   ],
   "source": [
    "\n",
    "nan_count_meta = steam_games_df['metascore'].isnull().sum()\n",
    "non_nan_count_meta = steam_games_df['metascore'].notnull().sum()\n",
    "\n",
    "print(\"Valores en 'metascore': \",non_nan_count_meta)\n",
    "print(\"Valores NaN en 'metascore': \", nan_count_meta)"
   ],
   "metadata": {
    "collapsed": false,
    "ExecuteTime": {
     "end_time": "2024-05-17T22:03:16.888132Z",
     "start_time": "2024-05-17T22:03:16.884705Z"
    }
   }
  },
  {
   "cell_type": "code",
   "execution_count": 180,
   "outputs": [
    {
     "data": {
      "text/plain": "              publisher                                             genres  \\\n0             Kotoshiro      [Action, Casual, Indie, Simulation, Strategy]   \n1      Making Fun, Inc.               [Free to Play, Indie, RPG, Strategy]   \n2          Poolians.com  [Casual, Free to Play, Indie, Simulation, Sports]   \n3                  彼岸领域                        [Action, Adventure, Casual]   \n4                   NaN                                                NaN   \n...                 ...                                                ...   \n32130   Ghost_RUS Games              [Casual, Indie, Simulation, Strategy]   \n32131            Sacada                          [Casual, Indie, Strategy]   \n32132      Laush Studio                        [Indie, Racing, Simulation]   \n32133          SIXNAILS                                    [Casual, Indie]   \n32134               NaN                                                NaN   \n\n                       app_name                     title  \\\n0           Lost Summoner Kitty       Lost Summoner Kitty   \n1                     Ironbound                 Ironbound   \n2       Real Pool 3D - Poolians   Real Pool 3D - Poolians   \n3                       弹炸人2222                   弹炸人2222   \n4                 Log Challenge                       NaN   \n...                         ...                       ...   \n32130            Colony On Mars            Colony On Mars   \n32131  LOGistICAL: South Africa  LOGistICAL: South Africa   \n32132             Russian Roads             Russian Roads   \n32133       EXIT 2 - Directions       EXIT 2 - Directions   \n32134               Maze Run VR                       NaN   \n\n                                                     url release_date  \\\n0      http://store.steampowered.com/app/761140/Lost_...   2018-01-04   \n1      http://store.steampowered.com/app/643980/Ironb...   2018-01-04   \n2      http://store.steampowered.com/app/670290/Real_...   2017-07-24   \n3         http://store.steampowered.com/app/767400/2222/   2017-12-07   \n4      http://store.steampowered.com/app/773570/Log_C...          NaN   \n...                                                  ...          ...   \n32130  http://store.steampowered.com/app/773640/Colon...   2018-01-04   \n32131  http://store.steampowered.com/app/733530/LOGis...   2018-01-04   \n32132  http://store.steampowered.com/app/610660/Russi...   2018-01-04   \n32133  http://store.steampowered.com/app/658870/EXIT_...   2017-09-02   \n32134  http://store.steampowered.com/app/681550/Maze_...          NaN   \n\n                                                    tags  discount_price  \\\n0          [Strategy, Action, Indie, Casual, Simulation]            4.49   \n1      [Free to Play, Strategy, Indie, RPG, Card Game...             NaN   \n2      [Free to Play, Simulation, Sports, Casual, Ind...             NaN   \n3                            [Action, Adventure, Casual]            0.83   \n4                        [Action, Indie, Casual, Sports]            1.79   \n...                                                  ...             ...   \n32130              [Strategy, Indie, Casual, Simulation]            1.49   \n32131                          [Strategy, Indie, Casual]            4.24   \n32132                        [Indie, Simulation, Racing]            1.39   \n32133  [Indie, Casual, Puzzle, Singleplayer, Atmosphe...             NaN   \n32134  [Early Access, Adventure, Indie, Action, Simul...             NaN   \n\n                                             reviews_url  \\\n0      http://steamcommunity.com/app/761140/reviews/?...   \n1      http://steamcommunity.com/app/643980/reviews/?...   \n2      http://steamcommunity.com/app/670290/reviews/?...   \n3      http://steamcommunity.com/app/767400/reviews/?...   \n4      http://steamcommunity.com/app/773570/reviews/?...   \n...                                                  ...   \n32130  http://steamcommunity.com/app/773640/reviews/?...   \n32131  http://steamcommunity.com/app/733530/reviews/?...   \n32132  http://steamcommunity.com/app/610660/reviews/?...   \n32133  http://steamcommunity.com/app/658870/reviews/?...   \n32134  http://steamcommunity.com/app/681550/reviews/?...   \n\n                                                   specs         price  \\\n0                                        [Single-player]          4.99   \n1      [Single-player, Multi-player, Online Multi-Pla...  Free To Play   \n2      [Single-player, Multi-player, Online Multi-Pla...  Free to Play   \n3                                        [Single-player]          0.99   \n4      [Single-player, Full controller support, HTC V...          2.99   \n...                                                  ...           ...   \n32130                [Single-player, Steam Achievements]          1.99   \n32131  [Single-player, Steam Achievements, Steam Clou...          4.99   \n32132  [Single-player, Steam Achievements, Steam Trad...          1.99   \n32133   [Single-player, Steam Achievements, Steam Cloud]          4.99   \n32134  [Single-player, Stats, Steam Leaderboards, HTC...          4.99   \n\n       early_access      id                 developer        sentiment  \\\n0             False  761140                 Kotoshiro              NaN   \n1             False  643980          Secret Level SRL  Mostly Positive   \n2             False  670290              Poolians.com  Mostly Positive   \n3             False  767400                      彼岸领域              NaN   \n4             False  773570                       NaN              NaN   \n...             ...     ...                       ...              ...   \n32130         False  773640        Nikita \"Ghost_RUS\"              NaN   \n32131         False  733530                    Sacada              NaN   \n32132         False  610660  Laush Dmitriy Sergeevich              NaN   \n32133         False  658870             xropi,stev3ns   1 user reviews   \n32134          True  681550                       NaN         Positive   \n\n      metascore  \n0           NaN  \n1           NaN  \n2           NaN  \n3           NaN  \n4           NaN  \n...         ...  \n32130       NaN  \n32131       NaN  \n32132       NaN  \n32133       NaN  \n32134       NaN  \n\n[32135 rows x 16 columns]",
      "text/html": "<div>\n<style scoped>\n    .dataframe tbody tr th:only-of-type {\n        vertical-align: middle;\n    }\n\n    .dataframe tbody tr th {\n        vertical-align: top;\n    }\n\n    .dataframe thead th {\n        text-align: right;\n    }\n</style>\n<table border=\"1\" class=\"dataframe\">\n  <thead>\n    <tr style=\"text-align: right;\">\n      <th></th>\n      <th>publisher</th>\n      <th>genres</th>\n      <th>app_name</th>\n      <th>title</th>\n      <th>url</th>\n      <th>release_date</th>\n      <th>tags</th>\n      <th>discount_price</th>\n      <th>reviews_url</th>\n      <th>specs</th>\n      <th>price</th>\n      <th>early_access</th>\n      <th>id</th>\n      <th>developer</th>\n      <th>sentiment</th>\n      <th>metascore</th>\n    </tr>\n  </thead>\n  <tbody>\n    <tr>\n      <th>0</th>\n      <td>Kotoshiro</td>\n      <td>[Action, Casual, Indie, Simulation, Strategy]</td>\n      <td>Lost Summoner Kitty</td>\n      <td>Lost Summoner Kitty</td>\n      <td>http://store.steampowered.com/app/761140/Lost_...</td>\n      <td>2018-01-04</td>\n      <td>[Strategy, Action, Indie, Casual, Simulation]</td>\n      <td>4.49</td>\n      <td>http://steamcommunity.com/app/761140/reviews/?...</td>\n      <td>[Single-player]</td>\n      <td>4.99</td>\n      <td>False</td>\n      <td>761140</td>\n      <td>Kotoshiro</td>\n      <td>NaN</td>\n      <td>NaN</td>\n    </tr>\n    <tr>\n      <th>1</th>\n      <td>Making Fun, Inc.</td>\n      <td>[Free to Play, Indie, RPG, Strategy]</td>\n      <td>Ironbound</td>\n      <td>Ironbound</td>\n      <td>http://store.steampowered.com/app/643980/Ironb...</td>\n      <td>2018-01-04</td>\n      <td>[Free to Play, Strategy, Indie, RPG, Card Game...</td>\n      <td>NaN</td>\n      <td>http://steamcommunity.com/app/643980/reviews/?...</td>\n      <td>[Single-player, Multi-player, Online Multi-Pla...</td>\n      <td>Free To Play</td>\n      <td>False</td>\n      <td>643980</td>\n      <td>Secret Level SRL</td>\n      <td>Mostly Positive</td>\n      <td>NaN</td>\n    </tr>\n    <tr>\n      <th>2</th>\n      <td>Poolians.com</td>\n      <td>[Casual, Free to Play, Indie, Simulation, Sports]</td>\n      <td>Real Pool 3D - Poolians</td>\n      <td>Real Pool 3D - Poolians</td>\n      <td>http://store.steampowered.com/app/670290/Real_...</td>\n      <td>2017-07-24</td>\n      <td>[Free to Play, Simulation, Sports, Casual, Ind...</td>\n      <td>NaN</td>\n      <td>http://steamcommunity.com/app/670290/reviews/?...</td>\n      <td>[Single-player, Multi-player, Online Multi-Pla...</td>\n      <td>Free to Play</td>\n      <td>False</td>\n      <td>670290</td>\n      <td>Poolians.com</td>\n      <td>Mostly Positive</td>\n      <td>NaN</td>\n    </tr>\n    <tr>\n      <th>3</th>\n      <td>彼岸领域</td>\n      <td>[Action, Adventure, Casual]</td>\n      <td>弹炸人2222</td>\n      <td>弹炸人2222</td>\n      <td>http://store.steampowered.com/app/767400/2222/</td>\n      <td>2017-12-07</td>\n      <td>[Action, Adventure, Casual]</td>\n      <td>0.83</td>\n      <td>http://steamcommunity.com/app/767400/reviews/?...</td>\n      <td>[Single-player]</td>\n      <td>0.99</td>\n      <td>False</td>\n      <td>767400</td>\n      <td>彼岸领域</td>\n      <td>NaN</td>\n      <td>NaN</td>\n    </tr>\n    <tr>\n      <th>4</th>\n      <td>NaN</td>\n      <td>NaN</td>\n      <td>Log Challenge</td>\n      <td>NaN</td>\n      <td>http://store.steampowered.com/app/773570/Log_C...</td>\n      <td>NaN</td>\n      <td>[Action, Indie, Casual, Sports]</td>\n      <td>1.79</td>\n      <td>http://steamcommunity.com/app/773570/reviews/?...</td>\n      <td>[Single-player, Full controller support, HTC V...</td>\n      <td>2.99</td>\n      <td>False</td>\n      <td>773570</td>\n      <td>NaN</td>\n      <td>NaN</td>\n      <td>NaN</td>\n    </tr>\n    <tr>\n      <th>...</th>\n      <td>...</td>\n      <td>...</td>\n      <td>...</td>\n      <td>...</td>\n      <td>...</td>\n      <td>...</td>\n      <td>...</td>\n      <td>...</td>\n      <td>...</td>\n      <td>...</td>\n      <td>...</td>\n      <td>...</td>\n      <td>...</td>\n      <td>...</td>\n      <td>...</td>\n      <td>...</td>\n    </tr>\n    <tr>\n      <th>32130</th>\n      <td>Ghost_RUS Games</td>\n      <td>[Casual, Indie, Simulation, Strategy]</td>\n      <td>Colony On Mars</td>\n      <td>Colony On Mars</td>\n      <td>http://store.steampowered.com/app/773640/Colon...</td>\n      <td>2018-01-04</td>\n      <td>[Strategy, Indie, Casual, Simulation]</td>\n      <td>1.49</td>\n      <td>http://steamcommunity.com/app/773640/reviews/?...</td>\n      <td>[Single-player, Steam Achievements]</td>\n      <td>1.99</td>\n      <td>False</td>\n      <td>773640</td>\n      <td>Nikita \"Ghost_RUS\"</td>\n      <td>NaN</td>\n      <td>NaN</td>\n    </tr>\n    <tr>\n      <th>32131</th>\n      <td>Sacada</td>\n      <td>[Casual, Indie, Strategy]</td>\n      <td>LOGistICAL: South Africa</td>\n      <td>LOGistICAL: South Africa</td>\n      <td>http://store.steampowered.com/app/733530/LOGis...</td>\n      <td>2018-01-04</td>\n      <td>[Strategy, Indie, Casual]</td>\n      <td>4.24</td>\n      <td>http://steamcommunity.com/app/733530/reviews/?...</td>\n      <td>[Single-player, Steam Achievements, Steam Clou...</td>\n      <td>4.99</td>\n      <td>False</td>\n      <td>733530</td>\n      <td>Sacada</td>\n      <td>NaN</td>\n      <td>NaN</td>\n    </tr>\n    <tr>\n      <th>32132</th>\n      <td>Laush Studio</td>\n      <td>[Indie, Racing, Simulation]</td>\n      <td>Russian Roads</td>\n      <td>Russian Roads</td>\n      <td>http://store.steampowered.com/app/610660/Russi...</td>\n      <td>2018-01-04</td>\n      <td>[Indie, Simulation, Racing]</td>\n      <td>1.39</td>\n      <td>http://steamcommunity.com/app/610660/reviews/?...</td>\n      <td>[Single-player, Steam Achievements, Steam Trad...</td>\n      <td>1.99</td>\n      <td>False</td>\n      <td>610660</td>\n      <td>Laush Dmitriy Sergeevich</td>\n      <td>NaN</td>\n      <td>NaN</td>\n    </tr>\n    <tr>\n      <th>32133</th>\n      <td>SIXNAILS</td>\n      <td>[Casual, Indie]</td>\n      <td>EXIT 2 - Directions</td>\n      <td>EXIT 2 - Directions</td>\n      <td>http://store.steampowered.com/app/658870/EXIT_...</td>\n      <td>2017-09-02</td>\n      <td>[Indie, Casual, Puzzle, Singleplayer, Atmosphe...</td>\n      <td>NaN</td>\n      <td>http://steamcommunity.com/app/658870/reviews/?...</td>\n      <td>[Single-player, Steam Achievements, Steam Cloud]</td>\n      <td>4.99</td>\n      <td>False</td>\n      <td>658870</td>\n      <td>xropi,stev3ns</td>\n      <td>1 user reviews</td>\n      <td>NaN</td>\n    </tr>\n    <tr>\n      <th>32134</th>\n      <td>NaN</td>\n      <td>NaN</td>\n      <td>Maze Run VR</td>\n      <td>NaN</td>\n      <td>http://store.steampowered.com/app/681550/Maze_...</td>\n      <td>NaN</td>\n      <td>[Early Access, Adventure, Indie, Action, Simul...</td>\n      <td>NaN</td>\n      <td>http://steamcommunity.com/app/681550/reviews/?...</td>\n      <td>[Single-player, Stats, Steam Leaderboards, HTC...</td>\n      <td>4.99</td>\n      <td>True</td>\n      <td>681550</td>\n      <td>NaN</td>\n      <td>Positive</td>\n      <td>NaN</td>\n    </tr>\n  </tbody>\n</table>\n<p>32135 rows × 16 columns</p>\n</div>"
     },
     "execution_count": 180,
     "metadata": {},
     "output_type": "execute_result"
    }
   ],
   "source": [
    "steam_games_df['id'] = steam_games_df['id'].astype(str).str.replace('.0', '', regex=False)\n",
    "steam_games_df"
   ],
   "metadata": {
    "collapsed": false,
    "ExecuteTime": {
     "end_time": "2024-05-17T22:03:16.928168Z",
     "start_time": "2024-05-17T22:03:16.893865Z"
    }
   }
  },
  {
   "cell_type": "code",
   "execution_count": 181,
   "outputs": [
    {
     "name": "stdout",
     "output_type": "stream",
     "text": [
      "Valores en 'app_name':  2\n",
      "Valores NaN en 'app_name':  32133\n",
      "Valores en 'title':  2050\n",
      "Valores NaN en 'title':  30085\n"
     ]
    }
   ],
   "source": [
    "\n",
    "nan_count_name = steam_games_df['app_name'].isnull().sum()\n",
    "non_nan_count_name = steam_games_df['app_name'].notnull().sum()\n",
    "print(\"Valores en 'app_name': \",nan_count_name)\n",
    "print(\"Valores NaN en 'app_name': \", non_nan_count_name)\n",
    "\n",
    "nan_count_title = steam_games_df['title'].isnull().sum()\n",
    "non_nan_count_title = steam_games_df['title'].notnull().sum()\n",
    "print(\"Valores en 'title': \",nan_count_title)\n",
    "print(\"Valores NaN en 'title': \", non_nan_count_title)\n"
   ],
   "metadata": {
    "collapsed": false,
    "ExecuteTime": {
     "end_time": "2024-05-17T22:03:16.932904Z",
     "start_time": "2024-05-17T22:03:16.914609Z"
    }
   }
  },
  {
   "cell_type": "markdown",
   "source": [
    "Ahora podemos tener los juegos individualmente con pandas con un simple `read_json`"
   ],
   "metadata": {
    "collapsed": false
   }
  },
  {
   "cell_type": "markdown",
   "source": [
    "Repetimos para las reviews de usuarios australianos."
   ],
   "metadata": {
    "collapsed": false
   }
  },
  {
   "cell_type": "code",
   "execution_count": 182,
   "outputs": [],
   "source": [
    "data_aus_rev = read_lines('australian_user_reviews.json')\n",
    "json_aus_rev = parse_dataload_to_json_list(data_aus_rev)    \n",
    "with open('steam_aus_rev_p3.json', 'w', encoding='utf-8') as f:\n",
    "    for item in json_aus_rev:\n",
    "        json.dump(item, f, ensure_ascii=False)\n",
    "        f.write('\\n')"
   ],
   "metadata": {
    "collapsed": false,
    "ExecuteTime": {
     "end_time": "2024-05-17T22:03:18.525668Z",
     "start_time": "2024-05-17T22:03:16.918933Z"
    }
   }
  },
  {
   "cell_type": "code",
   "execution_count": 183,
   "outputs": [
    {
     "data": {
      "text/plain": "             user_id                                           user_url  \\\n0  76561197970982479  http://steamcommunity.com/profiles/76561197970...   \n1            js41637               http://steamcommunity.com/id/js41637   \n2          evcentric             http://steamcommunity.com/id/evcentric   \n3              doctr                 http://steamcommunity.com/id/doctr   \n4          maplemage             http://steamcommunity.com/id/maplemage   \n5             Wackky                http://steamcommunity.com/id/Wackky   \n6  76561198079601835  http://steamcommunity.com/profiles/76561198079...   \n7        MeaTCompany           http://steamcommunity.com/id/MeaTCompany   \n8  76561198089393905  http://steamcommunity.com/profiles/76561198089...   \n9  76561198156664158  http://steamcommunity.com/profiles/76561198156...   \n\n                                             reviews  \n0  [{'funny': '', 'posted': 'Posted November 5, 2...  \n1  [{'funny': '', 'posted': 'Posted June 24, 2014...  \n2  [{'funny': '', 'posted': 'Posted February 3.',...  \n3  [{'funny': '', 'posted': 'Posted October 14, 2...  \n4  [{'funny': '3 people found this review funny',...  \n5  [{'funny': '', 'posted': 'Posted May 5, 2014.'...  \n6  [{'funny': '1 person found this review funny',...  \n7  [{'funny': '', 'posted': 'Posted July 24.', 'l...  \n8  [{'funny': '5 people found this review funny',...  \n9  [{'funny': '', 'posted': 'Posted June 16.', 'l...  ",
      "text/html": "<div>\n<style scoped>\n    .dataframe tbody tr th:only-of-type {\n        vertical-align: middle;\n    }\n\n    .dataframe tbody tr th {\n        vertical-align: top;\n    }\n\n    .dataframe thead th {\n        text-align: right;\n    }\n</style>\n<table border=\"1\" class=\"dataframe\">\n  <thead>\n    <tr style=\"text-align: right;\">\n      <th></th>\n      <th>user_id</th>\n      <th>user_url</th>\n      <th>reviews</th>\n    </tr>\n  </thead>\n  <tbody>\n    <tr>\n      <th>0</th>\n      <td>76561197970982479</td>\n      <td>http://steamcommunity.com/profiles/76561197970...</td>\n      <td>[{'funny': '', 'posted': 'Posted November 5, 2...</td>\n    </tr>\n    <tr>\n      <th>1</th>\n      <td>js41637</td>\n      <td>http://steamcommunity.com/id/js41637</td>\n      <td>[{'funny': '', 'posted': 'Posted June 24, 2014...</td>\n    </tr>\n    <tr>\n      <th>2</th>\n      <td>evcentric</td>\n      <td>http://steamcommunity.com/id/evcentric</td>\n      <td>[{'funny': '', 'posted': 'Posted February 3.',...</td>\n    </tr>\n    <tr>\n      <th>3</th>\n      <td>doctr</td>\n      <td>http://steamcommunity.com/id/doctr</td>\n      <td>[{'funny': '', 'posted': 'Posted October 14, 2...</td>\n    </tr>\n    <tr>\n      <th>4</th>\n      <td>maplemage</td>\n      <td>http://steamcommunity.com/id/maplemage</td>\n      <td>[{'funny': '3 people found this review funny',...</td>\n    </tr>\n    <tr>\n      <th>5</th>\n      <td>Wackky</td>\n      <td>http://steamcommunity.com/id/Wackky</td>\n      <td>[{'funny': '', 'posted': 'Posted May 5, 2014.'...</td>\n    </tr>\n    <tr>\n      <th>6</th>\n      <td>76561198079601835</td>\n      <td>http://steamcommunity.com/profiles/76561198079...</td>\n      <td>[{'funny': '1 person found this review funny',...</td>\n    </tr>\n    <tr>\n      <th>7</th>\n      <td>MeaTCompany</td>\n      <td>http://steamcommunity.com/id/MeaTCompany</td>\n      <td>[{'funny': '', 'posted': 'Posted July 24.', 'l...</td>\n    </tr>\n    <tr>\n      <th>8</th>\n      <td>76561198089393905</td>\n      <td>http://steamcommunity.com/profiles/76561198089...</td>\n      <td>[{'funny': '5 people found this review funny',...</td>\n    </tr>\n    <tr>\n      <th>9</th>\n      <td>76561198156664158</td>\n      <td>http://steamcommunity.com/profiles/76561198156...</td>\n      <td>[{'funny': '', 'posted': 'Posted June 16.', 'l...</td>\n    </tr>\n  </tbody>\n</table>\n</div>"
     },
     "execution_count": 183,
     "metadata": {},
     "output_type": "execute_result"
    }
   ],
   "source": [
    "steam_aus_rev_df = pd.read_json('steam_aus_rev_p3.json', lines=True)\n",
    "\n",
    "steam_aus_rev_df.head(10)"
   ],
   "metadata": {
    "collapsed": false,
    "ExecuteTime": {
     "end_time": "2024-05-17T22:03:18.698895Z",
     "start_time": "2024-05-17T22:03:18.521806Z"
    }
   }
  },
  {
   "cell_type": "markdown",
   "source": [
    "Parece ser que reviews se quedo con un objeto que puede ser de 1-* y es lo que queremos realmente. "
   ],
   "metadata": {
    "collapsed": false
   }
  },
  {
   "cell_type": "code",
   "execution_count": 184,
   "outputs": [
    {
     "data": {
      "text/plain": "user_id     object\nuser_url    object\nreviews     object\ndtype: object"
     },
     "execution_count": 184,
     "metadata": {},
     "output_type": "execute_result"
    }
   ],
   "source": [
    "steam_aus_rev_df.dtypes"
   ],
   "metadata": {
    "collapsed": false,
    "ExecuteTime": {
     "end_time": "2024-05-17T22:03:18.702143Z",
     "start_time": "2024-05-17T22:03:18.698624Z"
    }
   }
  },
  {
   "cell_type": "code",
   "execution_count": 185,
   "outputs": [
    {
     "name": "stdout",
     "output_type": "stream",
     "text": [
      "<class 'list'>\n"
     ]
    }
   ],
   "source": [
    "print(type(steam_aus_rev_df['reviews'].iloc[0]))"
   ],
   "metadata": {
    "collapsed": false,
    "ExecuteTime": {
     "end_time": "2024-05-17T22:03:18.703893Z",
     "start_time": "2024-05-17T22:03:18.701250Z"
    }
   }
  },
  {
   "cell_type": "code",
   "execution_count": 186,
   "outputs": [],
   "source": [
    "#Si el objeto hubiera sido str en vez de list -> \n",
    "#steam_aus_rev_df['reviews'] = steam_aus_rev_df['reviews'].apply(json.loads)\n",
    "working_df = steam_aus_rev_df.explode('reviews')\n",
    "reviews_df = pd.json_normalize(working_df['reviews'])\n",
    "reviews_df = reviews_df.join(working_df[['user_id', 'user_url']].reset_index(drop=True))\n"
   ],
   "metadata": {
    "collapsed": false,
    "ExecuteTime": {
     "end_time": "2024-05-17T22:03:18.833689Z",
     "start_time": "2024-05-17T22:03:18.704063Z"
    }
   }
  },
  {
   "cell_type": "code",
   "execution_count": 187,
   "outputs": [
    {
     "data": {
      "text/plain": "  funny                     posted last_edited item_id  \\\n0         Posted November 5, 2011.                1250   \n1            Posted July 15, 2011.               22200   \n2           Posted April 21, 2011.               43110   \n3            Posted June 24, 2014.              251610   \n4        Posted September 8, 2013.              227300   \n\n                                           helpful recommend  \\\n0                                   No ratings yet      True   \n1                                   No ratings yet      True   \n2                                   No ratings yet      True   \n3  15 of 20 people (75%) found this review helpful      True   \n4     0 of 1 people (0%) found this review helpful      True   \n\n                                              review            user_id  \\\n0  Simple yet with great replayability. In my opi...  76561197970982479   \n1               It's unique and worth a playthrough.  76561197970982479   \n2  Great atmosphere. The gunplay can be a bit chu...  76561197970982479   \n3  I know what you think when you see this title ...            js41637   \n4  For a simple (it's actually not all that simpl...            js41637   \n\n                                            user_url  \n0  http://steamcommunity.com/profiles/76561197970...  \n1  http://steamcommunity.com/profiles/76561197970...  \n2  http://steamcommunity.com/profiles/76561197970...  \n3               http://steamcommunity.com/id/js41637  \n4               http://steamcommunity.com/id/js41637  ",
      "text/html": "<div>\n<style scoped>\n    .dataframe tbody tr th:only-of-type {\n        vertical-align: middle;\n    }\n\n    .dataframe tbody tr th {\n        vertical-align: top;\n    }\n\n    .dataframe thead th {\n        text-align: right;\n    }\n</style>\n<table border=\"1\" class=\"dataframe\">\n  <thead>\n    <tr style=\"text-align: right;\">\n      <th></th>\n      <th>funny</th>\n      <th>posted</th>\n      <th>last_edited</th>\n      <th>item_id</th>\n      <th>helpful</th>\n      <th>recommend</th>\n      <th>review</th>\n      <th>user_id</th>\n      <th>user_url</th>\n    </tr>\n  </thead>\n  <tbody>\n    <tr>\n      <th>0</th>\n      <td></td>\n      <td>Posted November 5, 2011.</td>\n      <td></td>\n      <td>1250</td>\n      <td>No ratings yet</td>\n      <td>True</td>\n      <td>Simple yet with great replayability. In my opi...</td>\n      <td>76561197970982479</td>\n      <td>http://steamcommunity.com/profiles/76561197970...</td>\n    </tr>\n    <tr>\n      <th>1</th>\n      <td></td>\n      <td>Posted July 15, 2011.</td>\n      <td></td>\n      <td>22200</td>\n      <td>No ratings yet</td>\n      <td>True</td>\n      <td>It's unique and worth a playthrough.</td>\n      <td>76561197970982479</td>\n      <td>http://steamcommunity.com/profiles/76561197970...</td>\n    </tr>\n    <tr>\n      <th>2</th>\n      <td></td>\n      <td>Posted April 21, 2011.</td>\n      <td></td>\n      <td>43110</td>\n      <td>No ratings yet</td>\n      <td>True</td>\n      <td>Great atmosphere. The gunplay can be a bit chu...</td>\n      <td>76561197970982479</td>\n      <td>http://steamcommunity.com/profiles/76561197970...</td>\n    </tr>\n    <tr>\n      <th>3</th>\n      <td></td>\n      <td>Posted June 24, 2014.</td>\n      <td></td>\n      <td>251610</td>\n      <td>15 of 20 people (75%) found this review helpful</td>\n      <td>True</td>\n      <td>I know what you think when you see this title ...</td>\n      <td>js41637</td>\n      <td>http://steamcommunity.com/id/js41637</td>\n    </tr>\n    <tr>\n      <th>4</th>\n      <td></td>\n      <td>Posted September 8, 2013.</td>\n      <td></td>\n      <td>227300</td>\n      <td>0 of 1 people (0%) found this review helpful</td>\n      <td>True</td>\n      <td>For a simple (it's actually not all that simpl...</td>\n      <td>js41637</td>\n      <td>http://steamcommunity.com/id/js41637</td>\n    </tr>\n  </tbody>\n</table>\n</div>"
     },
     "execution_count": 187,
     "metadata": {},
     "output_type": "execute_result"
    }
   ],
   "source": [
    "reviews_df.head(5)"
   ],
   "metadata": {
    "collapsed": false,
    "ExecuteTime": {
     "end_time": "2024-05-17T22:03:18.837586Z",
     "start_time": "2024-05-17T22:03:18.834660Z"
    }
   }
  },
  {
   "cell_type": "code",
   "execution_count": 188,
   "outputs": [
    {
     "data": {
      "text/plain": "        funny                 posted last_edited item_id         helpful  \\\ncount   59305                  59305       59305   59305           59305   \nunique    186                   1906        1015    3682            1344   \ntop            Posted June 21, 2014.                 730  No ratings yet   \nfreq    51154                    225       53165    3759           30168   \n\n       recommend     review            user_id  \\\ncount      59305      59305              59333   \nunique         2      55313              25485   \ntop         True  good game  76561198094665607   \nfreq       52473        100                 20   \n\n                                                 user_url  \ncount                                               59333  \nunique                                              25485  \ntop     http://steamcommunity.com/profiles/76561198094...  \nfreq                                                   20  ",
      "text/html": "<div>\n<style scoped>\n    .dataframe tbody tr th:only-of-type {\n        vertical-align: middle;\n    }\n\n    .dataframe tbody tr th {\n        vertical-align: top;\n    }\n\n    .dataframe thead th {\n        text-align: right;\n    }\n</style>\n<table border=\"1\" class=\"dataframe\">\n  <thead>\n    <tr style=\"text-align: right;\">\n      <th></th>\n      <th>funny</th>\n      <th>posted</th>\n      <th>last_edited</th>\n      <th>item_id</th>\n      <th>helpful</th>\n      <th>recommend</th>\n      <th>review</th>\n      <th>user_id</th>\n      <th>user_url</th>\n    </tr>\n  </thead>\n  <tbody>\n    <tr>\n      <th>count</th>\n      <td>59305</td>\n      <td>59305</td>\n      <td>59305</td>\n      <td>59305</td>\n      <td>59305</td>\n      <td>59305</td>\n      <td>59305</td>\n      <td>59333</td>\n      <td>59333</td>\n    </tr>\n    <tr>\n      <th>unique</th>\n      <td>186</td>\n      <td>1906</td>\n      <td>1015</td>\n      <td>3682</td>\n      <td>1344</td>\n      <td>2</td>\n      <td>55313</td>\n      <td>25485</td>\n      <td>25485</td>\n    </tr>\n    <tr>\n      <th>top</th>\n      <td></td>\n      <td>Posted June 21, 2014.</td>\n      <td></td>\n      <td>730</td>\n      <td>No ratings yet</td>\n      <td>True</td>\n      <td>good game</td>\n      <td>76561198094665607</td>\n      <td>http://steamcommunity.com/profiles/76561198094...</td>\n    </tr>\n    <tr>\n      <th>freq</th>\n      <td>51154</td>\n      <td>225</td>\n      <td>53165</td>\n      <td>3759</td>\n      <td>30168</td>\n      <td>52473</td>\n      <td>100</td>\n      <td>20</td>\n      <td>20</td>\n    </tr>\n  </tbody>\n</table>\n</div>"
     },
     "execution_count": 188,
     "metadata": {},
     "output_type": "execute_result"
    }
   ],
   "source": [
    "reviews_df.describe()"
   ],
   "metadata": {
    "collapsed": false,
    "ExecuteTime": {
     "end_time": "2024-05-17T22:03:18.912161Z",
     "start_time": "2024-05-17T22:03:18.838958Z"
    }
   }
  },
  {
   "cell_type": "markdown",
   "source": [
    "Dado a que no cuento con estos datos al momento de nuestro análisis. Los quitaremos. "
   ],
   "metadata": {
    "collapsed": false
   }
  },
  {
   "cell_type": "code",
   "execution_count": 189,
   "outputs": [
    {
     "data": {
      "text/plain": "        funny                 posted last_edited item_id         helpful  \\\ncount   53988                  53988       53988   53988           53988   \nunique    176                   1880        1010    3195            1232   \ntop            Posted June 21, 2014.                 730  No ratings yet   \nfreq    46541                    207       48408    3759           27631   \n\n       recommend     review        user_id  \\\ncount      53988      53988          53988   \nunique         2      50381          24380   \ntop         True  good game  OfficialSenix   \nfreq       48206         92             20   \n\n                                          user_url  \ncount                                        53988  \nunique                                       24380  \ntop     http://steamcommunity.com/id/OfficialSenix  \nfreq                                            20  ",
      "text/html": "<div>\n<style scoped>\n    .dataframe tbody tr th:only-of-type {\n        vertical-align: middle;\n    }\n\n    .dataframe tbody tr th {\n        vertical-align: top;\n    }\n\n    .dataframe thead th {\n        text-align: right;\n    }\n</style>\n<table border=\"1\" class=\"dataframe\">\n  <thead>\n    <tr style=\"text-align: right;\">\n      <th></th>\n      <th>funny</th>\n      <th>posted</th>\n      <th>last_edited</th>\n      <th>item_id</th>\n      <th>helpful</th>\n      <th>recommend</th>\n      <th>review</th>\n      <th>user_id</th>\n      <th>user_url</th>\n    </tr>\n  </thead>\n  <tbody>\n    <tr>\n      <th>count</th>\n      <td>53988</td>\n      <td>53988</td>\n      <td>53988</td>\n      <td>53988</td>\n      <td>53988</td>\n      <td>53988</td>\n      <td>53988</td>\n      <td>53988</td>\n      <td>53988</td>\n    </tr>\n    <tr>\n      <th>unique</th>\n      <td>176</td>\n      <td>1880</td>\n      <td>1010</td>\n      <td>3195</td>\n      <td>1232</td>\n      <td>2</td>\n      <td>50381</td>\n      <td>24380</td>\n      <td>24380</td>\n    </tr>\n    <tr>\n      <th>top</th>\n      <td></td>\n      <td>Posted June 21, 2014.</td>\n      <td></td>\n      <td>730</td>\n      <td>No ratings yet</td>\n      <td>True</td>\n      <td>good game</td>\n      <td>OfficialSenix</td>\n      <td>http://steamcommunity.com/id/OfficialSenix</td>\n    </tr>\n    <tr>\n      <th>freq</th>\n      <td>46541</td>\n      <td>207</td>\n      <td>48408</td>\n      <td>3759</td>\n      <td>27631</td>\n      <td>48206</td>\n      <td>92</td>\n      <td>20</td>\n      <td>20</td>\n    </tr>\n  </tbody>\n</table>\n</div>"
     },
     "execution_count": 189,
     "metadata": {},
     "output_type": "execute_result"
    }
   ],
   "source": [
    "reviews_df = reviews_df[reviews_df['item_id'].isin(steam_games_df['id'])]\n",
    "reviews_df.describe()"
   ],
   "metadata": {
    "collapsed": false,
    "ExecuteTime": {
     "end_time": "2024-05-17T22:03:18.980064Z",
     "start_time": "2024-05-17T22:03:18.910700Z"
    }
   }
  },
  {
   "cell_type": "markdown",
   "source": [
    "Ahora podemos empezar a explorar los datos de reviews (australianos) para ver que les podemos hacer. "
   ],
   "metadata": {
    "collapsed": false
   }
  },
  {
   "cell_type": "code",
   "execution_count": 190,
   "outputs": [
    {
     "data": {
      "text/plain": "funny          object\nposted         object\nlast_edited    object\nitem_id        object\nhelpful        object\nrecommend      object\nreview         object\nuser_id        object\nuser_url       object\ndtype: object"
     },
     "execution_count": 190,
     "metadata": {},
     "output_type": "execute_result"
    }
   ],
   "source": [
    "reviews_df.dtypes"
   ],
   "metadata": {
    "collapsed": false,
    "ExecuteTime": {
     "end_time": "2024-05-17T22:03:18.980251Z",
     "start_time": "2024-05-17T22:03:18.972144Z"
    }
   }
  },
  {
   "cell_type": "code",
   "execution_count": 191,
   "outputs": [],
   "source": [
    "reviews_helpful = reviews_df['helpful']\n",
    "reviews_df = reviews_df.drop(['funny', 'helpful','posted', 'last_edited', 'user_url'], axis=1)"
   ],
   "metadata": {
    "collapsed": false,
    "ExecuteTime": {
     "end_time": "2024-05-17T22:03:18.986440Z",
     "start_time": "2024-05-17T22:03:18.979123Z"
    }
   }
  },
  {
   "cell_type": "code",
   "execution_count": 192,
   "outputs": [
    {
     "data": {
      "text/plain": "item_id      object\nrecommend    object\nreview       object\nuser_id      object\ndtype: object"
     },
     "execution_count": 192,
     "metadata": {},
     "output_type": "execute_result"
    }
   ],
   "source": [
    "reviews_df.dtypes"
   ],
   "metadata": {
    "collapsed": false,
    "ExecuteTime": {
     "end_time": "2024-05-17T22:03:18.987088Z",
     "start_time": "2024-05-17T22:03:18.981152Z"
    }
   }
  },
  {
   "cell_type": "code",
   "execution_count": 193,
   "outputs": [
    {
     "data": {
      "text/plain": "       item_id recommend     review        user_id\ncount    53988     53988      53988          53988\nunique    3195         2      50381          24380\ntop        730      True  good game  OfficialSenix\nfreq      3759     48206         92             20",
      "text/html": "<div>\n<style scoped>\n    .dataframe tbody tr th:only-of-type {\n        vertical-align: middle;\n    }\n\n    .dataframe tbody tr th {\n        vertical-align: top;\n    }\n\n    .dataframe thead th {\n        text-align: right;\n    }\n</style>\n<table border=\"1\" class=\"dataframe\">\n  <thead>\n    <tr style=\"text-align: right;\">\n      <th></th>\n      <th>item_id</th>\n      <th>recommend</th>\n      <th>review</th>\n      <th>user_id</th>\n    </tr>\n  </thead>\n  <tbody>\n    <tr>\n      <th>count</th>\n      <td>53988</td>\n      <td>53988</td>\n      <td>53988</td>\n      <td>53988</td>\n    </tr>\n    <tr>\n      <th>unique</th>\n      <td>3195</td>\n      <td>2</td>\n      <td>50381</td>\n      <td>24380</td>\n    </tr>\n    <tr>\n      <th>top</th>\n      <td>730</td>\n      <td>True</td>\n      <td>good game</td>\n      <td>OfficialSenix</td>\n    </tr>\n    <tr>\n      <th>freq</th>\n      <td>3759</td>\n      <td>48206</td>\n      <td>92</td>\n      <td>20</td>\n    </tr>\n  </tbody>\n</table>\n</div>"
     },
     "execution_count": 193,
     "metadata": {},
     "output_type": "execute_result"
    }
   ],
   "source": [
    "reviews_df.describe()"
   ],
   "metadata": {
    "collapsed": false,
    "ExecuteTime": {
     "end_time": "2024-05-17T22:03:19.037211Z",
     "start_time": "2024-05-17T22:03:18.989838Z"
    }
   }
  },
  {
   "cell_type": "code",
   "execution_count": 194,
   "outputs": [],
   "source": [
    "user_counts = reviews_df.groupby('user_id').size()\n",
    "count_frequencies = user_counts.value_counts().sort_index(ascending=False)\n",
    "count_frequencies = count_frequencies.reset_index()\n",
    "count_frequencies.columns = ['Reviews', 'Usuarios']\n",
    "count_frequencies = count_frequencies[['Usuarios', 'Reviews']]"
   ],
   "metadata": {
    "collapsed": false,
    "ExecuteTime": {
     "end_time": "2024-05-17T22:03:19.059815Z",
     "start_time": "2024-05-17T22:03:19.020115Z"
    }
   }
  },
  {
   "cell_type": "code",
   "execution_count": 195,
   "outputs": [
    {
     "data": {
      "text/plain": "    Usuarios  Reviews\n0          3       20\n1          3       18\n2          7       16\n3          7       14\n4         10       12\n5        123       10\n6        225        9\n7        352        8\n8        501        7\n9        715        6\n10       912        5\n11      1449        4\n12      2377        3\n13      4493        2\n14     13203        1",
      "text/html": "<div>\n<style scoped>\n    .dataframe tbody tr th:only-of-type {\n        vertical-align: middle;\n    }\n\n    .dataframe tbody tr th {\n        vertical-align: top;\n    }\n\n    .dataframe thead th {\n        text-align: right;\n    }\n</style>\n<table border=\"1\" class=\"dataframe\">\n  <thead>\n    <tr style=\"text-align: right;\">\n      <th></th>\n      <th>Usuarios</th>\n      <th>Reviews</th>\n    </tr>\n  </thead>\n  <tbody>\n    <tr>\n      <th>0</th>\n      <td>3</td>\n      <td>20</td>\n    </tr>\n    <tr>\n      <th>1</th>\n      <td>3</td>\n      <td>18</td>\n    </tr>\n    <tr>\n      <th>2</th>\n      <td>7</td>\n      <td>16</td>\n    </tr>\n    <tr>\n      <th>3</th>\n      <td>7</td>\n      <td>14</td>\n    </tr>\n    <tr>\n      <th>4</th>\n      <td>10</td>\n      <td>12</td>\n    </tr>\n    <tr>\n      <th>5</th>\n      <td>123</td>\n      <td>10</td>\n    </tr>\n    <tr>\n      <th>6</th>\n      <td>225</td>\n      <td>9</td>\n    </tr>\n    <tr>\n      <th>7</th>\n      <td>352</td>\n      <td>8</td>\n    </tr>\n    <tr>\n      <th>8</th>\n      <td>501</td>\n      <td>7</td>\n    </tr>\n    <tr>\n      <th>9</th>\n      <td>715</td>\n      <td>6</td>\n    </tr>\n    <tr>\n      <th>10</th>\n      <td>912</td>\n      <td>5</td>\n    </tr>\n    <tr>\n      <th>11</th>\n      <td>1449</td>\n      <td>4</td>\n    </tr>\n    <tr>\n      <th>12</th>\n      <td>2377</td>\n      <td>3</td>\n    </tr>\n    <tr>\n      <th>13</th>\n      <td>4493</td>\n      <td>2</td>\n    </tr>\n    <tr>\n      <th>14</th>\n      <td>13203</td>\n      <td>1</td>\n    </tr>\n  </tbody>\n</table>\n</div>"
     },
     "execution_count": 195,
     "metadata": {},
     "output_type": "execute_result"
    }
   ],
   "source": [
    "count_frequencies"
   ],
   "metadata": {
    "collapsed": false,
    "ExecuteTime": {
     "end_time": "2024-05-17T22:03:19.060494Z",
     "start_time": "2024-05-17T22:03:19.034845Z"
    }
   }
  },
  {
   "cell_type": "code",
   "execution_count": 196,
   "outputs": [
    {
     "data": {
      "text/plain": "recommend\nTrue     48206\nFalse     5782\nName: count, dtype: int64"
     },
     "execution_count": 196,
     "metadata": {},
     "output_type": "execute_result"
    }
   ],
   "source": [
    "reviews_df['recommend'].value_counts()"
   ],
   "metadata": {
    "collapsed": false,
    "ExecuteTime": {
     "end_time": "2024-05-17T22:03:19.061677Z",
     "start_time": "2024-05-17T22:03:19.039567Z"
    }
   }
  },
  {
   "cell_type": "code",
   "execution_count": 197,
   "outputs": [
    {
     "name": "stdout",
     "output_type": "stream",
     "text": [
      "Valores NaN en 'recommend':  0\n"
     ]
    },
    {
     "data": {
      "text/plain": "Empty DataFrame\nColumns: [item_id, recommend, review, user_id]\nIndex: []",
      "text/html": "<div>\n<style scoped>\n    .dataframe tbody tr th:only-of-type {\n        vertical-align: middle;\n    }\n\n    .dataframe tbody tr th {\n        vertical-align: top;\n    }\n\n    .dataframe thead th {\n        text-align: right;\n    }\n</style>\n<table border=\"1\" class=\"dataframe\">\n  <thead>\n    <tr style=\"text-align: right;\">\n      <th></th>\n      <th>item_id</th>\n      <th>recommend</th>\n      <th>review</th>\n      <th>user_id</th>\n    </tr>\n  </thead>\n  <tbody>\n  </tbody>\n</table>\n</div>"
     },
     "execution_count": 197,
     "metadata": {},
     "output_type": "execute_result"
    }
   ],
   "source": [
    "nan_count = reviews_df['recommend'].isnull().sum()\n",
    "\n",
    "print(\"Valores NaN en 'recommend': \", nan_count)\n",
    "\n",
    "reviews_nan = reviews_df[reviews_df['recommend'].isna()]\n",
    "\n",
    "reviews_nan"
   ],
   "metadata": {
    "collapsed": false,
    "ExecuteTime": {
     "end_time": "2024-05-17T22:03:19.061983Z",
     "start_time": "2024-05-17T22:03:19.046183Z"
    }
   }
  },
  {
   "cell_type": "code",
   "execution_count": 198,
   "outputs": [],
   "source": [
    "reviews_df = reviews_df.dropna(subset=['recommend'])"
   ],
   "metadata": {
    "collapsed": false,
    "ExecuteTime": {
     "end_time": "2024-05-17T22:03:19.072418Z",
     "start_time": "2024-05-17T22:03:19.049192Z"
    }
   }
  },
  {
   "cell_type": "code",
   "execution_count": 199,
   "outputs": [],
   "source": [
    "assert reviews_df['recommend'].isna().sum() == 0\n"
   ],
   "metadata": {
    "collapsed": false,
    "ExecuteTime": {
     "end_time": "2024-05-17T22:03:19.096944Z",
     "start_time": "2024-05-17T22:03:19.060040Z"
    }
   }
  },
  {
   "cell_type": "code",
   "execution_count": 200,
   "outputs": [
    {
     "data": {
      "text/plain": "             user_id                                             review  \\\n0  76561197970982479  Simple yet with great replayability. In my opi...   \n1  76561197970982479               It's unique and worth a playthrough.   \n4            js41637  For a simple (it's actually not all that simpl...   \n5            js41637  Very fun little game to play when your bored o...   \n6          evcentric  A suitably punishing roguelike platformer.  Wi...   \n\n   recommend item_id  \n0          1    1250  \n1          1   22200  \n4          1  227300  \n5          1  239030  \n6          1  248820  ",
      "text/html": "<div>\n<style scoped>\n    .dataframe tbody tr th:only-of-type {\n        vertical-align: middle;\n    }\n\n    .dataframe tbody tr th {\n        vertical-align: top;\n    }\n\n    .dataframe thead th {\n        text-align: right;\n    }\n</style>\n<table border=\"1\" class=\"dataframe\">\n  <thead>\n    <tr style=\"text-align: right;\">\n      <th></th>\n      <th>user_id</th>\n      <th>review</th>\n      <th>recommend</th>\n      <th>item_id</th>\n    </tr>\n  </thead>\n  <tbody>\n    <tr>\n      <th>0</th>\n      <td>76561197970982479</td>\n      <td>Simple yet with great replayability. In my opi...</td>\n      <td>1</td>\n      <td>1250</td>\n    </tr>\n    <tr>\n      <th>1</th>\n      <td>76561197970982479</td>\n      <td>It's unique and worth a playthrough.</td>\n      <td>1</td>\n      <td>22200</td>\n    </tr>\n    <tr>\n      <th>4</th>\n      <td>js41637</td>\n      <td>For a simple (it's actually not all that simpl...</td>\n      <td>1</td>\n      <td>227300</td>\n    </tr>\n    <tr>\n      <th>5</th>\n      <td>js41637</td>\n      <td>Very fun little game to play when your bored o...</td>\n      <td>1</td>\n      <td>239030</td>\n    </tr>\n    <tr>\n      <th>6</th>\n      <td>evcentric</td>\n      <td>A suitably punishing roguelike platformer.  Wi...</td>\n      <td>1</td>\n      <td>248820</td>\n    </tr>\n  </tbody>\n</table>\n</div>"
     },
     "execution_count": 200,
     "metadata": {},
     "output_type": "execute_result"
    }
   ],
   "source": [
    "reviews_df['recommend'] = reviews_df['recommend'].astype(int)\n",
    "reviews_df = reviews_df[['user_id', 'review', 'recommend','item_id']]\n",
    "\n",
    "reviews_df.head(5)"
   ],
   "metadata": {
    "collapsed": false,
    "ExecuteTime": {
     "end_time": "2024-05-17T22:03:19.125772Z",
     "start_time": "2024-05-17T22:03:19.063518Z"
    }
   }
  },
  {
   "cell_type": "code",
   "execution_count": 201,
   "outputs": [
    {
     "data": {
      "text/plain": "                 user_id                                             review  \\\n59323  76561198306599751  I cried in the end its so sadding ]'; I wish l...   \n59324           Ghoustik  Gra naprawdę fajna.Ale jest kilka rzeczy do kt...   \n59325  76561198310819422                                          Well Done   \n59326  76561198312638244  this is a very fun and nice 80s themed shooter...   \n59327  76561198312638244  if you liked Half life i would really recommen...   \n59328  76561198312638244  a must have classic from steam definitely wort...   \n59329  76561198312638244  this game is a perfect remake of the original ...   \n59330        LydiaMorley  had so much fun plaing this and collecting res...   \n59331        LydiaMorley                                                 :D   \n59332        LydiaMorley                                     so much fun :D   \n\n       recommend item_id  \n59323          1  261030  \n59324          1     730  \n59325          1     570  \n59326          1  233270  \n59327          1     130  \n59328          1      70  \n59329          1  362890  \n59330          1  273110  \n59331          1     730  \n59332          1     440  ",
      "text/html": "<div>\n<style scoped>\n    .dataframe tbody tr th:only-of-type {\n        vertical-align: middle;\n    }\n\n    .dataframe tbody tr th {\n        vertical-align: top;\n    }\n\n    .dataframe thead th {\n        text-align: right;\n    }\n</style>\n<table border=\"1\" class=\"dataframe\">\n  <thead>\n    <tr style=\"text-align: right;\">\n      <th></th>\n      <th>user_id</th>\n      <th>review</th>\n      <th>recommend</th>\n      <th>item_id</th>\n    </tr>\n  </thead>\n  <tbody>\n    <tr>\n      <th>59323</th>\n      <td>76561198306599751</td>\n      <td>I cried in the end its so sadding ]'; I wish l...</td>\n      <td>1</td>\n      <td>261030</td>\n    </tr>\n    <tr>\n      <th>59324</th>\n      <td>Ghoustik</td>\n      <td>Gra naprawdę fajna.Ale jest kilka rzeczy do kt...</td>\n      <td>1</td>\n      <td>730</td>\n    </tr>\n    <tr>\n      <th>59325</th>\n      <td>76561198310819422</td>\n      <td>Well Done</td>\n      <td>1</td>\n      <td>570</td>\n    </tr>\n    <tr>\n      <th>59326</th>\n      <td>76561198312638244</td>\n      <td>this is a very fun and nice 80s themed shooter...</td>\n      <td>1</td>\n      <td>233270</td>\n    </tr>\n    <tr>\n      <th>59327</th>\n      <td>76561198312638244</td>\n      <td>if you liked Half life i would really recommen...</td>\n      <td>1</td>\n      <td>130</td>\n    </tr>\n    <tr>\n      <th>59328</th>\n      <td>76561198312638244</td>\n      <td>a must have classic from steam definitely wort...</td>\n      <td>1</td>\n      <td>70</td>\n    </tr>\n    <tr>\n      <th>59329</th>\n      <td>76561198312638244</td>\n      <td>this game is a perfect remake of the original ...</td>\n      <td>1</td>\n      <td>362890</td>\n    </tr>\n    <tr>\n      <th>59330</th>\n      <td>LydiaMorley</td>\n      <td>had so much fun plaing this and collecting res...</td>\n      <td>1</td>\n      <td>273110</td>\n    </tr>\n    <tr>\n      <th>59331</th>\n      <td>LydiaMorley</td>\n      <td>:D</td>\n      <td>1</td>\n      <td>730</td>\n    </tr>\n    <tr>\n      <th>59332</th>\n      <td>LydiaMorley</td>\n      <td>so much fun :D</td>\n      <td>1</td>\n      <td>440</td>\n    </tr>\n  </tbody>\n</table>\n</div>"
     },
     "execution_count": 201,
     "metadata": {},
     "output_type": "execute_result"
    }
   ],
   "source": [
    "reviews_df.tail(10)"
   ],
   "metadata": {
    "collapsed": false,
    "ExecuteTime": {
     "end_time": "2024-05-17T22:03:19.127815Z",
     "start_time": "2024-05-17T22:03:19.074194Z"
    }
   }
  },
  {
   "cell_type": "code",
   "execution_count": 202,
   "outputs": [
    {
     "name": "stdout",
     "output_type": "stream",
     "text": [
      "(juego, usuarios) = (3195, 24380)\n"
     ]
    },
    {
     "data": {
      "text/plain": "user_id  --000--  --ace--  --ionex--  -2SV-vuLB-Kg  -Azsael-  -Beave-  \\\nitem_id                                                                 \n10           0.0      0.0        0.0           0.0       0.0      0.0   \n10090        0.0      0.0        0.0           0.0       0.0      0.0   \n10130        0.0      0.0        0.0           0.0       0.0      0.0   \n10140        0.0      0.0        0.0           0.0       0.0      0.0   \n10150        0.0      0.0        0.0           0.0       0.0      0.0   \n\nuser_id  -I_AM_EPIC-  -Kenny  -Mad-  -PRoSlayeR-  ...  zuilde  zukuta  zunbae  \\\nitem_id                                           ...                           \n10               0.0     0.0    0.0          0.0  ...     0.0     0.0     0.0   \n10090            0.0     0.0    0.0          0.0  ...     0.0     0.0     0.0   \n10130            0.0     0.0    0.0          0.0  ...     0.0     0.0     0.0   \n10140            0.0     0.0    0.0          0.0  ...     0.0     0.0     0.0   \n10150            0.0     0.0    0.0          0.0  ...     0.0     0.0     0.0   \n\nuser_id  zuzuga2003  zv_odd  zvanik  zwanzigdrei  zy0705  zynxgameth  zyr0n1c  \nitem_id                                                                        \n10              0.0     0.0     0.0          0.0     0.0         0.0      0.0  \n10090           0.0     0.0     0.0          0.0     0.0         0.0      0.0  \n10130           0.0     0.0     0.0          0.0     0.0         0.0      0.0  \n10140           0.0     0.0     0.0          0.0     0.0         0.0      0.0  \n10150           0.0     0.0     0.0          0.0     0.0         0.0      0.0  \n\n[5 rows x 24380 columns]",
      "text/html": "<div>\n<style scoped>\n    .dataframe tbody tr th:only-of-type {\n        vertical-align: middle;\n    }\n\n    .dataframe tbody tr th {\n        vertical-align: top;\n    }\n\n    .dataframe thead th {\n        text-align: right;\n    }\n</style>\n<table border=\"1\" class=\"dataframe\">\n  <thead>\n    <tr style=\"text-align: right;\">\n      <th>user_id</th>\n      <th>--000--</th>\n      <th>--ace--</th>\n      <th>--ionex--</th>\n      <th>-2SV-vuLB-Kg</th>\n      <th>-Azsael-</th>\n      <th>-Beave-</th>\n      <th>-I_AM_EPIC-</th>\n      <th>-Kenny</th>\n      <th>-Mad-</th>\n      <th>-PRoSlayeR-</th>\n      <th>...</th>\n      <th>zuilde</th>\n      <th>zukuta</th>\n      <th>zunbae</th>\n      <th>zuzuga2003</th>\n      <th>zv_odd</th>\n      <th>zvanik</th>\n      <th>zwanzigdrei</th>\n      <th>zy0705</th>\n      <th>zynxgameth</th>\n      <th>zyr0n1c</th>\n    </tr>\n    <tr>\n      <th>item_id</th>\n      <th></th>\n      <th></th>\n      <th></th>\n      <th></th>\n      <th></th>\n      <th></th>\n      <th></th>\n      <th></th>\n      <th></th>\n      <th></th>\n      <th></th>\n      <th></th>\n      <th></th>\n      <th></th>\n      <th></th>\n      <th></th>\n      <th></th>\n      <th></th>\n      <th></th>\n      <th></th>\n      <th></th>\n    </tr>\n  </thead>\n  <tbody>\n    <tr>\n      <th>10</th>\n      <td>0.0</td>\n      <td>0.0</td>\n      <td>0.0</td>\n      <td>0.0</td>\n      <td>0.0</td>\n      <td>0.0</td>\n      <td>0.0</td>\n      <td>0.0</td>\n      <td>0.0</td>\n      <td>0.0</td>\n      <td>...</td>\n      <td>0.0</td>\n      <td>0.0</td>\n      <td>0.0</td>\n      <td>0.0</td>\n      <td>0.0</td>\n      <td>0.0</td>\n      <td>0.0</td>\n      <td>0.0</td>\n      <td>0.0</td>\n      <td>0.0</td>\n    </tr>\n    <tr>\n      <th>10090</th>\n      <td>0.0</td>\n      <td>0.0</td>\n      <td>0.0</td>\n      <td>0.0</td>\n      <td>0.0</td>\n      <td>0.0</td>\n      <td>0.0</td>\n      <td>0.0</td>\n      <td>0.0</td>\n      <td>0.0</td>\n      <td>...</td>\n      <td>0.0</td>\n      <td>0.0</td>\n      <td>0.0</td>\n      <td>0.0</td>\n      <td>0.0</td>\n      <td>0.0</td>\n      <td>0.0</td>\n      <td>0.0</td>\n      <td>0.0</td>\n      <td>0.0</td>\n    </tr>\n    <tr>\n      <th>10130</th>\n      <td>0.0</td>\n      <td>0.0</td>\n      <td>0.0</td>\n      <td>0.0</td>\n      <td>0.0</td>\n      <td>0.0</td>\n      <td>0.0</td>\n      <td>0.0</td>\n      <td>0.0</td>\n      <td>0.0</td>\n      <td>...</td>\n      <td>0.0</td>\n      <td>0.0</td>\n      <td>0.0</td>\n      <td>0.0</td>\n      <td>0.0</td>\n      <td>0.0</td>\n      <td>0.0</td>\n      <td>0.0</td>\n      <td>0.0</td>\n      <td>0.0</td>\n    </tr>\n    <tr>\n      <th>10140</th>\n      <td>0.0</td>\n      <td>0.0</td>\n      <td>0.0</td>\n      <td>0.0</td>\n      <td>0.0</td>\n      <td>0.0</td>\n      <td>0.0</td>\n      <td>0.0</td>\n      <td>0.0</td>\n      <td>0.0</td>\n      <td>...</td>\n      <td>0.0</td>\n      <td>0.0</td>\n      <td>0.0</td>\n      <td>0.0</td>\n      <td>0.0</td>\n      <td>0.0</td>\n      <td>0.0</td>\n      <td>0.0</td>\n      <td>0.0</td>\n      <td>0.0</td>\n    </tr>\n    <tr>\n      <th>10150</th>\n      <td>0.0</td>\n      <td>0.0</td>\n      <td>0.0</td>\n      <td>0.0</td>\n      <td>0.0</td>\n      <td>0.0</td>\n      <td>0.0</td>\n      <td>0.0</td>\n      <td>0.0</td>\n      <td>0.0</td>\n      <td>...</td>\n      <td>0.0</td>\n      <td>0.0</td>\n      <td>0.0</td>\n      <td>0.0</td>\n      <td>0.0</td>\n      <td>0.0</td>\n      <td>0.0</td>\n      <td>0.0</td>\n      <td>0.0</td>\n      <td>0.0</td>\n    </tr>\n  </tbody>\n</table>\n<p>5 rows × 24380 columns</p>\n</div>"
     },
     "execution_count": 202,
     "metadata": {},
     "output_type": "execute_result"
    }
   ],
   "source": [
    "UtAus_review = reviews_df.pivot_table(values='recommend', index='item_id', columns='user_id', fill_value=0)\n",
    "print('(juego, usuarios) =', (UtAus_review.shape))\n",
    "UtAus_review.head()"
   ],
   "metadata": {
    "collapsed": false,
    "ExecuteTime": {
     "end_time": "2024-05-17T22:03:19.685226Z",
     "start_time": "2024-05-17T22:03:19.078921Z"
    }
   }
  },
  {
   "cell_type": "code",
   "execution_count": 203,
   "outputs": [
    {
     "data": {
      "text/plain": "item_id\n10       0.0\n10090    0.0\n10130    0.0\n10140    0.0\n10150    0.0\n        ... \n9940     0.0\n99400    0.0\n99700    0.0\n99900    0.0\n99910    0.0\nName: LydiaMorley, Length: 3195, dtype: float64"
     },
     "execution_count": 203,
     "metadata": {},
     "output_type": "execute_result"
    }
   ],
   "source": [
    "UtAus_review['LydiaMorley']"
   ],
   "metadata": {
    "collapsed": false,
    "ExecuteTime": {
     "end_time": "2024-05-17T22:03:19.685411Z",
     "start_time": "2024-05-17T22:03:19.676772Z"
    }
   }
  },
  {
   "cell_type": "code",
   "execution_count": 204,
   "outputs": [],
   "source": [
    "from scipy.sparse import csr_matrix\n",
    "from scipy.sparse.linalg import svds\n",
    "sparse_matrix = csr_matrix(UtAus_review.values)\n",
    "\n",
    "U, sigma, VT = svds(sparse_matrix, k=450)  \n",
    "\n",
    "sigma = np.diag(sigma)\n",
    "\n",
    "# Compute the dot product to get the approximated original matrix\n",
    "predicted_ratings = np.dot(np.dot(U, sigma), VT)\n",
    "\n",
    "# Converting the reconstructed matrix back to a DataFrame\n",
    "predicted_ratings_df = pd.DataFrame(predicted_ratings, index=UtAus_review.index, columns=UtAus_review.columns)"
   ],
   "metadata": {
    "collapsed": false,
    "ExecuteTime": {
     "end_time": "2024-05-17T22:03:25.491369Z",
     "start_time": "2024-05-17T22:03:19.679493Z"
    }
   }
  },
  {
   "cell_type": "code",
   "execution_count": 205,
   "outputs": [
    {
     "name": "stdout",
     "output_type": "stream",
     "text": [
      "RMSE: 0.3505428989509815\n"
     ]
    }
   ],
   "source": [
    "from sklearn.metrics import mean_squared_error\n",
    "from math import sqrt\n",
    "\n",
    "# Flatten the matrices to get vectors of all ratings\n",
    "actual_ratings = UtAus_review.values.flatten()\n",
    "predicted_ratings = predicted_ratings_df.values.flatten()\n",
    "\n",
    "# Only consider non-zero elements\n",
    "mask = actual_ratings > 0\n",
    "actual_ratings = actual_ratings[mask]\n",
    "predicted_ratings = predicted_ratings[mask]\n",
    "\n",
    "# Calculate RMSE\n",
    "rmse = sqrt(mean_squared_error(actual_ratings, predicted_ratings))\n",
    "print(\"RMSE:\", rmse)"
   ],
   "metadata": {
    "collapsed": false,
    "ExecuteTime": {
     "end_time": "2024-05-17T22:03:25.996853Z",
     "start_time": "2024-05-17T22:03:25.503594Z"
    }
   }
  },
  {
   "cell_type": "code",
   "execution_count": 206,
   "outputs": [],
   "source": [
    "def calculate_rmse(sparse_matrix, k):\n",
    "    U, sigma, VT = svds(sparse_matrix, k=k)\n",
    "    sigma = np.diag(sigma)\n",
    "    predicted_ratings = np.dot(np.dot(U, sigma), VT)\n",
    "    \n",
    "    actual_ratings = sparse_matrix.toarray().flatten()\n",
    "    predicted_ratings = predicted_ratings.flatten()\n",
    "    \n",
    "    mask = actual_ratings > 0\n",
    "    actual_ratings = actual_ratings[mask]\n",
    "    predicted_ratings = predicted_ratings[mask]\n",
    "    \n",
    "    rmse = sqrt(mean_squared_error(actual_ratings, predicted_ratings))\n",
    "    return rmse"
   ],
   "metadata": {
    "collapsed": false,
    "ExecuteTime": {
     "end_time": "2024-05-17T22:03:25.998659Z",
     "start_time": "2024-05-17T22:03:25.996988Z"
    }
   }
  },
  {
   "cell_type": "code",
   "execution_count": 207,
   "outputs": [
    {
     "data": {
      "text/plain": "<Figure size 1000x600 with 1 Axes>",
      "image/png": "[encoded data removed]"
     },
     "metadata": {},
     "output_type": "display_data"
    }
   ],
   "source": [
    "k_values = [50, 100, 200, 300, 400, 500, 600, 700]\n",
    "rmse_values = []\n",
    "for k in k_values:\n",
    "    rmse = calculate_rmse(sparse_matrix, k)\n",
    "    rmse_values.append(rmse)\n",
    "\n",
    "plt.figure(figsize=(10, 6))\n",
    "plt.plot(k_values, rmse_values, marker='o', linestyle='-', color='b')\n",
    "plt.title('RMSE vs. Latent Factors (k)')\n",
    "plt.xlabel('Latent Factors (k)')\n",
    "plt.ylabel('RMSE')\n",
    "plt.grid(True)\n",
    "plt.show()"
   ],
   "metadata": {
    "collapsed": false,
    "ExecuteTime": {
     "end_time": "2024-05-17T22:04:05.101350Z",
     "start_time": "2024-05-17T22:03:25.999803Z"
    }
   }
  },
  {
   "cell_type": "code",
   "execution_count": 208,
   "outputs": [
    {
     "name": "stdout",
     "output_type": "stream",
     "text": [
      "item_id\n",
      "200170    0.044101\n",
      "17510     0.043667\n",
      "413410    0.041808\n",
      "349480    0.038164\n",
      "102700    0.036182\n",
      "Name: LydiaMorley, dtype: float64\n"
     ]
    }
   ],
   "source": [
    "def recommend_items(user_id, original_matrix, predictions_df, num_recommendations=5):\n",
    "    user_col_number = original_matrix.columns.get_loc(user_id)    \n",
    "    sorted_user_predictions = predictions_df.iloc[:, user_col_number].sort_values(ascending=False)\n",
    "    #print(sorted_user_predictions)\n",
    "    user_data = original_matrix[user_id]\n",
    "    #print(user_data[user_data != 0].index)\n",
    "    return sorted_user_predictions.drop(user_data[user_data != 0].index).head(num_recommendations)\n",
    "    # return recommendations.head(num_recommendations)\n",
    "   \n",
    "\n",
    "user_id = 'LydiaMorley' \n",
    "recommendations = recommend_items(user_id, UtAus_review, predicted_ratings_df)\n",
    "print(recommendations)\n"
   ],
   "metadata": {
    "collapsed": false,
    "ExecuteTime": {
     "end_time": "2024-05-17T22:04:05.104725Z",
     "start_time": "2024-05-17T22:04:05.101853Z"
    }
   }
  },
  {
   "cell_type": "code",
   "execution_count": 209,
   "outputs": [
    {
     "data": {
      "text/plain": "  item_id  predicted_rating\n0  200170          0.044101\n1   17510          0.043667\n2  413410          0.041808\n3  349480          0.038164\n4  102700          0.036182",
      "text/html": "<div>\n<style scoped>\n    .dataframe tbody tr th:only-of-type {\n        vertical-align: middle;\n    }\n\n    .dataframe tbody tr th {\n        vertical-align: top;\n    }\n\n    .dataframe thead th {\n        text-align: right;\n    }\n</style>\n<table border=\"1\" class=\"dataframe\">\n  <thead>\n    <tr style=\"text-align: right;\">\n      <th></th>\n      <th>item_id</th>\n      <th>predicted_rating</th>\n    </tr>\n  </thead>\n  <tbody>\n    <tr>\n      <th>0</th>\n      <td>200170</td>\n      <td>0.044101</td>\n    </tr>\n    <tr>\n      <th>1</th>\n      <td>17510</td>\n      <td>0.043667</td>\n    </tr>\n    <tr>\n      <th>2</th>\n      <td>413410</td>\n      <td>0.041808</td>\n    </tr>\n    <tr>\n      <th>3</th>\n      <td>349480</td>\n      <td>0.038164</td>\n    </tr>\n    <tr>\n      <th>4</th>\n      <td>102700</td>\n      <td>0.036182</td>\n    </tr>\n  </tbody>\n</table>\n</div>"
     },
     "execution_count": 209,
     "metadata": {},
     "output_type": "execute_result"
    }
   ],
   "source": [
    "recommendations_df = pd.DataFrame(recommendations).reset_index()\n",
    "recommendations_df.columns = ['item_id', 'predicted_rating']\n",
    "recommendations_df"
   ],
   "metadata": {
    "collapsed": false,
    "ExecuteTime": {
     "end_time": "2024-05-17T22:04:05.110135Z",
     "start_time": "2024-05-17T22:04:05.106247Z"
    }
   }
  },
  {
   "cell_type": "markdown",
   "source": [
    "## Recomendaciones con svd basico: "
   ],
   "metadata": {
    "collapsed": false
   }
  },
  {
   "cell_type": "code",
   "execution_count": 210,
   "outputs": [
    {
     "data": {
      "text/plain": "  item_id  predicted_rating                 publisher  \\\n0  200170          0.044101        Team17 Digital Ltd   \n1   17510          0.043667                       NaN   \n2  413410          0.041808  Spike Chunsoft Co., Ltd.   \n3  349480          0.038164          Steam Greenlight   \n4  102700          0.036182    En Masse Entertainment   \n\n                        genres                          app_name  \\\n0                   [Strategy]                  Worms Revolution   \n1                      [Indie]                   Age of Chivalry   \n2                  [Adventure]  Danganronpa: Trigger Happy Havoc   \n3  [Action, Free to Play, RPG]                    Modular Combat   \n4       [Action, Free to Play]  A.V.A. Alliance of Valiant Arms™   \n\n                              title  \\\n0                  Worms Revolution   \n1                   Age of Chivalry   \n2  Danganronpa: Trigger Happy Havoc   \n3                    Modular Combat   \n4  A.V.A. Alliance of Valiant Arms™   \n\n                                                 url release_date  \\\n0  http://store.steampowered.com/app/200170/Worms...   2012-10-10   \n1  http://store.steampowered.com/app/17510/Age_of...   2007-12-01   \n2  http://store.steampowered.com/app/413410/Danga...   2016-02-18   \n3  http://store.steampowered.com/app/349480/Modul...   2008-01-18   \n4  http://store.steampowered.com/app/102700/AVA_A...   2011-06-14   \n\n                                                tags  discount_price  \\\n0  [Strategy, Multiplayer, Funny, Turn-Based Stra...             NaN   \n1  [Indie, Free to Play, Medieval, Mod, Action, M...             NaN   \n2  [Anime, Mystery, Visual Novel, Detective, Stor...             NaN   \n3  [Free to Play, Multiplayer, Action, Mod, FPS, ...             NaN   \n4  [Free to Play, FPS, Action, Multiplayer, Shoot...             NaN   \n\n                                         reviews_url  \\\n0  http://steamcommunity.com/app/200170/reviews/?...   \n1  http://steamcommunity.com/app/17510/reviews/?b...   \n2  http://steamcommunity.com/app/413410/reviews/?...   \n3  http://steamcommunity.com/app/349480/reviews/?...   \n4  http://steamcommunity.com/app/102700/reviews/?...   \n\n                                               specs         price  \\\n0  [Single-player, Multi-player, Co-op, Shared/Sp...         14.99   \n1  [Multi-player, Co-op, Mods, Mods (require HL2)...          Free   \n2  [Single-player, Steam Achievements, Full contr...         19.99   \n3  [Multi-player, Co-op, Captions available, Part...      Free Mod   \n4  [Multi-player, Online Multi-Player, Co-op, Onl...  Free to Play   \n\n   early_access      id                                   developer  \\\n0         False  200170                          Team17 Digital Ltd   \n1         False   17510                               Team Chivalry   \n2         False  413410  Spike Chunsoft Co., Ltd.,Abstraction Games   \n3         False  349480                 Ascension Entertainment LLC   \n4         False  102700                               Red Duck Inc.   \n\n                 sentiment metascore  \n0            Very Positive        73  \n1            Very Positive       NaN  \n2  Overwhelmingly Positive        82  \n3          Mostly Positive       NaN  \n4                    Mixed       NaN  ",
      "text/html": "<div>\n<style scoped>\n    .dataframe tbody tr th:only-of-type {\n        vertical-align: middle;\n    }\n\n    .dataframe tbody tr th {\n        vertical-align: top;\n    }\n\n    .dataframe thead th {\n        text-align: right;\n    }\n</style>\n<table border=\"1\" class=\"dataframe\">\n  <thead>\n    <tr style=\"text-align: right;\">\n      <th></th>\n      <th>item_id</th>\n      <th>predicted_rating</th>\n      <th>publisher</th>\n      <th>genres</th>\n      <th>app_name</th>\n      <th>title</th>\n      <th>url</th>\n      <th>release_date</th>\n      <th>tags</th>\n      <th>discount_price</th>\n      <th>reviews_url</th>\n      <th>specs</th>\n      <th>price</th>\n      <th>early_access</th>\n      <th>id</th>\n      <th>developer</th>\n      <th>sentiment</th>\n      <th>metascore</th>\n    </tr>\n  </thead>\n  <tbody>\n    <tr>\n      <th>0</th>\n      <td>200170</td>\n      <td>0.044101</td>\n      <td>Team17 Digital Ltd</td>\n      <td>[Strategy]</td>\n      <td>Worms Revolution</td>\n      <td>Worms Revolution</td>\n      <td>http://store.steampowered.com/app/200170/Worms...</td>\n      <td>2012-10-10</td>\n      <td>[Strategy, Multiplayer, Funny, Turn-Based Stra...</td>\n      <td>NaN</td>\n      <td>http://steamcommunity.com/app/200170/reviews/?...</td>\n      <td>[Single-player, Multi-player, Co-op, Shared/Sp...</td>\n      <td>14.99</td>\n      <td>False</td>\n      <td>200170</td>\n      <td>Team17 Digital Ltd</td>\n      <td>Very Positive</td>\n      <td>73</td>\n    </tr>\n    <tr>\n      <th>1</th>\n      <td>17510</td>\n      <td>0.043667</td>\n      <td>NaN</td>\n      <td>[Indie]</td>\n      <td>Age of Chivalry</td>\n      <td>Age of Chivalry</td>\n      <td>http://store.steampowered.com/app/17510/Age_of...</td>\n      <td>2007-12-01</td>\n      <td>[Indie, Free to Play, Medieval, Mod, Action, M...</td>\n      <td>NaN</td>\n      <td>http://steamcommunity.com/app/17510/reviews/?b...</td>\n      <td>[Multi-player, Co-op, Mods, Mods (require HL2)...</td>\n      <td>Free</td>\n      <td>False</td>\n      <td>17510</td>\n      <td>Team Chivalry</td>\n      <td>Very Positive</td>\n      <td>NaN</td>\n    </tr>\n    <tr>\n      <th>2</th>\n      <td>413410</td>\n      <td>0.041808</td>\n      <td>Spike Chunsoft Co., Ltd.</td>\n      <td>[Adventure]</td>\n      <td>Danganronpa: Trigger Happy Havoc</td>\n      <td>Danganronpa: Trigger Happy Havoc</td>\n      <td>http://store.steampowered.com/app/413410/Danga...</td>\n      <td>2016-02-18</td>\n      <td>[Anime, Mystery, Visual Novel, Detective, Stor...</td>\n      <td>NaN</td>\n      <td>http://steamcommunity.com/app/413410/reviews/?...</td>\n      <td>[Single-player, Steam Achievements, Full contr...</td>\n      <td>19.99</td>\n      <td>False</td>\n      <td>413410</td>\n      <td>Spike Chunsoft Co., Ltd.,Abstraction Games</td>\n      <td>Overwhelmingly Positive</td>\n      <td>82</td>\n    </tr>\n    <tr>\n      <th>3</th>\n      <td>349480</td>\n      <td>0.038164</td>\n      <td>Steam Greenlight</td>\n      <td>[Action, Free to Play, RPG]</td>\n      <td>Modular Combat</td>\n      <td>Modular Combat</td>\n      <td>http://store.steampowered.com/app/349480/Modul...</td>\n      <td>2008-01-18</td>\n      <td>[Free to Play, Multiplayer, Action, Mod, FPS, ...</td>\n      <td>NaN</td>\n      <td>http://steamcommunity.com/app/349480/reviews/?...</td>\n      <td>[Multi-player, Co-op, Captions available, Part...</td>\n      <td>Free Mod</td>\n      <td>False</td>\n      <td>349480</td>\n      <td>Ascension Entertainment LLC</td>\n      <td>Mostly Positive</td>\n      <td>NaN</td>\n    </tr>\n    <tr>\n      <th>4</th>\n      <td>102700</td>\n      <td>0.036182</td>\n      <td>En Masse Entertainment</td>\n      <td>[Action, Free to Play]</td>\n      <td>A.V.A. Alliance of Valiant Arms™</td>\n      <td>A.V.A. Alliance of Valiant Arms™</td>\n      <td>http://store.steampowered.com/app/102700/AVA_A...</td>\n      <td>2011-06-14</td>\n      <td>[Free to Play, FPS, Action, Multiplayer, Shoot...</td>\n      <td>NaN</td>\n      <td>http://steamcommunity.com/app/102700/reviews/?...</td>\n      <td>[Multi-player, Online Multi-Player, Co-op, Onl...</td>\n      <td>Free to Play</td>\n      <td>False</td>\n      <td>102700</td>\n      <td>Red Duck Inc.</td>\n      <td>Mixed</td>\n      <td>NaN</td>\n    </tr>\n  </tbody>\n</table>\n</div>"
     },
     "execution_count": 210,
     "metadata": {},
     "output_type": "execute_result"
    }
   ],
   "source": [
    "merged_df = recommendations_df.merge(steam_games_df, left_on='item_id', right_on='id', how='left')\n",
    "merged_df"
   ],
   "metadata": {
    "collapsed": false,
    "ExecuteTime": {
     "end_time": "2024-05-17T22:04:05.118720Z",
     "start_time": "2024-05-17T22:04:05.110696Z"
    }
   }
  },
  {
   "cell_type": "markdown",
   "source": [],
   "metadata": {
    "collapsed": false
   }
  },
  {
   "cell_type": "markdown",
   "source": [
    "\n"
   ],
   "metadata": {
    "collapsed": false
   }
  },
  {
   "cell_type": "code",
   "execution_count": 210,
   "outputs": [],
   "source": [],
   "metadata": {
    "collapsed": false,
    "ExecuteTime": {
     "end_time": "2024-05-17T22:04:05.120476Z",
     "start_time": "2024-05-17T22:04:05.118244Z"
    }
   }
  }
 ],
 "metadata": {
  "kernelspec": {
   "display_name": "Python 3",
   "language": "python",
   "name": "python3"
  },
  "language_info": {
   "codemirror_mode": {
    "name": "ipython",
    "version": 3
   },
   "file_extension": ".py",
   "mimetype": "text/x-python",
   "name": "python",
   "nbconvert_exporter": "python",
   "pygments_lexer": "ipython3",
   "version": "3.8.5"
  },
  "colab": {
   "provenance": []
  }
 },
 "nbformat": 4,
 "nbformat_minor": 0
}
