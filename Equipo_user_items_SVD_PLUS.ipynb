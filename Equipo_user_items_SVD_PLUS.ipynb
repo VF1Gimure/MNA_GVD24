{
 "cells": [
  {
   "cell_type": "code",
   "execution_count": 1,
   "outputs": [],
   "source": [
    "import pandas as pd\n",
    "import numpy as np\n",
    "import matplotlib.pyplot as plt\n",
    "import seaborn as sns\n",
    "import scipy.stats as stats\n",
    "import json\n",
    "from sklearn.metrics import mean_squared_error\n",
    "from math import sqrt\n",
    "from scipy.sparse import csr_matrix\n",
    "from scipy.sparse.linalg import svds\n",
    "import time\n",
    "from sklearn.metrics.pairwise import cosine_similarity\n",
    "from collections import Counter\n",
    "from sklearn.preprocessing import MinMaxScaler"
   ],
   "metadata": {
    "collapsed": false,
    "ExecuteTime": {
     "end_time": "2024-06-16T17:32:33.415837Z",
     "start_time": "2024-06-16T17:32:33.346673Z"
    }
   }
  },
  {
   "cell_type": "code",
   "execution_count": 2,
   "outputs": [],
   "source": [
    "pd.options.mode.copy_on_write = True "
   ],
   "metadata": {
    "collapsed": false,
    "ExecuteTime": {
     "end_time": "2024-06-16T17:32:33.417853Z",
     "start_time": "2024-06-16T17:32:33.415405Z"
    }
   }
  },
  {
   "cell_type": "code",
   "execution_count": 3,
   "outputs": [],
   "source": [
    "steam_games_df_base = pd.read_json('steam_games_df.json', lines=True)\n",
    "\n",
    "reviews_df_base = pd.read_json('reviews_df.json', lines=True)\n",
    "\n",
    "user_items_df_base = pd.read_json('user_items_df.json', lines=True)"
   ],
   "metadata": {
    "collapsed": false,
    "ExecuteTime": {
     "end_time": "2024-06-16T17:32:43.063181Z",
     "start_time": "2024-06-16T17:32:33.417387Z"
    }
   }
  },
  {
   "cell_type": "code",
   "execution_count": 4,
   "outputs": [],
   "source": [
    "steam_games_df = steam_games_df_base\n",
    "\n",
    "reviews_df = reviews_df_base\n",
    "\n",
    "user_items_df = user_items_df_base"
   ],
   "metadata": {
    "collapsed": false,
    "ExecuteTime": {
     "end_time": "2024-06-16T17:32:43.068354Z",
     "start_time": "2024-06-16T17:32:43.063558Z"
    }
   }
  },
  {
   "cell_type": "markdown",
   "source": [
    "# Preprocesamiento"
   ],
   "metadata": {
    "collapsed": false
   }
  },
  {
   "cell_type": "code",
   "execution_count": 5,
   "outputs": [],
   "source": [
    "#steam games\n",
    "steam_games_df = steam_games_df[steam_games_df['item_id'].notna()]\n",
    "steam_games_df.reset_index(drop=True, inplace=True)\n",
    "steam_games_df['item_id'] = steam_games_df['item_id'].astype(int)"
   ],
   "metadata": {
    "collapsed": false,
    "ExecuteTime": {
     "end_time": "2024-06-16T17:32:43.073558Z",
     "start_time": "2024-06-16T17:32:43.066119Z"
    }
   }
  },
  {
   "cell_type": "code",
   "execution_count": 6,
   "outputs": [
    {
     "data": {
      "text/plain": "              publisher                                             genres  \\\n0             Kotoshiro      [Action, Casual, Indie, Simulation, Strategy]   \n1      Making Fun, Inc.               [Free to Play, Indie, RPG, Strategy]   \n2          Poolians.com  [Casual, Free to Play, Indie, Simulation, Sports]   \n3                  彼岸领域                        [Action, Adventure, Casual]   \n4                                                                       []   \n...                 ...                                                ...   \n32128   Ghost_RUS Games              [Casual, Indie, Simulation, Strategy]   \n32129            Sacada                          [Casual, Indie, Strategy]   \n32130      Laush Studio                        [Indie, Racing, Simulation]   \n32131          SIXNAILS                                    [Casual, Indie]   \n32132                                                                   []   \n\n                       app_name                     title  \\\n0           Lost Summoner Kitty       Lost Summoner Kitty   \n1                     Ironbound                 Ironbound   \n2       Real Pool 3D - Poolians   Real Pool 3D - Poolians   \n3                       弹炸人2222                   弹炸人2222   \n4                 Log Challenge                      None   \n...                         ...                       ...   \n32128            Colony On Mars            Colony On Mars   \n32129  LOGistICAL: South Africa  LOGistICAL: South Africa   \n32130             Russian Roads             Russian Roads   \n32131       EXIT 2 - Directions       EXIT 2 - Directions   \n32132               Maze Run VR                      None   \n\n                                                     url release_date  \\\n0      http://store.steampowered.com/app/761140/Lost_...   2018-01-04   \n1      http://store.steampowered.com/app/643980/Ironb...   2018-01-04   \n2      http://store.steampowered.com/app/670290/Real_...   2017-07-24   \n3         http://store.steampowered.com/app/767400/2222/   2017-12-07   \n4      http://store.steampowered.com/app/773570/Log_C...         None   \n...                                                  ...          ...   \n32128  http://store.steampowered.com/app/773640/Colon...   2018-01-04   \n32129  http://store.steampowered.com/app/733530/LOGis...   2018-01-04   \n32130  http://store.steampowered.com/app/610660/Russi...   2018-01-04   \n32131  http://store.steampowered.com/app/658870/EXIT_...   2017-09-02   \n32132  http://store.steampowered.com/app/681550/Maze_...         None   \n\n                                                    tags  discount_price  \\\n0          [Strategy, Action, Indie, Casual, Simulation]            4.49   \n1      [Free to Play, Strategy, Indie, RPG, Card Game...             NaN   \n2      [Free to Play, Simulation, Sports, Casual, Ind...             NaN   \n3                            [Action, Adventure, Casual]            0.83   \n4                        [Action, Indie, Casual, Sports]            1.79   \n...                                                  ...             ...   \n32128              [Strategy, Indie, Casual, Simulation]            1.49   \n32129                          [Strategy, Indie, Casual]            4.24   \n32130                        [Indie, Simulation, Racing]            1.39   \n32131  [Indie, Casual, Puzzle, Singleplayer, Atmosphe...             NaN   \n32132  [Early Access, Adventure, Indie, Action, Simul...             NaN   \n\n                                             reviews_url  \\\n0      http://steamcommunity.com/app/761140/reviews/?...   \n1      http://steamcommunity.com/app/643980/reviews/?...   \n2      http://steamcommunity.com/app/670290/reviews/?...   \n3      http://steamcommunity.com/app/767400/reviews/?...   \n4      http://steamcommunity.com/app/773570/reviews/?...   \n...                                                  ...   \n32128  http://steamcommunity.com/app/773640/reviews/?...   \n32129  http://steamcommunity.com/app/733530/reviews/?...   \n32130  http://steamcommunity.com/app/610660/reviews/?...   \n32131  http://steamcommunity.com/app/658870/reviews/?...   \n32132  http://steamcommunity.com/app/681550/reviews/?...   \n\n                                                   specs         price  \\\n0                                        [Single-player]          4.99   \n1      [Single-player, Multi-player, Online Multi-Pla...  Free To Play   \n2      [Single-player, Multi-player, Online Multi-Pla...  Free to Play   \n3                                        [Single-player]          0.99   \n4      [Single-player, Full controller support, HTC V...          2.99   \n...                                                  ...           ...   \n32128                [Single-player, Steam Achievements]          1.99   \n32129  [Single-player, Steam Achievements, Steam Clou...          4.99   \n32130  [Single-player, Steam Achievements, Steam Trad...          1.99   \n32131   [Single-player, Steam Achievements, Steam Cloud]          4.99   \n32132  [Single-player, Stats, Steam Leaderboards, HTC...          4.99   \n\n       early_access  item_id                 developer        sentiment  \n0             False   761140                 Kotoshiro             None  \n1             False   643980          Secret Level SRL  Mostly Positive  \n2             False   670290              Poolians.com  Mostly Positive  \n3             False   767400                      彼岸领域             None  \n4             False   773570                      None             None  \n...             ...      ...                       ...              ...  \n32128         False   773640        Nikita \"Ghost_RUS\"             None  \n32129         False   733530                    Sacada             None  \n32130         False   610660  Laush Dmitriy Sergeevich             None  \n32131         False   658870             xropi,stev3ns   1 user reviews  \n32132          True   681550                      None         Positive  \n\n[32133 rows x 15 columns]",
      "text/html": "<div>\n<style scoped>\n    .dataframe tbody tr th:only-of-type {\n        vertical-align: middle;\n    }\n\n    .dataframe tbody tr th {\n        vertical-align: top;\n    }\n\n    .dataframe thead th {\n        text-align: right;\n    }\n</style>\n<table border=\"1\" class=\"dataframe\">\n  <thead>\n    <tr style=\"text-align: right;\">\n      <th></th>\n      <th>publisher</th>\n      <th>genres</th>\n      <th>app_name</th>\n      <th>title</th>\n      <th>url</th>\n      <th>release_date</th>\n      <th>tags</th>\n      <th>discount_price</th>\n      <th>reviews_url</th>\n      <th>specs</th>\n      <th>price</th>\n      <th>early_access</th>\n      <th>item_id</th>\n      <th>developer</th>\n      <th>sentiment</th>\n    </tr>\n  </thead>\n  <tbody>\n    <tr>\n      <th>0</th>\n      <td>Kotoshiro</td>\n      <td>[Action, Casual, Indie, Simulation, Strategy]</td>\n      <td>Lost Summoner Kitty</td>\n      <td>Lost Summoner Kitty</td>\n      <td>http://store.steampowered.com/app/761140/Lost_...</td>\n      <td>2018-01-04</td>\n      <td>[Strategy, Action, Indie, Casual, Simulation]</td>\n      <td>4.49</td>\n      <td>http://steamcommunity.com/app/761140/reviews/?...</td>\n      <td>[Single-player]</td>\n      <td>4.99</td>\n      <td>False</td>\n      <td>761140</td>\n      <td>Kotoshiro</td>\n      <td>None</td>\n    </tr>\n    <tr>\n      <th>1</th>\n      <td>Making Fun, Inc.</td>\n      <td>[Free to Play, Indie, RPG, Strategy]</td>\n      <td>Ironbound</td>\n      <td>Ironbound</td>\n      <td>http://store.steampowered.com/app/643980/Ironb...</td>\n      <td>2018-01-04</td>\n      <td>[Free to Play, Strategy, Indie, RPG, Card Game...</td>\n      <td>NaN</td>\n      <td>http://steamcommunity.com/app/643980/reviews/?...</td>\n      <td>[Single-player, Multi-player, Online Multi-Pla...</td>\n      <td>Free To Play</td>\n      <td>False</td>\n      <td>643980</td>\n      <td>Secret Level SRL</td>\n      <td>Mostly Positive</td>\n    </tr>\n    <tr>\n      <th>2</th>\n      <td>Poolians.com</td>\n      <td>[Casual, Free to Play, Indie, Simulation, Sports]</td>\n      <td>Real Pool 3D - Poolians</td>\n      <td>Real Pool 3D - Poolians</td>\n      <td>http://store.steampowered.com/app/670290/Real_...</td>\n      <td>2017-07-24</td>\n      <td>[Free to Play, Simulation, Sports, Casual, Ind...</td>\n      <td>NaN</td>\n      <td>http://steamcommunity.com/app/670290/reviews/?...</td>\n      <td>[Single-player, Multi-player, Online Multi-Pla...</td>\n      <td>Free to Play</td>\n      <td>False</td>\n      <td>670290</td>\n      <td>Poolians.com</td>\n      <td>Mostly Positive</td>\n    </tr>\n    <tr>\n      <th>3</th>\n      <td>彼岸领域</td>\n      <td>[Action, Adventure, Casual]</td>\n      <td>弹炸人2222</td>\n      <td>弹炸人2222</td>\n      <td>http://store.steampowered.com/app/767400/2222/</td>\n      <td>2017-12-07</td>\n      <td>[Action, Adventure, Casual]</td>\n      <td>0.83</td>\n      <td>http://steamcommunity.com/app/767400/reviews/?...</td>\n      <td>[Single-player]</td>\n      <td>0.99</td>\n      <td>False</td>\n      <td>767400</td>\n      <td>彼岸领域</td>\n      <td>None</td>\n    </tr>\n    <tr>\n      <th>4</th>\n      <td></td>\n      <td>[]</td>\n      <td>Log Challenge</td>\n      <td>None</td>\n      <td>http://store.steampowered.com/app/773570/Log_C...</td>\n      <td>None</td>\n      <td>[Action, Indie, Casual, Sports]</td>\n      <td>1.79</td>\n      <td>http://steamcommunity.com/app/773570/reviews/?...</td>\n      <td>[Single-player, Full controller support, HTC V...</td>\n      <td>2.99</td>\n      <td>False</td>\n      <td>773570</td>\n      <td>None</td>\n      <td>None</td>\n    </tr>\n    <tr>\n      <th>...</th>\n      <td>...</td>\n      <td>...</td>\n      <td>...</td>\n      <td>...</td>\n      <td>...</td>\n      <td>...</td>\n      <td>...</td>\n      <td>...</td>\n      <td>...</td>\n      <td>...</td>\n      <td>...</td>\n      <td>...</td>\n      <td>...</td>\n      <td>...</td>\n      <td>...</td>\n    </tr>\n    <tr>\n      <th>32128</th>\n      <td>Ghost_RUS Games</td>\n      <td>[Casual, Indie, Simulation, Strategy]</td>\n      <td>Colony On Mars</td>\n      <td>Colony On Mars</td>\n      <td>http://store.steampowered.com/app/773640/Colon...</td>\n      <td>2018-01-04</td>\n      <td>[Strategy, Indie, Casual, Simulation]</td>\n      <td>1.49</td>\n      <td>http://steamcommunity.com/app/773640/reviews/?...</td>\n      <td>[Single-player, Steam Achievements]</td>\n      <td>1.99</td>\n      <td>False</td>\n      <td>773640</td>\n      <td>Nikita \"Ghost_RUS\"</td>\n      <td>None</td>\n    </tr>\n    <tr>\n      <th>32129</th>\n      <td>Sacada</td>\n      <td>[Casual, Indie, Strategy]</td>\n      <td>LOGistICAL: South Africa</td>\n      <td>LOGistICAL: South Africa</td>\n      <td>http://store.steampowered.com/app/733530/LOGis...</td>\n      <td>2018-01-04</td>\n      <td>[Strategy, Indie, Casual]</td>\n      <td>4.24</td>\n      <td>http://steamcommunity.com/app/733530/reviews/?...</td>\n      <td>[Single-player, Steam Achievements, Steam Clou...</td>\n      <td>4.99</td>\n      <td>False</td>\n      <td>733530</td>\n      <td>Sacada</td>\n      <td>None</td>\n    </tr>\n    <tr>\n      <th>32130</th>\n      <td>Laush Studio</td>\n      <td>[Indie, Racing, Simulation]</td>\n      <td>Russian Roads</td>\n      <td>Russian Roads</td>\n      <td>http://store.steampowered.com/app/610660/Russi...</td>\n      <td>2018-01-04</td>\n      <td>[Indie, Simulation, Racing]</td>\n      <td>1.39</td>\n      <td>http://steamcommunity.com/app/610660/reviews/?...</td>\n      <td>[Single-player, Steam Achievements, Steam Trad...</td>\n      <td>1.99</td>\n      <td>False</td>\n      <td>610660</td>\n      <td>Laush Dmitriy Sergeevich</td>\n      <td>None</td>\n    </tr>\n    <tr>\n      <th>32131</th>\n      <td>SIXNAILS</td>\n      <td>[Casual, Indie]</td>\n      <td>EXIT 2 - Directions</td>\n      <td>EXIT 2 - Directions</td>\n      <td>http://store.steampowered.com/app/658870/EXIT_...</td>\n      <td>2017-09-02</td>\n      <td>[Indie, Casual, Puzzle, Singleplayer, Atmosphe...</td>\n      <td>NaN</td>\n      <td>http://steamcommunity.com/app/658870/reviews/?...</td>\n      <td>[Single-player, Steam Achievements, Steam Cloud]</td>\n      <td>4.99</td>\n      <td>False</td>\n      <td>658870</td>\n      <td>xropi,stev3ns</td>\n      <td>1 user reviews</td>\n    </tr>\n    <tr>\n      <th>32132</th>\n      <td></td>\n      <td>[]</td>\n      <td>Maze Run VR</td>\n      <td>None</td>\n      <td>http://store.steampowered.com/app/681550/Maze_...</td>\n      <td>None</td>\n      <td>[Early Access, Adventure, Indie, Action, Simul...</td>\n      <td>NaN</td>\n      <td>http://steamcommunity.com/app/681550/reviews/?...</td>\n      <td>[Single-player, Stats, Steam Leaderboards, HTC...</td>\n      <td>4.99</td>\n      <td>True</td>\n      <td>681550</td>\n      <td>None</td>\n      <td>Positive</td>\n    </tr>\n  </tbody>\n</table>\n<p>32133 rows × 15 columns</p>\n</div>"
     },
     "execution_count": 6,
     "metadata": {},
     "output_type": "execute_result"
    }
   ],
   "source": [
    "steam_games_df"
   ],
   "metadata": {
    "collapsed": false,
    "ExecuteTime": {
     "end_time": "2024-06-16T17:32:43.093256Z",
     "start_time": "2024-06-16T17:32:43.075277Z"
    }
   }
  },
  {
   "cell_type": "code",
   "execution_count": 7,
   "outputs": [],
   "source": [
    "#reviews \n",
    "reviews_df = reviews_df[reviews_df['item_id'].notna()]\n",
    "reviews_df.reset_index(drop=True, inplace=True)\n",
    "reviews_df['item_id'] = reviews_df['item_id'].astype(int)\n",
    "#Si no esta en nuestra base de steam games. \n",
    "reviews_df = reviews_df[reviews_df['item_id'].isin(steam_games_df['item_id'])]\n",
    "reviews_df = reviews_df.drop(columns=['funny', 'posted', 'last_edited', 'helpful', 'user_url'], axis=1)"
   ],
   "metadata": {
    "collapsed": false,
    "ExecuteTime": {
     "end_time": "2024-06-16T17:32:43.197010Z",
     "start_time": "2024-06-16T17:32:43.084583Z"
    }
   }
  },
  {
   "cell_type": "code",
   "execution_count": 8,
   "outputs": [
    {
     "data": {
      "text/plain": "       item_id  recommend                                             review  \\\n0         1250        1.0  Simple yet with great replayability. In my opi...   \n1        22200        1.0               It's unique and worth a playthrough.   \n4       227300        1.0  For a simple (it's actually not all that simpl...   \n5       239030        1.0  Very fun little game to play when your bored o...   \n6       248820        1.0  A suitably punishing roguelike platformer.  Wi...   \n...        ...        ...                                                ...   \n59300       70        1.0  a must have classic from steam definitely wort...   \n59301   362890        1.0  this game is a perfect remake of the original ...   \n59302   273110        1.0  had so much fun plaing this and collecting res...   \n59303      730        1.0                                                 :D   \n59304      440        1.0                                     so much fun :D   \n\n                 user_id  \n0      76561197970982479  \n1      76561197970982479  \n4                js41637  \n5                js41637  \n6              evcentric  \n...                  ...  \n59300  76561198312638244  \n59301  76561198312638244  \n59302        LydiaMorley  \n59303        LydiaMorley  \n59304        LydiaMorley  \n\n[53988 rows x 4 columns]",
      "text/html": "<div>\n<style scoped>\n    .dataframe tbody tr th:only-of-type {\n        vertical-align: middle;\n    }\n\n    .dataframe tbody tr th {\n        vertical-align: top;\n    }\n\n    .dataframe thead th {\n        text-align: right;\n    }\n</style>\n<table border=\"1\" class=\"dataframe\">\n  <thead>\n    <tr style=\"text-align: right;\">\n      <th></th>\n      <th>item_id</th>\n      <th>recommend</th>\n      <th>review</th>\n      <th>user_id</th>\n    </tr>\n  </thead>\n  <tbody>\n    <tr>\n      <th>0</th>\n      <td>1250</td>\n      <td>1.0</td>\n      <td>Simple yet with great replayability. In my opi...</td>\n      <td>76561197970982479</td>\n    </tr>\n    <tr>\n      <th>1</th>\n      <td>22200</td>\n      <td>1.0</td>\n      <td>It's unique and worth a playthrough.</td>\n      <td>76561197970982479</td>\n    </tr>\n    <tr>\n      <th>4</th>\n      <td>227300</td>\n      <td>1.0</td>\n      <td>For a simple (it's actually not all that simpl...</td>\n      <td>js41637</td>\n    </tr>\n    <tr>\n      <th>5</th>\n      <td>239030</td>\n      <td>1.0</td>\n      <td>Very fun little game to play when your bored o...</td>\n      <td>js41637</td>\n    </tr>\n    <tr>\n      <th>6</th>\n      <td>248820</td>\n      <td>1.0</td>\n      <td>A suitably punishing roguelike platformer.  Wi...</td>\n      <td>evcentric</td>\n    </tr>\n    <tr>\n      <th>...</th>\n      <td>...</td>\n      <td>...</td>\n      <td>...</td>\n      <td>...</td>\n    </tr>\n    <tr>\n      <th>59300</th>\n      <td>70</td>\n      <td>1.0</td>\n      <td>a must have classic from steam definitely wort...</td>\n      <td>76561198312638244</td>\n    </tr>\n    <tr>\n      <th>59301</th>\n      <td>362890</td>\n      <td>1.0</td>\n      <td>this game is a perfect remake of the original ...</td>\n      <td>76561198312638244</td>\n    </tr>\n    <tr>\n      <th>59302</th>\n      <td>273110</td>\n      <td>1.0</td>\n      <td>had so much fun plaing this and collecting res...</td>\n      <td>LydiaMorley</td>\n    </tr>\n    <tr>\n      <th>59303</th>\n      <td>730</td>\n      <td>1.0</td>\n      <td>:D</td>\n      <td>LydiaMorley</td>\n    </tr>\n    <tr>\n      <th>59304</th>\n      <td>440</td>\n      <td>1.0</td>\n      <td>so much fun :D</td>\n      <td>LydiaMorley</td>\n    </tr>\n  </tbody>\n</table>\n<p>53988 rows × 4 columns</p>\n</div>"
     },
     "execution_count": 8,
     "metadata": {},
     "output_type": "execute_result"
    }
   ],
   "source": [
    "reviews_df"
   ],
   "metadata": {
    "collapsed": false,
    "ExecuteTime": {
     "end_time": "2024-06-16T17:32:43.212716Z",
     "start_time": "2024-06-16T17:32:43.103595Z"
    }
   }
  },
  {
   "cell_type": "code",
   "execution_count": 9,
   "outputs": [],
   "source": [
    "# Este cambio se hizo antes -> steam_games_df.rename(columns={'id': 'item_id'}, inplace=True)\n",
    "#User Items\n",
    "user_items_df = user_items_df[user_items_df['item_id'].isin(steam_games_df['item_id'])]\n",
    "user_items_df['item_id'] = user_items_df['item_id'].astype(int)\n",
    "user_items_df = user_items_df.drop(columns=['user_url'], axis=1)"
   ],
   "metadata": {
    "collapsed": false,
    "ExecuteTime": {
     "end_time": "2024-06-16T17:32:43.377249Z",
     "start_time": "2024-06-16T17:32:43.106608Z"
    }
   }
  },
  {
   "cell_type": "code",
   "execution_count": 10,
   "outputs": [
    {
     "data": {
      "text/plain": "         item_id                      item_name  playtime_forever  \\\n0             10                 Counter-Strike               6.0   \n2             30                  Day of Defeat               7.0   \n8            300          Day of Defeat: Source            4733.0   \n9            240         Counter-Strike: Source            1853.0   \n10          3830                    Psychonauts             333.0   \n...          ...                            ...               ...   \n5169828   417860                  Emily is Away               8.0   \n5170007   304930                       Unturned             677.0   \n5170008   227940              Heroes & Generals              43.0   \n5170011   388490  One Way To Die: Steam Edition               3.0   \n5170012   521570          You Have 10 Seconds 2               4.0   \n\n         playtime_2weeks            user_id  \n0                    0.0  76561197970982479  \n2                    0.0  76561197970982479  \n8                    0.0  76561197970982479  \n9                    0.0  76561197970982479  \n10                   0.0  76561197970982479  \n...                  ...                ...  \n5169828              0.0  76561198323066619  \n5170007            677.0  76561198329548331  \n5170008             43.0  76561198329548331  \n5170011              3.0  76561198329548331  \n5170012              4.0  76561198329548331  \n\n[2868055 rows x 5 columns]",
      "text/html": "<div>\n<style scoped>\n    .dataframe tbody tr th:only-of-type {\n        vertical-align: middle;\n    }\n\n    .dataframe tbody tr th {\n        vertical-align: top;\n    }\n\n    .dataframe thead th {\n        text-align: right;\n    }\n</style>\n<table border=\"1\" class=\"dataframe\">\n  <thead>\n    <tr style=\"text-align: right;\">\n      <th></th>\n      <th>item_id</th>\n      <th>item_name</th>\n      <th>playtime_forever</th>\n      <th>playtime_2weeks</th>\n      <th>user_id</th>\n    </tr>\n  </thead>\n  <tbody>\n    <tr>\n      <th>0</th>\n      <td>10</td>\n      <td>Counter-Strike</td>\n      <td>6.0</td>\n      <td>0.0</td>\n      <td>76561197970982479</td>\n    </tr>\n    <tr>\n      <th>2</th>\n      <td>30</td>\n      <td>Day of Defeat</td>\n      <td>7.0</td>\n      <td>0.0</td>\n      <td>76561197970982479</td>\n    </tr>\n    <tr>\n      <th>8</th>\n      <td>300</td>\n      <td>Day of Defeat: Source</td>\n      <td>4733.0</td>\n      <td>0.0</td>\n      <td>76561197970982479</td>\n    </tr>\n    <tr>\n      <th>9</th>\n      <td>240</td>\n      <td>Counter-Strike: Source</td>\n      <td>1853.0</td>\n      <td>0.0</td>\n      <td>76561197970982479</td>\n    </tr>\n    <tr>\n      <th>10</th>\n      <td>3830</td>\n      <td>Psychonauts</td>\n      <td>333.0</td>\n      <td>0.0</td>\n      <td>76561197970982479</td>\n    </tr>\n    <tr>\n      <th>...</th>\n      <td>...</td>\n      <td>...</td>\n      <td>...</td>\n      <td>...</td>\n      <td>...</td>\n    </tr>\n    <tr>\n      <th>5169828</th>\n      <td>417860</td>\n      <td>Emily is Away</td>\n      <td>8.0</td>\n      <td>0.0</td>\n      <td>76561198323066619</td>\n    </tr>\n    <tr>\n      <th>5170007</th>\n      <td>304930</td>\n      <td>Unturned</td>\n      <td>677.0</td>\n      <td>677.0</td>\n      <td>76561198329548331</td>\n    </tr>\n    <tr>\n      <th>5170008</th>\n      <td>227940</td>\n      <td>Heroes &amp; Generals</td>\n      <td>43.0</td>\n      <td>43.0</td>\n      <td>76561198329548331</td>\n    </tr>\n    <tr>\n      <th>5170011</th>\n      <td>388490</td>\n      <td>One Way To Die: Steam Edition</td>\n      <td>3.0</td>\n      <td>3.0</td>\n      <td>76561198329548331</td>\n    </tr>\n    <tr>\n      <th>5170012</th>\n      <td>521570</td>\n      <td>You Have 10 Seconds 2</td>\n      <td>4.0</td>\n      <td>4.0</td>\n      <td>76561198329548331</td>\n    </tr>\n  </tbody>\n</table>\n<p>2868055 rows × 5 columns</p>\n</div>"
     },
     "execution_count": 10,
     "metadata": {},
     "output_type": "execute_result"
    }
   ],
   "source": [
    "user_items_df = user_items_df[user_items_df['playtime_forever'] != 0.0]\n",
    "user_items_df"
   ],
   "metadata": {
    "collapsed": false,
    "ExecuteTime": {
     "end_time": "2024-06-16T17:32:43.552141Z",
     "start_time": "2024-06-16T17:32:43.377524Z"
    }
   }
  },
  {
   "cell_type": "code",
   "execution_count": 11,
   "outputs": [],
   "source": [
    "def sigmoid(x, scale=1):\n",
    "    return 1 / (1 + np.exp(-x * scale))\n",
    "user_items_df['log_ptime'] = np.log1p(user_items_df['playtime_forever'])\n",
    "user_items_df['exp_ptime_2week'] = sigmoid(user_items_df['playtime_2weeks'], scale=0.3) \n",
    "max_value = 10 \n",
    "user_items_df['exp_ptime_2week'] *= max_value"
   ],
   "metadata": {
    "collapsed": false,
    "ExecuteTime": {
     "end_time": "2024-06-16T17:32:43.601514Z",
     "start_time": "2024-06-16T17:32:43.552030Z"
    }
   }
  },
  {
   "cell_type": "code",
   "execution_count": 12,
   "outputs": [],
   "source": [
    "scaler_playtime = MinMaxScaler(feature_range=(0, 5))\n",
    "user_items_df['log_ptime_scaled'] = scaler_playtime.fit_transform(user_items_df[['log_ptime']].values.reshape(-1, 1))\n",
    "\n",
    "scaler_lastweek = MinMaxScaler(feature_range=(0, 5))\n",
    "user_items_df['exp_ptime_2week_scaled'] = scaler_lastweek.fit_transform(user_items_df[['exp_ptime_2week']].values.reshape(-1, 1))"
   ],
   "metadata": {
    "collapsed": false,
    "ExecuteTime": {
     "end_time": "2024-06-16T17:32:43.670002Z",
     "start_time": "2024-06-16T17:32:43.585375Z"
    }
   }
  },
  {
   "cell_type": "code",
   "execution_count": 13,
   "outputs": [],
   "source": [
    "n=0.6 # Peso para el tiempo de juego en las últimas dos semanas\n",
    "m=0.4 # Peso para el tiempo de juego total\n",
    "user_items_df['combined_rating'] = n * user_items_df['exp_ptime_2week_scaled'] + m * user_items_df['log_ptime_scaled']"
   ],
   "metadata": {
    "collapsed": false,
    "ExecuteTime": {
     "end_time": "2024-06-16T17:32:43.670226Z",
     "start_time": "2024-06-16T17:32:43.635502Z"
    }
   }
  },
  {
   "cell_type": "code",
   "execution_count": 14,
   "outputs": [],
   "source": [
    "user_items_df = pd.merge(user_items_df, reviews_df[['user_id', 'item_id', 'recommend']], on=['user_id', 'item_id'], how='left')\n",
    "#result = pd.merge(user_items_df, reviews_df, on=['user_id', 'item_id'],how='left')\n"
   ],
   "metadata": {
    "collapsed": false,
    "ExecuteTime": {
     "end_time": "2024-06-16T17:32:44.392651Z",
     "start_time": "2024-06-16T17:32:43.644996Z"
    }
   }
  },
  {
   "cell_type": "code",
   "execution_count": 15,
   "outputs": [
    {
     "data": {
      "text/plain": "         item_id                      item_name  playtime_forever  \\\n0             10                 Counter-Strike               6.0   \n1             30                  Day of Defeat               7.0   \n2            300          Day of Defeat: Source            4733.0   \n3            240         Counter-Strike: Source            1853.0   \n4           3830                    Psychonauts             333.0   \n...          ...                            ...               ...   \n2869328   417860                  Emily is Away               8.0   \n2869329   304930                       Unturned             677.0   \n2869330   227940              Heroes & Generals              43.0   \n2869331   388490  One Way To Die: Steam Edition               3.0   \n2869332   521570          You Have 10 Seconds 2               4.0   \n\n         playtime_2weeks            user_id  log_ptime  exp_ptime_2week  \\\n0                    0.0  76561197970982479   1.945910         5.000000   \n1                    0.0  76561197970982479   2.079442         5.000000   \n2                    0.0  76561197970982479   8.462526         5.000000   \n3                    0.0  76561197970982479   7.525101         5.000000   \n4                    0.0  76561197970982479   5.811141         5.000000   \n...                  ...                ...        ...              ...   \n2869328              0.0  76561198323066619   2.197225         5.000000   \n2869329            677.0  76561198329548331   6.519147        10.000000   \n2869330             43.0  76561198329548331   3.784190         9.999975   \n2869331              3.0  76561198329548331   1.386294         7.109495   \n2869332              4.0  76561198329548331   1.609438         7.685248   \n\n         log_ptime_scaled  exp_ptime_2week_scaled  combined_rating  recommend  \n0                0.493976                0.000000         0.197590        NaN  \n1                0.546629                0.000000         0.218651        NaN  \n2                3.063538                0.000000         1.225415        NaN  \n3                2.693903                0.000000         1.077561        NaN  \n4                2.018072                0.000000         0.807229        NaN  \n...                   ...                     ...              ...        ...  \n2869328          0.593072                0.000000         0.237229        NaN  \n2869329          2.297246                5.000000         3.918898        NaN  \n2869330          1.218827                4.999975         3.487516        NaN  \n2869331          0.273314                2.109495         1.375023        NaN  \n2869332          0.361302                2.685248         1.755669        NaN  \n\n[2869333 rows x 11 columns]",
      "text/html": "<div>\n<style scoped>\n    .dataframe tbody tr th:only-of-type {\n        vertical-align: middle;\n    }\n\n    .dataframe tbody tr th {\n        vertical-align: top;\n    }\n\n    .dataframe thead th {\n        text-align: right;\n    }\n</style>\n<table border=\"1\" class=\"dataframe\">\n  <thead>\n    <tr style=\"text-align: right;\">\n      <th></th>\n      <th>item_id</th>\n      <th>item_name</th>\n      <th>playtime_forever</th>\n      <th>playtime_2weeks</th>\n      <th>user_id</th>\n      <th>log_ptime</th>\n      <th>exp_ptime_2week</th>\n      <th>log_ptime_scaled</th>\n      <th>exp_ptime_2week_scaled</th>\n      <th>combined_rating</th>\n      <th>recommend</th>\n    </tr>\n  </thead>\n  <tbody>\n    <tr>\n      <th>0</th>\n      <td>10</td>\n      <td>Counter-Strike</td>\n      <td>6.0</td>\n      <td>0.0</td>\n      <td>76561197970982479</td>\n      <td>1.945910</td>\n      <td>5.000000</td>\n      <td>0.493976</td>\n      <td>0.000000</td>\n      <td>0.197590</td>\n      <td>NaN</td>\n    </tr>\n    <tr>\n      <th>1</th>\n      <td>30</td>\n      <td>Day of Defeat</td>\n      <td>7.0</td>\n      <td>0.0</td>\n      <td>76561197970982479</td>\n      <td>2.079442</td>\n      <td>5.000000</td>\n      <td>0.546629</td>\n      <td>0.000000</td>\n      <td>0.218651</td>\n      <td>NaN</td>\n    </tr>\n    <tr>\n      <th>2</th>\n      <td>300</td>\n      <td>Day of Defeat: Source</td>\n      <td>4733.0</td>\n      <td>0.0</td>\n      <td>76561197970982479</td>\n      <td>8.462526</td>\n      <td>5.000000</td>\n      <td>3.063538</td>\n      <td>0.000000</td>\n      <td>1.225415</td>\n      <td>NaN</td>\n    </tr>\n    <tr>\n      <th>3</th>\n      <td>240</td>\n      <td>Counter-Strike: Source</td>\n      <td>1853.0</td>\n      <td>0.0</td>\n      <td>76561197970982479</td>\n      <td>7.525101</td>\n      <td>5.000000</td>\n      <td>2.693903</td>\n      <td>0.000000</td>\n      <td>1.077561</td>\n      <td>NaN</td>\n    </tr>\n    <tr>\n      <th>4</th>\n      <td>3830</td>\n      <td>Psychonauts</td>\n      <td>333.0</td>\n      <td>0.0</td>\n      <td>76561197970982479</td>\n      <td>5.811141</td>\n      <td>5.000000</td>\n      <td>2.018072</td>\n      <td>0.000000</td>\n      <td>0.807229</td>\n      <td>NaN</td>\n    </tr>\n    <tr>\n      <th>...</th>\n      <td>...</td>\n      <td>...</td>\n      <td>...</td>\n      <td>...</td>\n      <td>...</td>\n      <td>...</td>\n      <td>...</td>\n      <td>...</td>\n      <td>...</td>\n      <td>...</td>\n      <td>...</td>\n    </tr>\n    <tr>\n      <th>2869328</th>\n      <td>417860</td>\n      <td>Emily is Away</td>\n      <td>8.0</td>\n      <td>0.0</td>\n      <td>76561198323066619</td>\n      <td>2.197225</td>\n      <td>5.000000</td>\n      <td>0.593072</td>\n      <td>0.000000</td>\n      <td>0.237229</td>\n      <td>NaN</td>\n    </tr>\n    <tr>\n      <th>2869329</th>\n      <td>304930</td>\n      <td>Unturned</td>\n      <td>677.0</td>\n      <td>677.0</td>\n      <td>76561198329548331</td>\n      <td>6.519147</td>\n      <td>10.000000</td>\n      <td>2.297246</td>\n      <td>5.000000</td>\n      <td>3.918898</td>\n      <td>NaN</td>\n    </tr>\n    <tr>\n      <th>2869330</th>\n      <td>227940</td>\n      <td>Heroes &amp; Generals</td>\n      <td>43.0</td>\n      <td>43.0</td>\n      <td>76561198329548331</td>\n      <td>3.784190</td>\n      <td>9.999975</td>\n      <td>1.218827</td>\n      <td>4.999975</td>\n      <td>3.487516</td>\n      <td>NaN</td>\n    </tr>\n    <tr>\n      <th>2869331</th>\n      <td>388490</td>\n      <td>One Way To Die: Steam Edition</td>\n      <td>3.0</td>\n      <td>3.0</td>\n      <td>76561198329548331</td>\n      <td>1.386294</td>\n      <td>7.109495</td>\n      <td>0.273314</td>\n      <td>2.109495</td>\n      <td>1.375023</td>\n      <td>NaN</td>\n    </tr>\n    <tr>\n      <th>2869332</th>\n      <td>521570</td>\n      <td>You Have 10 Seconds 2</td>\n      <td>4.0</td>\n      <td>4.0</td>\n      <td>76561198329548331</td>\n      <td>1.609438</td>\n      <td>7.685248</td>\n      <td>0.361302</td>\n      <td>2.685248</td>\n      <td>1.755669</td>\n      <td>NaN</td>\n    </tr>\n  </tbody>\n</table>\n<p>2869333 rows × 11 columns</p>\n</div>"
     },
     "execution_count": 15,
     "metadata": {},
     "output_type": "execute_result"
    }
   ],
   "source": [
    "user_items_df"
   ],
   "metadata": {
    "collapsed": false,
    "ExecuteTime": {
     "end_time": "2024-06-16T17:32:44.398138Z",
     "start_time": "2024-06-16T17:32:44.394932Z"
    }
   }
  },
  {
   "cell_type": "code",
   "execution_count": 16,
   "outputs": [],
   "source": [
    "#result"
   ],
   "metadata": {
    "collapsed": false,
    "ExecuteTime": {
     "end_time": "2024-06-16T17:32:44.399923Z",
     "start_time": "2024-06-16T17:32:44.397080Z"
    }
   }
  },
  {
   "cell_type": "code",
   "execution_count": 17,
   "outputs": [],
   "source": [
    "user_items_df['weighted_rating'] = user_items_df['combined_rating'] * (1 + user_items_df['recommend'].fillna(0))"
   ],
   "metadata": {
    "collapsed": false,
    "ExecuteTime": {
     "end_time": "2024-06-16T17:32:44.419202Z",
     "start_time": "2024-06-16T17:32:44.399247Z"
    }
   }
  },
  {
   "cell_type": "code",
   "execution_count": 18,
   "outputs": [],
   "source": [
    "user_item_matrix = user_items_df.pivot_table(values='weighted_rating', index='item_id', columns='user_id', fill_value=0)"
   ],
   "metadata": {
    "collapsed": false,
    "ExecuteTime": {
     "end_time": "2024-06-16T17:33:03.558373Z",
     "start_time": "2024-06-16T17:32:44.414112Z"
    }
   }
  },
  {
   "cell_type": "code",
   "execution_count": 19,
   "outputs": [
    {
     "data": {
      "text/plain": "user_id  --000--  --ace--  --ionex--  -2SV-vuLB-Kg  -404PageNotFound-  \\\nitem_id                                                                 \n10           0.0      0.0        0.0           0.0                0.0   \n20           0.0      0.0        0.0           0.0                0.0   \n30           0.0      0.0        0.0           0.0                0.0   \n40           0.0      0.0        0.0           0.0                0.0   \n50           0.0      0.0        0.0           0.0                0.0   \n...          ...      ...        ...           ...                ...   \n527510       0.0      0.0        0.0           0.0                0.0   \n527810       0.0      0.0        0.0           0.0                0.0   \n527890       0.0      0.0        0.0           0.0                0.0   \n527900       0.0      0.0        0.0           0.0                0.0   \n528660       0.0      0.0        0.0           0.0                0.0   \n\nuser_id  -AnimeIsMyThing-  -Azsael-  -Beave-  -Encore-  -GM-Dragon  ...  \\\nitem_id                                                             ...   \n10                    0.0       0.0      0.0       0.0    0.317798  ...   \n20                    0.0       0.0      0.0       0.0    0.000000  ...   \n30                    0.0       0.0      0.0       0.0    0.541621  ...   \n40                    0.0       0.0      0.0       0.0    0.000000  ...   \n50                    0.0       0.0      0.0       0.0    0.000000  ...   \n...                   ...       ...      ...       ...         ...  ...   \n527510                0.0       0.0      0.0       0.0    0.000000  ...   \n527810                0.0       0.0      0.0       0.0    0.000000  ...   \n527890                0.0       0.0      0.0       0.0    0.000000  ...   \n527900                0.0       0.0      0.0       0.0    0.000000  ...   \n528660                0.0       0.0      0.0       0.0    0.000000  ...   \n\nuser_id  zyxwvutsrqponm  zyzzchris  zzbrunozz  zzeee  zzjang2  zzonci  \\\nitem_id                                                                 \n10                  0.0        0.0        0.0    0.0      0.0     0.0   \n20                  0.0        0.0        0.0    0.0      0.0     0.0   \n30                  0.0        0.0        0.0    0.0      0.0     0.0   \n40                  0.0        0.0        0.0    0.0      0.0     0.0   \n50                  0.0        0.0        0.0    0.0      0.0     0.0   \n...                 ...        ...        ...    ...      ...     ...   \n527510              0.0        0.0        0.0    0.0      0.0     0.0   \n527810              0.0        0.0        0.0    0.0      0.0     0.0   \n527890              0.0        0.0        0.0    0.0      0.0     0.0   \n527900              0.0        0.0        0.0    0.0      0.0     0.0   \n528660              0.0        0.0        0.0    0.0      0.0     0.0   \n\nuser_id  zzoptimuszz  zzydrax     zzyfo  zzzmidmiss  \nitem_id                                              \n10               0.0      0.0  0.173277         0.0  \n20               0.0      0.0  0.000000         0.0  \n30               0.0      0.0  0.000000         0.0  \n40               0.0      0.0  0.000000         0.0  \n50               0.0      0.0  0.000000         0.0  \n...              ...      ...       ...         ...  \n527510           0.0      0.0  0.000000         0.0  \n527810           0.0      0.0  0.000000         0.0  \n527890           0.0      0.0  0.000000         0.0  \n527900           0.0      0.0  0.000000         0.0  \n528660           0.0      0.0  0.000000         0.0  \n\n[8523 rows x 67894 columns]",
      "text/html": "<div>\n<style scoped>\n    .dataframe tbody tr th:only-of-type {\n        vertical-align: middle;\n    }\n\n    .dataframe tbody tr th {\n        vertical-align: top;\n    }\n\n    .dataframe thead th {\n        text-align: right;\n    }\n</style>\n<table border=\"1\" class=\"dataframe\">\n  <thead>\n    <tr style=\"text-align: right;\">\n      <th>user_id</th>\n      <th>--000--</th>\n      <th>--ace--</th>\n      <th>--ionex--</th>\n      <th>-2SV-vuLB-Kg</th>\n      <th>-404PageNotFound-</th>\n      <th>-AnimeIsMyThing-</th>\n      <th>-Azsael-</th>\n      <th>-Beave-</th>\n      <th>-Encore-</th>\n      <th>-GM-Dragon</th>\n      <th>...</th>\n      <th>zyxwvutsrqponm</th>\n      <th>zyzzchris</th>\n      <th>zzbrunozz</th>\n      <th>zzeee</th>\n      <th>zzjang2</th>\n      <th>zzonci</th>\n      <th>zzoptimuszz</th>\n      <th>zzydrax</th>\n      <th>zzyfo</th>\n      <th>zzzmidmiss</th>\n    </tr>\n    <tr>\n      <th>item_id</th>\n      <th></th>\n      <th></th>\n      <th></th>\n      <th></th>\n      <th></th>\n      <th></th>\n      <th></th>\n      <th></th>\n      <th></th>\n      <th></th>\n      <th></th>\n      <th></th>\n      <th></th>\n      <th></th>\n      <th></th>\n      <th></th>\n      <th></th>\n      <th></th>\n      <th></th>\n      <th></th>\n      <th></th>\n    </tr>\n  </thead>\n  <tbody>\n    <tr>\n      <th>10</th>\n      <td>0.0</td>\n      <td>0.0</td>\n      <td>0.0</td>\n      <td>0.0</td>\n      <td>0.0</td>\n      <td>0.0</td>\n      <td>0.0</td>\n      <td>0.0</td>\n      <td>0.0</td>\n      <td>0.317798</td>\n      <td>...</td>\n      <td>0.0</td>\n      <td>0.0</td>\n      <td>0.0</td>\n      <td>0.0</td>\n      <td>0.0</td>\n      <td>0.0</td>\n      <td>0.0</td>\n      <td>0.0</td>\n      <td>0.173277</td>\n      <td>0.0</td>\n    </tr>\n    <tr>\n      <th>20</th>\n      <td>0.0</td>\n      <td>0.0</td>\n      <td>0.0</td>\n      <td>0.0</td>\n      <td>0.0</td>\n      <td>0.0</td>\n      <td>0.0</td>\n      <td>0.0</td>\n      <td>0.0</td>\n      <td>0.000000</td>\n      <td>...</td>\n      <td>0.0</td>\n      <td>0.0</td>\n      <td>0.0</td>\n      <td>0.0</td>\n      <td>0.0</td>\n      <td>0.0</td>\n      <td>0.0</td>\n      <td>0.0</td>\n      <td>0.000000</td>\n      <td>0.0</td>\n    </tr>\n    <tr>\n      <th>30</th>\n      <td>0.0</td>\n      <td>0.0</td>\n      <td>0.0</td>\n      <td>0.0</td>\n      <td>0.0</td>\n      <td>0.0</td>\n      <td>0.0</td>\n      <td>0.0</td>\n      <td>0.0</td>\n      <td>0.541621</td>\n      <td>...</td>\n      <td>0.0</td>\n      <td>0.0</td>\n      <td>0.0</td>\n      <td>0.0</td>\n      <td>0.0</td>\n      <td>0.0</td>\n      <td>0.0</td>\n      <td>0.0</td>\n      <td>0.000000</td>\n      <td>0.0</td>\n    </tr>\n    <tr>\n      <th>40</th>\n      <td>0.0</td>\n      <td>0.0</td>\n      <td>0.0</td>\n      <td>0.0</td>\n      <td>0.0</td>\n      <td>0.0</td>\n      <td>0.0</td>\n      <td>0.0</td>\n      <td>0.0</td>\n      <td>0.000000</td>\n      <td>...</td>\n      <td>0.0</td>\n      <td>0.0</td>\n      <td>0.0</td>\n      <td>0.0</td>\n      <td>0.0</td>\n      <td>0.0</td>\n      <td>0.0</td>\n      <td>0.0</td>\n      <td>0.000000</td>\n      <td>0.0</td>\n    </tr>\n    <tr>\n      <th>50</th>\n      <td>0.0</td>\n      <td>0.0</td>\n      <td>0.0</td>\n      <td>0.0</td>\n      <td>0.0</td>\n      <td>0.0</td>\n      <td>0.0</td>\n      <td>0.0</td>\n      <td>0.0</td>\n      <td>0.000000</td>\n      <td>...</td>\n      <td>0.0</td>\n      <td>0.0</td>\n      <td>0.0</td>\n      <td>0.0</td>\n      <td>0.0</td>\n      <td>0.0</td>\n      <td>0.0</td>\n      <td>0.0</td>\n      <td>0.000000</td>\n      <td>0.0</td>\n    </tr>\n    <tr>\n      <th>...</th>\n      <td>...</td>\n      <td>...</td>\n      <td>...</td>\n      <td>...</td>\n      <td>...</td>\n      <td>...</td>\n      <td>...</td>\n      <td>...</td>\n      <td>...</td>\n      <td>...</td>\n      <td>...</td>\n      <td>...</td>\n      <td>...</td>\n      <td>...</td>\n      <td>...</td>\n      <td>...</td>\n      <td>...</td>\n      <td>...</td>\n      <td>...</td>\n      <td>...</td>\n      <td>...</td>\n    </tr>\n    <tr>\n      <th>527510</th>\n      <td>0.0</td>\n      <td>0.0</td>\n      <td>0.0</td>\n      <td>0.0</td>\n      <td>0.0</td>\n      <td>0.0</td>\n      <td>0.0</td>\n      <td>0.0</td>\n      <td>0.0</td>\n      <td>0.000000</td>\n      <td>...</td>\n      <td>0.0</td>\n      <td>0.0</td>\n      <td>0.0</td>\n      <td>0.0</td>\n      <td>0.0</td>\n      <td>0.0</td>\n      <td>0.0</td>\n      <td>0.0</td>\n      <td>0.000000</td>\n      <td>0.0</td>\n    </tr>\n    <tr>\n      <th>527810</th>\n      <td>0.0</td>\n      <td>0.0</td>\n      <td>0.0</td>\n      <td>0.0</td>\n      <td>0.0</td>\n      <td>0.0</td>\n      <td>0.0</td>\n      <td>0.0</td>\n      <td>0.0</td>\n      <td>0.000000</td>\n      <td>...</td>\n      <td>0.0</td>\n      <td>0.0</td>\n      <td>0.0</td>\n      <td>0.0</td>\n      <td>0.0</td>\n      <td>0.0</td>\n      <td>0.0</td>\n      <td>0.0</td>\n      <td>0.000000</td>\n      <td>0.0</td>\n    </tr>\n    <tr>\n      <th>527890</th>\n      <td>0.0</td>\n      <td>0.0</td>\n      <td>0.0</td>\n      <td>0.0</td>\n      <td>0.0</td>\n      <td>0.0</td>\n      <td>0.0</td>\n      <td>0.0</td>\n      <td>0.0</td>\n      <td>0.000000</td>\n      <td>...</td>\n      <td>0.0</td>\n      <td>0.0</td>\n      <td>0.0</td>\n      <td>0.0</td>\n      <td>0.0</td>\n      <td>0.0</td>\n      <td>0.0</td>\n      <td>0.0</td>\n      <td>0.000000</td>\n      <td>0.0</td>\n    </tr>\n    <tr>\n      <th>527900</th>\n      <td>0.0</td>\n      <td>0.0</td>\n      <td>0.0</td>\n      <td>0.0</td>\n      <td>0.0</td>\n      <td>0.0</td>\n      <td>0.0</td>\n      <td>0.0</td>\n      <td>0.0</td>\n      <td>0.000000</td>\n      <td>...</td>\n      <td>0.0</td>\n      <td>0.0</td>\n      <td>0.0</td>\n      <td>0.0</td>\n      <td>0.0</td>\n      <td>0.0</td>\n      <td>0.0</td>\n      <td>0.0</td>\n      <td>0.000000</td>\n      <td>0.0</td>\n    </tr>\n    <tr>\n      <th>528660</th>\n      <td>0.0</td>\n      <td>0.0</td>\n      <td>0.0</td>\n      <td>0.0</td>\n      <td>0.0</td>\n      <td>0.0</td>\n      <td>0.0</td>\n      <td>0.0</td>\n      <td>0.0</td>\n      <td>0.000000</td>\n      <td>...</td>\n      <td>0.0</td>\n      <td>0.0</td>\n      <td>0.0</td>\n      <td>0.0</td>\n      <td>0.0</td>\n      <td>0.0</td>\n      <td>0.0</td>\n      <td>0.0</td>\n      <td>0.000000</td>\n      <td>0.0</td>\n    </tr>\n  </tbody>\n</table>\n<p>8523 rows × 67894 columns</p>\n</div>"
     },
     "execution_count": 19,
     "metadata": {},
     "output_type": "execute_result"
    }
   ],
   "source": [
    "user_item_matrix"
   ],
   "metadata": {
    "collapsed": false,
    "ExecuteTime": {
     "end_time": "2024-06-16T17:33:03.574294Z",
     "start_time": "2024-06-16T17:33:03.567780Z"
    }
   }
  },
  {
   "cell_type": "code",
   "execution_count": 20,
   "outputs": [
    {
     "data": {
      "text/plain": "(8523, 67894)"
     },
     "execution_count": 20,
     "metadata": {},
     "output_type": "execute_result"
    }
   ],
   "source": [
    "user_item_matrix.shape"
   ],
   "metadata": {
    "collapsed": false,
    "ExecuteTime": {
     "end_time": "2024-06-16T17:33:03.576370Z",
     "start_time": "2024-06-16T17:33:03.573941Z"
    }
   }
  },
  {
   "cell_type": "code",
   "execution_count": 21,
   "outputs": [],
   "source": [
    "from scipy.sparse import csc_matrix\n",
    "\n",
    "sparse_user_item_matrix = csc_matrix(user_item_matrix.values)\n"
   ],
   "metadata": {
    "collapsed": false,
    "ExecuteTime": {
     "end_time": "2024-06-16T17:33:11.115486Z",
     "start_time": "2024-06-16T17:33:03.576113Z"
    }
   }
  },
  {
   "cell_type": "code",
   "execution_count": 22,
   "outputs": [],
   "source": [
    "U, sigma, VT = svds(sparse_user_item_matrix, k=100)  \n",
    "sigma = np.diag(sigma)\n",
    "\n",
    "# Compute the dot product to get the approximated original matrix\n",
    "predicted_ratings = np.dot(np.dot(U, sigma), VT)\n",
    "\n",
    "# Converting the reconstructed matrix back to a DataFrame\n",
    "predicted_ratings_df = pd.DataFrame(predicted_ratings, index=user_item_matrix.index, columns=user_item_matrix.columns)"
   ],
   "metadata": {
    "collapsed": false,
    "ExecuteTime": {
     "end_time": "2024-06-16T17:33:14.589975Z",
     "start_time": "2024-06-16T17:33:11.115852Z"
    }
   }
  },
  {
   "cell_type": "code",
   "execution_count": 23,
   "outputs": [
    {
     "name": "stdout",
     "output_type": "stream",
     "text": [
      "RMSE: 0.6507207503952525\n"
     ]
    }
   ],
   "source": [
    "\n",
    "# Flatten the matrices to get vectors of all ratings\n",
    "actual_ratings = user_item_matrix.values.flatten()\n",
    "predicted_ratings = predicted_ratings_df.values.flatten()\n",
    "\n",
    "# Only consider non-zero elements\n",
    "mask = actual_ratings > 0\n",
    "actual_ratings = actual_ratings[mask]\n",
    "predicted_ratings = predicted_ratings[mask]\n",
    "\n",
    "# Calculate RMSE\n",
    "rmse_svd = sqrt(mean_squared_error(actual_ratings, predicted_ratings))\n",
    "print(\"RMSE:\", rmse_svd)"
   ],
   "metadata": {
    "collapsed": false,
    "ExecuteTime": {
     "end_time": "2024-06-16T17:33:18.124526Z",
     "start_time": "2024-06-16T17:33:14.590892Z"
    }
   }
  },
  {
   "cell_type": "code",
   "execution_count": 24,
   "outputs": [],
   "source": [
    "# def recommend_items_svd(user_id, original_matrix, predictions_df, num_recommendations=5):\n",
    "#     # Find the column for the user in the predictions matrix\n",
    "#     user_col_number = original_matrix.columns.get_loc(user_id)\n",
    "#     \n",
    "#     # Get actual user data and apply mask to filter out items already rated (non-zero ratings)\n",
    "#     user_actual_ratings = original_matrix[user_id]\n",
    "#     non_zero_mask = user_actual_ratings > 0  # True for items the user has rated\n",
    "#     \n",
    "#     # Generate predictions for the user, filtering out already rated items\n",
    "#     user_predictions = predictions_df.iloc[:, user_col_number].sort_values(ascending=False)\n",
    "#     recommended_items = user_predictions[~non_zero_mask].head(num_recommendations)\n",
    "#     \n",
    "#     return recommended_items\n",
    "def recommend_items_svd(user_id, original_matrix, predictions_df, num_recommendations=5):\n",
    "    user_col_number = original_matrix.columns.get_loc(user_id)    \n",
    "    sorted_user_predictions = predictions_df.iloc[:, user_col_number].sort_values(ascending=False)\n",
    "    #print(sorted_user_predictions)\n",
    "    user_data = original_matrix[user_id]\n",
    "    #print(user_data[user_data != 0].index)\n",
    "    return sorted_user_predictions.head(num_recommendations)\n",
    "    # return recommendations.head(num_recommendations)"
   ],
   "metadata": {
    "collapsed": false,
    "ExecuteTime": {
     "end_time": "2024-06-16T17:33:18.129279Z",
     "start_time": "2024-06-16T17:33:18.124816Z"
    }
   }
  },
  {
   "cell_type": "code",
   "execution_count": 25,
   "outputs": [
    {
     "data": {
      "text/plain": "   item_id  predicted_rating                              publisher  \\\n0   230410          4.038160                       Digital Extremes   \n1   211820          3.566726                            Chucklefish   \n2    49520          1.358669  2K Games, Aspyr (Mac &amp;amp; Linux)   \n3   377160          1.341019                     Bethesda Softworks   \n4    22380          1.336249                     Bethesda Softworks   \n\n                                    genres            app_name  \\\n0                   [Action, Free to Play]            Warframe   \n1  [Action, Adventure, Casual, Indie, RPG]           Starbound   \n2                            [Action, RPG]       Borderlands 2   \n3                                    [RPG]           Fallout 4   \n4                            [Action, RPG]  Fallout: New Vegas   \n\n                title                                                url  \\\n0            Warframe  http://store.steampowered.com/app/230410/Warfr...   \n1           Starbound  http://store.steampowered.com/app/211820/Starb...   \n2       Borderlands 2  http://store.steampowered.com/app/49520/Border...   \n3           Fallout 4  http://store.steampowered.com/app/377160/Fallo...   \n4  Fallout: New Vegas  http://store.steampowered.com/app/22380/Fallou...   \n\n  release_date                                               tags  \\\n0   2013-03-25  [Free to Play, Action, Co-op, Multiplayer, Thi...   \n1   2016-07-22  [Sandbox, Adventure, Survival, Indie, Crafting...   \n2   2012-09-17  [FPS, Co-op, Action, RPG, Loot, Shooter, Open ...   \n3   2015-11-09  [Open World, Post-apocalyptic, Exploration, Si...   \n4   2010-10-19  [Open World, RPG, Post-apocalyptic, Singleplay...   \n\n   discount_price                                        reviews_url  \\\n0             NaN  http://steamcommunity.com/app/230410/reviews/?...   \n1             NaN  http://steamcommunity.com/app/211820/reviews/?...   \n2             NaN  http://steamcommunity.com/app/49520/reviews/?b...   \n3             NaN  http://steamcommunity.com/app/377160/reviews/?...   \n4             NaN  http://steamcommunity.com/app/22380/reviews/?b...   \n\n                                               specs         price  \\\n0  [Single-player, Multi-player, Co-op, Steam Tra...  Free to Play   \n1  [Single-player, Multi-player, Online Multi-Pla...         14.99   \n2  [Single-player, Co-op, Steam Achievements, Ful...         19.99   \n3  [Single-player, Steam Achievements, Full contr...         29.99   \n4  [Single-player, Steam Achievements, Partial Co...          9.99   \n\n   early_access                                 developer  \\\n0         False                          Digital Extremes   \n1         False                               Chucklefish   \n2         False  Gearbox Software,Aspyr (Mac &amp; Linux)   \n3         False                     Bethesda Game Studios   \n4         False                    Obsidian Entertainment   \n\n                 sentiment  \n0            Very Positive  \n1            Very Positive  \n2  Overwhelmingly Positive  \n3                    Mixed  \n4  Overwhelmingly Positive  ",
      "text/html": "<div>\n<style scoped>\n    .dataframe tbody tr th:only-of-type {\n        vertical-align: middle;\n    }\n\n    .dataframe tbody tr th {\n        vertical-align: top;\n    }\n\n    .dataframe thead th {\n        text-align: right;\n    }\n</style>\n<table border=\"1\" class=\"dataframe\">\n  <thead>\n    <tr style=\"text-align: right;\">\n      <th></th>\n      <th>item_id</th>\n      <th>predicted_rating</th>\n      <th>publisher</th>\n      <th>genres</th>\n      <th>app_name</th>\n      <th>title</th>\n      <th>url</th>\n      <th>release_date</th>\n      <th>tags</th>\n      <th>discount_price</th>\n      <th>reviews_url</th>\n      <th>specs</th>\n      <th>price</th>\n      <th>early_access</th>\n      <th>developer</th>\n      <th>sentiment</th>\n    </tr>\n  </thead>\n  <tbody>\n    <tr>\n      <th>0</th>\n      <td>230410</td>\n      <td>4.038160</td>\n      <td>Digital Extremes</td>\n      <td>[Action, Free to Play]</td>\n      <td>Warframe</td>\n      <td>Warframe</td>\n      <td>http://store.steampowered.com/app/230410/Warfr...</td>\n      <td>2013-03-25</td>\n      <td>[Free to Play, Action, Co-op, Multiplayer, Thi...</td>\n      <td>NaN</td>\n      <td>http://steamcommunity.com/app/230410/reviews/?...</td>\n      <td>[Single-player, Multi-player, Co-op, Steam Tra...</td>\n      <td>Free to Play</td>\n      <td>False</td>\n      <td>Digital Extremes</td>\n      <td>Very Positive</td>\n    </tr>\n    <tr>\n      <th>1</th>\n      <td>211820</td>\n      <td>3.566726</td>\n      <td>Chucklefish</td>\n      <td>[Action, Adventure, Casual, Indie, RPG]</td>\n      <td>Starbound</td>\n      <td>Starbound</td>\n      <td>http://store.steampowered.com/app/211820/Starb...</td>\n      <td>2016-07-22</td>\n      <td>[Sandbox, Adventure, Survival, Indie, Crafting...</td>\n      <td>NaN</td>\n      <td>http://steamcommunity.com/app/211820/reviews/?...</td>\n      <td>[Single-player, Multi-player, Online Multi-Pla...</td>\n      <td>14.99</td>\n      <td>False</td>\n      <td>Chucklefish</td>\n      <td>Very Positive</td>\n    </tr>\n    <tr>\n      <th>2</th>\n      <td>49520</td>\n      <td>1.358669</td>\n      <td>2K Games, Aspyr (Mac &amp;amp;amp; Linux)</td>\n      <td>[Action, RPG]</td>\n      <td>Borderlands 2</td>\n      <td>Borderlands 2</td>\n      <td>http://store.steampowered.com/app/49520/Border...</td>\n      <td>2012-09-17</td>\n      <td>[FPS, Co-op, Action, RPG, Loot, Shooter, Open ...</td>\n      <td>NaN</td>\n      <td>http://steamcommunity.com/app/49520/reviews/?b...</td>\n      <td>[Single-player, Co-op, Steam Achievements, Ful...</td>\n      <td>19.99</td>\n      <td>False</td>\n      <td>Gearbox Software,Aspyr (Mac &amp;amp; Linux)</td>\n      <td>Overwhelmingly Positive</td>\n    </tr>\n    <tr>\n      <th>3</th>\n      <td>377160</td>\n      <td>1.341019</td>\n      <td>Bethesda Softworks</td>\n      <td>[RPG]</td>\n      <td>Fallout 4</td>\n      <td>Fallout 4</td>\n      <td>http://store.steampowered.com/app/377160/Fallo...</td>\n      <td>2015-11-09</td>\n      <td>[Open World, Post-apocalyptic, Exploration, Si...</td>\n      <td>NaN</td>\n      <td>http://steamcommunity.com/app/377160/reviews/?...</td>\n      <td>[Single-player, Steam Achievements, Full contr...</td>\n      <td>29.99</td>\n      <td>False</td>\n      <td>Bethesda Game Studios</td>\n      <td>Mixed</td>\n    </tr>\n    <tr>\n      <th>4</th>\n      <td>22380</td>\n      <td>1.336249</td>\n      <td>Bethesda Softworks</td>\n      <td>[Action, RPG]</td>\n      <td>Fallout: New Vegas</td>\n      <td>Fallout: New Vegas</td>\n      <td>http://store.steampowered.com/app/22380/Fallou...</td>\n      <td>2010-10-19</td>\n      <td>[Open World, RPG, Post-apocalyptic, Singleplay...</td>\n      <td>NaN</td>\n      <td>http://steamcommunity.com/app/22380/reviews/?b...</td>\n      <td>[Single-player, Steam Achievements, Partial Co...</td>\n      <td>9.99</td>\n      <td>False</td>\n      <td>Obsidian Entertainment</td>\n      <td>Overwhelmingly Positive</td>\n    </tr>\n  </tbody>\n</table>\n</div>"
     },
     "execution_count": 25,
     "metadata": {},
     "output_type": "execute_result"
    }
   ],
   "source": [
    "user_id = 'evcentric'  # Example user ID\n",
    "recommendations = recommend_items_svd(user_id, user_item_matrix, predicted_ratings_df, num_recommendations=5)\n",
    "\n",
    "recommendations_df = pd.DataFrame(recommendations).reset_index()\n",
    "recommendations_df.columns = ['item_id', 'predicted_rating']\n",
    "merged_df = recommendations_df.merge(steam_games_df, left_on='item_id', right_on='item_id', how='left')\n",
    "merged_df"
   ],
   "metadata": {
    "collapsed": false,
    "ExecuteTime": {
     "end_time": "2024-06-16T17:33:18.162401Z",
     "start_time": "2024-06-16T17:33:18.128423Z"
    }
   }
  },
  {
   "cell_type": "code",
   "execution_count": 26,
   "outputs": [],
   "source": [
    "# def gen_recom_ground_truth_svd(num_recommendations=5):\n",
    "#     recommendations = {}\n",
    "#     ground_truth = {}\n",
    "# \n",
    "#     for user_id in user_item_matrix.columns:\n",
    "#         # Explicitly apply a mask to get non-zero rated items\n",
    "#         user_ratings = user_item_matrix[user_id]\n",
    "#         mask_non_zero = user_ratings > 0\n",
    "#         ground_truth[user_id] = user_ratings[mask_non_zero].index.tolist()\n",
    "# \n",
    "#         # Generate recommendations by first masking out known items\n",
    "#         user_predictions = predicted_ratings_df.loc[:, user_id].sort_values(ascending=False)\n",
    "#         # Filter out known items to focus only on items the user hasn't interacted with\n",
    "#         recommendations[user_id] = user_predictions[~mask_non_zero].head(num_recommendations).index.tolist()\n",
    "# \n",
    "#     return recommendations, ground_truth"
   ],
   "metadata": {
    "collapsed": false,
    "ExecuteTime": {
     "end_time": "2024-06-16T17:33:18.167317Z",
     "start_time": "2024-06-16T17:33:18.144048Z"
    }
   }
  },
  {
   "cell_type": "code",
   "execution_count": 27,
   "outputs": [],
   "source": [
    "from tqdm import tqdm\n",
    "import concurrent.futures\n",
    "# \n",
    "# def gen_recom_ground_truth_svd(numero_recom):\n",
    "#     recommendations = {}\n",
    "#     ground_truth = {}\n",
    "# \n",
    "#     unique_user_ids = user_items_df['user_id'].unique()\n",
    "#     for user_id in tqdm(unique_user_ids, desc=\"Processing Users\"):\n",
    "#         user_ra = user_items_df[user_items_df['user_id'] == user_id]\n",
    "#         user_ratings = user_item_matrix[user_id]\n",
    "#         ground_truth[user_id] = user_ra['item_id'].tolist()\n",
    "#         #print(ground_truth[user_id])\n",
    "#         #ground_truth[user_id] = user_ratings[user_ratings].index.tolist()\n",
    "# \n",
    "#         # Obtener recomendaciones para el usuario usando SVD\n",
    "#         recommended_items = recommend_items_svd(user_id, user_item_matrix, predicted_ratings_df, num_recommendations=numero_recom)\n",
    "# \n",
    "#         # Convertir las puntuaciones predichas a solo IDs de juegos\n",
    "#         recommendations[user_id] = list(recommended_items)[:numero_recom]\n",
    "# \n",
    "#     return recommendations, ground_truth"
   ],
   "metadata": {
    "collapsed": false,
    "ExecuteTime": {
     "end_time": "2024-06-16T17:33:18.167641Z",
     "start_time": "2024-06-16T17:33:18.146284Z"
    }
   }
  },
  {
   "cell_type": "code",
   "execution_count": 28,
   "outputs": [],
   "source": [
    "\n",
    "# start_time_rec_svd = time.time()\n",
    "# print(start_time_rec_svd)\n",
    "# recommendations_dict_svd, ground_truth_dict_svd = gen_recom_ground_truth_svd(numero_recom=10)\n",
    "# end_time_rec_svd = time.time()\n"
   ],
   "metadata": {
    "collapsed": false,
    "ExecuteTime": {
     "end_time": "2024-06-16T17:33:18.183961Z",
     "start_time": "2024-06-16T17:33:18.152297Z"
    }
   }
  },
  {
   "cell_type": "code",
   "execution_count": 29,
   "outputs": [
    {
     "name": "stdout",
     "output_type": "stream",
     "text": [
      "Number of cores available: 12\n"
     ]
    }
   ],
   "source": [
    "import os\n",
    "\n",
    "num_cores = os.cpu_count()\n",
    "\n",
    "print(\"Number of cores available:\", num_cores)"
   ],
   "metadata": {
    "collapsed": false,
    "ExecuteTime": {
     "end_time": "2024-06-16T16:44:18.427050Z",
     "start_time": "2024-06-16T16:44:18.389569Z"
    }
   }
  },
  {
   "cell_type": "code",
   "execution_count": 29,
   "outputs": [
    {
     "name": "stderr",
     "output_type": "stream",
     "text": [
      "Processing Users: 100%|██████████| 67894/67894 [28:18<00:00, 39.97it/s] "
     ]
    },
    {
     "name": "stdout",
     "output_type": "stream",
     "text": [
      "Time taken: 1699.109354019165 seconds\n"
     ]
    },
    {
     "name": "stderr",
     "output_type": "stream",
     "text": [
      "\n"
     ]
    }
   ],
   "source": [
    "from pathos.multiprocessing import ProcessingPool as Pool\n",
    "\n",
    "def process_user(user_id, numero_recom):\n",
    "    user_ra = user_items_df[user_items_df['user_id'] == user_id]\n",
    "    ground_truth = user_ra['item_id'].tolist()\n",
    "    \n",
    "    # Get recommendations for the user using SVD\n",
    "    recommendations_series = recommend_items_svd(user_id, user_item_matrix, predicted_ratings_df, num_recommendations=numero_recom)\n",
    "    \n",
    "    # Convert Series to DataFrame, reset the index to make 'item_id' a column\n",
    "    recommendations_df = recommendations_series.reset_index()\n",
    "    recommendations_df.columns = ['item_id', 'predicted_rating']\n",
    "    \n",
    "    return user_id, recommendations_df, ground_truth\n",
    "\n",
    "\n",
    "def gen_recom_ground_truth_svd(numero_recom, num_cores):\n",
    "    recommendations = {}\n",
    "    ground_truth = {}\n",
    "    # Fetch unique user IDs\n",
    "    unique_user_ids = user_items_df['user_id'].unique()\n",
    "    \n",
    "    # Create a Pool with the specified number of cores\n",
    "    with Pool(num_cores) as pool:\n",
    "        results = list(tqdm(pool.imap(lambda user_id: process_user(user_id, numero_recom), unique_user_ids),\n",
    "                            total=len(unique_user_ids), desc=\"Processing Users\"))\n",
    "\n",
    "    # Collect results from multiprocessing\n",
    "    for user_id, user_recommendations, user_ground_truth in results:\n",
    "        recommendations[user_id] = user_recommendations\n",
    "        ground_truth[user_id] = user_ground_truth\n",
    "\n",
    "    return recommendations, ground_truth\n",
    "\n",
    "if __name__ == '__main__':\n",
    "    import time\n",
    "    start_time_rec_svd = time.time()\n",
    "    numero_recom = 10\n",
    "    num_cores =10\n",
    "    recommendations_df_dict_svd, ground_truth_dict_svd = gen_recom_ground_truth_svd(numero_recom, num_cores)\n",
    "    end_time_rec_svd = time.time()\n",
    "\n",
    "    print(f\"Time taken: {end_time_rec_svd - start_time_rec_svd} seconds\")\n"
   ],
   "metadata": {
    "collapsed": false,
    "ExecuteTime": {
     "end_time": "2024-06-16T18:02:00.932130Z",
     "start_time": "2024-06-16T17:33:41.761707Z"
    }
   }
  },
  {
   "cell_type": "code",
   "execution_count": 30,
   "outputs": [],
   "source": [
    "import pickle\n",
    "\n",
    "# Save the recommendations to a file\n",
    "with open('recommendations_dict_svd.pkl', 'wb') as f:\n",
    "    pickle.dump(recommendations_df_dict_svd, f)\n",
    "\n",
    "# Save the ground truth data to a file\n",
    "with open('ground_truth_dict_svd.pkl', 'wb') as f:\n",
    "    pickle.dump(ground_truth_dict_svd, f)"
   ],
   "metadata": {
    "collapsed": false,
    "ExecuteTime": {
     "end_time": "2024-06-16T18:05:20.400668Z",
     "start_time": "2024-06-16T18:05:17.755866Z"
    }
   }
  },
  {
   "cell_type": "code",
   "execution_count": 31,
   "outputs": [],
   "source": [
    "#SVD simple\n",
    "#recommendations_svd = [recommendations_dict_svd[user] for user in recommendations_dict_svd]\n",
    "recommendations_svd = [list(recommendations_df_dict_svd[user]['item_id']) for user in recommendations_df_dict_svd]\n",
    "ground_truth_svd = [ground_truth_dict_svd[user] for user in ground_truth_dict_svd]"
   ],
   "metadata": {
    "collapsed": false,
    "ExecuteTime": {
     "end_time": "2024-06-16T18:05:26.253008Z",
     "start_time": "2024-06-16T18:05:23.945647Z"
    }
   }
  },
  {
   "cell_type": "code",
   "execution_count": null,
   "outputs": [],
   "source": [
    "#recommendations_svd"
   ],
   "metadata": {
    "collapsed": false
   }
  },
  {
   "cell_type": "code",
   "execution_count": null,
   "outputs": [],
   "source": [
    "#ground_truth_svd \n"
   ],
   "metadata": {
    "collapsed": false
   }
  },
  {
   "cell_type": "code",
   "execution_count": 38,
   "outputs": [],
   "source": [
    "\n",
    "def precision_at_k(actual, predicted, k=10):\n",
    "    if not actual:\n",
    "        return 0.0\n",
    "    \n",
    "    predicted = predicted[:k]\n",
    "    relevant = len(set(predicted) & set(actual))\n",
    "    return relevant / k\n",
    "\n",
    "def recall_at_k(actual, predicted, k=10):\n",
    "    if not actual:\n",
    "        return 0.0\n",
    "    \n",
    "    predicted = predicted[:k]\n",
    "    relevant = len(set(predicted) & set(actual))\n",
    "    return relevant / len(actual)\n",
    "\n",
    "def apk(actual, predicted, k=10):\n",
    "    if len(predicted) > k:\n",
    "        predicted = predicted[:k]\n",
    "\n",
    "    score = 0.0\n",
    "    num_hits = 0.0\n",
    "\n",
    "    for i, p in enumerate(predicted):\n",
    "        if p in actual and p not in predicted[:i]:\n",
    "            num_hits += 1.0\n",
    "            score += num_hits / (i + 1.0)\n",
    "\n",
    "    if not actual:\n",
    "        return 0.0\n",
    "\n",
    "    return score / min(len(actual), k)\n",
    "\n",
    "def mapk(actual, predicted, k=10):\n",
    "    return np.mean([apk(a, p, k) for a, p in zip(actual, predicted)])\n",
    "\n",
    "def ndcg_at_k(actual, predicted, k=10):\n",
    "    if not actual:\n",
    "        return 0.0\n",
    "    \n",
    "    predicted = predicted[:k]\n",
    "    idcg = sum([1.0 / np.log2(i + 2) for i in range(len(actual))])\n",
    "    dcg = sum([1.0 / np.log2(i + 2) for i, p in enumerate(predicted) if p in actual])\n",
    "    return dcg / idcg\n",
    "\n",
    "def mrr_at_k(actual, predicted, k=10):\n",
    "    if not actual:\n",
    "        return 0.0\n",
    "    \n",
    "    predicted = predicted[:k]\n",
    "    for i, p in enumerate(predicted):\n",
    "        if p in actual:\n",
    "            return 1.0 / (i + 1.0)\n",
    "    return 0.0\n",
    "\n",
    "\n",
    "\n",
    "def evaluate_recommendations(ground_truth, recommendations, k=5):\n",
    "    metrics = {\n",
    "        'Precision@K': np.mean([precision_at_k(a, p, k) for a, p in zip(ground_truth, recommendations)]),\n",
    "        'Recall@K': np.mean([recall_at_k(a, p, k) for a, p in zip(ground_truth, recommendations)]),\n",
    "        'MAP@K': mapk(ground_truth, recommendations, k),\n",
    "        'NDCG@K': np.mean([ndcg_at_k(a, p, k) for a, p in zip(ground_truth, recommendations)]),\n",
    "        'MRR@K': np.mean([mrr_at_k(a, p, k) for a, p in zip(ground_truth, recommendations)]),\n",
    "        'RMSE' : rmse_svd\n",
    "    }\n",
    "    return metrics\n",
    "\n",
    "metrics_svd = evaluate_recommendations(ground_truth_svd, recommendations_svd, k=10)"
   ],
   "metadata": {
    "collapsed": false,
    "ExecuteTime": {
     "end_time": "2024-06-16T18:14:19.506016Z",
     "start_time": "2024-06-16T18:14:17.097799Z"
    }
   }
  },
  {
   "cell_type": "code",
   "execution_count": 39,
   "outputs": [
    {
     "data": {
      "text/plain": "{'Precision@K': 0.7756208206910774,\n 'Recall@K': 0.40702296528662807,\n 'MAP@K': 0.8661968746296219,\n 'NDCG@K': 0.5169538790966264,\n 'MRR@K': 0.979523437795892,\n 'RMSE': 0.6507207503952525}"
     },
     "execution_count": 39,
     "metadata": {},
     "output_type": "execute_result"
    }
   ],
   "source": [
    "metrics_svd"
   ],
   "metadata": {
    "collapsed": false,
    "ExecuteTime": {
     "end_time": "2024-06-16T18:14:20.577051Z",
     "start_time": "2024-06-16T18:14:20.563714Z"
    }
   }
  },
  {
   "cell_type": "code",
   "execution_count": 40,
   "outputs": [
    {
     "data": {
      "text/plain": "                  SVD\nMetrics              \nPrecision@K  0.775621\nRecall@K     0.407023\nMAP@K        0.866197\nNDCG@K       0.516954\nMRR@K        0.979523\nRMSE         0.650721",
      "text/html": "<div>\n<style scoped>\n    .dataframe tbody tr th:only-of-type {\n        vertical-align: middle;\n    }\n\n    .dataframe tbody tr th {\n        vertical-align: top;\n    }\n\n    .dataframe thead th {\n        text-align: right;\n    }\n</style>\n<table border=\"1\" class=\"dataframe\">\n  <thead>\n    <tr style=\"text-align: right;\">\n      <th></th>\n      <th>SVD</th>\n    </tr>\n    <tr>\n      <th>Metrics</th>\n      <th></th>\n    </tr>\n  </thead>\n  <tbody>\n    <tr>\n      <th>Precision@K</th>\n      <td>0.775621</td>\n    </tr>\n    <tr>\n      <th>Recall@K</th>\n      <td>0.407023</td>\n    </tr>\n    <tr>\n      <th>MAP@K</th>\n      <td>0.866197</td>\n    </tr>\n    <tr>\n      <th>NDCG@K</th>\n      <td>0.516954</td>\n    </tr>\n    <tr>\n      <th>MRR@K</th>\n      <td>0.979523</td>\n    </tr>\n    <tr>\n      <th>RMSE</th>\n      <td>0.650721</td>\n    </tr>\n  </tbody>\n</table>\n</div>"
     },
     "execution_count": 40,
     "metadata": {},
     "output_type": "execute_result"
    }
   ],
   "source": [
    "metrics_df = pd.DataFrame.from_dict(metrics_svd, orient='index', columns=['SVD']).rename_axis('Metrics')\n",
    "metrics_df"
   ],
   "metadata": {
    "collapsed": false,
    "ExecuteTime": {
     "end_time": "2024-06-16T18:14:22.254184Z",
     "start_time": "2024-06-16T18:14:22.241221Z"
    }
   }
  },
  {
   "cell_type": "code",
   "execution_count": null,
   "outputs": [],
   "source": [],
   "metadata": {
    "collapsed": false
   }
  }
 ],
 "metadata": {
  "kernelspec": {
   "display_name": "Python 3",
   "language": "python",
   "name": "python3"
  },
  "language_info": {
   "codemirror_mode": {
    "name": "ipython",
    "version": 3
   },
   "file_extension": ".py",
   "mimetype": "text/x-python",
   "name": "python",
   "nbconvert_exporter": "python",
   "pygments_lexer": "ipython3",
   "version": "3.8.5"
  },
  "colab": {
   "provenance": []
  }
 },
 "nbformat": 4,
 "nbformat_minor": 0
}
